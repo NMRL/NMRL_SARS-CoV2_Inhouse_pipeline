{
 "cells": [
  {
   "cell_type": "code",
   "execution_count": 1,
   "id": "a83a9e7c",
   "metadata": {
    "execution": {
     "iopub.execute_input": "2022-12-15T11:27:00.839068Z",
     "iopub.status.busy": "2022-12-15T11:27:00.838354Z",
     "iopub.status.idle": "2022-12-15T11:27:04.981014Z",
     "shell.execute_reply": "2022-12-15T11:27:04.980199Z"
    },
    "papermill": {
     "duration": 4.178105,
     "end_time": "2022-12-15T11:27:04.981177",
     "exception": false,
     "start_time": "2022-12-15T11:27:00.803072",
     "status": "completed"
    },
    "tags": []
   },
   "outputs": [],
   "source": [
    "#https://stackoverflow.com/questions/39008069/r-and-python-in-one-jupyter-notebook\n",
    "import pandas as pd, os\n",
    "os.environ['R_HOME'] = '/mnt/home/groups/nmrl/cov_analysis/SARS-CoV2_assembly/tools/rbase_env/lib/R'\n",
    "import rpy2.robjects as robjects; #; at the end of the line allows to hide all output to the command line\n",
    "# https://github.com/nteract/papermill - to execute nb with cmd parameters\n",
    "#papermill generate_weekly_report_with_plots.ipynb \n",
    "# -p path ~/Desktop/cov_data/reports/03_01_2022/summary_file_03_01_2022.csv \n",
    "# -p curr_batch_path ~/Desktop/cov_data/reports/03_01_2022/2022-01-05-11-39_ft_65_mutation_report.csv \n",
    "# -p mut_stat_path ~/Desktop/cov_data/reports/03_01_2022/mutation_statistics.csv \n",
    "# -p output_path ~/Desktop/cov_data/reports/03_01_2022/ \n",
    "# -p found_path ~/Desktop/cov_data/reports/03_01_2022/2022-01-05-11-39_ft_65_mutation_report.csv \n",
    "# ./generate_weekly_report_with_plots.ipynb \n",
    "# papermill generate_weekly_report_with_plots.ipynb -p path /mnt/home/groups/nmrl/cov_analysis/downstream/summary_file_11_08_2022.csv -p curr_batch_path /mnt/home/groups/nmrl/cov_analysis/reports/report_2022-08-10_2022-08-09_2022-08-09/2022-08-10-02-36_ft_65_mutation_report.csv -p mut_stat_path /mnt/home/groups/nmrl/cov_analysis/reports/report_2022-08-10_2022-08-09_2022-08-09/2022-08-11_2022-08-09_2022-08-09 mutation_statistics.csv -p output_path /mnt/home/groups/nmrl/cov_analysis/reports/graph_test/ -p found_path /mnt/home/groups/nmrl/cov_analysis/reports/report_2022-08-10_2022-08-09_2022-08-09/2022-08-10-02-36_ft_65_mutation_report.csv ./generate_weekly_report_with_plots.ipynb\n",
    "# CONVERTING NOTEBOOK TO HTML REPORT (HIDING CODE)\n",
    "#jupyter nbconvert --to html --no-input  generate_weekly_report_with_plots.ipynb "
   ]
  },
  {
   "cell_type": "code",
   "execution_count": 2,
   "id": "6f18bac6",
   "metadata": {
    "execution": {
     "iopub.execute_input": "2022-12-15T11:27:05.035844Z",
     "iopub.status.busy": "2022-12-15T11:27:05.035388Z",
     "iopub.status.idle": "2022-12-15T11:27:05.814428Z",
     "shell.execute_reply": "2022-12-15T11:27:05.815022Z"
    },
    "papermill": {
     "duration": 0.809812,
     "end_time": "2022-12-15T11:27:05.815185",
     "exception": false,
     "start_time": "2022-12-15T11:27:05.005373",
     "status": "completed"
    },
    "tags": []
   },
   "outputs": [],
   "source": [
    "%reload_ext rpy2.ipython"
   ]
  },
  {
   "cell_type": "code",
   "execution_count": 3,
   "id": "5d89bee9",
   "metadata": {
    "execution": {
     "iopub.execute_input": "2022-12-15T11:27:05.867706Z",
     "iopub.status.busy": "2022-12-15T11:27:05.867049Z",
     "iopub.status.idle": "2022-12-15T11:27:05.869426Z",
     "shell.execute_reply": "2022-12-15T11:27:05.868787Z"
    },
    "papermill": {
     "duration": 0.031273,
     "end_time": "2022-12-15T11:27:05.869548",
     "exception": false,
     "start_time": "2022-12-15T11:27:05.838275",
     "status": "completed"
    },
    "tags": [
     "parameters"
    ]
   },
   "outputs": [],
   "source": [
    "path = ''\n",
    "curr_batch_path = ''\n",
    "mut_stat_path = ''\n",
    "output_path = ''\n",
    "found_path = ''"
   ]
  },
  {
   "cell_type": "code",
   "execution_count": 4,
   "id": "62931b4f",
   "metadata": {
    "execution": {
     "iopub.execute_input": "2022-12-15T11:27:05.922100Z",
     "iopub.status.busy": "2022-12-15T11:27:05.921411Z",
     "iopub.status.idle": "2022-12-15T11:27:05.923909Z",
     "shell.execute_reply": "2022-12-15T11:27:05.923311Z"
    },
    "papermill": {
     "duration": 0.031202,
     "end_time": "2022-12-15T11:27:05.924047",
     "exception": false,
     "start_time": "2022-12-15T11:27:05.892845",
     "status": "completed"
    },
    "tags": [
     "injected-parameters"
    ]
   },
   "outputs": [],
   "source": [
    "# Parameters\n",
    "path = \"/mnt/home/groups/nmrl/cov_analysis/analysis_history/summary_file_15_12_2022.csv\"\n",
    "curr_batch_path = \"/mnt/home/groups/nmrl/cov_analysis/reports/report_2022-12-15_2022-12-08_2022-12-08/filtered_pipeline_report.csv\"\n",
    "mut_stat_path = \"/mnt/home/groups/nmrl/cov_analysis/reports/report_2022-12-15_2022-12-08_2022-12-08/mutstat_report.csv\"\n",
    "output_path = \"/mnt/home/groups/nmrl/cov_analysis/reports/report_2022-12-15_2022-12-08_2022-12-08/\"\n",
    "found_path = \"/mnt/home/groups/nmrl/cov_analysis/reports/report_2022-12-15_2022-12-08_2022-12-08/filtered_pipeline_report.csv\"\n"
   ]
  },
  {
   "cell_type": "code",
   "execution_count": 5,
   "id": "3e2b2be6",
   "metadata": {
    "execution": {
     "iopub.execute_input": "2022-12-15T11:27:05.973667Z",
     "iopub.status.busy": "2022-12-15T11:27:05.973215Z",
     "iopub.status.idle": "2022-12-15T11:27:05.979920Z",
     "shell.execute_reply": "2022-12-15T11:27:05.979259Z"
    },
    "papermill": {
     "duration": 0.034972,
     "end_time": "2022-12-15T11:27:05.980045",
     "exception": false,
     "start_time": "2022-12-15T11:27:05.945073",
     "status": "completed"
    },
    "scrolled": true,
    "tags": []
   },
   "outputs": [],
   "source": [
    "#CONVERTING PYTHON VARIABLES TO R VARIABLES\n",
    "robjects.r.assign('path', path)\n",
    "robjects.r.assign(\"curr_batch_path\", curr_batch_path)\n",
    "robjects.r.assign(\"mut_stat_path\", mut_stat_path)\n",
    "robjects.r.assign(\"found_path\", found_path)\n",
    "robjects.r.assign(\"output_path\", output_path);"
   ]
  },
  {
   "cell_type": "code",
   "execution_count": 6,
   "id": "69f16ba2",
   "metadata": {
    "execution": {
     "iopub.execute_input": "2022-12-15T11:27:06.035689Z",
     "iopub.status.busy": "2022-12-15T11:27:06.035389Z",
     "iopub.status.idle": "2022-12-15T11:27:08.419880Z",
     "shell.execute_reply": "2022-12-15T11:27:08.419170Z"
    },
    "papermill": {
     "duration": 2.411738,
     "end_time": "2022-12-15T11:27:08.420024",
     "exception": false,
     "start_time": "2022-12-15T11:27:06.008286",
     "status": "completed"
    },
    "tags": []
   },
   "outputs": [
    {
     "name": "stderr",
     "output_type": "stream",
     "text": [
      "R[write to console]: Loading required package: ggplot2\n",
      "\n"
     ]
    },
    {
     "name": "stderr",
     "output_type": "stream",
     "text": [
      "R[write to console]: \n",
      "Attaching package: ‘plotly’\n",
      "\n",
      "\n"
     ]
    },
    {
     "name": "stderr",
     "output_type": "stream",
     "text": [
      "R[write to console]: The following object is masked from ‘package:ggplot2’:\n",
      "\n",
      "    last_plot\n",
      "\n",
      "\n"
     ]
    },
    {
     "name": "stderr",
     "output_type": "stream",
     "text": [
      "R[write to console]: The following object is masked from ‘package:stats’:\n",
      "\n",
      "    filter\n",
      "\n",
      "\n"
     ]
    },
    {
     "name": "stderr",
     "output_type": "stream",
     "text": [
      "R[write to console]: The following object is masked from ‘package:graphics’:\n",
      "\n",
      "    layout\n",
      "\n",
      "\n"
     ]
    },
    {
     "name": "stdout",
     "output_type": "stream",
     "text": [
      "── Attaching packages ─────────────────────────────────────── tidyverse 1.3.2 ──\n"
     ]
    },
    {
     "name": "stdout",
     "output_type": "stream",
     "text": [
      "✔ tibble  3.1.7     ✔ dplyr   1.0.9\n",
      "✔ tidyr   1.2.0     ✔ stringr 1.4.0\n",
      "✔ readr   2.1.2     ✔ forcats 0.5.1\n",
      "✔ purrr   0.3.4     \n"
     ]
    },
    {
     "name": "stdout",
     "output_type": "stream",
     "text": [
      "── Conflicts ────────────────────────────────────────── tidyverse_conflicts() ──\n",
      "✖ dplyr::filter() masks plotly::filter(), stats::filter()\n",
      "✖ dplyr::lag()    masks stats::lag()\n"
     ]
    },
    {
     "name": "stderr",
     "output_type": "stream",
     "text": [
      "R[write to console]: \n",
      "Attaching package: ‘scales’\n",
      "\n",
      "\n"
     ]
    },
    {
     "name": "stderr",
     "output_type": "stream",
     "text": [
      "R[write to console]: The following object is masked from ‘package:purrr’:\n",
      "\n",
      "    discard\n",
      "\n",
      "\n"
     ]
    },
    {
     "name": "stderr",
     "output_type": "stream",
     "text": [
      "R[write to console]: The following object is masked from ‘package:readr’:\n",
      "\n",
      "    col_factor\n",
      "\n",
      "\n"
     ]
    },
    {
     "name": "stderr",
     "output_type": "stream",
     "text": [
      "R[write to console]: \n",
      "Attaching package: ‘lubridate’\n",
      "\n",
      "\n"
     ]
    },
    {
     "name": "stderr",
     "output_type": "stream",
     "text": [
      "R[write to console]: The following objects are masked from ‘package:base’:\n",
      "\n",
      "    date, intersect, setdiff, union\n",
      "\n",
      "\n"
     ]
    },
    {
     "name": "stderr",
     "output_type": "stream",
     "text": [
      "R[write to console]: \n",
      "Attaching package: ‘tsibble’\n",
      "\n",
      "\n"
     ]
    },
    {
     "name": "stderr",
     "output_type": "stream",
     "text": [
      "R[write to console]: The following object is masked from ‘package:lubridate’:\n",
      "\n",
      "    interval\n",
      "\n",
      "\n"
     ]
    },
    {
     "name": "stderr",
     "output_type": "stream",
     "text": [
      "R[write to console]: The following objects are masked from ‘package:base’:\n",
      "\n",
      "    intersect, setdiff, union\n",
      "\n",
      "\n"
     ]
    }
   ],
   "source": [
    "%%R \n",
    "library(htmlwidgets);\n",
    "library(plotly);\n",
    "# library(randomcoloR);\n",
    "library(ggplot2);\n",
    "library(tidyverse);\n",
    "library(scales);\n",
    "library(lubridate);\n",
    "library(tsibble);\n",
    "\n",
    "old_path <- Sys.getenv(\"PATH\")\n",
    "\n",
    "Sys.setenv(PATH = paste(old_path, \"/mnt/home/groups/nmrl/cov_analysis/SARS-CoV2_assembly/tools/rbase_env/bin\", sep = \":\"))\n"
   ]
  },
  {
   "cell_type": "code",
   "execution_count": 7,
   "id": "3f32b8fc",
   "metadata": {
    "execution": {
     "iopub.execute_input": "2022-12-15T11:27:08.478049Z",
     "iopub.status.busy": "2022-12-15T11:27:08.477574Z",
     "iopub.status.idle": "2022-12-15T11:27:08.485808Z",
     "shell.execute_reply": "2022-12-15T11:27:08.485330Z"
    },
    "papermill": {
     "duration": 0.039026,
     "end_time": "2022-12-15T11:27:08.485920",
     "exception": false,
     "start_time": "2022-12-15T11:27:08.446894",
     "status": "completed"
    },
    "tags": []
   },
   "outputs": [],
   "source": [
    "%%R\n",
    "ggsave_width <- 20#PLOT WIDTH IN CM FOR GGPLOT OBJECTS\n",
    "ggsave_height <- 20#PLOT HEIGHT IN CM FOR GGPLOT OBJECTS\n",
    "compressed_palette <- scan(\"/mnt/home/groups/nmrl/cov_analysis/SARS-CoV2_assembly/resources/downstream/my_palette.txt\", what=\"\", sep=\"\\n\", quiet = TRUE) #TO READ PALETTE FROM FILE"
   ]
  },
  {
   "cell_type": "code",
   "execution_count": 8,
   "id": "93b560d0",
   "metadata": {
    "execution": {
     "iopub.execute_input": "2022-12-15T11:27:08.549101Z",
     "iopub.status.busy": "2022-12-15T11:27:08.548617Z",
     "iopub.status.idle": "2022-12-15T11:27:08.945980Z",
     "shell.execute_reply": "2022-12-15T11:27:08.945291Z"
    },
    "papermill": {
     "duration": 0.429506,
     "end_time": "2022-12-15T11:27:08.946156",
     "exception": false,
     "start_time": "2022-12-15T11:27:08.516650",
     "status": "completed"
    },
    "tags": []
   },
   "outputs": [],
   "source": [
    "%%R\n",
    "#READING DATA \n",
    "excel_data <- read.csv(path,  encoding = \"UTF-8\")#SUMMARY DATA\n",
    "batch_data <- read.csv(curr_batch_path, encoding = \"UTF-8\")#CURRENT BATCH DATA\n",
    "batch_mut_data <- read.csv(mut_stat_path, encoding = \"UTF-8\")#MUTATION STATISTICS DATA\n",
    "found_data <- read.csv(found_path, encoding = \"UTF-8\")#FOUND_SAMPLES DATA"
   ]
  },
  {
   "cell_type": "code",
   "execution_count": 9,
   "id": "0404bb11",
   "metadata": {
    "execution": {
     "iopub.execute_input": "2022-12-15T11:27:09.004508Z",
     "iopub.status.busy": "2022-12-15T11:27:09.004010Z",
     "iopub.status.idle": "2022-12-15T11:27:09.942380Z",
     "shell.execute_reply": "2022-12-15T11:27:09.941615Z"
    },
    "papermill": {
     "duration": 0.971703,
     "end_time": "2022-12-15T11:27:09.942543",
     "exception": false,
     "start_time": "2022-12-15T11:27:08.970840",
     "status": "completed"
    },
    "tags": []
   },
   "outputs": [],
   "source": [
    "%%R\n",
    "#PRE-PROCESSING SUMMARY DATA\n",
    "options(dplyr.summarise.inform = FALSE) #SUPPRESSING INFORMATION FROM SUMMARIZE FUNCTION\n",
    "excel_data[, 1:4] <- sapply(excel_data[, 1:4], as.character)#CASTING FIRST 4 COLUMNS TO CHARACTER\n",
    "excel_data <- excel_data %>% filter(!sampling_date == \"\" & !sampling_date == \"0\" & !sampling_date == \"NaT\" & !sampling_date == \"44284\" & !lineage == 'None' & !lineage == 'Unassigned')#FILTERING INVALID DATA\n",
    "excel_data$sampling_date <- as.Date(excel_data$sampling_date, format=\"%Y-%m-%d\", origin=\"1970-01-01\")#CASTING DATE FROM CHAR TO DATE.OBJECT\n",
    "grouped_data <- aggregate(excel_data, by=list(excel_data$sampling_date, excel_data$lineage), FUN=length)[, 1:3]#COUNT NUMBER OF SAMPLES FOR EACH DATE BY LINEAGES\n",
    "rel_grouped_data <- grouped_data %>% group_by(Group.1) %>% mutate(SamplePer=receiving_lab_sample_id/sum(receiving_lab_sample_id)) %>% ungroup()#COUNT FRACTION OF EACH LINEAGE ON EVERY DATE\n",
    "rel_grouped_data <- rel_grouped_data %>% mutate(week = yearweek(Group.1))#CONVERT EACH DATE TO WEEK FORMAT - ADD TO NEW COLUMN\n",
    "rel_grouped_data_week <- rel_grouped_data %>% group_by(week, Group.2) %>% summarise(sum_precip = sum(receiving_lab_sample_id))#SUMMARIZE NUMBER OF SAMPLES PER LINEAGE PER WEEK\n",
    "rel_grouped_data_week <- as.data.frame(rel_grouped_data_week)#CONVERT LIST TO DATAFRAME\n",
    "rel_grouped_data_week <- rel_grouped_data_week %>% filter(sum_precip > 2)#KEEP DATES BASED ON NUMBER OF SAMPLES\n",
    "rel_grouped_data_week_rel <- rel_grouped_data_week %>% group_by(week) %>% mutate(percentage=sum_precip/sum(sum_precip)) %>% ungroup()#COMPUTE FRACTION OF SAMPLES PER WEEK PER LINEAGE\n",
    "rel_grouped_data_week_rel$week <- as.Date(rel_grouped_data_week_rel$week, \"%Y-%U-%u\")#CONVERT WEEK COLUMN TO A GIVEN STRING FORMAT FOR PLOTTING\n",
    "weeks <- unique(rel_grouped_data_week_rel$week)#GET UNIQUE WEEKS\n",
    "lineages <- unique(rel_grouped_data_week_rel$Group.2)#GET UNIQUE LINEAGES\n",
    "combinations <- expand.grid(week = weeks, lineages = lineages)#GET ALL COMBINATIONS OF WEEKS && LINEAGES\n",
    "data <- full_join(rel_grouped_data_week_rel, combinations, by = c(\"week\" = \"week\", \"Group.2\" = \"lineages\")) %>% \n",
    "\tmutate(percentage = ifelse(is.na(percentage), 0, percentage)) %>% arrange(week, Group.2);#ADD 0 VALUES FOR LINEAGES THAT ARE NOT REPRESENTED ON GIVEN WEEK\n",
    "data <- data %>% filter(week > as.Date(\"2021-01-01\")) #KEEP ONLY LAST TWO YEARS"
   ]
  },
  {
   "cell_type": "code",
   "execution_count": 10,
   "id": "3d52e7f3",
   "metadata": {
    "execution": {
     "iopub.execute_input": "2022-12-15T11:27:10.003953Z",
     "iopub.status.busy": "2022-12-15T11:27:10.003461Z",
     "iopub.status.idle": "2022-12-15T11:27:10.053276Z",
     "shell.execute_reply": "2022-12-15T11:27:10.052593Z"
    },
    "papermill": {
     "duration": 0.083107,
     "end_time": "2022-12-15T11:27:10.053407",
     "exception": false,
     "start_time": "2022-12-15T11:27:09.970300",
     "status": "completed"
    },
    "tags": []
   },
   "outputs": [],
   "source": [
    "%%R\n",
    "#PRE-PROCESSING BATCH DATA\n",
    "# batch_data <- batch_data %>% filter(!lineage == 'None' & !lineage == 'Unassigned')#FILTERING INVALID DATA\n",
    "batch_data$receiving_lab_sample_id <- as.character(batch_data$receiving_lab_sample_id)#CASTING SAMPLE ID AS CHARACTER\n",
    "batch_data$sampling_date <- as.Date(batch_data$sampling_date, format=\"%Y-%m-%d\", origin=\"1970-01-01\")#CASTING DATE STRING AS DATE OBJECT\n",
    "batch_data$seq_date <- as.Date(batch_data$seq_date, format=\"%Y-%m-%d\", origin=\"1970-01-01\")#CASTING SEQUENCING DATE STRING AS DATE OBJECT\n",
    "batch_data$covered_reference <- with(batch_data, ceiling(genome_length*(1-genome_N_percentage/100)))#COMPUTING NUMBER OF REFERENCE BASES COVERED X15 OR MORE\n",
    "batch_data$AVERAGE_COVERAGE <- round(batch_data$AVERAGE_COVERAGE, 2)#ROUNDING-UP AVERAGE COVERAGE TO TWO DIGITS\n",
    "batch_data$covered_reference_percent <- with(batch_data, round(100*covered_reference*(1/29903),2))#COMPUTING % OF REFERENCE BASES COVERED X15 OR MORE\n",
    "grp_batch_data <- aggregate(batch_data, by=list(batch_data$sampling_date, batch_data$lineage), FUN=length)[, 1:3]#COUNT NUMBER OF SAMPLES PER SAMPLING DATE PER LINEAGE\n",
    "write.csv(grp_batch_data, paste(output_path,'grouped_batch.csv', sep=''), row.names = FALSE) #SAVED FOR THE PYTHON PART TO PROCESS "
   ]
  },
  {
   "cell_type": "code",
   "execution_count": 11,
   "id": "ab7af356",
   "metadata": {
    "execution": {
     "iopub.execute_input": "2022-12-15T11:27:10.108699Z",
     "iopub.status.busy": "2022-12-15T11:27:10.108040Z",
     "iopub.status.idle": "2022-12-15T11:27:10.120818Z",
     "shell.execute_reply": "2022-12-15T11:27:10.120181Z"
    },
    "papermill": {
     "duration": 0.042996,
     "end_time": "2022-12-15T11:27:10.120952",
     "exception": false,
     "start_time": "2022-12-15T11:27:10.077956",
     "status": "completed"
    },
    "tags": []
   },
   "outputs": [],
   "source": [
    "%%R\n",
    "#PRE-PROCESSING MUTATION DATA\n",
    "batch_mut_data <- batch_mut_data %>% rename(Percent_of_samples = X._of_samples)#RENAME POORLY NAMED COLUMN\n",
    "batch_mut_data <- batch_mut_data %>% filter(Percent_of_samples > 3)#FILTER MUTATION DATA - KEEP MUTATIONS THAT OCCUR IN MORE THAT 3 % OF SAMPLE IN THE BATCH\n",
    "batch_mut_data$Mutation <- factor(batch_mut_data$Mutation, levels = batch_mut_data[order(batch_mut_data$Gene), \"Mutation\"]) #REORDER MUTATIONS BASED ON GENE\n",
    "batch_mut_data$Gene <- fct_rev(batch_mut_data$Gene) #REVERSE THE ORDER OF GENES TO MATCH THE ORDER OF MUTATIONS"
   ]
  },
  {
   "cell_type": "code",
   "execution_count": 12,
   "id": "ea74f1d5",
   "metadata": {
    "execution": {
     "iopub.execute_input": "2022-12-15T11:27:10.179382Z",
     "iopub.status.busy": "2022-12-15T11:27:10.178668Z",
     "iopub.status.idle": "2022-12-15T11:27:15.054683Z",
     "shell.execute_reply": "2022-12-15T11:27:15.054102Z"
    },
    "papermill": {
     "duration": 4.908507,
     "end_time": "2022-12-15T11:27:15.054838",
     "exception": false,
     "start_time": "2022-12-15T11:27:10.146331",
     "status": "completed"
    },
    "tags": []
   },
   "outputs": [],
   "source": [
    "%%R\n",
    "datums <- data$week\n",
    "paraugu_daļa <- data$percentage\n",
    "paveids <- data$Group.2\n",
    "s_a_plot <- data %>% ggplot( #INITIALIZE PLOT VARIABLE & SUPPLY DATA TO GGPLOT\n",
    "    aes(\n",
    "        x = datums, #SUPPLY X AXES DATA\n",
    "        y = paraugu_daļa)) + #SUPPLY Y AXES DATA\n",
    "    geom_area( #INITIALIZE GEOMETRIC AREA PLOT\n",
    "        position='stack', #STACKED LAYOUT\n",
    "        stat = \"identity\", #DO NOT SUMMARIZE DATA PRIOR TO PLOTTING, PLOT AS IS\n",
    "        aes(fill = paveids), #LEGEND & COLOURING - BY LINEAGES\n",
    "        color='black', alpha = 0.45) +#AREA OUTLINE COLOUR & OPACITY\n",
    "    labs(\n",
    "        x = \"\", #BLANK X-AXIS LABEL\n",
    "        y = \"Paraugu daļa\", #Y-LABEL\n",
    "        fill = 'Paveidi') + #LEGEND LABEL\n",
    "    scale_x_date(\n",
    "        date_breaks = \"1 months\", #MAYOR BRAKES ON DATE-BASED X-AXIS\n",
    "        date_minor_breaks = \"1 week\", #MINOR BRAKES ON DATE-BASED X-AXIS\n",
    "        date_labels = \"%b %Y\") + #TICK LABE FORMATE ON DATE-BASED X-AXIS\n",
    "    theme(\n",
    "        text = element_text(size=14), #AXIS LABEL & LEGEND FONT SIZE\n",
    "        axis.text.x = element_text(size=14, angle = 90, vjust = 0.5, hjust=1), #X-AXIS TICK LABEL FONT SIZE\n",
    "        axis.text.y = element_text(size=14), #Y-AXIS TICK LABEL FONT SIZE\n",
    "        panel.grid.major.x = element_blank(), #REMOVE VERTICAL GRID LINES\n",
    "        panel.grid.major.y = element_blank(), #FORMAT HORIZONTAL GRID LINES\n",
    "        panel.background = element_blank(), #REMOVE BACKGROUND GRID PANEL COLOUR\n",
    "        axis.line = element_line(colour = \"black\"),#CHANGE AXIS COLORS\n",
    "        axis.title.x = element_text(vjust=-1.5),#ADD SPACE BETWEEN TICK LABELS AND X AXIS LABEL\n",
    "        axis.title.y = element_text(vjust=3),#ADD SPACE BETWEEN TICK LABELS AND Y AXIS LABEL\n",
    "        plot.margin = unit(c(0.5,0.5,0.5,0.5), \"cm\")) + #ADD MARGINS TO THE PLOT\n",
    "    scale_fill_manual(values=as.vector(compressed_palette)) + #ADD_PALETTE\n",
    "    guides(fill=guide_legend(ncol=3)) #DISPLAY LEGEND AS TWO COLUMNS\n",
    "# ggsave(\n",
    "#     paste(output_path,'plot7.png', sep=''), #PATH & FILE NAME WHERE THE PLOT WILL BE SAVED\n",
    "#     width = 41.68, #PLOT WIDTH IN CM\n",
    "#     height = 26.73, #PLOT HEIGHT IN CM\n",
    "#     units = \"cm\") #PLOT DIMENSION UNITS\n",
    "p <- ggplotly(s_a_plot) #INTERACTIVITY\n",
    "saveWidget(p, paste(output_path,'Kopējā SARS-CoV-2 izplatības statistika - ', format(Sys.time(), \"%d.%m.%Y\"), '.html', sep='')) #SAVE INTERACTIVE PLOT"
   ]
  },
  {
   "cell_type": "code",
   "execution_count": 13,
   "id": "f9b3ff82",
   "metadata": {
    "execution": {
     "iopub.execute_input": "2022-12-15T11:27:15.130294Z",
     "iopub.status.busy": "2022-12-15T11:27:15.129718Z",
     "iopub.status.idle": "2022-12-15T11:27:15.517519Z",
     "shell.execute_reply": "2022-12-15T11:27:15.516998Z"
    },
    "papermill": {
     "duration": 0.424442,
     "end_time": "2022-12-15T11:27:15.517642",
     "exception": false,
     "start_time": "2022-12-15T11:27:15.093200",
     "status": "completed"
    },
    "tags": []
   },
   "outputs": [],
   "source": [
    "#COMPUTING MARGINAL VALUES FOR BATCH PLOT\n",
    "from datetime import datetime, timedelta\n",
    "df = pd.read_csv(f'{output_path}grouped_batch.csv')\n",
    "lineage_margin = 'Kopskaits datumā' #MARGIN NAME ON Y AXIS\n",
    "date_margin = datetime.strptime(str(sorted(list(df[\"Group.1\"]))[-1]), '%Y-%m-%d')+timedelta(days=1) #COMPUTING THE DATE WHERE LINEAGE MARGINS WILL BE PLACED\n",
    "date_margin = date_margin.strftime('%Y-%m-%d') #BACK TO STRING FROM DATETIME FORMAT\n",
    "\n",
    "\n",
    "df_1 = pd.DataFrame(columns=[\"Group.1\",\"Group.2\",\"receiving_lab_sample_id\"]) #TO STORE MARGIN VALUES\n",
    "df_2 = pd.DataFrame(columns=[\"Group.1\",\"Group.2\",\"receiving_lab_sample_id\"]) #TO STORE MARGIN VALUES\n",
    "for row in df['Group.1']: #ITERAGE OVER GROUPED DATES\n",
    "    df_1 = pd.concat( #FOR EACH DATE\n",
    "        [df_1, pd.DataFrame( #ADD DATE, lineage_margin AS LINEAGE AND SUM OF ALL SAMPLES OF ANY LINEAGE COLLECTED ON THAT DATE\n",
    "            [[f\"{str(row)}\",f\"{lineage_margin}\",sum(list(df[df[\"Group.1\"]==str(row)]['receiving_lab_sample_id']))]],\n",
    "            columns=[\"Group.1\",\"Group.2\",\"receiving_lab_sample_id\"])], ignore_index=True)\n",
    "\n",
    "for row in df['Group.2']: #ITERAGE OVER GROUPED LINEAGES\n",
    "    df_2 = pd.concat( #FOR EACH LINEAGE\n",
    "        [df_2, pd.DataFrame( #ADD THE COMPUTED date_margin AS DATE AND SUM OF ALL SAMPLES FOR THAT LINEAGE COLLECTED ON ANY DATE\n",
    "            [[date_margin,str(row),sum(list(df[df[\"Group.2\"]==str(row)]['receiving_lab_sample_id']))]],\n",
    "            columns=[\"Group.1\",\"Group.2\",\"receiving_lab_sample_id\"])], ignore_index=True)\n",
    "df = pd.concat([df,df_1, df_2]) #ADD THE RESULTS TO THE PREPROCESSED DATA\n",
    "\n",
    "df.to_csv(f'{output_path}grouped_batch.csv', header=True, index=False)"
   ]
  },
  {
   "cell_type": "code",
   "execution_count": 14,
   "id": "c8a7e507",
   "metadata": {
    "execution": {
     "iopub.execute_input": "2022-12-15T11:27:15.579266Z",
     "iopub.status.busy": "2022-12-15T11:27:15.578562Z",
     "iopub.status.idle": "2022-12-15T11:27:16.232585Z",
     "shell.execute_reply": "2022-12-15T11:27:16.233143Z"
    },
    "papermill": {
     "duration": 0.688091,
     "end_time": "2022-12-15T11:27:16.233339",
     "exception": false,
     "start_time": "2022-12-15T11:27:15.545248",
     "status": "completed"
    },
    "tags": []
   },
   "outputs": [
    {
     "name": "stderr",
     "output_type": "stream",
     "text": [
      "R[write to console]: Scale for 'x' is already present. Adding another scale for 'x', which will\n",
      "replace the existing scale.\n",
      "\n"
     ]
    }
   ],
   "source": [
    "%%R\n",
    "#move marginal to top-right\n",
    "#pale-out gridlines\n",
    "#try to add marginal labels as axis tick labels\n",
    "grp_batch_data <- read.csv(paste(output_path,'grouped_batch.csv', sep=''),  encoding = \"UTF-8\") #READ PYTHON-PROCESSED DATA\n",
    "grp_batch_data$Group.1 <- as.Date(grp_batch_data$Group.1, format=\"%Y-%m-%d\", origin=\"1970-01-01\") #CASTING DATE STRING AS DATE OBJECT\n",
    "\n",
    "grp_batch_data <- grp_batch_data %>% mutate( #place total to the top\n",
    "    Group.2 = forcats::fct_relevel(Group.2, sort(unique(grp_batch_data$Group.2)[ !unique(grp_batch_data$Group.2) == 'Kopskaits datumā' ], decreasing=TRUE), 'Kopskaits datumā'))\n",
    "batch_abs_plot <- grp_batch_data %>% ggplot( #INITIALIZE PLOT VARIABLE & SUPPLY DATA TO GGPLOT\n",
    "    aes(y=Group.2, #SUPPLY LINEAGE AS Y AXIS DATA\n",
    "        x=Group.1, #SUPPLY DATE AS X AXIS DATA\n",
    "        size=0.05, #BUBBLE SIZE\n",
    "        color=Group.2)) + #GIVE EACH LINEAGE A DISTINCT COLOR\n",
    "    geom_point(alpha=0.45) +#GENERATE BUBBLE GRID CHART WITH TRANSPARRENT BUBBLES \n",
    "    geom_text(aes(label = receiving_lab_sample_id), #ADD SAMPLE COUNTS AS BUBBLE LABELS\n",
    "            colour = \"black\", #LABEL TEXT COLOR\n",
    "            size = 2) +  #LABEL TEXT SIZE\n",
    "    scale_color_manual(values=as.vector(compressed_palette)) + #CUSTOM COLORS FOR BUBBLES\n",
    "    scale_x_discrete(position = \"bottom\") + #X AXIS POSITION\n",
    "    theme(\n",
    "        legend.position = \"none\", #REMOVE LEGENS\n",
    "        axis.text.x = element_text(\n",
    "            angle = 90), #ROTATE X AXIS LABEL TEXT\n",
    "        axis.ticks = element_blank(),\n",
    "        panel.grid = element_line( #FORMAT VERTICAL GRID LINES\n",
    "            size=.1,  #GRIND LINE WIDTH\n",
    "            color=\"black\"), #SET GRID LINE COLOR\n",
    "            panel.background = element_blank(), #REMOVE BACKGROUND GRID PANEL COLOUR\n",
    "            axis.line = element_line(colour = \"grey\")) #CHANGE AXIS LINE COLORS\n",
    "\n",
    "\n",
    "plot_4 <- batch_abs_plot + scale_x_date(\n",
    "    date_breaks = \"1 week\", #ADD TICKS WEEKLY ON X AXIS\n",
    "    date_minor_breaks = \"1 day\", #OVERLAYED WITH MAYOR BRAKES\n",
    "    date_labels = \"%e-%m-%Y\") + #X-AXIS TICK LABEL FORMAT\n",
    "    labs(\n",
    "        x = \"Parauga paņemšanas datums.\\nPa labi attēlots paraugu kopskaits pie katra paveida.\", #X-AXIS LABEL\n",
    "        y = \"Paveidi\") #Y-AXIS LABEL\n",
    "        theme(\n",
    "            axis.title.x = element_text(vjust=-1.5), #ADD SPACE BETWEEN TICK LABELS AND X AXIS LABEL\n",
    "            plot.margin = unit(c(0.5,0.5,0.5,0.5), \"cm\")) #ADD MARGINS TO THE PLOT\n",
    "\n",
    "ggsave(\n",
    "    paste(output_path,'plot5.png', sep=''), #PATH & FILE NAME WHERE THE PLOT WILL BE SAVED\n",
    "    plot=plot_4, #SUPPLYING PLOT OBJECT\n",
    "    width = 30, #PLOT WIDTH IN CM\n",
    "    height = 25, #PLOT HEIGHT IN CM\n",
    "    units = \"cm\") #PLOT DIMENSION UNITS"
   ]
  },
  {
   "cell_type": "code",
   "execution_count": 15,
   "id": "c9d30a11",
   "metadata": {
    "execution": {
     "iopub.execute_input": "2022-12-15T11:27:16.308078Z",
     "iopub.status.busy": "2022-12-15T11:27:16.307374Z",
     "iopub.status.idle": "2022-12-15T11:27:17.068869Z",
     "shell.execute_reply": "2022-12-15T11:27:17.068253Z"
    },
    "papermill": {
     "duration": 0.807696,
     "end_time": "2022-12-15T11:27:17.069025",
     "exception": false,
     "start_time": "2022-12-15T11:27:16.261329",
     "status": "completed"
    },
    "tags": []
   },
   "outputs": [],
   "source": [
    "%%R\n",
    "batch_mut_plot <-ggplot( #INITIALIZE PLOT OBJECT\n",
    "    data=batch_mut_data, #SUPPLYING DATA\n",
    "    aes(\n",
    "        y=Number_of_samples, #X-AXIS DATA\n",
    "        # x=reorder(Mutation, count_gene_occurr))) + #Y-AXIS DATA\n",
    "        x=Mutation)) +\n",
    "    geom_bar(\n",
    "        stat=\"identity\", #PLOT AS-IS\n",
    "        aes(fill=Gene), #LEGEND BASED ON GENE COLUMN\n",
    "        width = 0.75, #BAR WIDTH\n",
    "        color = 'black', alpha = 0.45) + #BAR OUTLINE COLOUR\n",
    "    scale_fill_manual(values=as.vector(compressed_palette)) +#ADDING CUSTOM COLOUR PALETTE\n",
    "    theme(\n",
    "        axis.text.x = element_text(angle = 0, vjust=0.2, hjust = 0.95), #X-AXIS TICK LABEL FORMATTING\n",
    "        panel.grid.major.y = element_blank(), #REMOVE Y-GRIDLINES\n",
    "        panel.grid.major.x = element_line(#FORMAT X-GRIDLINES\n",
    "            size=.1, #GRIDLINE THICKNESS\n",
    "            color=\"black\" ), #GRIDLINE COLOUR\n",
    "        panel.background = element_blank(), #REMOVE GRID BACKGROUND\n",
    "        axis.line = element_line(colour = \"black\")) #RECOLOR AXES\n",
    "plot_5<-batch_mut_plot + labs( \n",
    "    x = \"Mutācijas\", #X-AXIS LABEL\n",
    "    y = \"Paraugu skaits\", #Y-AXIS LABES\n",
    "    fill = 'Gēns') +  #LEGEND LABES\n",
    "    coord_flip() +\n",
    "    geom_text(size = 2.5, aes(label = Number_of_samples), #DISPLAY VALUE ON TOP OF THE BAR\n",
    "        vjust = 0.5, #V-ALIGN VALUE\n",
    "        hjust = -0.2, #H-ALIGN VALUE\n",
    "        show.legend = FALSE) + #DO NOT INCLUDE LABEL VALUE AS SEPARATE LEGEND ENTRY\n",
    "        scale_x_discrete(expand = c(0,3)) + #ADD SPACE BETWEEN X AXIS AND PLOT\n",
    "        theme(\n",
    "            axis.title.x = element_text(vjust=-1.5),#ADD SPACE BETWEEN TICK LABELS AND X AXIS LABEL\n",
    "            plot.margin = unit(c(0.5,0.5,0.5,0.5), \"cm\")) #ADD MARGINS TO THE PLOT\n",
    "ggsave(\n",
    "    paste(output_path,'plot6.png', sep=''), #PATH & FILE NAME WHERE THE PLOT WILL BE SAVED\n",
    "    plot=plot_5, #SUPPLYING PLOT OBJECT\n",
    "    width = ggsave_width, #PLOT WIDTH IN CM\n",
    "    height = as.integer(nrow(batch_mut_data)/3), #PLOT HEIGHT IN CM\n",
    "    units = \"cm\") #PLOT DIMENSION UNITS\n",
    "\n",
    "# p <- ggplotly(batch_mut_plot) #INTERACTIVITY\n",
    "# saveWidget(p, paste(output_path,'mutation_plot.html', sep='')) #SAVE INTERACTIVE PLOT"
   ]
  },
  {
   "cell_type": "code",
   "execution_count": 16,
   "id": "f28163e3",
   "metadata": {
    "execution": {
     "iopub.execute_input": "2022-12-15T11:27:17.131465Z",
     "iopub.status.busy": "2022-12-15T11:27:17.130882Z",
     "iopub.status.idle": "2022-12-15T11:27:17.135330Z",
     "shell.execute_reply": "2022-12-15T11:27:17.134825Z"
    },
    "papermill": {
     "duration": 0.03799,
     "end_time": "2022-12-15T11:27:17.135434",
     "exception": false,
     "start_time": "2022-12-15T11:27:17.097444",
     "status": "completed"
    },
    "tags": []
   },
   "outputs": [],
   "source": [
    "%%R\n",
    "#PROCESSING QC METRICS DATA\n",
    "###FUNCTIONS###\n",
    "split_df <- function(df) {\n",
    "    #FUNCTION IS USED TO SPLIT BATCH DATA IN 2 PARTS BASED ON RECEIVING_LAB_SAMPLE_ID\n",
    "    lower_half <- data.frame(df[df$receiving_lab_sample_id <= median(as.integer(df$receiving_lab_sample_id)),]) #LOWER PART INCLUDES SAMPLES WITH ID LOWER THAT MEDIAN ID\n",
    "    higher_half <- data.frame(df[df$receiving_lab_sample_id > median(as.integer(df$receiving_lab_sample_id)),]) #HEIGHER PART INCLUDES SAMPLES WITH ID HIGHER THAT MEDIAN ID\n",
    "    return(list(lower_half,higher_half)) #RETURN LIST OF DATAFRAMES\n",
    "}\n",
    "\n",
    "plot_quality_metrics <- function(df, number_list, plot_num, output_path, skip_legend=FALSE){\n",
    "    #FUNCTION IS USED TO CREATE QC METRIC PLOT BASED ON BATCH_DATA (OR PART OF IT)\n",
    "    ##METRICS TO PLOT\n",
    "        total_reads <-df$TOTAL_READS \n",
    "        av_coverage <- df$AVERAGE_COVERAGE\n",
    "        covered_reference <- df$covered_reference_percent\n",
    "    #PLOT MARGINS\n",
    "        l_margin <- 15\n",
    "        r_margin <- 1\n",
    "        t_margin <- 3\n",
    "        #DIFFERENT BUTTOM MARGINS FOR 1ST AND LATER PLOTS\n",
    "            if (skip_legend==TRUE){\n",
    "                b_margin=6\n",
    "            }else{\n",
    "                b_margin=12\n",
    "            }\n",
    "    png(file=paste(output_path, 'plot', plot_num,'.png', sep=''),width=1500, height=500) #SAVE PLOT AS PNG\n",
    "    par(mar=c(b_margin, l_margin, t_margin, r_margin) + 0.1, cex.axis=1.3)#INITIALIZE A LAYOUT WITH DEFINED MARGINS, SCALE AXES FONT SIZE UP 30%\n",
    "    #PLOT_1\n",
    "        plot( #INITIALIZE PLOT OBJECT\n",
    "            c(min(number_list):max(number_list)), #DEFINE X-AXIS RANGE\n",
    "            las=1, #ORIENT TICK LABELS HORIZONTALLY\n",
    "            axes=F, #ALLOW MULTIPLE Y AXES IN ONE LAYOUT\n",
    "            covered_reference, #SUPPLY Y DATA  \n",
    "            xlim = c( #DEFINE LIMIT VALUES TO DISPLAY ON X-AXIS\n",
    "                as.integer(min(number_list)),\n",
    "                as.integer(max(number_list))), \n",
    "            # ylim=c(0,max(covered_reference)), #DEFINE LIMIT VALUES TO DISPLAY ON Y-AXIS\n",
    "            ylim=c(0,100),\n",
    "            xlab=\"\", #X-AXIS LABEL\n",
    "            ylab=\"\", #Y-AXIS LABEL\n",
    "            type=\"l\", #TYPE OF THE PLOT TO DRAW - LINE PLOT\n",
    "            main=\"\", #LEGEND LABEL\n",
    "            lwd=3, #PLOT LINE WIDTH\n",
    "            col=\"darkgreen\") #PLOT LINE COLOUR\n",
    "        segments( #DRAW LINES FROM X-AXIS TO DATA POINTS\n",
    "            x0=c(min(number_list):max(number_list)), #LINE STARTING LEVEL X-COORDINATE\n",
    "            y0=0, #LINE STARTING LEVEL Y-COORDINATE\n",
    "            y1=covered_reference, #LINE ENDPOINT VALUES\n",
    "            col=8) #LINE TYPE (E.G. DASHED LINES)\n",
    "        points( #ADD POINTS TO DATA ON PLOT\n",
    "            number_list, #X-AXIS VALUES\n",
    "            covered_reference, #Y-AXIS VALUES\n",
    "            pch=20, #POINT TYPES (E.G. CIRCLE, SQUARE ETC.)\n",
    "            col=\"darkgreen\", #POINT COLOUR\n",
    "            cex=2.5) #SCALE POINT SIZE 150% UP\n",
    "        axis(2, #Y-AXIS LOCATION; 2-LEFT\n",
    "            ylim=c(min(covered_reference),max(covered_reference)), #Y-AXIS DATA RANGE\n",
    "            col=\"darkgreen\", #Y-AXIS COLOUR\n",
    "            lwd=2) #Y-AXIS LINE WIDTH\n",
    "        mtext(2,\n",
    "            text=\"Reference pārklāta (min.x15 %)\", #Y-AXIS LABEL\n",
    "            line=2.5, #PADDING FOR Y-AXIS LABEL\n",
    "            cex=1.6) #SCALE X-AXIS LABEL FONT SIZE 60% UP\n",
    "\n",
    "    #PLOT_2\n",
    "        par(\n",
    "            new=T, #ADD NEW PLOT TO THE LAYOUT\n",
    "            cex.axis=1.3) #SCALE AXIS TICK LABEL FONT SIZE UP 30%\n",
    "        plot(c(min(number_list):max(number_list)), \n",
    "            las=1,\n",
    "            axes=F, \n",
    "            av_coverage, \n",
    "            ylim=c(0,max(av_coverage)), \n",
    "            xlab=\"\", \n",
    "            ylab=\"\", \n",
    "            xlim = c(\n",
    "                as.integer(min(number_list)),\n",
    "                as.integer(max(number_list))), \n",
    "            type=\"l\",\n",
    "            lty=2, #PLOT LINE TYPE\n",
    "            main=\"\",\n",
    "            lwd=3, \n",
    "            col=\"blue\")\n",
    "        segments(\n",
    "            x0=c(min(number_list):max(number_list)), \n",
    "            y0=0,\n",
    "            y1=av_coverage, \n",
    "            col=8)\n",
    "        axis(2, \n",
    "            ylim=c(\n",
    "                min(av_coverage),\n",
    "                max(av_coverage)),\n",
    "            lwd=2,\n",
    "            line=4.2, \n",
    "            col=\"blue\")\n",
    "        points(\n",
    "            number_list, \n",
    "            av_coverage,\n",
    "            pch=20, \n",
    "            col=\"blue\",\n",
    "            cex=2.5)\n",
    "        mtext(2,\n",
    "            text=\"Vidējais pārklājums\",\n",
    "            line=6.5,\n",
    "            cex=1.6)\n",
    "\n",
    "    #PLOT_3\n",
    "        par(new=T, \n",
    "            cex.axis=1.3)\n",
    "        plot(c(min(number_list):max(number_list)), \n",
    "            las=1,\n",
    "            axes=F, \n",
    "            total_reads, \n",
    "            ylim=c(0,max(total_reads)), \n",
    "            xlab=\"\", \n",
    "            ylab=\"\", \n",
    "            xlim = c(\n",
    "                as.integer(min(number_list)),\n",
    "                as.integer(max(number_list))), \n",
    "            type=\"l\",\n",
    "            lty=3, \n",
    "            main=\"\",\n",
    "            lwd=3, \n",
    "            col=\"red\")\n",
    "        segments(\n",
    "            x0=c(min(number_list):max(number_list)), \n",
    "            y0=0,\n",
    "            y1=total_reads, \n",
    "            col=8)\n",
    "        axis(2, \n",
    "        ylim=c(\n",
    "            min(total_reads),\n",
    "            max(total_reads)), \n",
    "            lwd=2,\n",
    "            line=8.2, \n",
    "            col=\"red\")\n",
    "        points(\n",
    "            number_list, \n",
    "            total_reads, \n",
    "            pch=20, \n",
    "            col=\"red\", \n",
    "            cex=2.5)\n",
    "        mtext(2,\n",
    "            text=\"Nolasījumu skaits\",\n",
    "            line=10.5, \n",
    "            cex=1.6)\n",
    "        axis(1, \n",
    "            at=min(number_list):max(number_list), \n",
    "            labels=number_list)\n",
    "        if (skip_legend==FALSE){    #TO NOT ADD LEGEND IF IT IS NOT NEEDED\n",
    "            legend(\n",
    "                \"bottom\",  #LEGEND POSITION\n",
    "                xpd=TRUE, #DRAW LEGEND OUTSIDE OF PLOT AREA\n",
    "                inset = c(0.2,-0.6), #LEGEND POSITIONING\n",
    "                cex=1.6, #SCALE LEGEND SIZE UP 60%S\n",
    "                legend=c( #LEGEND LABELS\n",
    "                    \"Reference pārklāta (min.x15 %)\", \n",
    "                    \"Vidējais pārklājums\",\n",
    "                    \"Nolasījumu skaits\"),\n",
    "                lty=c(1,2,3)) #LINE TYPES TO DISPLAY ON LEGEND\n",
    "            mtext(\n",
    "                \"Parauga ID\",\n",
    "                side=1,\n",
    "                col=\"black\", \n",
    "                line=3.2,\n",
    "                cex=1.6)\n",
    "        }else{\n",
    "            mtext(\n",
    "                \"Parauga ID\",\n",
    "                side=1,\n",
    "                col=\"black\", \n",
    "                line=3.5,\n",
    "                cex=1.6)\n",
    "        }\n",
    "    \n",
    "    dev.off() #SAVE PLOT\n",
    "}"
   ]
  },
  {
   "cell_type": "code",
   "execution_count": 17,
   "id": "11501fd4",
   "metadata": {
    "execution": {
     "iopub.execute_input": "2022-12-15T11:27:17.197634Z",
     "iopub.status.busy": "2022-12-15T11:27:17.196974Z",
     "iopub.status.idle": "2022-12-15T11:27:17.220231Z",
     "shell.execute_reply": "2022-12-15T11:27:17.219606Z"
    },
    "papermill": {
     "duration": 0.055507,
     "end_time": "2022-12-15T11:27:17.220374",
     "exception": false,
     "start_time": "2022-12-15T11:27:17.164867",
     "status": "completed"
    },
    "tags": []
   },
   "outputs": [],
   "source": [
    "%%R\n",
    "#PRE-PROCESSING QC METRIC\n",
    "chunk_len <- nrow(batch_data)/4 + 1\n",
    " #DEVIDE NUMBER OF SAMPLES BY NUMBER OF REQUIRED CHUNKS TO GET OPTIMAL CHUNK SIZE (+1 TO AVOID INCORRECT SPLITTING FOR ODD NUMBER OF SAMPLES)\n",
    "target <- batch_data$receiving_lab_sample_id #GETTING ORDER OF SAMPLES IN FOUND SAMPLES REPORT\n",
    "batch_data <- batch_data[match(target, batch_data$receiving_lab_sample_id),] #REORDERING SAMPLES ACCORDING TO FOUND_SAMPLES REPORT\n",
    "batch_data$receiving_lab_sample_id <- seq.int(nrow(batch_data)) #ADD NUMERIC ID COLUMN TO SPLIT UPON\n",
    "# write_csv(batch_data, 'test.csv')\n",
    "# write.csv(batch_data, paste(output_path, 'test.csv', sep=''))\n",
    "chunk_list <- list(batch_data) #INITIALIZE LIST OF CHUNKS WITH STARTING DATAFRAME\n",
    "while (nrow(data.frame(chunk_list[1])) > chunk_len) { #UNTIL CHUNK SIZE IS NOT SMALLER THAN CHUNK_LEN VALUE\n",
    "    temp_list <- list() #EMPTY LIST TO STORE CURRENT CHUNKS\n",
    "    for (chunk in chunk_list) { #ITERATE OVER CURRENT CHUNKS\n",
    "        split_result = split_df(chunk) #SPLIT EACH CHUNK IN TWO\n",
    "        temp_list <- append(temp_list, split_result[1]) #ADD CHUNK WITH LOWER IDS FIRST\n",
    "        temp_list <- append(temp_list, split_result[2]) #ADD CHUNK WITH HIGHER IDS SECOND\n",
    "\n",
    "    }\n",
    "    chunk_list <- temp_list #WHEN ALL CHUNKS WERE SPLIT, THE SPLIT PRODUCTS IS STORED IN TEMP_LIST - ASSIGNED TO CHUNK_LIST\n",
    "}\n",
    "#REPORTING DATA INTEGRITY STATUS\n",
    "#total_df = data.frame() #TO STORE DATA AS IT IS RESTORED FROM CHUNKS\n",
    "#for (chunk in chunk_list){ #MERGE CHUNKS FROM CHUNK LIST INTO DATAFRAME\n",
    "    #print(min(chunk$receiving_lab_sample_id))#VERIFYING THAT CHUNKS ARE STORED IN ORDER OF INCREASING ID - PRINT LOWEST ID IN CHUNK\n",
    "    #print(max(chunk$receiving_lab_sample_id))#VERIFYING THAT CHUNKS ARE STORED IN ORDER OF INCREASING ID - PRINT HIGHEST ID IN CHUNK\n",
    "    #total_df = rbind(total_df, data.frame(chunk)) #MERGE CHUNK INTO DATAFRAME\n",
    "#}\n",
    "#paste(\"Split batch data into\", length(chunk_list), \"chunks.\") #PRINT NUMBER OF CHUNKS INTO STANDARD OUTPUT\n",
    "#paste(nrow(total_df),\"/\",nrow(batch_data)); #COMPARE NUMBER OF ROWS IN ORIGINAL DATAFRAME TO THE NUMBER OF ROWS IN DATAFRAME RESTORED FROM CHUNKS"
   ]
  },
  {
   "cell_type": "code",
   "execution_count": 18,
   "id": "5300beec",
   "metadata": {
    "execution": {
     "iopub.execute_input": "2022-12-15T11:27:17.279520Z",
     "iopub.status.busy": "2022-12-15T11:27:17.279007Z",
     "iopub.status.idle": "2022-12-15T11:27:17.610456Z",
     "shell.execute_reply": "2022-12-15T11:27:17.610982Z"
    },
    "papermill": {
     "duration": 0.363737,
     "end_time": "2022-12-15T11:27:17.611176",
     "exception": false,
     "start_time": "2022-12-15T11:27:17.247439",
     "status": "completed"
    },
    "tags": []
   },
   "outputs": [],
   "source": [
    "%%R\n",
    "#PLOTTING QC METRICS\n",
    "for (i in 1:length(chunk_list)){ #FOR EACH CHUNK\n",
    "    skip_legend <- FALSE #ONLY FOR THE FIRST PLOT\n",
    "    if (i==1){\n",
    "        number_list <- c(1:nrow(data.frame(chunk_list[i]))) #FOR THE FIRST CHUNK SAMPLES ARE NUMBERED FROM 1\n",
    "        last_id <- nrow(data.frame(chunk_list[i])) #LAST ID TO BE USED WHEN INCREMENTING SAMPLE NUMBER IN MULTIPLE PLOTS\n",
    "    }else{\n",
    "        skip_legend <- TRUE #FOR ALL PLOTS EXCEPT THE FIRST\n",
    "        number_list <- c((last_id+1):(last_id + nrow(data.frame(chunk_list[i])))) #FOR EVERY SUBSEQUENT PLOT SAMPLES ARE NUMBERED FROM LAST_ID + 1\n",
    "        last_id <- last_id + nrow(data.frame(chunk_list[i])) #UPDATING LAST ID \n",
    "    }\n",
    "    chunk_df <- data.frame(chunk_list[i]) #GETTING CHUNK DATA\n",
    "    chunk_df <- chunk_df[order(chunk_df$receiving_lab_sample_id),] #ORDERING CHUNK DATA FROM SMALLEST TO GREATEST RECEIVING_LAB_SAMPLE_ID \n",
    "    plot_quality_metrics(chunk_df, number_list,i,output_path, skip_legend) #PLOT CHUNK DATA\n",
    "}"
   ]
  },
  {
   "cell_type": "code",
   "execution_count": 19,
   "id": "1a4131e6",
   "metadata": {
    "execution": {
     "iopub.execute_input": "2022-12-15T11:27:17.680701Z",
     "iopub.status.busy": "2022-12-15T11:27:17.678154Z",
     "iopub.status.idle": "2022-12-15T11:27:17.759146Z",
     "shell.execute_reply": "2022-12-15T11:27:17.758559Z"
    },
    "papermill": {
     "duration": 0.11255,
     "end_time": "2022-12-15T11:27:17.759302",
     "exception": false,
     "start_time": "2022-12-15T11:27:17.646752",
     "status": "completed"
    },
    "tags": []
   },
   "outputs": [],
   "source": [
    "%%R\n",
    "#PRE-PROCESSING DISTRICT DATA\n",
    "total_samples <- nrow(batch_data)\n",
    "batch_data <- batch_data %>% filter(!district ==\"\", !district == \"nan\", !district == \"0\", !lineage == 'None', !lineage == 'Unassigned')\n",
    "valid_samples <- nrow(batch_data)\n",
    "grp_district_data <- aggregate(batch_data, by=list(batch_data$district, batch_data$lineage), FUN=length)[, 1:3] #COUNT NUMBER OF SAMPLES PER DISTRICT PER LINEAGE\n",
    "# grp_district_data <- grp_district_data %>% filter(!receiving_lab_sample_id < 2) #REMOVE LINEAGES IF COUNT IS LESS THAN % OF THE TOTAL COUNT\n",
    "grp_district_data <- grp_district_data %>% group_by(Group.1) %>% mutate(SamplePer=receiving_lab_sample_id/sum(receiving_lab_sample_id)) %>% ungroup()#COUNT FRACTION OF EACH LINEAGE FROM EVERY DISTRICT\n",
    "grp_district_data <- grp_district_data %>% group_by(Group.1) %>% mutate(SumPer=sum(receiving_lab_sample_id)) %>% ungroup() #TOTAL SAMPLES PER CITY\n",
    "write.csv(grp_district_data, paste(output_path,'grouped.csv', sep=''), row.names = FALSE)"
   ]
  },
  {
   "cell_type": "code",
   "execution_count": 20,
   "id": "aa3544ba",
   "metadata": {
    "execution": {
     "iopub.execute_input": "2022-12-15T11:27:17.829383Z",
     "iopub.status.busy": "2022-12-15T11:27:17.824113Z",
     "iopub.status.idle": "2022-12-15T11:27:18.361279Z",
     "shell.execute_reply": "2022-12-15T11:27:18.360563Z"
    },
    "papermill": {
     "duration": 0.571987,
     "end_time": "2022-12-15T11:27:18.361428",
     "exception": false,
     "start_time": "2022-12-15T11:27:17.789441",
     "status": "completed"
    },
    "tags": []
   },
   "outputs": [],
   "source": [
    "#COMPUTING MARGINAL VALUES FOR DISTRICT PLOT\n",
    "df = pd.read_csv(f'{output_path}grouped.csv')\n",
    "lineage_margin = 'Kopā novadā'\n",
    "district_margin = 'Kopā ar paveidu'\n",
    "\n",
    "df_1 = pd.DataFrame(columns=[\"Group.1\",\"Group.2\",\"receiving_lab_sample_id\",\"SamplePer\",\"SumPer\"])\n",
    "df_2 = pd.DataFrame(columns=[\"Group.1\",\"Group.2\",\"receiving_lab_sample_id\",\"SamplePer\",\"SumPer\"])\n",
    "for row in df['Group.1']: \n",
    "    try:\n",
    "        df_1 = pd.concat(\n",
    "            [df_1, pd.DataFrame(\n",
    "                [[f\"{str(row)}\",f\"{lineage_margin}\",df[df[\"Group.1\"]==str(row)].reset_index(drop=True)['SumPer'][0],0,0]],\n",
    "                columns=[\"Group.1\",\"Group.2\",\"receiving_lab_sample_id\",\"SamplePer\",\"SumPer\"])], ignore_index=True)\n",
    "    except:\n",
    "        print(row)\n",
    "\n",
    "for row in df['Group.2']: \n",
    "    df_2 = pd.concat(\n",
    "        [df_2, pd.DataFrame(\n",
    "            [[district_margin,str(row),sum(list(df[df[\"Group.2\"]==str(row)]['receiving_lab_sample_id'])),0,0]],\n",
    "            columns=[\"Group.1\",\"Group.2\",\"receiving_lab_sample_id\",\"SamplePer\",\"SumPer\"])], ignore_index=True)\n",
    "df = pd.concat([df,df_1,df_2])\n",
    "\n",
    "df.to_csv(f'{output_path}grouped.csv', header=True, index=False)"
   ]
  },
  {
   "cell_type": "code",
   "execution_count": 21,
   "id": "e9e2bcab",
   "metadata": {
    "execution": {
     "iopub.execute_input": "2022-12-15T11:27:18.424739Z",
     "iopub.status.busy": "2022-12-15T11:27:18.424252Z",
     "iopub.status.idle": "2022-12-15T11:27:19.801058Z",
     "shell.execute_reply": "2022-12-15T11:27:19.800462Z"
    },
    "papermill": {
     "duration": 1.412166,
     "end_time": "2022-12-15T11:27:19.801214",
     "exception": false,
     "start_time": "2022-12-15T11:27:18.389048",
     "status": "completed"
    },
    "tags": []
   },
   "outputs": [],
   "source": [
    "%%R\n",
    "#move marginal to top-right\n",
    "#pale-out gridlines\n",
    "#try to add marginal labels as axis tick labels\n",
    "#PLOTTING LINEAGES BY DISTRICT\n",
    "grp_district_data <- read.csv(paste(output_path,'grouped.csv', sep=''),  encoding = \"UTF-8\")#SUMMARY DATA\n",
    "paraugu_daļa <- round(grp_district_data$SamplePer,3)\n",
    "novads <- fct_reorder(grp_district_data$Group.1, desc(grp_district_data$SumPer))\n",
    "paraugu_skaits <- grp_district_data$receiving_lab_sample_id\n",
    "grp_district_data <- grp_district_data %>% mutate( #place total to the top\n",
    "    Group.2 = forcats::fct_relevel(Group.2, sort(unique(grp_district_data$Group.2)[ !unique(grp_district_data$Group.2) == \"Kopā novadā\" ], decreasing=TRUE), \"Kopā novadā\"))\n",
    "paveids <- grp_district_data$Group.2\n",
    "\n",
    "\n",
    "district_plot <- grp_district_data %>% ggplot( #INITIALIZE PLOT VARIABLE & SUPPLY DATA TO GGPLOT\n",
    "    aes(y=paveids, #SUPPLY Y AXES DATA\n",
    "        x=novads,\n",
    "        size=0.05,\n",
    "        color=novads)) + #SUPPLY X AXES DATA (SORTED BY DECR.ORDER OF TOTAL NUMBER OF SAMPLES IN EACH DISTRICT)\n",
    "    geom_point(alpha=0.45) +#GENERATE STACKED PLOT WITH BIGGER VALUES ON TOP\n",
    "            #  + #SUB-BAR OUTLINE COLOUR + OPACITY REDUCED\n",
    "    geom_text(aes(label = paraugu_skaits), \n",
    "            colour = \"black\", \n",
    "            size = 2) + \n",
    "    scale_color_manual(values=as.vector(compressed_palette)) +\n",
    "    scale_x_discrete(position = \"bottom\") +\n",
    "    theme(\n",
    "        legend.position = \"none\",\n",
    "        axis.text.x = element_text( #FORMAT X-AXIS LABEL TEXT\n",
    "            angle = 45, #ROTATE COUNTER-CLOCKWISE\n",
    "            # vjust=, #OPTIMAL VERTICAL POSITIONING RELATIVE TO AXIS TICK\n",
    "            hjust = 0.95), #OPTIMAL HORIZONTAL POSITIONING RELATIVE TO AXIS TICK\n",
    "        axis.ticks = element_blank(),\n",
    "        panel.grid = element_line( #FORMAT VERTICAL GRID LINES\n",
    "            size=.1, \n",
    "            color=\"black\"),\n",
    "            panel.background = element_blank(), #REMOVE BACKGROUND GRID PANEL COLOUR\n",
    "            axis.line = element_line(colour = \"grey\")) #CHANGE AXIS COLORS)\n",
    "\n",
    "plot_8 <- district_plot + \n",
    "    labs(\n",
    "        x = sprintf(\"Parauga paņemšanas novads\\n Skaitļi atbilst paraugu skaitam. Apkopojums par %s paraugiem (no %s)\", valid_samples, total_samples), #X-AXIS LABEL\n",
    "        y = \"Paveids\")\n",
    "ggsave(\n",
    "    paste(output_path,'plot8.png', sep=''), #PATH & FILE NAME WHERE THE PLOT WILL BE SAVED\n",
    "    plot=plot_8, #SUPPLYING PLOT OBJECT\n",
    "    width = ggsave_width, #PLOT WIDTH IN CM\n",
    "    height = 25, #PLOT HEIGHT IN CM\n",
    "    units = \"cm\") #PLOT DIMENSION UNITS\n",
    "\n",
    "\n",
    "p <- ggplotly(district_plot) #INTERACTIVITY\n",
    "saveWidget(p, paste(output_path,'district_plot.html', sep='')) #SAVE INTERACTIVE PLOT"
   ]
  },
  {
   "cell_type": "code",
   "execution_count": 22,
   "id": "bd87c324",
   "metadata": {
    "execution": {
     "iopub.execute_input": "2022-12-15T11:27:19.859170Z",
     "iopub.status.busy": "2022-12-15T11:27:19.858713Z",
     "iopub.status.idle": "2022-12-15T11:27:19.867928Z",
     "shell.execute_reply": "2022-12-15T11:27:19.867541Z"
    },
    "papermill": {
     "duration": 0.039671,
     "end_time": "2022-12-15T11:27:19.868049",
     "exception": false,
     "start_time": "2022-12-15T11:27:19.828378",
     "status": "completed"
    },
    "tags": []
   },
   "outputs": [],
   "source": [
    "#CLEANUP\n",
    "os.remove(f'{output_path}grouped.csv')\n",
    "os.remove(f'{output_path}grouped_batch.csv')"
   ]
  },
  {
   "cell_type": "code",
   "execution_count": 23,
   "id": "a1051bb3",
   "metadata": {
    "execution": {
     "iopub.execute_input": "2022-12-15T11:27:19.926975Z",
     "iopub.status.busy": "2022-12-15T11:27:19.926663Z",
     "iopub.status.idle": "2022-12-15T11:27:20.249535Z",
     "shell.execute_reply": "2022-12-15T11:27:20.248948Z"
    },
    "papermill": {
     "duration": 0.353225,
     "end_time": "2022-12-15T11:27:20.249666",
     "exception": false,
     "start_time": "2022-12-15T11:27:19.896441",
     "status": "completed"
    },
    "tags": []
   },
   "outputs": [],
   "source": [
    "#GENERATING WEEKLY REPORT\n",
    "from docxtpl import DocxTemplate, InlineImage\n",
    "from docx.shared import Cm\n",
    "import time, pandas as pd, sys, re"
   ]
  },
  {
   "cell_type": "code",
   "execution_count": 24,
   "id": "5fb44da4",
   "metadata": {
    "execution": {
     "iopub.execute_input": "2022-12-15T11:27:20.320297Z",
     "iopub.status.busy": "2022-12-15T11:27:20.319618Z",
     "iopub.status.idle": "2022-12-15T11:27:20.322430Z",
     "shell.execute_reply": "2022-12-15T11:27:20.321767Z"
    },
    "papermill": {
     "duration": 0.043492,
     "end_time": "2022-12-15T11:27:20.322556",
     "exception": false,
     "start_time": "2022-12-15T11:27:20.279064",
     "status": "completed"
    },
    "tags": []
   },
   "outputs": [],
   "source": [
    "# IMPORT TEMPLATE DOCUMENT + PATHS TO FILES WITH DATA & PLOTS\n",
    "template = DocxTemplate(\n",
    "    '/mnt/home/groups/nmrl/cov_analysis/SARS-CoV2_assembly/resources/downstream/weekly_report_template.docx')\n",
    "# PATH TO THE PROCESS_SAMPLES.PY FOUND_SAMPLES REPORT (TO GET SAMPLING DATE & LINEAGES FOR EACH SAMPLE)\n",
    "image_path = \"/\".join(found_path.split('/')[:-1])\n"
   ]
  },
  {
   "cell_type": "code",
   "execution_count": 25,
   "id": "7c530913",
   "metadata": {
    "execution": {
     "iopub.execute_input": "2022-12-15T11:27:20.387837Z",
     "iopub.status.busy": "2022-12-15T11:27:20.387344Z",
     "iopub.status.idle": "2022-12-15T11:27:20.400683Z",
     "shell.execute_reply": "2022-12-15T11:27:20.400159Z"
    },
    "papermill": {
     "duration": 0.048768,
     "end_time": "2022-12-15T11:27:20.400810",
     "exception": false,
     "start_time": "2022-12-15T11:27:20.352042",
     "status": "completed"
    },
    "tags": []
   },
   "outputs": [],
   "source": [
    "#READ DATA FROM CSV & COMPRESS DELTA LINEAGES TO B.1.617.2\n",
    "data_2 = pd.read_csv(found_path)\n",
    "data_2.fillna(\"0\",inplace=True)\n",
    "\n",
    "voc_list = []\n",
    "data_3 = data_2.groupby(data_2['lineage']).count()\n",
    "delta_dict = {}\n",
    "for lin in data_3.index:\n",
    "    if \"AY.\" in lin and lin not in voc_list:\n",
    "        delta_dict[lin] = \"B.1.617.2\"\n",
    "    elif \"BA.1.\" in lin and lin not in voc_list:\n",
    "        delta_dict[lin] = 'BA.1'\n",
    "    elif (\"BA.2.\" in lin or 'BS.' in lin) and not 'BA.2.75' in lin and lin not in voc_list:\n",
    "        delta_dict[lin] = 'BA.2'\n",
    "    elif (\"BA.5.\" in lin or \"BF.\" in lin or \"BE.\" in lin or 'BT.' in lin or 'BK.' in lin or 'CG.' in lin or 'BQ.' in lin or 'XAZ' in lin or 'CN' in lin or 'CL' in lin or 'CK' in lin) and lin not in voc_list:\n",
    "        delta_dict[lin] = 'BA.5'\n",
    "    elif ('BA.2.75' in lin or \"BM.\" in lin or 'BL.' in lin or 'BY.' in lin or 'XBB' in lin or 'CA' in lin or 'CH' in lin or 'BN' in lin) and lin not in voc_list:\n",
    "        delta_dict[lin] = 'BA.2.75'\n",
    "    elif \"BA.4.\" in lin:\n",
    "        delta_dict[lin] = 'BA.4'"
   ]
  },
  {
   "cell_type": "code",
   "execution_count": 26,
   "id": "9114e7c2",
   "metadata": {
    "execution": {
     "iopub.execute_input": "2022-12-15T11:27:20.466929Z",
     "iopub.status.busy": "2022-12-15T11:27:20.465660Z",
     "iopub.status.idle": "2022-12-15T11:27:20.474415Z",
     "shell.execute_reply": "2022-12-15T11:27:20.473843Z"
    },
    "papermill": {
     "duration": 0.047306,
     "end_time": "2022-12-15T11:27:20.474541",
     "exception": false,
     "start_time": "2022-12-15T11:27:20.427235",
     "status": "completed"
    },
    "tags": []
   },
   "outputs": [],
   "source": [
    "#ADD TAGS TO THE REPORT TO BE RENDERED FROM TEMPLATE\n",
    "sample_count= len(data_2)\n",
    "by_lab_count = data_2.groupby(data_2['seq_institution']).count()\n",
    "seq_lab_list = [f'{by_lab_count.loc[id][\"receiving_lab_sample_id\"]} no Eurofins' if 'ECDC' in id else f'{by_lab_count.loc[id][\"receiving_lab_sample_id\"]} no NMRL' for id in list(by_lab_count.index)]\n",
    "seq_lab_string = ', '.join(seq_lab_list)\n",
    "lineage_data_table=[{'lineage':delta_dict[lin] if lin in delta_dict.keys() else lin,'sublin':lin if lin in delta_dict.keys() else 'n/a','count':count} for lin, count in zip(data_3.index, data_3.sampling_date)]\n",
    "total_data_table = [\n",
    "    {'sample_number':number+1,\n",
    "    'sample_id':sample,\n",
    "    'sampling_date':date if date != '0' else 'n/a',\n",
    "    'testing_lab':lab,\n",
    "    'lineage':lin, \n",
    "    'sequenced':sequenced,\n",
    "    'district':district if district != '0' else 'n/a'} for number,sample,date,lab,lin,sequenced,district in zip(data_2.index,data_2.receiving_lab_sample_id, data_2.sampling_date, data_2.testing_lab, data_2.lineage, data_2.seq_institution, data_2.district)]\n",
    "total_df = pd.DataFrame(total_data_table)\n",
    "data_2 = data_2[(data_2.sampling_date != '0') & (data_2.sampling_date != '44284')]\n",
    "nmrl_samples = data_2[data_2.seq_institution == 'NMRL(LIC)']\n",
    "eurofin_samples =  data_2[data_2.seq_institution == 'NMRL(ECDC)']\n",
    "if len(nmrl_samples) > 0 and len(eurofin_samples) > 0:\n",
    "    seq_date_range= f\"\\nNMRL nosekvencētiem paraugiem: no {min(nmrl_samples.sampling_date)} līdz {max(nmrl_samples.sampling_date)}\\nEurofins nosekvencētiem paraugiem: no {min(eurofin_samples.sampling_date)} līdz {max(eurofin_samples.sampling_date)}\"\n",
    "elif len(nmrl_samples) == 0:\n",
    "    seq_date_range= f\"\\nEurofins nosekvencētiem paraugiem: no {min(eurofin_samples.sampling_date)} līdz {max(eurofin_samples.sampling_date)}\"\n",
    "elif len(eurofin_samples) == 0:\n",
    "    seq_date_range= f\"\\nNMRL nosekvencētiem paraugiem: no {min(nmrl_samples.sampling_date)} līdz {max(nmrl_samples.sampling_date)}\"\n",
    "batch_quality_1= InlineImage(template,f'{image_path}/plot1.png', width = Cm(16.35), height=Cm(5.17))\n",
    "batch_quality_2=InlineImage(template,f'{image_path}/plot2.png', width = Cm(16.35), height=Cm(5.17))\n",
    "batch_quality_3= InlineImage(template,f'{image_path}/plot3.png', width = Cm(16.35), height=Cm(5.17))\n",
    "batch_quality_4=InlineImage(template,f'{image_path}/plot4.png', width = Cm(16.35), height=Cm(5.17))\n",
    "batch_lineages= InlineImage(template,f'{image_path}/plot5.png', width = Cm(17.19), height=Cm(20.34))\n",
    "batch_S_mut= InlineImage(template,f'{image_path}/plot6.png', width = Cm(12.98), height=Cm(20.34))\n",
    "# seq_sum_stats= InlineImage(template,f'{image_path}/plot7.png', width = Cm(17.19), height=Cm(20.34))\n",
    "district_plot = InlineImage(template,f'{image_path}/plot8.png', width = Cm(17.19), height=Cm(40.34))"
   ]
  },
  {
   "cell_type": "code",
   "execution_count": 27,
   "id": "4df32c5d",
   "metadata": {
    "execution": {
     "iopub.execute_input": "2022-12-15T11:27:20.537911Z",
     "iopub.status.busy": "2022-12-15T11:27:20.537237Z",
     "iopub.status.idle": "2022-12-15T11:27:20.542958Z",
     "shell.execute_reply": "2022-12-15T11:27:20.542412Z"
    },
    "papermill": {
     "duration": 0.038024,
     "end_time": "2022-12-15T11:27:20.543087",
     "exception": false,
     "start_time": "2022-12-15T11:27:20.505063",
     "status": "completed"
    },
    "tags": []
   },
   "outputs": [],
   "source": [
    "lin_frame = pd.DataFrame.from_dict(lineage_data_table)\n",
    "lin_frame = lin_frame.rename(columns={'lineage':'Paveids','sublin':'Apakšpaveids','count':'Paraugu skaits'})\n",
    "lin_frame.to_csv(f'{image_path}/SARS-CoV2_apakšpaveidu_tabula_{time.strftime(\"%Y%m%d\")}.csv', header=True, index=False)"
   ]
  },
  {
   "cell_type": "code",
   "execution_count": 28,
   "id": "a30c9ed4",
   "metadata": {
    "execution": {
     "iopub.execute_input": "2022-12-15T11:27:20.604993Z",
     "iopub.status.busy": "2022-12-15T11:27:20.604536Z",
     "iopub.status.idle": "2022-12-15T11:27:20.607348Z",
     "shell.execute_reply": "2022-12-15T11:27:20.606777Z"
    },
    "papermill": {
     "duration": 0.03521,
     "end_time": "2022-12-15T11:27:20.607476",
     "exception": false,
     "start_time": "2022-12-15T11:27:20.572266",
     "status": "completed"
    },
    "tags": []
   },
   "outputs": [],
   "source": [
    "#DECLARE TEMPLATE VARIABLES\n",
    "context = {\n",
    "    'seq_date_range': seq_date_range,\n",
    "    'seq_lab_string': seq_lab_string,\n",
    "    'sample_count': sample_count,\n",
    "    'total_data_table': total_data_table,\n",
    "    'lineage_data_table': lineage_data_table,\n",
    "    'plot_1': batch_quality_1,\n",
    "    'plot_2': batch_quality_2,\n",
    "    'plot_3': batch_quality_3,\n",
    "    'plot_4': batch_quality_4,\n",
    "    'plot_5': batch_lineages,\n",
    "    'plot_6': batch_S_mut,\n",
    "    'plot_8': district_plot\n",
    "    }\n",
    "    # 'plot_7': seq_sum_stats"
   ]
  },
  {
   "cell_type": "code",
   "execution_count": 29,
   "id": "5f50efc3",
   "metadata": {
    "execution": {
     "iopub.execute_input": "2022-12-15T11:27:20.666245Z",
     "iopub.status.busy": "2022-12-15T11:27:20.665947Z",
     "iopub.status.idle": "2022-12-15T11:27:21.201684Z",
     "shell.execute_reply": "2022-12-15T11:27:21.201087Z"
    },
    "papermill": {
     "duration": 0.565922,
     "end_time": "2022-12-15T11:27:21.201840",
     "exception": false,
     "start_time": "2022-12-15T11:27:20.635918",
     "status": "completed"
    },
    "tags": []
   },
   "outputs": [],
   "source": [
    "#RENDER AND SAVE THE REPORT\n",
    "template.render(context)\n",
    "template.save(f'{image_path}/SARS-CoV2_sekv_pārskats_{time.strftime(\"%Y%m%d\")}.docx')\n",
    "total_df.to_csv(f'{image_path}/SARS-CoV2_sekv_pārskats_dati_{time.strftime(\"%Y%m%d\")}.csv', header=True, index=False)"
   ]
  }
 ],
 "metadata": {
  "celltoolbar": "Tags",
  "kernelspec": {
   "display_name": "Python 3.10.1 ('rbase_env': conda)",
   "language": "python",
   "name": "python3"
  },
  "language_info": {
   "codemirror_mode": {
    "name": "ipython",
    "version": 3
   },
   "file_extension": ".py",
   "mimetype": "text/x-python",
   "name": "python",
   "nbconvert_exporter": "python",
   "pygments_lexer": "ipython3",
   "version": "3.10.1"
  },
  "papermill": {
   "default_parameters": {},
   "duration": 22.709918,
   "end_time": "2022-12-15T11:27:21.736516",
   "environment_variables": {},
   "exception": null,
   "input_path": "report_notebook.ipynb",
   "output_path": "report_notebook.ipynb",
   "parameters": {
    "curr_batch_path": "/mnt/home/groups/nmrl/cov_analysis/reports/report_2022-12-15_2022-12-08_2022-12-08/filtered_pipeline_report.csv",
    "found_path": "/mnt/home/groups/nmrl/cov_analysis/reports/report_2022-12-15_2022-12-08_2022-12-08/filtered_pipeline_report.csv",
    "mut_stat_path": "/mnt/home/groups/nmrl/cov_analysis/reports/report_2022-12-15_2022-12-08_2022-12-08/mutstat_report.csv",
    "output_path": "/mnt/home/groups/nmrl/cov_analysis/reports/report_2022-12-15_2022-12-08_2022-12-08/",
    "path": "/mnt/home/groups/nmrl/cov_analysis/analysis_history/summary_file_15_12_2022.csv"
   },
   "start_time": "2022-12-15T11:26:59.026598",
   "version": "2.3.3"
  },
  "vscode": {
   "interpreter": {
    "hash": "f68c1f194682b910117478a9f6ec2e5f757b197424d0f751d2b73d09c0dd97d4"
   }
  }
 },
 "nbformat": 4,
 "nbformat_minor": 5
}