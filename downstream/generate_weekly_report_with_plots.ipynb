{
 "cells": [
  {
   "cell_type": "code",
   "execution_count": 1,
   "id": "a83a9e7c",
   "metadata": {
    "execution": {
     "iopub.execute_input": "2022-01-26T13:07:02.134388Z",
     "iopub.status.busy": "2022-01-26T13:07:02.133512Z",
     "iopub.status.idle": "2022-01-26T13:07:04.080516Z",
     "shell.execute_reply": "2022-01-26T13:07:04.081349Z"
    },
    "papermill": {
     "duration": 2.003878,
     "end_time": "2022-01-26T13:07:04.081712",
     "exception": false,
     "start_time": "2022-01-26T13:07:02.077834",
     "status": "completed"
    },
    "tags": []
   },
   "outputs": [],
   "source": [
    "#https://stackoverflow.com/questions/39008069/r-and-python-in-one-jupyter-notebook\n",
    "%reload_ext rpy2.ipython\n",
    "import rpy2.robjects as robjects; #; at the end of the line allows to hide all output to the command line\n",
    "# https://github.com/nteract/papermill - to execute nb with cmd parameters\n",
    "#papermill generate_weekly_report_with_plots.ipynb \n",
    "# -p path ~/Desktop/cov_data/reports/03_01_2022/summary_file_03_01_2022.csv \n",
    "# -p curr_batch_path ~/Desktop/cov_data/reports/03_01_2022/2022-01-05-11-39_ft_65_mutation_report.csv \n",
    "# -p mut_stat_path ~/Desktop/cov_data/reports/03_01_2022/mutation_statistics.csv \n",
    "# -p output_path ~/Desktop/cov_data/reports/03_01_2022/ \n",
    "# -p found_path ~/Desktop/cov_data/reports/03_01_2022/2022-01-05-11-39_ft_65_mutation_report.csv \n",
    "# ./generate_weekly_report_with_plots.ipynb \n",
    "#papermill generate_weekly_report_with_plots.ipynb -p path ./03_01_2022/summary_file_03_01_2022.csv -p curr_batch_path ./03_01_2022/2022-01-05-11-39_ft_65_mutation_report.csv -p mut_stat_path ./03_01_2022/mutation_statistics.csv -p output_path ./03_01_2022/ -p found_path ./03_01_2022/2022-01-05-11-39_ft_65_mutation_report.csv ./generate_weekly_report_with_plots.ipynb\n",
    "# CONVERTING NOTEBOOK TO HTML REPORT (HIDING CODE)\n",
    "#jupyter nbconvert --to html --no-input  generate_weekly_report_with_plots.ipynb "
   ]
  },
  {
   "cell_type": "code",
   "execution_count": 2,
   "id": "5d89bee9",
   "metadata": {
    "execution": {
     "iopub.execute_input": "2022-01-26T13:07:04.160063Z",
     "iopub.status.busy": "2022-01-26T13:07:04.159377Z",
     "iopub.status.idle": "2022-01-26T13:07:04.163057Z",
     "shell.execute_reply": "2022-01-26T13:07:04.162464Z"
    },
    "papermill": {
     "duration": 0.041981,
     "end_time": "2022-01-26T13:07:04.163192",
     "exception": false,
     "start_time": "2022-01-26T13:07:04.121211",
     "status": "completed"
    },
    "tags": [
     "parameters"
    ]
   },
   "outputs": [],
   "source": [
    "path = ''\n",
    "curr_batch_path = ''\n",
    "mut_stat_path = ''\n",
    "output_path = ''\n",
    "found_path = ''"
   ]
  },
  {
   "cell_type": "code",
   "execution_count": 4,
   "id": "3e2b2be6",
   "metadata": {
    "execution": {
     "iopub.execute_input": "2022-01-26T13:07:04.278592Z",
     "iopub.status.busy": "2022-01-26T13:07:04.278059Z",
     "iopub.status.idle": "2022-01-26T13:07:04.286428Z",
     "shell.execute_reply": "2022-01-26T13:07:04.286031Z"
    },
    "papermill": {
     "duration": 0.036107,
     "end_time": "2022-01-26T13:07:04.286523",
     "exception": false,
     "start_time": "2022-01-26T13:07:04.250416",
     "status": "completed"
    },
    "scrolled": true,
    "tags": []
   },
   "outputs": [],
   "source": [
    "#CONVERTING PYTHON VARIABLES TO R VARIABLES\n",
    "robjects.r.assign('path', path)\n",
    "robjects.r.assign(\"curr_batch_path\", curr_batch_path)\n",
    "robjects.r.assign(\"mut_stat_path\", mut_stat_path)\n",
    "robjects.r.assign(\"found_path\", found_path)\n",
    "robjects.r.assign(\"output_path\", output_path);"
   ]
  },
  {
   "cell_type": "code",
   "execution_count": 5,
   "id": "69f16ba2",
   "metadata": {
    "execution": {
     "iopub.execute_input": "2022-01-26T13:07:04.341208Z",
     "iopub.status.busy": "2022-01-26T13:07:04.340712Z",
     "iopub.status.idle": "2022-01-26T13:07:06.853162Z",
     "shell.execute_reply": "2022-01-26T13:07:06.852239Z"
    },
    "papermill": {
     "duration": 2.544341,
     "end_time": "2022-01-26T13:07:06.853383",
     "exception": false,
     "start_time": "2022-01-26T13:07:04.309042",
     "status": "completed"
    },
    "tags": []
   },
   "outputs": [],
   "source": [
    "%%R \n",
    "library(htmlwidgets);\n",
    "library(plotly);\n",
    "# library(randomcoloR);\n",
    "library(ggplot2);\n",
    "library(tidyverse);\n",
    "library(scales);\n",
    "library(lubridate);\n",
    "library(tsibble);"
   ]
  },
  {
   "cell_type": "code",
   "execution_count": 6,
   "id": "3f32b8fc",
   "metadata": {
    "execution": {
     "iopub.execute_input": "2022-01-26T13:07:06.935277Z",
     "iopub.status.busy": "2022-01-26T13:07:06.934555Z",
     "iopub.status.idle": "2022-01-26T13:07:06.950397Z",
     "shell.execute_reply": "2022-01-26T13:07:06.949826Z"
    },
    "papermill": {
     "duration": 0.0566,
     "end_time": "2022-01-26T13:07:06.950544",
     "exception": false,
     "start_time": "2022-01-26T13:07:06.893944",
     "status": "completed"
    },
    "tags": []
   },
   "outputs": [],
   "source": [
    "%%R\n",
    "ggsave_width <- 20#PLOT WIDTH IN CM FOR GGPLOT OBJECTS\n",
    "ggsave_height <- 20#PLOT HEIGHT IN CM FOR GGPLOT OBJECTS\n",
    "compressed_palette <- scan(\"my_palette.txt\", what=\"\", sep=\"\\n\", quiet = TRUE) #TO READ PALETTE FROM FILE"
   ]
  },
  {
   "cell_type": "code",
   "execution_count": 7,
   "id": "93b560d0",
   "metadata": {
    "execution": {
     "iopub.execute_input": "2022-01-26T13:07:07.010459Z",
     "iopub.status.busy": "2022-01-26T13:07:07.009882Z",
     "iopub.status.idle": "2022-01-26T13:07:07.314371Z",
     "shell.execute_reply": "2022-01-26T13:07:07.315182Z"
    },
    "papermill": {
     "duration": 0.336359,
     "end_time": "2022-01-26T13:07:07.315417",
     "exception": false,
     "start_time": "2022-01-26T13:07:06.979058",
     "status": "completed"
    },
    "tags": []
   },
   "outputs": [],
   "source": [
    "%%R\n",
    "#READING DATA \n",
    "excel_data <- read.csv(path,  encoding = \"UTF-8\")#SUMMARY DATA\n",
    "batch_data <- read.csv(curr_batch_path, encoding = \"UTF-8\")#CURRENT BATCH DATA\n",
    "batch_mut_data <- read.csv(mut_stat_path, encoding = \"UTF-8\")#MUTATION STATISTICS DATA\n",
    "found_data <- read.csv(found_path, encoding = \"UTF-8\")#FOUND_SAMPLES DATA"
   ]
  },
  {
   "cell_type": "code",
   "execution_count": 8,
   "id": "0404bb11",
   "metadata": {
    "execution": {
     "iopub.execute_input": "2022-01-26T13:07:07.396202Z",
     "iopub.status.busy": "2022-01-26T13:07:07.395401Z",
     "iopub.status.idle": "2022-01-26T13:07:07.788569Z",
     "shell.execute_reply": "2022-01-26T13:07:07.787679Z"
    },
    "papermill": {
     "duration": 0.434372,
     "end_time": "2022-01-26T13:07:07.788772",
     "exception": false,
     "start_time": "2022-01-26T13:07:07.354400",
     "status": "completed"
    },
    "tags": []
   },
   "outputs": [],
   "source": [
    "%%R\n",
    "#PRE-PROCESSING SUMMARY DATA\n",
    "options(dplyr.summarise.inform = FALSE) #SUPPRESSING INFORMATION FROM SUMMARIZE FUNCTION\n",
    "excel_data[, 1:4] <- sapply(excel_data[, 1:4], as.character)#CASTING FIRST 4 COLUMNS TO CHARACTER\n",
    "excel_data <- excel_data %>% filter(!sampling_date == \"\" & !sampling_date == \"0\" & !sampling_date == \"NaT\" & !sampling_date == \"44284\" & !lineage == 'None')#FILTERING INVALID DATA\n",
    "excel_data$sampling_date <- as.Date(excel_data$sampling_date, format=\"%Y-%m-%d\", origin=\"1970-01-01\")#CASTING DATE FROM CHAR TO DATE.OBJECT\n",
    "grouped_data <- aggregate(excel_data, by=list(excel_data$sampling_date, excel_data$lineage), FUN=length)[, 1:3]#COUNT NUMBER OF SAMPLES FOR EACH DATE BY LINEAGES\n",
    "rel_grouped_data <- grouped_data %>% group_by(Group.1) %>% mutate(SamplePer=receiving_lab_sample_id/sum(receiving_lab_sample_id)) %>% ungroup()#COUNT FRACTION OF EACH LINEAGE ON EVERY DATE\n",
    "rel_grouped_data <- rel_grouped_data %>% mutate(week = yearweek(Group.1))#CONVERT EACH DATE TO WEEK FORMAT - ADD TO NEW COLUMN\n",
    "rel_grouped_data_week <- rel_grouped_data %>% group_by(week, Group.2) %>% summarise(sum_precip = sum(receiving_lab_sample_id))#SUMMARIZE NUMBER OF SAMPLES PER LINEAGE PER WEEK\n",
    "rel_grouped_data_week <- as.data.frame(rel_grouped_data_week)#CONVERT LIST TO DATAFRAME\n",
    "rel_grouped_data_week <- rel_grouped_data_week %>% filter(sum_precip > 2)#KEEP DATES BASED ON NUMBER OF SAMPLES\n",
    "rel_grouped_data_week_rel <- rel_grouped_data_week %>% group_by(week) %>% mutate(percentage=sum_precip/sum(sum_precip)) %>% ungroup()#COMPUTE FRACTION OF SAMPLES PER WEEK PER LINEAGE\n",
    "rel_grouped_data_week_rel$week <- as.Date(rel_grouped_data_week_rel$week, \"%Y-%U-%u\")#CONVERT WEEK COLUMN TO A GIVEN STRING FORMAT FOR PLOTTING\n",
    "weeks <- unique(rel_grouped_data_week_rel$week)#GET UNIQUE WEEKS\n",
    "lineages <- unique(rel_grouped_data_week_rel$Group.2)#GET UNIQUE LINEAGES\n",
    "combinations <- expand.grid(week = weeks, lineages = lineages)#GET ALL COMBINATIONS OF WEEKS && LINEAGES\n",
    "data <- full_join(rel_grouped_data_week_rel, combinations, by = c(\"week\" = \"week\", \"Group.2\" = \"lineages\")) %>% \n",
    "\tmutate(percentage = ifelse(is.na(percentage), 0, percentage)) %>% arrange(week, Group.2);#ADD 0 VALUES FOR LINEAGES THAT ARE NOT REPRESENTED ON GIVEN WEEK\n",
    "data <- data %>% filter(week > as.Date(\"2021-01-01\")) #KEEP ONLY LAST TWO YEARS"
   ]
  },
  {
   "cell_type": "code",
   "execution_count": 9,
   "id": "3d52e7f3",
   "metadata": {
    "execution": {
     "iopub.execute_input": "2022-01-26T13:07:07.872418Z",
     "iopub.status.busy": "2022-01-26T13:07:07.871646Z",
     "iopub.status.idle": "2022-01-26T13:07:07.932532Z",
     "shell.execute_reply": "2022-01-26T13:07:07.933270Z"
    },
    "papermill": {
     "duration": 0.105682,
     "end_time": "2022-01-26T13:07:07.933540",
     "exception": false,
     "start_time": "2022-01-26T13:07:07.827858",
     "status": "completed"
    },
    "tags": []
   },
   "outputs": [],
   "source": [
    "%%R\n",
    "#PRE-PROCESSING BATCH DATA\n",
    "batch_data <- batch_data %>% filter(!lineage == 'None')#FILTERING INVALID DATA\n",
    "batch_data$receiving_lab_sample_id <- as.character(batch_data$receiving_lab_sample_id)#CASTING SAMPLE ID AS CHARACTER\n",
    "batch_data$sampling_date <- as.Date(batch_data$sampling_date, format=\"%Y-%m-%d\", origin=\"1970-01-01\")#CASTING DATE STRING AS DATE OBJECT\n",
    "batch_data$seq_date <- as.Date(batch_data$seq_date, format=\"%Y-%m-%d\", origin=\"1970-01-01\")#CASTING SEQUENCING DATE STRING AS DATE OBJECT\n",
    "batch_data$covered_reference <- with(batch_data, ceiling(genome_length*(1-genome_N_percentage/100)))#COMPUTING NUMBER OF REFERENCE BASES COVERED X15 OR MORE\n",
    "batch_data$AVERAGE_COVERAGE <- round(batch_data$AVERAGE_COVERAGE, 2)#ROUNDING-UP AVERAGE COVERAGE TO TWO DIGITS\n",
    "batch_data$covered_reference_percent <- with(batch_data, round(100*covered_reference*(1/29903),2))#COMPUTING % OF REFERENCE BASES COVERED X15 OR MORE\n",
    "grp_batch_data <- aggregate(batch_data, by=list(batch_data$sampling_date, batch_data$lineage), FUN=length)[, 1:3]#COUNT NUMBER OF SAMPLES PER SAMPLING DATE PER LINEAGE"
   ]
  },
  {
   "cell_type": "code",
   "execution_count": 10,
   "id": "ab7af356",
   "metadata": {
    "execution": {
     "iopub.execute_input": "2022-01-26T13:07:08.012712Z",
     "iopub.status.busy": "2022-01-26T13:07:08.011922Z",
     "iopub.status.idle": "2022-01-26T13:07:08.033215Z",
     "shell.execute_reply": "2022-01-26T13:07:08.033829Z"
    },
    "papermill": {
     "duration": 0.061416,
     "end_time": "2022-01-26T13:07:08.033999",
     "exception": false,
     "start_time": "2022-01-26T13:07:07.972583",
     "status": "completed"
    },
    "tags": []
   },
   "outputs": [],
   "source": [
    "%%R\n",
    "#PRE-PROCESSING MUTATION DATA\n",
    "batch_mut_data <- batch_mut_data %>% rename(Percent_of_samples = X._of_samples)#RENAME POORLY NAMED COLUMN\n",
    "batch_mut_data <- batch_mut_data %>% filter(Percent_of_samples > 3)#FILTER MUTATION DATA - KEEP MUTATIONS THAT OCCUR IN MORE THAT 3 % OF SAMPLE IN THE BATCH\n",
    "batch_mut_data$Mutation <- factor(batch_mut_data$Mutation, levels = batch_mut_data[order(batch_mut_data$Gene), \"Mutation\"]) #REORDER MUTATIONS BASED ON GENE\n",
    "batch_mut_data$Gene <- fct_rev(batch_mut_data$Gene) #REVERSE THE ORDER OF GENES TO MATCH THE ORDER OF MUTATIONS"
   ]
  },
  {
   "cell_type": "code",
   "execution_count": 11,
   "id": "ea74f1d5",
   "metadata": {
    "execution": {
     "iopub.execute_input": "2022-01-26T13:07:08.099573Z",
     "iopub.status.busy": "2022-01-26T13:07:08.098819Z",
     "iopub.status.idle": "2022-01-26T13:07:14.466610Z",
     "shell.execute_reply": "2022-01-26T13:07:14.467478Z"
    },
    "papermill": {
     "duration": 6.403855,
     "end_time": "2022-01-26T13:07:14.467756",
     "exception": false,
     "start_time": "2022-01-26T13:07:08.063901",
     "status": "completed"
    },
    "tags": []
   },
   "outputs": [
    {
     "name": "stdout",
     "output_type": "stream",
     "text": [
      "   [1]"
     ]
    },
    {
     "name": "stdout",
     "output_type": "stream",
     "text": [
      " \"2021-01-11\""
     ]
    },
    {
     "name": "stdout",
     "output_type": "stream",
     "text": [
      " \"2021-01-11\""
     ]
    },
    {
     "name": "stdout",
     "output_type": "stream",
     "text": [
      " \"2021-01-11\""
     ]
    },
    {
     "name": "stdout",
     "output_type": "stream",
     "text": [
      " \"2021-01-11\""
     ]
    },
    {
     "name": "stdout",
     "output_type": "stream",
     "text": [
      " \"2021-01-11\""
     ]
    },
    {
     "name": "stdout",
     "output_type": "stream",
     "text": [
      "\n"
     ]
    },
    {
     "name": "stdout",
     "output_type": "stream",
     "text": [
      "   [6]"
     ]
    },
    {
     "name": "stdout",
     "output_type": "stream",
     "text": [
      " \"2021-01-11\""
     ]
    },
    {
     "name": "stdout",
     "output_type": "stream",
     "text": [
      " \"2021-01-11\""
     ]
    },
    {
     "name": "stdout",
     "output_type": "stream",
     "text": [
      " \"2021-01-11\""
     ]
    },
    {
     "name": "stdout",
     "output_type": "stream",
     "text": [
      " \"2021-01-11\""
     ]
    },
    {
     "name": "stdout",
     "output_type": "stream",
     "text": [
      " \"2021-01-11\""
     ]
    },
    {
     "name": "stdout",
     "output_type": "stream",
     "text": [
      "\n"
     ]
    },
    {
     "name": "stdout",
     "output_type": "stream",
     "text": [
      "  [11]"
     ]
    },
    {
     "name": "stdout",
     "output_type": "stream",
     "text": [
      " \"2021-01-11\""
     ]
    },
    {
     "name": "stdout",
     "output_type": "stream",
     "text": [
      " \"2021-01-11\""
     ]
    },
    {
     "name": "stdout",
     "output_type": "stream",
     "text": [
      " \"2021-01-11\""
     ]
    },
    {
     "name": "stdout",
     "output_type": "stream",
     "text": [
      " \"2021-01-11\""
     ]
    },
    {
     "name": "stdout",
     "output_type": "stream",
     "text": [
      " \"2021-01-11\""
     ]
    },
    {
     "name": "stdout",
     "output_type": "stream",
     "text": [
      "\n"
     ]
    },
    {
     "name": "stdout",
     "output_type": "stream",
     "text": [
      "  [16]"
     ]
    },
    {
     "name": "stdout",
     "output_type": "stream",
     "text": [
      " \"2021-01-11\""
     ]
    },
    {
     "name": "stdout",
     "output_type": "stream",
     "text": [
      " \"2021-01-11\""
     ]
    },
    {
     "name": "stdout",
     "output_type": "stream",
     "text": [
      " \"2021-01-11\""
     ]
    },
    {
     "name": "stdout",
     "output_type": "stream",
     "text": [
      " \"2021-01-11\""
     ]
    },
    {
     "name": "stdout",
     "output_type": "stream",
     "text": [
      " \"2021-01-11\""
     ]
    },
    {
     "name": "stdout",
     "output_type": "stream",
     "text": [
      "\n"
     ]
    },
    {
     "name": "stdout",
     "output_type": "stream",
     "text": [
      "  [21]"
     ]
    },
    {
     "name": "stdout",
     "output_type": "stream",
     "text": [
      " \"2021-01-11\""
     ]
    },
    {
     "name": "stdout",
     "output_type": "stream",
     "text": [
      " \"2021-01-11\""
     ]
    },
    {
     "name": "stdout",
     "output_type": "stream",
     "text": [
      " \"2021-01-11\""
     ]
    },
    {
     "name": "stdout",
     "output_type": "stream",
     "text": [
      " \"2021-01-11\""
     ]
    },
    {
     "name": "stdout",
     "output_type": "stream",
     "text": [
      " \"2021-01-11\""
     ]
    },
    {
     "name": "stdout",
     "output_type": "stream",
     "text": [
      "\n"
     ]
    },
    {
     "name": "stdout",
     "output_type": "stream",
     "text": [
      "  [26]"
     ]
    },
    {
     "name": "stdout",
     "output_type": "stream",
     "text": [
      " \"2021-01-11\""
     ]
    },
    {
     "name": "stdout",
     "output_type": "stream",
     "text": [
      " \"2021-01-11\""
     ]
    },
    {
     "name": "stdout",
     "output_type": "stream",
     "text": [
      " \"2021-01-11\""
     ]
    },
    {
     "name": "stdout",
     "output_type": "stream",
     "text": [
      " \"2021-01-11\""
     ]
    },
    {
     "name": "stdout",
     "output_type": "stream",
     "text": [
      " \"2021-01-11\""
     ]
    },
    {
     "name": "stdout",
     "output_type": "stream",
     "text": [
      "\n"
     ]
    },
    {
     "name": "stdout",
     "output_type": "stream",
     "text": [
      "  [31]"
     ]
    },
    {
     "name": "stdout",
     "output_type": "stream",
     "text": [
      " \"2021-01-11\""
     ]
    },
    {
     "name": "stdout",
     "output_type": "stream",
     "text": [
      " \"2021-01-11\""
     ]
    },
    {
     "name": "stdout",
     "output_type": "stream",
     "text": [
      " \"2021-01-11\""
     ]
    },
    {
     "name": "stdout",
     "output_type": "stream",
     "text": [
      " \"2021-01-11\""
     ]
    },
    {
     "name": "stdout",
     "output_type": "stream",
     "text": [
      " \"2021-01-11\""
     ]
    },
    {
     "name": "stdout",
     "output_type": "stream",
     "text": [
      "\n"
     ]
    },
    {
     "name": "stdout",
     "output_type": "stream",
     "text": [
      "  [36]"
     ]
    },
    {
     "name": "stdout",
     "output_type": "stream",
     "text": [
      " \"2021-01-11\""
     ]
    },
    {
     "name": "stdout",
     "output_type": "stream",
     "text": [
      " \"2021-01-11\""
     ]
    },
    {
     "name": "stdout",
     "output_type": "stream",
     "text": [
      " \"2021-01-11\""
     ]
    },
    {
     "name": "stdout",
     "output_type": "stream",
     "text": [
      " \"2021-01-11\""
     ]
    },
    {
     "name": "stdout",
     "output_type": "stream",
     "text": [
      " \"2021-01-11\""
     ]
    },
    {
     "name": "stdout",
     "output_type": "stream",
     "text": [
      "\n"
     ]
    },
    {
     "name": "stdout",
     "output_type": "stream",
     "text": [
      "  [41]"
     ]
    },
    {
     "name": "stdout",
     "output_type": "stream",
     "text": [
      " \"2021-01-11\""
     ]
    },
    {
     "name": "stdout",
     "output_type": "stream",
     "text": [
      " \"2021-01-11\""
     ]
    },
    {
     "name": "stdout",
     "output_type": "stream",
     "text": [
      " \"2021-01-11\""
     ]
    },
    {
     "name": "stdout",
     "output_type": "stream",
     "text": [
      " \"2021-01-11\""
     ]
    },
    {
     "name": "stdout",
     "output_type": "stream",
     "text": [
      " \"2021-01-11\""
     ]
    },
    {
     "name": "stdout",
     "output_type": "stream",
     "text": [
      "\n"
     ]
    },
    {
     "name": "stdout",
     "output_type": "stream",
     "text": [
      "  [46]"
     ]
    },
    {
     "name": "stdout",
     "output_type": "stream",
     "text": [
      " \"2021-01-11\""
     ]
    },
    {
     "name": "stdout",
     "output_type": "stream",
     "text": [
      " \"2021-01-11\""
     ]
    },
    {
     "name": "stdout",
     "output_type": "stream",
     "text": [
      " \"2021-01-11\""
     ]
    },
    {
     "name": "stdout",
     "output_type": "stream",
     "text": [
      " \"2021-01-11\""
     ]
    },
    {
     "name": "stdout",
     "output_type": "stream",
     "text": [
      " \"2021-01-11\""
     ]
    },
    {
     "name": "stdout",
     "output_type": "stream",
     "text": [
      "\n"
     ]
    },
    {
     "name": "stdout",
     "output_type": "stream",
     "text": [
      "  [51]"
     ]
    },
    {
     "name": "stdout",
     "output_type": "stream",
     "text": [
      " \"2021-01-11\""
     ]
    },
    {
     "name": "stdout",
     "output_type": "stream",
     "text": [
      " \"2021-01-11\""
     ]
    },
    {
     "name": "stdout",
     "output_type": "stream",
     "text": [
      " \"2021-01-11\""
     ]
    },
    {
     "name": "stdout",
     "output_type": "stream",
     "text": [
      " \"2021-01-11\""
     ]
    },
    {
     "name": "stdout",
     "output_type": "stream",
     "text": [
      " \"2021-01-11\""
     ]
    },
    {
     "name": "stdout",
     "output_type": "stream",
     "text": [
      "\n"
     ]
    },
    {
     "name": "stdout",
     "output_type": "stream",
     "text": [
      "  [56]"
     ]
    },
    {
     "name": "stdout",
     "output_type": "stream",
     "text": [
      " \"2021-01-11\""
     ]
    },
    {
     "name": "stdout",
     "output_type": "stream",
     "text": [
      " \"2021-01-11\""
     ]
    },
    {
     "name": "stdout",
     "output_type": "stream",
     "text": [
      " \"2021-01-11\""
     ]
    },
    {
     "name": "stdout",
     "output_type": "stream",
     "text": [
      " \"2021-01-11\""
     ]
    },
    {
     "name": "stdout",
     "output_type": "stream",
     "text": [
      " \"2021-01-11\""
     ]
    },
    {
     "name": "stdout",
     "output_type": "stream",
     "text": [
      "\n"
     ]
    },
    {
     "name": "stdout",
     "output_type": "stream",
     "text": [
      "  [61]"
     ]
    },
    {
     "name": "stdout",
     "output_type": "stream",
     "text": [
      " \"2021-01-11\""
     ]
    },
    {
     "name": "stdout",
     "output_type": "stream",
     "text": [
      " \"2021-01-11\""
     ]
    },
    {
     "name": "stdout",
     "output_type": "stream",
     "text": [
      " \"2021-01-11\""
     ]
    },
    {
     "name": "stdout",
     "output_type": "stream",
     "text": [
      " \"2021-01-11\""
     ]
    },
    {
     "name": "stdout",
     "output_type": "stream",
     "text": [
      " \"2021-01-11\""
     ]
    },
    {
     "name": "stdout",
     "output_type": "stream",
     "text": [
      "\n"
     ]
    },
    {
     "name": "stdout",
     "output_type": "stream",
     "text": [
      "  [66]"
     ]
    },
    {
     "name": "stdout",
     "output_type": "stream",
     "text": [
      " \"2021-01-11\""
     ]
    },
    {
     "name": "stdout",
     "output_type": "stream",
     "text": [
      " \"2021-01-11\""
     ]
    },
    {
     "name": "stdout",
     "output_type": "stream",
     "text": [
      " \"2021-01-11\""
     ]
    },
    {
     "name": "stdout",
     "output_type": "stream",
     "text": [
      " \"2021-01-11\""
     ]
    },
    {
     "name": "stdout",
     "output_type": "stream",
     "text": [
      " \"2021-01-18\""
     ]
    },
    {
     "name": "stdout",
     "output_type": "stream",
     "text": [
      "\n"
     ]
    },
    {
     "name": "stdout",
     "output_type": "stream",
     "text": [
      "  [71]"
     ]
    },
    {
     "name": "stdout",
     "output_type": "stream",
     "text": [
      " \"2021-01-18\""
     ]
    },
    {
     "name": "stdout",
     "output_type": "stream",
     "text": [
      " \"2021-01-18\""
     ]
    },
    {
     "name": "stdout",
     "output_type": "stream",
     "text": [
      " \"2021-01-18\""
     ]
    },
    {
     "name": "stdout",
     "output_type": "stream",
     "text": [
      " \"2021-01-18\""
     ]
    },
    {
     "name": "stdout",
     "output_type": "stream",
     "text": [
      " \"2021-01-18\""
     ]
    },
    {
     "name": "stdout",
     "output_type": "stream",
     "text": [
      "\n"
     ]
    },
    {
     "name": "stdout",
     "output_type": "stream",
     "text": [
      "  [76]"
     ]
    },
    {
     "name": "stdout",
     "output_type": "stream",
     "text": [
      " \"2021-01-18\""
     ]
    },
    {
     "name": "stdout",
     "output_type": "stream",
     "text": [
      " \"2021-01-18\""
     ]
    },
    {
     "name": "stdout",
     "output_type": "stream",
     "text": [
      " \"2021-01-18\""
     ]
    },
    {
     "name": "stdout",
     "output_type": "stream",
     "text": [
      " \"2021-01-18\""
     ]
    },
    {
     "name": "stdout",
     "output_type": "stream",
     "text": [
      " \"2021-01-18\""
     ]
    },
    {
     "name": "stdout",
     "output_type": "stream",
     "text": [
      "\n"
     ]
    },
    {
     "name": "stdout",
     "output_type": "stream",
     "text": [
      "  [81]"
     ]
    },
    {
     "name": "stdout",
     "output_type": "stream",
     "text": [
      " \"2021-01-18\""
     ]
    },
    {
     "name": "stdout",
     "output_type": "stream",
     "text": [
      " \"2021-01-18\""
     ]
    },
    {
     "name": "stdout",
     "output_type": "stream",
     "text": [
      " \"2021-01-18\""
     ]
    },
    {
     "name": "stdout",
     "output_type": "stream",
     "text": [
      " \"2021-01-18\""
     ]
    },
    {
     "name": "stdout",
     "output_type": "stream",
     "text": [
      " \"2021-01-18\""
     ]
    },
    {
     "name": "stdout",
     "output_type": "stream",
     "text": [
      "\n"
     ]
    },
    {
     "name": "stdout",
     "output_type": "stream",
     "text": [
      "  [86]"
     ]
    },
    {
     "name": "stdout",
     "output_type": "stream",
     "text": [
      " \"2021-01-18\""
     ]
    },
    {
     "name": "stdout",
     "output_type": "stream",
     "text": [
      " \"2021-01-18\""
     ]
    },
    {
     "name": "stdout",
     "output_type": "stream",
     "text": [
      " \"2021-01-18\""
     ]
    },
    {
     "name": "stdout",
     "output_type": "stream",
     "text": [
      " \"2021-01-18\""
     ]
    },
    {
     "name": "stdout",
     "output_type": "stream",
     "text": [
      " \"2021-01-18\""
     ]
    },
    {
     "name": "stdout",
     "output_type": "stream",
     "text": [
      "\n"
     ]
    },
    {
     "name": "stdout",
     "output_type": "stream",
     "text": [
      "  [91]"
     ]
    },
    {
     "name": "stdout",
     "output_type": "stream",
     "text": [
      " \"2021-01-18\""
     ]
    },
    {
     "name": "stdout",
     "output_type": "stream",
     "text": [
      " \"2021-01-18\""
     ]
    },
    {
     "name": "stdout",
     "output_type": "stream",
     "text": [
      " \"2021-01-18\""
     ]
    },
    {
     "name": "stdout",
     "output_type": "stream",
     "text": [
      " \"2021-01-18\""
     ]
    },
    {
     "name": "stdout",
     "output_type": "stream",
     "text": [
      " \"2021-01-18\""
     ]
    },
    {
     "name": "stdout",
     "output_type": "stream",
     "text": [
      "\n"
     ]
    },
    {
     "name": "stdout",
     "output_type": "stream",
     "text": [
      "  [96]"
     ]
    },
    {
     "name": "stdout",
     "output_type": "stream",
     "text": [
      " \"2021-01-18\""
     ]
    },
    {
     "name": "stdout",
     "output_type": "stream",
     "text": [
      " \"2021-01-18\""
     ]
    },
    {
     "name": "stdout",
     "output_type": "stream",
     "text": [
      " \"2021-01-18\""
     ]
    },
    {
     "name": "stdout",
     "output_type": "stream",
     "text": [
      " \"2021-01-18\""
     ]
    },
    {
     "name": "stdout",
     "output_type": "stream",
     "text": [
      " \"2021-01-18\""
     ]
    },
    {
     "name": "stdout",
     "output_type": "stream",
     "text": [
      "\n"
     ]
    },
    {
     "name": "stdout",
     "output_type": "stream",
     "text": [
      " [101]"
     ]
    },
    {
     "name": "stdout",
     "output_type": "stream",
     "text": [
      " \"2021-01-18\""
     ]
    },
    {
     "name": "stdout",
     "output_type": "stream",
     "text": [
      " \"2021-01-18\""
     ]
    },
    {
     "name": "stdout",
     "output_type": "stream",
     "text": [
      " \"2021-01-18\""
     ]
    },
    {
     "name": "stdout",
     "output_type": "stream",
     "text": [
      " \"2021-01-18\""
     ]
    },
    {
     "name": "stdout",
     "output_type": "stream",
     "text": [
      " \"2021-01-18\""
     ]
    },
    {
     "name": "stdout",
     "output_type": "stream",
     "text": [
      "\n"
     ]
    },
    {
     "name": "stdout",
     "output_type": "stream",
     "text": [
      " [106]"
     ]
    },
    {
     "name": "stdout",
     "output_type": "stream",
     "text": [
      " \"2021-01-18\""
     ]
    },
    {
     "name": "stdout",
     "output_type": "stream",
     "text": [
      " \"2021-01-18\""
     ]
    },
    {
     "name": "stdout",
     "output_type": "stream",
     "text": [
      " \"2021-01-18\""
     ]
    },
    {
     "name": "stdout",
     "output_type": "stream",
     "text": [
      " \"2021-01-18\""
     ]
    },
    {
     "name": "stdout",
     "output_type": "stream",
     "text": [
      " \"2021-01-18\""
     ]
    },
    {
     "name": "stdout",
     "output_type": "stream",
     "text": [
      "\n"
     ]
    },
    {
     "name": "stdout",
     "output_type": "stream",
     "text": [
      " [111]"
     ]
    },
    {
     "name": "stdout",
     "output_type": "stream",
     "text": [
      " \"2021-01-18\""
     ]
    },
    {
     "name": "stdout",
     "output_type": "stream",
     "text": [
      " \"2021-01-18\""
     ]
    },
    {
     "name": "stdout",
     "output_type": "stream",
     "text": [
      " \"2021-01-18\""
     ]
    },
    {
     "name": "stdout",
     "output_type": "stream",
     "text": [
      " \"2021-01-18\""
     ]
    },
    {
     "name": "stdout",
     "output_type": "stream",
     "text": [
      " \"2021-01-18\""
     ]
    },
    {
     "name": "stdout",
     "output_type": "stream",
     "text": [
      "\n"
     ]
    },
    {
     "name": "stdout",
     "output_type": "stream",
     "text": [
      " [116]"
     ]
    },
    {
     "name": "stdout",
     "output_type": "stream",
     "text": [
      " \"2021-01-18\""
     ]
    },
    {
     "name": "stdout",
     "output_type": "stream",
     "text": [
      " \"2021-01-18\""
     ]
    },
    {
     "name": "stdout",
     "output_type": "stream",
     "text": [
      " \"2021-01-18\""
     ]
    },
    {
     "name": "stdout",
     "output_type": "stream",
     "text": [
      " \"2021-01-18\""
     ]
    },
    {
     "name": "stdout",
     "output_type": "stream",
     "text": [
      " \"2021-01-18\""
     ]
    },
    {
     "name": "stdout",
     "output_type": "stream",
     "text": [
      "\n"
     ]
    },
    {
     "name": "stdout",
     "output_type": "stream",
     "text": [
      " [121]"
     ]
    },
    {
     "name": "stdout",
     "output_type": "stream",
     "text": [
      " \"2021-01-18\""
     ]
    },
    {
     "name": "stdout",
     "output_type": "stream",
     "text": [
      " \"2021-01-18\""
     ]
    },
    {
     "name": "stdout",
     "output_type": "stream",
     "text": [
      " \"2021-01-18\""
     ]
    },
    {
     "name": "stdout",
     "output_type": "stream",
     "text": [
      " \"2021-01-18\""
     ]
    },
    {
     "name": "stdout",
     "output_type": "stream",
     "text": [
      " \"2021-01-18\""
     ]
    },
    {
     "name": "stdout",
     "output_type": "stream",
     "text": [
      "\n"
     ]
    },
    {
     "name": "stdout",
     "output_type": "stream",
     "text": [
      " [126]"
     ]
    },
    {
     "name": "stdout",
     "output_type": "stream",
     "text": [
      " \"2021-01-18\""
     ]
    },
    {
     "name": "stdout",
     "output_type": "stream",
     "text": [
      " \"2021-01-18\""
     ]
    },
    {
     "name": "stdout",
     "output_type": "stream",
     "text": [
      " \"2021-01-18\""
     ]
    },
    {
     "name": "stdout",
     "output_type": "stream",
     "text": [
      " \"2021-01-18\""
     ]
    },
    {
     "name": "stdout",
     "output_type": "stream",
     "text": [
      " \"2021-01-18\""
     ]
    },
    {
     "name": "stdout",
     "output_type": "stream",
     "text": [
      "\n"
     ]
    },
    {
     "name": "stdout",
     "output_type": "stream",
     "text": [
      " [131]"
     ]
    },
    {
     "name": "stdout",
     "output_type": "stream",
     "text": [
      " \"2021-01-18\""
     ]
    },
    {
     "name": "stdout",
     "output_type": "stream",
     "text": [
      " \"2021-01-18\""
     ]
    },
    {
     "name": "stdout",
     "output_type": "stream",
     "text": [
      " \"2021-01-18\""
     ]
    },
    {
     "name": "stdout",
     "output_type": "stream",
     "text": [
      " \"2021-01-18\""
     ]
    },
    {
     "name": "stdout",
     "output_type": "stream",
     "text": [
      " \"2021-01-18\""
     ]
    },
    {
     "name": "stdout",
     "output_type": "stream",
     "text": [
      "\n"
     ]
    },
    {
     "name": "stdout",
     "output_type": "stream",
     "text": [
      " [136]"
     ]
    },
    {
     "name": "stdout",
     "output_type": "stream",
     "text": [
      " \"2021-01-18\""
     ]
    },
    {
     "name": "stdout",
     "output_type": "stream",
     "text": [
      " \"2021-01-18\""
     ]
    },
    {
     "name": "stdout",
     "output_type": "stream",
     "text": [
      " \"2021-01-18\""
     ]
    },
    {
     "name": "stdout",
     "output_type": "stream",
     "text": [
      " \"2021-01-25\""
     ]
    },
    {
     "name": "stdout",
     "output_type": "stream",
     "text": [
      " \"2021-01-25\""
     ]
    },
    {
     "name": "stdout",
     "output_type": "stream",
     "text": [
      "\n"
     ]
    },
    {
     "name": "stdout",
     "output_type": "stream",
     "text": [
      " [141]"
     ]
    },
    {
     "name": "stdout",
     "output_type": "stream",
     "text": [
      " \"2021-01-25\""
     ]
    },
    {
     "name": "stdout",
     "output_type": "stream",
     "text": [
      " \"2021-01-25\""
     ]
    },
    {
     "name": "stdout",
     "output_type": "stream",
     "text": [
      " \"2021-01-25\""
     ]
    },
    {
     "name": "stdout",
     "output_type": "stream",
     "text": [
      " \"2021-01-25\""
     ]
    },
    {
     "name": "stdout",
     "output_type": "stream",
     "text": [
      " \"2021-01-25\""
     ]
    },
    {
     "name": "stdout",
     "output_type": "stream",
     "text": [
      "\n"
     ]
    },
    {
     "name": "stdout",
     "output_type": "stream",
     "text": [
      " [146]"
     ]
    },
    {
     "name": "stdout",
     "output_type": "stream",
     "text": [
      " \"2021-01-25\""
     ]
    },
    {
     "name": "stdout",
     "output_type": "stream",
     "text": [
      " \"2021-01-25\""
     ]
    },
    {
     "name": "stdout",
     "output_type": "stream",
     "text": [
      " \"2021-01-25\""
     ]
    },
    {
     "name": "stdout",
     "output_type": "stream",
     "text": [
      " \"2021-01-25\""
     ]
    },
    {
     "name": "stdout",
     "output_type": "stream",
     "text": [
      " \"2021-01-25\""
     ]
    },
    {
     "name": "stdout",
     "output_type": "stream",
     "text": [
      "\n"
     ]
    },
    {
     "name": "stdout",
     "output_type": "stream",
     "text": [
      " [151]"
     ]
    },
    {
     "name": "stdout",
     "output_type": "stream",
     "text": [
      " \"2021-01-25\""
     ]
    },
    {
     "name": "stdout",
     "output_type": "stream",
     "text": [
      " \"2021-01-25\""
     ]
    },
    {
     "name": "stdout",
     "output_type": "stream",
     "text": [
      " \"2021-01-25\""
     ]
    },
    {
     "name": "stdout",
     "output_type": "stream",
     "text": [
      " \"2021-01-25\""
     ]
    },
    {
     "name": "stdout",
     "output_type": "stream",
     "text": [
      " \"2021-01-25\""
     ]
    },
    {
     "name": "stdout",
     "output_type": "stream",
     "text": [
      "\n"
     ]
    },
    {
     "name": "stdout",
     "output_type": "stream",
     "text": [
      " [156]"
     ]
    },
    {
     "name": "stdout",
     "output_type": "stream",
     "text": [
      " \"2021-01-25\""
     ]
    },
    {
     "name": "stdout",
     "output_type": "stream",
     "text": [
      " \"2021-01-25\""
     ]
    },
    {
     "name": "stdout",
     "output_type": "stream",
     "text": [
      " \"2021-01-25\""
     ]
    },
    {
     "name": "stdout",
     "output_type": "stream",
     "text": [
      " \"2021-01-25\""
     ]
    },
    {
     "name": "stdout",
     "output_type": "stream",
     "text": [
      " \"2021-01-25\""
     ]
    },
    {
     "name": "stdout",
     "output_type": "stream",
     "text": [
      "\n"
     ]
    },
    {
     "name": "stdout",
     "output_type": "stream",
     "text": [
      " [161]"
     ]
    },
    {
     "name": "stdout",
     "output_type": "stream",
     "text": [
      " \"2021-01-25\""
     ]
    },
    {
     "name": "stdout",
     "output_type": "stream",
     "text": [
      " \"2021-01-25\""
     ]
    },
    {
     "name": "stdout",
     "output_type": "stream",
     "text": [
      " \"2021-01-25\""
     ]
    },
    {
     "name": "stdout",
     "output_type": "stream",
     "text": [
      " \"2021-01-25\""
     ]
    },
    {
     "name": "stdout",
     "output_type": "stream",
     "text": [
      " \"2021-01-25\""
     ]
    },
    {
     "name": "stdout",
     "output_type": "stream",
     "text": [
      "\n"
     ]
    },
    {
     "name": "stdout",
     "output_type": "stream",
     "text": [
      " [166]"
     ]
    },
    {
     "name": "stdout",
     "output_type": "stream",
     "text": [
      " \"2021-01-25\""
     ]
    },
    {
     "name": "stdout",
     "output_type": "stream",
     "text": [
      " \"2021-01-25\""
     ]
    },
    {
     "name": "stdout",
     "output_type": "stream",
     "text": [
      " \"2021-01-25\""
     ]
    },
    {
     "name": "stdout",
     "output_type": "stream",
     "text": [
      " \"2021-01-25\""
     ]
    },
    {
     "name": "stdout",
     "output_type": "stream",
     "text": [
      " \"2021-01-25\""
     ]
    },
    {
     "name": "stdout",
     "output_type": "stream",
     "text": [
      "\n"
     ]
    },
    {
     "name": "stdout",
     "output_type": "stream",
     "text": [
      " [171]"
     ]
    },
    {
     "name": "stdout",
     "output_type": "stream",
     "text": [
      " \"2021-01-25\""
     ]
    },
    {
     "name": "stdout",
     "output_type": "stream",
     "text": [
      " \"2021-01-25\""
     ]
    },
    {
     "name": "stdout",
     "output_type": "stream",
     "text": [
      " \"2021-01-25\""
     ]
    },
    {
     "name": "stdout",
     "output_type": "stream",
     "text": [
      " \"2021-01-25\""
     ]
    },
    {
     "name": "stdout",
     "output_type": "stream",
     "text": [
      " \"2021-01-25\""
     ]
    },
    {
     "name": "stdout",
     "output_type": "stream",
     "text": [
      "\n"
     ]
    },
    {
     "name": "stdout",
     "output_type": "stream",
     "text": [
      " [176]"
     ]
    },
    {
     "name": "stdout",
     "output_type": "stream",
     "text": [
      " \"2021-01-25\""
     ]
    },
    {
     "name": "stdout",
     "output_type": "stream",
     "text": [
      " \"2021-01-25\""
     ]
    },
    {
     "name": "stdout",
     "output_type": "stream",
     "text": [
      " \"2021-01-25\""
     ]
    },
    {
     "name": "stdout",
     "output_type": "stream",
     "text": [
      " \"2021-01-25\""
     ]
    },
    {
     "name": "stdout",
     "output_type": "stream",
     "text": [
      " \"2021-01-25\""
     ]
    },
    {
     "name": "stdout",
     "output_type": "stream",
     "text": [
      "\n"
     ]
    },
    {
     "name": "stdout",
     "output_type": "stream",
     "text": [
      " [181]"
     ]
    },
    {
     "name": "stdout",
     "output_type": "stream",
     "text": [
      " \"2021-01-25\""
     ]
    },
    {
     "name": "stdout",
     "output_type": "stream",
     "text": [
      " \"2021-01-25\""
     ]
    },
    {
     "name": "stdout",
     "output_type": "stream",
     "text": [
      " \"2021-01-25\""
     ]
    },
    {
     "name": "stdout",
     "output_type": "stream",
     "text": [
      " \"2021-01-25\""
     ]
    },
    {
     "name": "stdout",
     "output_type": "stream",
     "text": [
      " \"2021-01-25\""
     ]
    },
    {
     "name": "stdout",
     "output_type": "stream",
     "text": [
      "\n"
     ]
    },
    {
     "name": "stdout",
     "output_type": "stream",
     "text": [
      " [186]"
     ]
    },
    {
     "name": "stdout",
     "output_type": "stream",
     "text": [
      " \"2021-01-25\""
     ]
    },
    {
     "name": "stdout",
     "output_type": "stream",
     "text": [
      " \"2021-01-25\""
     ]
    },
    {
     "name": "stdout",
     "output_type": "stream",
     "text": [
      " \"2021-01-25\""
     ]
    },
    {
     "name": "stdout",
     "output_type": "stream",
     "text": [
      " \"2021-01-25\""
     ]
    },
    {
     "name": "stdout",
     "output_type": "stream",
     "text": [
      " \"2021-01-25\""
     ]
    },
    {
     "name": "stdout",
     "output_type": "stream",
     "text": [
      "\n"
     ]
    },
    {
     "name": "stdout",
     "output_type": "stream",
     "text": [
      " [191]"
     ]
    },
    {
     "name": "stdout",
     "output_type": "stream",
     "text": [
      " \"2021-01-25\""
     ]
    },
    {
     "name": "stdout",
     "output_type": "stream",
     "text": [
      " \"2021-01-25\""
     ]
    },
    {
     "name": "stdout",
     "output_type": "stream",
     "text": [
      " \"2021-01-25\""
     ]
    },
    {
     "name": "stdout",
     "output_type": "stream",
     "text": [
      " \"2021-01-25\""
     ]
    },
    {
     "name": "stdout",
     "output_type": "stream",
     "text": [
      " \"2021-01-25\""
     ]
    },
    {
     "name": "stdout",
     "output_type": "stream",
     "text": [
      "\n"
     ]
    },
    {
     "name": "stdout",
     "output_type": "stream",
     "text": [
      " [196]"
     ]
    },
    {
     "name": "stdout",
     "output_type": "stream",
     "text": [
      " \"2021-01-25\""
     ]
    },
    {
     "name": "stdout",
     "output_type": "stream",
     "text": [
      " \"2021-01-25\""
     ]
    },
    {
     "name": "stdout",
     "output_type": "stream",
     "text": [
      " \"2021-01-25\""
     ]
    },
    {
     "name": "stdout",
     "output_type": "stream",
     "text": [
      " \"2021-01-25\""
     ]
    },
    {
     "name": "stdout",
     "output_type": "stream",
     "text": [
      " \"2021-01-25\""
     ]
    },
    {
     "name": "stdout",
     "output_type": "stream",
     "text": [
      "\n"
     ]
    },
    {
     "name": "stdout",
     "output_type": "stream",
     "text": [
      " [201]"
     ]
    },
    {
     "name": "stdout",
     "output_type": "stream",
     "text": [
      " \"2021-01-25\""
     ]
    },
    {
     "name": "stdout",
     "output_type": "stream",
     "text": [
      " \"2021-01-25\""
     ]
    },
    {
     "name": "stdout",
     "output_type": "stream",
     "text": [
      " \"2021-01-25\""
     ]
    },
    {
     "name": "stdout",
     "output_type": "stream",
     "text": [
      " \"2021-01-25\""
     ]
    },
    {
     "name": "stdout",
     "output_type": "stream",
     "text": [
      " \"2021-01-25\""
     ]
    },
    {
     "name": "stdout",
     "output_type": "stream",
     "text": [
      "\n"
     ]
    },
    {
     "name": "stdout",
     "output_type": "stream",
     "text": [
      " [206]"
     ]
    },
    {
     "name": "stdout",
     "output_type": "stream",
     "text": [
      " \"2021-01-25\""
     ]
    },
    {
     "name": "stdout",
     "output_type": "stream",
     "text": [
      " \"2021-01-25\""
     ]
    },
    {
     "name": "stdout",
     "output_type": "stream",
     "text": [
      " \"2021-02-01\""
     ]
    },
    {
     "name": "stdout",
     "output_type": "stream",
     "text": [
      " \"2021-02-01\""
     ]
    },
    {
     "name": "stdout",
     "output_type": "stream",
     "text": [
      " \"2021-02-01\""
     ]
    },
    {
     "name": "stdout",
     "output_type": "stream",
     "text": [
      "\n"
     ]
    },
    {
     "name": "stdout",
     "output_type": "stream",
     "text": [
      " [211]"
     ]
    },
    {
     "name": "stdout",
     "output_type": "stream",
     "text": [
      " \"2021-02-01\""
     ]
    },
    {
     "name": "stdout",
     "output_type": "stream",
     "text": [
      " \"2021-02-01\""
     ]
    },
    {
     "name": "stdout",
     "output_type": "stream",
     "text": [
      " \"2021-02-01\""
     ]
    },
    {
     "name": "stdout",
     "output_type": "stream",
     "text": [
      " \"2021-02-01\""
     ]
    },
    {
     "name": "stdout",
     "output_type": "stream",
     "text": [
      " \"2021-02-01\""
     ]
    },
    {
     "name": "stdout",
     "output_type": "stream",
     "text": [
      "\n"
     ]
    },
    {
     "name": "stdout",
     "output_type": "stream",
     "text": [
      " [216]"
     ]
    },
    {
     "name": "stdout",
     "output_type": "stream",
     "text": [
      " \"2021-02-01\""
     ]
    },
    {
     "name": "stdout",
     "output_type": "stream",
     "text": [
      " \"2021-02-01\""
     ]
    },
    {
     "name": "stdout",
     "output_type": "stream",
     "text": [
      " \"2021-02-01\""
     ]
    },
    {
     "name": "stdout",
     "output_type": "stream",
     "text": [
      " \"2021-02-01\""
     ]
    },
    {
     "name": "stdout",
     "output_type": "stream",
     "text": [
      " \"2021-02-01\""
     ]
    },
    {
     "name": "stdout",
     "output_type": "stream",
     "text": [
      "\n"
     ]
    },
    {
     "name": "stdout",
     "output_type": "stream",
     "text": [
      " [221]"
     ]
    },
    {
     "name": "stdout",
     "output_type": "stream",
     "text": [
      " \"2021-02-01\""
     ]
    },
    {
     "name": "stdout",
     "output_type": "stream",
     "text": [
      " \"2021-02-01\""
     ]
    },
    {
     "name": "stdout",
     "output_type": "stream",
     "text": [
      " \"2021-02-01\""
     ]
    },
    {
     "name": "stdout",
     "output_type": "stream",
     "text": [
      " \"2021-02-01\""
     ]
    },
    {
     "name": "stdout",
     "output_type": "stream",
     "text": [
      " \"2021-02-01\""
     ]
    },
    {
     "name": "stdout",
     "output_type": "stream",
     "text": [
      "\n"
     ]
    },
    {
     "name": "stdout",
     "output_type": "stream",
     "text": [
      " [226]"
     ]
    },
    {
     "name": "stdout",
     "output_type": "stream",
     "text": [
      " \"2021-02-01\""
     ]
    },
    {
     "name": "stdout",
     "output_type": "stream",
     "text": [
      " \"2021-02-01\""
     ]
    },
    {
     "name": "stdout",
     "output_type": "stream",
     "text": [
      " \"2021-02-01\""
     ]
    },
    {
     "name": "stdout",
     "output_type": "stream",
     "text": [
      " \"2021-02-01\""
     ]
    },
    {
     "name": "stdout",
     "output_type": "stream",
     "text": [
      " \"2021-02-01\""
     ]
    },
    {
     "name": "stdout",
     "output_type": "stream",
     "text": [
      "\n"
     ]
    },
    {
     "name": "stdout",
     "output_type": "stream",
     "text": [
      " [231]"
     ]
    },
    {
     "name": "stdout",
     "output_type": "stream",
     "text": [
      " \"2021-02-01\""
     ]
    },
    {
     "name": "stdout",
     "output_type": "stream",
     "text": [
      " \"2021-02-01\""
     ]
    },
    {
     "name": "stdout",
     "output_type": "stream",
     "text": [
      " \"2021-02-01\""
     ]
    },
    {
     "name": "stdout",
     "output_type": "stream",
     "text": [
      " \"2021-02-01\""
     ]
    },
    {
     "name": "stdout",
     "output_type": "stream",
     "text": [
      " \"2021-02-01\""
     ]
    },
    {
     "name": "stdout",
     "output_type": "stream",
     "text": [
      "\n"
     ]
    },
    {
     "name": "stdout",
     "output_type": "stream",
     "text": [
      " [236]"
     ]
    },
    {
     "name": "stdout",
     "output_type": "stream",
     "text": [
      " \"2021-02-01\""
     ]
    },
    {
     "name": "stdout",
     "output_type": "stream",
     "text": [
      " \"2021-02-01\""
     ]
    },
    {
     "name": "stdout",
     "output_type": "stream",
     "text": [
      " \"2021-02-01\""
     ]
    },
    {
     "name": "stdout",
     "output_type": "stream",
     "text": [
      " \"2021-02-01\""
     ]
    },
    {
     "name": "stdout",
     "output_type": "stream",
     "text": [
      " \"2021-02-01\""
     ]
    },
    {
     "name": "stdout",
     "output_type": "stream",
     "text": [
      "\n"
     ]
    },
    {
     "name": "stdout",
     "output_type": "stream",
     "text": [
      " [241]"
     ]
    },
    {
     "name": "stdout",
     "output_type": "stream",
     "text": [
      " \"2021-02-01\""
     ]
    },
    {
     "name": "stdout",
     "output_type": "stream",
     "text": [
      " \"2021-02-01\""
     ]
    },
    {
     "name": "stdout",
     "output_type": "stream",
     "text": [
      " \"2021-02-01\""
     ]
    },
    {
     "name": "stdout",
     "output_type": "stream",
     "text": [
      " \"2021-02-01\""
     ]
    },
    {
     "name": "stdout",
     "output_type": "stream",
     "text": [
      " \"2021-02-01\""
     ]
    },
    {
     "name": "stdout",
     "output_type": "stream",
     "text": [
      "\n"
     ]
    },
    {
     "name": "stdout",
     "output_type": "stream",
     "text": [
      " [246]"
     ]
    },
    {
     "name": "stdout",
     "output_type": "stream",
     "text": [
      " \"2021-02-01\""
     ]
    },
    {
     "name": "stdout",
     "output_type": "stream",
     "text": [
      " \"2021-02-01\""
     ]
    },
    {
     "name": "stdout",
     "output_type": "stream",
     "text": [
      " \"2021-02-01\""
     ]
    },
    {
     "name": "stdout",
     "output_type": "stream",
     "text": [
      " \"2021-02-01\""
     ]
    },
    {
     "name": "stdout",
     "output_type": "stream",
     "text": [
      " \"2021-02-01\""
     ]
    },
    {
     "name": "stdout",
     "output_type": "stream",
     "text": [
      "\n"
     ]
    },
    {
     "name": "stdout",
     "output_type": "stream",
     "text": [
      " [251]"
     ]
    },
    {
     "name": "stdout",
     "output_type": "stream",
     "text": [
      " \"2021-02-01\""
     ]
    },
    {
     "name": "stdout",
     "output_type": "stream",
     "text": [
      " \"2021-02-01\""
     ]
    },
    {
     "name": "stdout",
     "output_type": "stream",
     "text": [
      " \"2021-02-01\""
     ]
    },
    {
     "name": "stdout",
     "output_type": "stream",
     "text": [
      " \"2021-02-01\""
     ]
    },
    {
     "name": "stdout",
     "output_type": "stream",
     "text": [
      " \"2021-02-01\""
     ]
    },
    {
     "name": "stdout",
     "output_type": "stream",
     "text": [
      "\n"
     ]
    },
    {
     "name": "stdout",
     "output_type": "stream",
     "text": [
      " [256]"
     ]
    },
    {
     "name": "stdout",
     "output_type": "stream",
     "text": [
      " \"2021-02-01\""
     ]
    },
    {
     "name": "stdout",
     "output_type": "stream",
     "text": [
      " \"2021-02-01\""
     ]
    },
    {
     "name": "stdout",
     "output_type": "stream",
     "text": [
      " \"2021-02-01\""
     ]
    },
    {
     "name": "stdout",
     "output_type": "stream",
     "text": [
      " \"2021-02-01\""
     ]
    },
    {
     "name": "stdout",
     "output_type": "stream",
     "text": [
      " \"2021-02-01\""
     ]
    },
    {
     "name": "stdout",
     "output_type": "stream",
     "text": [
      "\n"
     ]
    },
    {
     "name": "stdout",
     "output_type": "stream",
     "text": [
      " [261]"
     ]
    },
    {
     "name": "stdout",
     "output_type": "stream",
     "text": [
      " \"2021-02-01\""
     ]
    },
    {
     "name": "stdout",
     "output_type": "stream",
     "text": [
      " \"2021-02-01\""
     ]
    },
    {
     "name": "stdout",
     "output_type": "stream",
     "text": [
      " \"2021-02-01\""
     ]
    },
    {
     "name": "stdout",
     "output_type": "stream",
     "text": [
      " \"2021-02-01\""
     ]
    },
    {
     "name": "stdout",
     "output_type": "stream",
     "text": [
      " \"2021-02-01\""
     ]
    },
    {
     "name": "stdout",
     "output_type": "stream",
     "text": [
      "\n"
     ]
    },
    {
     "name": "stdout",
     "output_type": "stream",
     "text": [
      " [266]"
     ]
    },
    {
     "name": "stdout",
     "output_type": "stream",
     "text": [
      " \"2021-02-01\""
     ]
    },
    {
     "name": "stdout",
     "output_type": "stream",
     "text": [
      " \"2021-02-01\""
     ]
    },
    {
     "name": "stdout",
     "output_type": "stream",
     "text": [
      " \"2021-02-01\""
     ]
    },
    {
     "name": "stdout",
     "output_type": "stream",
     "text": [
      " \"2021-02-01\""
     ]
    },
    {
     "name": "stdout",
     "output_type": "stream",
     "text": [
      " \"2021-02-01\""
     ]
    },
    {
     "name": "stdout",
     "output_type": "stream",
     "text": [
      "\n"
     ]
    },
    {
     "name": "stdout",
     "output_type": "stream",
     "text": [
      " [271]"
     ]
    },
    {
     "name": "stdout",
     "output_type": "stream",
     "text": [
      " \"2021-02-01\""
     ]
    },
    {
     "name": "stdout",
     "output_type": "stream",
     "text": [
      " \"2021-02-01\""
     ]
    },
    {
     "name": "stdout",
     "output_type": "stream",
     "text": [
      " \"2021-02-01\""
     ]
    },
    {
     "name": "stdout",
     "output_type": "stream",
     "text": [
      " \"2021-02-01\""
     ]
    },
    {
     "name": "stdout",
     "output_type": "stream",
     "text": [
      " \"2021-02-01\""
     ]
    },
    {
     "name": "stdout",
     "output_type": "stream",
     "text": [
      "\n"
     ]
    },
    {
     "name": "stdout",
     "output_type": "stream",
     "text": [
      " [276]"
     ]
    },
    {
     "name": "stdout",
     "output_type": "stream",
     "text": [
      " \"2021-02-01\""
     ]
    },
    {
     "name": "stdout",
     "output_type": "stream",
     "text": [
      " \"2021-02-08\""
     ]
    },
    {
     "name": "stdout",
     "output_type": "stream",
     "text": [
      " \"2021-02-08\""
     ]
    },
    {
     "name": "stdout",
     "output_type": "stream",
     "text": [
      " \"2021-02-08\""
     ]
    },
    {
     "name": "stdout",
     "output_type": "stream",
     "text": [
      " \"2021-02-08\""
     ]
    },
    {
     "name": "stdout",
     "output_type": "stream",
     "text": [
      "\n"
     ]
    },
    {
     "name": "stdout",
     "output_type": "stream",
     "text": [
      " [281]"
     ]
    },
    {
     "name": "stdout",
     "output_type": "stream",
     "text": [
      " \"2021-02-08\""
     ]
    },
    {
     "name": "stdout",
     "output_type": "stream",
     "text": [
      " \"2021-02-08\""
     ]
    },
    {
     "name": "stdout",
     "output_type": "stream",
     "text": [
      " \"2021-02-08\""
     ]
    },
    {
     "name": "stdout",
     "output_type": "stream",
     "text": [
      " \"2021-02-08\""
     ]
    },
    {
     "name": "stdout",
     "output_type": "stream",
     "text": [
      " \"2021-02-08\""
     ]
    },
    {
     "name": "stdout",
     "output_type": "stream",
     "text": [
      "\n"
     ]
    },
    {
     "name": "stdout",
     "output_type": "stream",
     "text": [
      " [286]"
     ]
    },
    {
     "name": "stdout",
     "output_type": "stream",
     "text": [
      " \"2021-02-08\""
     ]
    },
    {
     "name": "stdout",
     "output_type": "stream",
     "text": [
      " \"2021-02-08\""
     ]
    },
    {
     "name": "stdout",
     "output_type": "stream",
     "text": [
      " \"2021-02-08\""
     ]
    },
    {
     "name": "stdout",
     "output_type": "stream",
     "text": [
      " \"2021-02-08\""
     ]
    },
    {
     "name": "stdout",
     "output_type": "stream",
     "text": [
      " \"2021-02-08\""
     ]
    },
    {
     "name": "stdout",
     "output_type": "stream",
     "text": [
      "\n"
     ]
    },
    {
     "name": "stdout",
     "output_type": "stream",
     "text": [
      " [291]"
     ]
    },
    {
     "name": "stdout",
     "output_type": "stream",
     "text": [
      " \"2021-02-08\""
     ]
    },
    {
     "name": "stdout",
     "output_type": "stream",
     "text": [
      " \"2021-02-08\""
     ]
    },
    {
     "name": "stdout",
     "output_type": "stream",
     "text": [
      " \"2021-02-08\""
     ]
    },
    {
     "name": "stdout",
     "output_type": "stream",
     "text": [
      " \"2021-02-08\""
     ]
    },
    {
     "name": "stdout",
     "output_type": "stream",
     "text": [
      " \"2021-02-08\""
     ]
    },
    {
     "name": "stdout",
     "output_type": "stream",
     "text": [
      "\n"
     ]
    },
    {
     "name": "stdout",
     "output_type": "stream",
     "text": [
      " [296]"
     ]
    },
    {
     "name": "stdout",
     "output_type": "stream",
     "text": [
      " \"2021-02-08\""
     ]
    },
    {
     "name": "stdout",
     "output_type": "stream",
     "text": [
      " \"2021-02-08\""
     ]
    },
    {
     "name": "stdout",
     "output_type": "stream",
     "text": [
      " \"2021-02-08\""
     ]
    },
    {
     "name": "stdout",
     "output_type": "stream",
     "text": [
      " \"2021-02-08\""
     ]
    },
    {
     "name": "stdout",
     "output_type": "stream",
     "text": [
      " \"2021-02-08\""
     ]
    },
    {
     "name": "stdout",
     "output_type": "stream",
     "text": [
      "\n"
     ]
    },
    {
     "name": "stdout",
     "output_type": "stream",
     "text": [
      " [301]"
     ]
    },
    {
     "name": "stdout",
     "output_type": "stream",
     "text": [
      " \"2021-02-08\""
     ]
    },
    {
     "name": "stdout",
     "output_type": "stream",
     "text": [
      " \"2021-02-08\""
     ]
    },
    {
     "name": "stdout",
     "output_type": "stream",
     "text": [
      " \"2021-02-08\""
     ]
    },
    {
     "name": "stdout",
     "output_type": "stream",
     "text": [
      " \"2021-02-08\""
     ]
    },
    {
     "name": "stdout",
     "output_type": "stream",
     "text": [
      " \"2021-02-08\""
     ]
    },
    {
     "name": "stdout",
     "output_type": "stream",
     "text": [
      "\n"
     ]
    },
    {
     "name": "stdout",
     "output_type": "stream",
     "text": [
      " [306]"
     ]
    },
    {
     "name": "stdout",
     "output_type": "stream",
     "text": [
      " \"2021-02-08\""
     ]
    },
    {
     "name": "stdout",
     "output_type": "stream",
     "text": [
      " \"2021-02-08\""
     ]
    },
    {
     "name": "stdout",
     "output_type": "stream",
     "text": [
      " \"2021-02-08\""
     ]
    },
    {
     "name": "stdout",
     "output_type": "stream",
     "text": [
      " \"2021-02-08\""
     ]
    },
    {
     "name": "stdout",
     "output_type": "stream",
     "text": [
      " \"2021-02-08\""
     ]
    },
    {
     "name": "stdout",
     "output_type": "stream",
     "text": [
      "\n"
     ]
    },
    {
     "name": "stdout",
     "output_type": "stream",
     "text": [
      " [311]"
     ]
    },
    {
     "name": "stdout",
     "output_type": "stream",
     "text": [
      " \"2021-02-08\""
     ]
    },
    {
     "name": "stdout",
     "output_type": "stream",
     "text": [
      " \"2021-02-08\""
     ]
    },
    {
     "name": "stdout",
     "output_type": "stream",
     "text": [
      " \"2021-02-08\""
     ]
    },
    {
     "name": "stdout",
     "output_type": "stream",
     "text": [
      " \"2021-02-08\""
     ]
    },
    {
     "name": "stdout",
     "output_type": "stream",
     "text": [
      " \"2021-02-08\""
     ]
    },
    {
     "name": "stdout",
     "output_type": "stream",
     "text": [
      "\n"
     ]
    },
    {
     "name": "stdout",
     "output_type": "stream",
     "text": [
      " [316]"
     ]
    },
    {
     "name": "stdout",
     "output_type": "stream",
     "text": [
      " \"2021-02-08\""
     ]
    },
    {
     "name": "stdout",
     "output_type": "stream",
     "text": [
      " \"2021-02-08\""
     ]
    },
    {
     "name": "stdout",
     "output_type": "stream",
     "text": [
      " \"2021-02-08\""
     ]
    },
    {
     "name": "stdout",
     "output_type": "stream",
     "text": [
      " \"2021-02-08\""
     ]
    },
    {
     "name": "stdout",
     "output_type": "stream",
     "text": [
      " \"2021-02-08\""
     ]
    },
    {
     "name": "stdout",
     "output_type": "stream",
     "text": [
      "\n"
     ]
    },
    {
     "name": "stdout",
     "output_type": "stream",
     "text": [
      " [321]"
     ]
    },
    {
     "name": "stdout",
     "output_type": "stream",
     "text": [
      " \"2021-02-08\""
     ]
    },
    {
     "name": "stdout",
     "output_type": "stream",
     "text": [
      " \"2021-02-08\""
     ]
    },
    {
     "name": "stdout",
     "output_type": "stream",
     "text": [
      " \"2021-02-08\""
     ]
    },
    {
     "name": "stdout",
     "output_type": "stream",
     "text": [
      " \"2021-02-08\""
     ]
    },
    {
     "name": "stdout",
     "output_type": "stream",
     "text": [
      " \"2021-02-08\""
     ]
    },
    {
     "name": "stdout",
     "output_type": "stream",
     "text": [
      "\n"
     ]
    },
    {
     "name": "stdout",
     "output_type": "stream",
     "text": [
      " [326]"
     ]
    },
    {
     "name": "stdout",
     "output_type": "stream",
     "text": [
      " \"2021-02-08\""
     ]
    },
    {
     "name": "stdout",
     "output_type": "stream",
     "text": [
      " \"2021-02-08\""
     ]
    },
    {
     "name": "stdout",
     "output_type": "stream",
     "text": [
      " \"2021-02-08\""
     ]
    },
    {
     "name": "stdout",
     "output_type": "stream",
     "text": [
      " \"2021-02-08\""
     ]
    },
    {
     "name": "stdout",
     "output_type": "stream",
     "text": [
      " \"2021-02-08\""
     ]
    },
    {
     "name": "stdout",
     "output_type": "stream",
     "text": [
      "\n"
     ]
    },
    {
     "name": "stdout",
     "output_type": "stream",
     "text": [
      " [331]"
     ]
    },
    {
     "name": "stdout",
     "output_type": "stream",
     "text": [
      " \"2021-02-08\""
     ]
    },
    {
     "name": "stdout",
     "output_type": "stream",
     "text": [
      " \"2021-02-08\""
     ]
    },
    {
     "name": "stdout",
     "output_type": "stream",
     "text": [
      " \"2021-02-08\""
     ]
    },
    {
     "name": "stdout",
     "output_type": "stream",
     "text": [
      " \"2021-02-08\""
     ]
    },
    {
     "name": "stdout",
     "output_type": "stream",
     "text": [
      " \"2021-02-08\""
     ]
    },
    {
     "name": "stdout",
     "output_type": "stream",
     "text": [
      "\n"
     ]
    },
    {
     "name": "stdout",
     "output_type": "stream",
     "text": [
      " [336]"
     ]
    },
    {
     "name": "stdout",
     "output_type": "stream",
     "text": [
      " \"2021-02-08\""
     ]
    },
    {
     "name": "stdout",
     "output_type": "stream",
     "text": [
      " \"2021-02-08\""
     ]
    },
    {
     "name": "stdout",
     "output_type": "stream",
     "text": [
      " \"2021-02-08\""
     ]
    },
    {
     "name": "stdout",
     "output_type": "stream",
     "text": [
      " \"2021-02-08\""
     ]
    },
    {
     "name": "stdout",
     "output_type": "stream",
     "text": [
      " \"2021-02-08\""
     ]
    },
    {
     "name": "stdout",
     "output_type": "stream",
     "text": [
      "\n"
     ]
    },
    {
     "name": "stdout",
     "output_type": "stream",
     "text": [
      " [341]"
     ]
    },
    {
     "name": "stdout",
     "output_type": "stream",
     "text": [
      " \"2021-02-08\""
     ]
    },
    {
     "name": "stdout",
     "output_type": "stream",
     "text": [
      " \"2021-02-08\""
     ]
    },
    {
     "name": "stdout",
     "output_type": "stream",
     "text": [
      " \"2021-02-08\""
     ]
    },
    {
     "name": "stdout",
     "output_type": "stream",
     "text": [
      " \"2021-02-08\""
     ]
    },
    {
     "name": "stdout",
     "output_type": "stream",
     "text": [
      " \"2021-02-08\""
     ]
    },
    {
     "name": "stdout",
     "output_type": "stream",
     "text": [
      "\n"
     ]
    },
    {
     "name": "stdout",
     "output_type": "stream",
     "text": [
      " [346]"
     ]
    },
    {
     "name": "stdout",
     "output_type": "stream",
     "text": [
      " \"2021-02-15\""
     ]
    },
    {
     "name": "stdout",
     "output_type": "stream",
     "text": [
      " \"2021-02-15\""
     ]
    },
    {
     "name": "stdout",
     "output_type": "stream",
     "text": [
      " \"2021-02-15\""
     ]
    },
    {
     "name": "stdout",
     "output_type": "stream",
     "text": [
      " \"2021-02-15\""
     ]
    },
    {
     "name": "stdout",
     "output_type": "stream",
     "text": [
      " \"2021-02-15\""
     ]
    },
    {
     "name": "stdout",
     "output_type": "stream",
     "text": [
      "\n"
     ]
    },
    {
     "name": "stdout",
     "output_type": "stream",
     "text": [
      " [351]"
     ]
    },
    {
     "name": "stdout",
     "output_type": "stream",
     "text": [
      " \"2021-02-15\""
     ]
    },
    {
     "name": "stdout",
     "output_type": "stream",
     "text": [
      " \"2021-02-15\""
     ]
    },
    {
     "name": "stdout",
     "output_type": "stream",
     "text": [
      " \"2021-02-15\""
     ]
    },
    {
     "name": "stdout",
     "output_type": "stream",
     "text": [
      " \"2021-02-15\""
     ]
    },
    {
     "name": "stdout",
     "output_type": "stream",
     "text": [
      " \"2021-02-15\""
     ]
    },
    {
     "name": "stdout",
     "output_type": "stream",
     "text": [
      "\n"
     ]
    },
    {
     "name": "stdout",
     "output_type": "stream",
     "text": [
      " [356]"
     ]
    },
    {
     "name": "stdout",
     "output_type": "stream",
     "text": [
      " \"2021-02-15\""
     ]
    },
    {
     "name": "stdout",
     "output_type": "stream",
     "text": [
      " \"2021-02-15\""
     ]
    },
    {
     "name": "stdout",
     "output_type": "stream",
     "text": [
      " \"2021-02-15\""
     ]
    },
    {
     "name": "stdout",
     "output_type": "stream",
     "text": [
      " \"2021-02-15\""
     ]
    },
    {
     "name": "stdout",
     "output_type": "stream",
     "text": [
      " \"2021-02-15\""
     ]
    },
    {
     "name": "stdout",
     "output_type": "stream",
     "text": [
      "\n"
     ]
    },
    {
     "name": "stdout",
     "output_type": "stream",
     "text": [
      " [361]"
     ]
    },
    {
     "name": "stdout",
     "output_type": "stream",
     "text": [
      " \"2021-02-15\""
     ]
    },
    {
     "name": "stdout",
     "output_type": "stream",
     "text": [
      " \"2021-02-15\""
     ]
    },
    {
     "name": "stdout",
     "output_type": "stream",
     "text": [
      " \"2021-02-15\""
     ]
    },
    {
     "name": "stdout",
     "output_type": "stream",
     "text": [
      " \"2021-02-15\""
     ]
    },
    {
     "name": "stdout",
     "output_type": "stream",
     "text": [
      " \"2021-02-15\""
     ]
    },
    {
     "name": "stdout",
     "output_type": "stream",
     "text": [
      "\n"
     ]
    },
    {
     "name": "stdout",
     "output_type": "stream",
     "text": [
      " [366]"
     ]
    },
    {
     "name": "stdout",
     "output_type": "stream",
     "text": [
      " \"2021-02-15\""
     ]
    },
    {
     "name": "stdout",
     "output_type": "stream",
     "text": [
      " \"2021-02-15\""
     ]
    },
    {
     "name": "stdout",
     "output_type": "stream",
     "text": [
      " \"2021-02-15\""
     ]
    },
    {
     "name": "stdout",
     "output_type": "stream",
     "text": [
      " \"2021-02-15\""
     ]
    },
    {
     "name": "stdout",
     "output_type": "stream",
     "text": [
      " \"2021-02-15\""
     ]
    },
    {
     "name": "stdout",
     "output_type": "stream",
     "text": [
      "\n"
     ]
    },
    {
     "name": "stdout",
     "output_type": "stream",
     "text": [
      " [371]"
     ]
    },
    {
     "name": "stdout",
     "output_type": "stream",
     "text": [
      " \"2021-02-15\""
     ]
    },
    {
     "name": "stdout",
     "output_type": "stream",
     "text": [
      " \"2021-02-15\""
     ]
    },
    {
     "name": "stdout",
     "output_type": "stream",
     "text": [
      " \"2021-02-15\""
     ]
    },
    {
     "name": "stdout",
     "output_type": "stream",
     "text": [
      " \"2021-02-15\""
     ]
    },
    {
     "name": "stdout",
     "output_type": "stream",
     "text": [
      " \"2021-02-15\""
     ]
    },
    {
     "name": "stdout",
     "output_type": "stream",
     "text": [
      "\n"
     ]
    },
    {
     "name": "stdout",
     "output_type": "stream",
     "text": [
      " [376]"
     ]
    },
    {
     "name": "stdout",
     "output_type": "stream",
     "text": [
      " \"2021-02-15\""
     ]
    },
    {
     "name": "stdout",
     "output_type": "stream",
     "text": [
      " \"2021-02-15\""
     ]
    },
    {
     "name": "stdout",
     "output_type": "stream",
     "text": [
      " \"2021-02-15\""
     ]
    },
    {
     "name": "stdout",
     "output_type": "stream",
     "text": [
      " \"2021-02-15\""
     ]
    },
    {
     "name": "stdout",
     "output_type": "stream",
     "text": [
      " \"2021-02-15\""
     ]
    },
    {
     "name": "stdout",
     "output_type": "stream",
     "text": [
      "\n"
     ]
    },
    {
     "name": "stdout",
     "output_type": "stream",
     "text": [
      " [381]"
     ]
    },
    {
     "name": "stdout",
     "output_type": "stream",
     "text": [
      " \"2021-02-15\""
     ]
    },
    {
     "name": "stdout",
     "output_type": "stream",
     "text": [
      " \"2021-02-15\""
     ]
    },
    {
     "name": "stdout",
     "output_type": "stream",
     "text": [
      " \"2021-02-15\""
     ]
    },
    {
     "name": "stdout",
     "output_type": "stream",
     "text": [
      " \"2021-02-15\""
     ]
    },
    {
     "name": "stdout",
     "output_type": "stream",
     "text": [
      " \"2021-02-15\""
     ]
    },
    {
     "name": "stdout",
     "output_type": "stream",
     "text": [
      "\n"
     ]
    },
    {
     "name": "stdout",
     "output_type": "stream",
     "text": [
      " [386]"
     ]
    },
    {
     "name": "stdout",
     "output_type": "stream",
     "text": [
      " \"2021-02-15\""
     ]
    },
    {
     "name": "stdout",
     "output_type": "stream",
     "text": [
      " \"2021-02-15\""
     ]
    },
    {
     "name": "stdout",
     "output_type": "stream",
     "text": [
      " \"2021-02-15\""
     ]
    },
    {
     "name": "stdout",
     "output_type": "stream",
     "text": [
      " \"2021-02-15\""
     ]
    },
    {
     "name": "stdout",
     "output_type": "stream",
     "text": [
      " \"2021-02-15\""
     ]
    },
    {
     "name": "stdout",
     "output_type": "stream",
     "text": [
      "\n"
     ]
    },
    {
     "name": "stdout",
     "output_type": "stream",
     "text": [
      " [391]"
     ]
    },
    {
     "name": "stdout",
     "output_type": "stream",
     "text": [
      " \"2021-02-15\""
     ]
    },
    {
     "name": "stdout",
     "output_type": "stream",
     "text": [
      " \"2021-02-15\""
     ]
    },
    {
     "name": "stdout",
     "output_type": "stream",
     "text": [
      " \"2021-02-15\""
     ]
    },
    {
     "name": "stdout",
     "output_type": "stream",
     "text": [
      " \"2021-02-15\""
     ]
    },
    {
     "name": "stdout",
     "output_type": "stream",
     "text": [
      " \"2021-02-15\""
     ]
    },
    {
     "name": "stdout",
     "output_type": "stream",
     "text": [
      "\n"
     ]
    },
    {
     "name": "stdout",
     "output_type": "stream",
     "text": [
      " [396]"
     ]
    },
    {
     "name": "stdout",
     "output_type": "stream",
     "text": [
      " \"2021-02-15\""
     ]
    },
    {
     "name": "stdout",
     "output_type": "stream",
     "text": [
      " \"2021-02-15\""
     ]
    },
    {
     "name": "stdout",
     "output_type": "stream",
     "text": [
      " \"2021-02-15\""
     ]
    },
    {
     "name": "stdout",
     "output_type": "stream",
     "text": [
      " \"2021-02-15\""
     ]
    },
    {
     "name": "stdout",
     "output_type": "stream",
     "text": [
      " \"2021-02-15\""
     ]
    },
    {
     "name": "stdout",
     "output_type": "stream",
     "text": [
      "\n"
     ]
    },
    {
     "name": "stdout",
     "output_type": "stream",
     "text": [
      " [401]"
     ]
    },
    {
     "name": "stdout",
     "output_type": "stream",
     "text": [
      " \"2021-02-15\""
     ]
    },
    {
     "name": "stdout",
     "output_type": "stream",
     "text": [
      " \"2021-02-15\""
     ]
    },
    {
     "name": "stdout",
     "output_type": "stream",
     "text": [
      " \"2021-02-15\""
     ]
    },
    {
     "name": "stdout",
     "output_type": "stream",
     "text": [
      " \"2021-02-15\""
     ]
    },
    {
     "name": "stdout",
     "output_type": "stream",
     "text": [
      " \"2021-02-15\""
     ]
    },
    {
     "name": "stdout",
     "output_type": "stream",
     "text": [
      "\n"
     ]
    },
    {
     "name": "stdout",
     "output_type": "stream",
     "text": [
      " [406]"
     ]
    },
    {
     "name": "stdout",
     "output_type": "stream",
     "text": [
      " \"2021-02-15\""
     ]
    },
    {
     "name": "stdout",
     "output_type": "stream",
     "text": [
      " \"2021-02-15\""
     ]
    },
    {
     "name": "stdout",
     "output_type": "stream",
     "text": [
      " \"2021-02-15\""
     ]
    },
    {
     "name": "stdout",
     "output_type": "stream",
     "text": [
      " \"2021-02-15\""
     ]
    },
    {
     "name": "stdout",
     "output_type": "stream",
     "text": [
      " \"2021-02-15\""
     ]
    },
    {
     "name": "stdout",
     "output_type": "stream",
     "text": [
      "\n"
     ]
    },
    {
     "name": "stdout",
     "output_type": "stream",
     "text": [
      " [411]"
     ]
    },
    {
     "name": "stdout",
     "output_type": "stream",
     "text": [
      " \"2021-02-15\""
     ]
    },
    {
     "name": "stdout",
     "output_type": "stream",
     "text": [
      " \"2021-02-15\""
     ]
    },
    {
     "name": "stdout",
     "output_type": "stream",
     "text": [
      " \"2021-02-15\""
     ]
    },
    {
     "name": "stdout",
     "output_type": "stream",
     "text": [
      " \"2021-02-15\""
     ]
    },
    {
     "name": "stdout",
     "output_type": "stream",
     "text": [
      " \"2021-02-22\""
     ]
    },
    {
     "name": "stdout",
     "output_type": "stream",
     "text": [
      "\n"
     ]
    },
    {
     "name": "stdout",
     "output_type": "stream",
     "text": [
      " [416]"
     ]
    },
    {
     "name": "stdout",
     "output_type": "stream",
     "text": [
      " \"2021-02-22\""
     ]
    },
    {
     "name": "stdout",
     "output_type": "stream",
     "text": [
      " \"2021-02-22\""
     ]
    },
    {
     "name": "stdout",
     "output_type": "stream",
     "text": [
      " \"2021-02-22\""
     ]
    },
    {
     "name": "stdout",
     "output_type": "stream",
     "text": [
      " \"2021-02-22\""
     ]
    },
    {
     "name": "stdout",
     "output_type": "stream",
     "text": [
      " \"2021-02-22\""
     ]
    },
    {
     "name": "stdout",
     "output_type": "stream",
     "text": [
      "\n"
     ]
    },
    {
     "name": "stdout",
     "output_type": "stream",
     "text": [
      " [421]"
     ]
    },
    {
     "name": "stdout",
     "output_type": "stream",
     "text": [
      " \"2021-02-22\""
     ]
    },
    {
     "name": "stdout",
     "output_type": "stream",
     "text": [
      " \"2021-02-22\""
     ]
    },
    {
     "name": "stdout",
     "output_type": "stream",
     "text": [
      " \"2021-02-22\""
     ]
    },
    {
     "name": "stdout",
     "output_type": "stream",
     "text": [
      " \"2021-02-22\""
     ]
    },
    {
     "name": "stdout",
     "output_type": "stream",
     "text": [
      " \"2021-02-22\""
     ]
    },
    {
     "name": "stdout",
     "output_type": "stream",
     "text": [
      "\n"
     ]
    },
    {
     "name": "stdout",
     "output_type": "stream",
     "text": [
      " [426]"
     ]
    },
    {
     "name": "stdout",
     "output_type": "stream",
     "text": [
      " \"2021-02-22\""
     ]
    },
    {
     "name": "stdout",
     "output_type": "stream",
     "text": [
      " \"2021-02-22\""
     ]
    },
    {
     "name": "stdout",
     "output_type": "stream",
     "text": [
      " \"2021-02-22\""
     ]
    },
    {
     "name": "stdout",
     "output_type": "stream",
     "text": [
      " \"2021-02-22\""
     ]
    },
    {
     "name": "stdout",
     "output_type": "stream",
     "text": [
      " \"2021-02-22\""
     ]
    },
    {
     "name": "stdout",
     "output_type": "stream",
     "text": [
      "\n"
     ]
    },
    {
     "name": "stdout",
     "output_type": "stream",
     "text": [
      " [431]"
     ]
    },
    {
     "name": "stdout",
     "output_type": "stream",
     "text": [
      " \"2021-02-22\""
     ]
    },
    {
     "name": "stdout",
     "output_type": "stream",
     "text": [
      " \"2021-02-22\""
     ]
    },
    {
     "name": "stdout",
     "output_type": "stream",
     "text": [
      " \"2021-02-22\""
     ]
    },
    {
     "name": "stdout",
     "output_type": "stream",
     "text": [
      " \"2021-02-22\""
     ]
    },
    {
     "name": "stdout",
     "output_type": "stream",
     "text": [
      " \"2021-02-22\""
     ]
    },
    {
     "name": "stdout",
     "output_type": "stream",
     "text": [
      "\n"
     ]
    },
    {
     "name": "stdout",
     "output_type": "stream",
     "text": [
      " [436]"
     ]
    },
    {
     "name": "stdout",
     "output_type": "stream",
     "text": [
      " \"2021-02-22\""
     ]
    },
    {
     "name": "stdout",
     "output_type": "stream",
     "text": [
      " \"2021-02-22\""
     ]
    },
    {
     "name": "stdout",
     "output_type": "stream",
     "text": [
      " \"2021-02-22\""
     ]
    },
    {
     "name": "stdout",
     "output_type": "stream",
     "text": [
      " \"2021-02-22\""
     ]
    },
    {
     "name": "stdout",
     "output_type": "stream",
     "text": [
      " \"2021-02-22\""
     ]
    },
    {
     "name": "stdout",
     "output_type": "stream",
     "text": [
      "\n"
     ]
    },
    {
     "name": "stdout",
     "output_type": "stream",
     "text": [
      " [441]"
     ]
    },
    {
     "name": "stdout",
     "output_type": "stream",
     "text": [
      " \"2021-02-22\""
     ]
    },
    {
     "name": "stdout",
     "output_type": "stream",
     "text": [
      " \"2021-02-22\""
     ]
    },
    {
     "name": "stdout",
     "output_type": "stream",
     "text": [
      " \"2021-02-22\""
     ]
    },
    {
     "name": "stdout",
     "output_type": "stream",
     "text": [
      " \"2021-02-22\""
     ]
    },
    {
     "name": "stdout",
     "output_type": "stream",
     "text": [
      " \"2021-02-22\""
     ]
    },
    {
     "name": "stdout",
     "output_type": "stream",
     "text": [
      "\n"
     ]
    },
    {
     "name": "stdout",
     "output_type": "stream",
     "text": [
      " [446]"
     ]
    },
    {
     "name": "stdout",
     "output_type": "stream",
     "text": [
      " \"2021-02-22\""
     ]
    },
    {
     "name": "stdout",
     "output_type": "stream",
     "text": [
      " \"2021-02-22\""
     ]
    },
    {
     "name": "stdout",
     "output_type": "stream",
     "text": [
      " \"2021-02-22\""
     ]
    },
    {
     "name": "stdout",
     "output_type": "stream",
     "text": [
      " \"2021-02-22\""
     ]
    },
    {
     "name": "stdout",
     "output_type": "stream",
     "text": [
      " \"2021-02-22\""
     ]
    },
    {
     "name": "stdout",
     "output_type": "stream",
     "text": [
      "\n"
     ]
    },
    {
     "name": "stdout",
     "output_type": "stream",
     "text": [
      " [451]"
     ]
    },
    {
     "name": "stdout",
     "output_type": "stream",
     "text": [
      " \"2021-02-22\""
     ]
    },
    {
     "name": "stdout",
     "output_type": "stream",
     "text": [
      " \"2021-02-22\""
     ]
    },
    {
     "name": "stdout",
     "output_type": "stream",
     "text": [
      " \"2021-02-22\""
     ]
    },
    {
     "name": "stdout",
     "output_type": "stream",
     "text": [
      " \"2021-02-22\""
     ]
    },
    {
     "name": "stdout",
     "output_type": "stream",
     "text": [
      " \"2021-02-22\""
     ]
    },
    {
     "name": "stdout",
     "output_type": "stream",
     "text": [
      "\n"
     ]
    },
    {
     "name": "stdout",
     "output_type": "stream",
     "text": [
      " [456]"
     ]
    },
    {
     "name": "stdout",
     "output_type": "stream",
     "text": [
      " \"2021-02-22\""
     ]
    },
    {
     "name": "stdout",
     "output_type": "stream",
     "text": [
      " \"2021-02-22\""
     ]
    },
    {
     "name": "stdout",
     "output_type": "stream",
     "text": [
      " \"2021-02-22\""
     ]
    },
    {
     "name": "stdout",
     "output_type": "stream",
     "text": [
      " \"2021-02-22\""
     ]
    },
    {
     "name": "stdout",
     "output_type": "stream",
     "text": [
      " \"2021-02-22\""
     ]
    },
    {
     "name": "stdout",
     "output_type": "stream",
     "text": [
      "\n"
     ]
    },
    {
     "name": "stdout",
     "output_type": "stream",
     "text": [
      " [461]"
     ]
    },
    {
     "name": "stdout",
     "output_type": "stream",
     "text": [
      " \"2021-02-22\""
     ]
    },
    {
     "name": "stdout",
     "output_type": "stream",
     "text": [
      " \"2021-02-22\""
     ]
    },
    {
     "name": "stdout",
     "output_type": "stream",
     "text": [
      " \"2021-02-22\""
     ]
    },
    {
     "name": "stdout",
     "output_type": "stream",
     "text": [
      " \"2021-02-22\""
     ]
    },
    {
     "name": "stdout",
     "output_type": "stream",
     "text": [
      " \"2021-02-22\""
     ]
    },
    {
     "name": "stdout",
     "output_type": "stream",
     "text": [
      "\n"
     ]
    },
    {
     "name": "stdout",
     "output_type": "stream",
     "text": [
      " [466]"
     ]
    },
    {
     "name": "stdout",
     "output_type": "stream",
     "text": [
      " \"2021-02-22\""
     ]
    },
    {
     "name": "stdout",
     "output_type": "stream",
     "text": [
      " \"2021-02-22\""
     ]
    },
    {
     "name": "stdout",
     "output_type": "stream",
     "text": [
      " \"2021-02-22\""
     ]
    },
    {
     "name": "stdout",
     "output_type": "stream",
     "text": [
      " \"2021-02-22\""
     ]
    },
    {
     "name": "stdout",
     "output_type": "stream",
     "text": [
      " \"2021-02-22\""
     ]
    },
    {
     "name": "stdout",
     "output_type": "stream",
     "text": [
      "\n"
     ]
    },
    {
     "name": "stdout",
     "output_type": "stream",
     "text": [
      " [471]"
     ]
    },
    {
     "name": "stdout",
     "output_type": "stream",
     "text": [
      " \"2021-02-22\""
     ]
    },
    {
     "name": "stdout",
     "output_type": "stream",
     "text": [
      " \"2021-02-22\""
     ]
    },
    {
     "name": "stdout",
     "output_type": "stream",
     "text": [
      " \"2021-02-22\""
     ]
    },
    {
     "name": "stdout",
     "output_type": "stream",
     "text": [
      " \"2021-02-22\""
     ]
    },
    {
     "name": "stdout",
     "output_type": "stream",
     "text": [
      " \"2021-02-22\""
     ]
    },
    {
     "name": "stdout",
     "output_type": "stream",
     "text": [
      "\n"
     ]
    },
    {
     "name": "stdout",
     "output_type": "stream",
     "text": [
      " [476]"
     ]
    },
    {
     "name": "stdout",
     "output_type": "stream",
     "text": [
      " \"2021-02-22\""
     ]
    },
    {
     "name": "stdout",
     "output_type": "stream",
     "text": [
      " \"2021-02-22\""
     ]
    },
    {
     "name": "stdout",
     "output_type": "stream",
     "text": [
      " \"2021-02-22\""
     ]
    },
    {
     "name": "stdout",
     "output_type": "stream",
     "text": [
      " \"2021-02-22\""
     ]
    },
    {
     "name": "stdout",
     "output_type": "stream",
     "text": [
      " \"2021-02-22\""
     ]
    },
    {
     "name": "stdout",
     "output_type": "stream",
     "text": [
      "\n"
     ]
    },
    {
     "name": "stdout",
     "output_type": "stream",
     "text": [
      " [481]"
     ]
    },
    {
     "name": "stdout",
     "output_type": "stream",
     "text": [
      " \"2021-02-22\""
     ]
    },
    {
     "name": "stdout",
     "output_type": "stream",
     "text": [
      " \"2021-02-22\""
     ]
    },
    {
     "name": "stdout",
     "output_type": "stream",
     "text": [
      " \"2021-02-22\""
     ]
    },
    {
     "name": "stdout",
     "output_type": "stream",
     "text": [
      " \"2021-03-01\""
     ]
    },
    {
     "name": "stdout",
     "output_type": "stream",
     "text": [
      " \"2021-03-01\""
     ]
    },
    {
     "name": "stdout",
     "output_type": "stream",
     "text": [
      "\n"
     ]
    },
    {
     "name": "stdout",
     "output_type": "stream",
     "text": [
      " [486]"
     ]
    },
    {
     "name": "stdout",
     "output_type": "stream",
     "text": [
      " \"2021-03-01\""
     ]
    },
    {
     "name": "stdout",
     "output_type": "stream",
     "text": [
      " \"2021-03-01\""
     ]
    },
    {
     "name": "stdout",
     "output_type": "stream",
     "text": [
      " \"2021-03-01\""
     ]
    },
    {
     "name": "stdout",
     "output_type": "stream",
     "text": [
      " \"2021-03-01\""
     ]
    },
    {
     "name": "stdout",
     "output_type": "stream",
     "text": [
      " \"2021-03-01\""
     ]
    },
    {
     "name": "stdout",
     "output_type": "stream",
     "text": [
      "\n"
     ]
    },
    {
     "name": "stdout",
     "output_type": "stream",
     "text": [
      " [491]"
     ]
    },
    {
     "name": "stdout",
     "output_type": "stream",
     "text": [
      " \"2021-03-01\""
     ]
    },
    {
     "name": "stdout",
     "output_type": "stream",
     "text": [
      " \"2021-03-01\""
     ]
    },
    {
     "name": "stdout",
     "output_type": "stream",
     "text": [
      " \"2021-03-01\""
     ]
    },
    {
     "name": "stdout",
     "output_type": "stream",
     "text": [
      " \"2021-03-01\""
     ]
    },
    {
     "name": "stdout",
     "output_type": "stream",
     "text": [
      " \"2021-03-01\""
     ]
    },
    {
     "name": "stdout",
     "output_type": "stream",
     "text": [
      "\n"
     ]
    },
    {
     "name": "stdout",
     "output_type": "stream",
     "text": [
      " [496]"
     ]
    },
    {
     "name": "stdout",
     "output_type": "stream",
     "text": [
      " \"2021-03-01\""
     ]
    },
    {
     "name": "stdout",
     "output_type": "stream",
     "text": [
      " \"2021-03-01\""
     ]
    },
    {
     "name": "stdout",
     "output_type": "stream",
     "text": [
      " \"2021-03-01\""
     ]
    },
    {
     "name": "stdout",
     "output_type": "stream",
     "text": [
      " \"2021-03-01\""
     ]
    },
    {
     "name": "stdout",
     "output_type": "stream",
     "text": [
      " \"2021-03-01\""
     ]
    },
    {
     "name": "stdout",
     "output_type": "stream",
     "text": [
      "\n"
     ]
    },
    {
     "name": "stdout",
     "output_type": "stream",
     "text": [
      " [501]"
     ]
    },
    {
     "name": "stdout",
     "output_type": "stream",
     "text": [
      " \"2021-03-01\""
     ]
    },
    {
     "name": "stdout",
     "output_type": "stream",
     "text": [
      " \"2021-03-01\""
     ]
    },
    {
     "name": "stdout",
     "output_type": "stream",
     "text": [
      " \"2021-03-01\""
     ]
    },
    {
     "name": "stdout",
     "output_type": "stream",
     "text": [
      " \"2021-03-01\""
     ]
    },
    {
     "name": "stdout",
     "output_type": "stream",
     "text": [
      " \"2021-03-01\""
     ]
    },
    {
     "name": "stdout",
     "output_type": "stream",
     "text": [
      "\n"
     ]
    },
    {
     "name": "stdout",
     "output_type": "stream",
     "text": [
      " [506]"
     ]
    },
    {
     "name": "stdout",
     "output_type": "stream",
     "text": [
      " \"2021-03-01\""
     ]
    },
    {
     "name": "stdout",
     "output_type": "stream",
     "text": [
      " \"2021-03-01\""
     ]
    },
    {
     "name": "stdout",
     "output_type": "stream",
     "text": [
      " \"2021-03-01\""
     ]
    },
    {
     "name": "stdout",
     "output_type": "stream",
     "text": [
      " \"2021-03-01\""
     ]
    },
    {
     "name": "stdout",
     "output_type": "stream",
     "text": [
      " \"2021-03-01\""
     ]
    },
    {
     "name": "stdout",
     "output_type": "stream",
     "text": [
      "\n"
     ]
    },
    {
     "name": "stdout",
     "output_type": "stream",
     "text": [
      " [511]"
     ]
    },
    {
     "name": "stdout",
     "output_type": "stream",
     "text": [
      " \"2021-03-01\""
     ]
    },
    {
     "name": "stdout",
     "output_type": "stream",
     "text": [
      " \"2021-03-01\""
     ]
    },
    {
     "name": "stdout",
     "output_type": "stream",
     "text": [
      " \"2021-03-01\""
     ]
    },
    {
     "name": "stdout",
     "output_type": "stream",
     "text": [
      " \"2021-03-01\""
     ]
    },
    {
     "name": "stdout",
     "output_type": "stream",
     "text": [
      " \"2021-03-01\""
     ]
    },
    {
     "name": "stdout",
     "output_type": "stream",
     "text": [
      "\n"
     ]
    },
    {
     "name": "stdout",
     "output_type": "stream",
     "text": [
      " [516]"
     ]
    },
    {
     "name": "stdout",
     "output_type": "stream",
     "text": [
      " \"2021-03-01\""
     ]
    },
    {
     "name": "stdout",
     "output_type": "stream",
     "text": [
      " \"2021-03-01\""
     ]
    },
    {
     "name": "stdout",
     "output_type": "stream",
     "text": [
      " \"2021-03-01\""
     ]
    },
    {
     "name": "stdout",
     "output_type": "stream",
     "text": [
      " \"2021-03-01\""
     ]
    },
    {
     "name": "stdout",
     "output_type": "stream",
     "text": [
      " \"2021-03-01\""
     ]
    },
    {
     "name": "stdout",
     "output_type": "stream",
     "text": [
      "\n"
     ]
    },
    {
     "name": "stdout",
     "output_type": "stream",
     "text": [
      " [521]"
     ]
    },
    {
     "name": "stdout",
     "output_type": "stream",
     "text": [
      " \"2021-03-01\""
     ]
    },
    {
     "name": "stdout",
     "output_type": "stream",
     "text": [
      " \"2021-03-01\""
     ]
    },
    {
     "name": "stdout",
     "output_type": "stream",
     "text": [
      " \"2021-03-01\""
     ]
    },
    {
     "name": "stdout",
     "output_type": "stream",
     "text": [
      " \"2021-03-01\""
     ]
    },
    {
     "name": "stdout",
     "output_type": "stream",
     "text": [
      " \"2021-03-01\""
     ]
    },
    {
     "name": "stdout",
     "output_type": "stream",
     "text": [
      "\n"
     ]
    },
    {
     "name": "stdout",
     "output_type": "stream",
     "text": [
      " [526]"
     ]
    },
    {
     "name": "stdout",
     "output_type": "stream",
     "text": [
      " \"2021-03-01\""
     ]
    },
    {
     "name": "stdout",
     "output_type": "stream",
     "text": [
      " \"2021-03-01\""
     ]
    },
    {
     "name": "stdout",
     "output_type": "stream",
     "text": [
      " \"2021-03-01\""
     ]
    },
    {
     "name": "stdout",
     "output_type": "stream",
     "text": [
      " \"2021-03-01\""
     ]
    },
    {
     "name": "stdout",
     "output_type": "stream",
     "text": [
      " \"2021-03-01\""
     ]
    },
    {
     "name": "stdout",
     "output_type": "stream",
     "text": [
      "\n"
     ]
    },
    {
     "name": "stdout",
     "output_type": "stream",
     "text": [
      " [531]"
     ]
    },
    {
     "name": "stdout",
     "output_type": "stream",
     "text": [
      " \"2021-03-01\""
     ]
    },
    {
     "name": "stdout",
     "output_type": "stream",
     "text": [
      " \"2021-03-01\""
     ]
    },
    {
     "name": "stdout",
     "output_type": "stream",
     "text": [
      " \"2021-03-01\""
     ]
    },
    {
     "name": "stdout",
     "output_type": "stream",
     "text": [
      " \"2021-03-01\""
     ]
    },
    {
     "name": "stdout",
     "output_type": "stream",
     "text": [
      " \"2021-03-01\""
     ]
    },
    {
     "name": "stdout",
     "output_type": "stream",
     "text": [
      "\n"
     ]
    },
    {
     "name": "stdout",
     "output_type": "stream",
     "text": [
      " [536]"
     ]
    },
    {
     "name": "stdout",
     "output_type": "stream",
     "text": [
      " \"2021-03-01\""
     ]
    },
    {
     "name": "stdout",
     "output_type": "stream",
     "text": [
      " \"2021-03-01\""
     ]
    },
    {
     "name": "stdout",
     "output_type": "stream",
     "text": [
      " \"2021-03-01\""
     ]
    },
    {
     "name": "stdout",
     "output_type": "stream",
     "text": [
      " \"2021-03-01\""
     ]
    },
    {
     "name": "stdout",
     "output_type": "stream",
     "text": [
      " \"2021-03-01\""
     ]
    },
    {
     "name": "stdout",
     "output_type": "stream",
     "text": [
      "\n"
     ]
    },
    {
     "name": "stdout",
     "output_type": "stream",
     "text": [
      " [541]"
     ]
    },
    {
     "name": "stdout",
     "output_type": "stream",
     "text": [
      " \"2021-03-01\""
     ]
    },
    {
     "name": "stdout",
     "output_type": "stream",
     "text": [
      " \"2021-03-01\""
     ]
    },
    {
     "name": "stdout",
     "output_type": "stream",
     "text": [
      " \"2021-03-01\""
     ]
    },
    {
     "name": "stdout",
     "output_type": "stream",
     "text": [
      " \"2021-03-01\""
     ]
    },
    {
     "name": "stdout",
     "output_type": "stream",
     "text": [
      " \"2021-03-01\""
     ]
    },
    {
     "name": "stdout",
     "output_type": "stream",
     "text": [
      "\n"
     ]
    },
    {
     "name": "stdout",
     "output_type": "stream",
     "text": [
      " [546]"
     ]
    },
    {
     "name": "stdout",
     "output_type": "stream",
     "text": [
      " \"2021-03-01\""
     ]
    },
    {
     "name": "stdout",
     "output_type": "stream",
     "text": [
      " \"2021-03-01\""
     ]
    },
    {
     "name": "stdout",
     "output_type": "stream",
     "text": [
      " \"2021-03-01\""
     ]
    },
    {
     "name": "stdout",
     "output_type": "stream",
     "text": [
      " \"2021-03-01\""
     ]
    },
    {
     "name": "stdout",
     "output_type": "stream",
     "text": [
      " \"2021-03-01\""
     ]
    },
    {
     "name": "stdout",
     "output_type": "stream",
     "text": [
      "\n"
     ]
    },
    {
     "name": "stdout",
     "output_type": "stream",
     "text": [
      " [551]"
     ]
    },
    {
     "name": "stdout",
     "output_type": "stream",
     "text": [
      " \"2021-03-01\""
     ]
    },
    {
     "name": "stdout",
     "output_type": "stream",
     "text": [
      " \"2021-03-01\""
     ]
    },
    {
     "name": "stdout",
     "output_type": "stream",
     "text": [
      " \"2021-03-08\""
     ]
    },
    {
     "name": "stdout",
     "output_type": "stream",
     "text": [
      " \"2021-03-08\""
     ]
    },
    {
     "name": "stdout",
     "output_type": "stream",
     "text": [
      " \"2021-03-08\""
     ]
    },
    {
     "name": "stdout",
     "output_type": "stream",
     "text": [
      "\n"
     ]
    },
    {
     "name": "stdout",
     "output_type": "stream",
     "text": [
      " [556]"
     ]
    },
    {
     "name": "stdout",
     "output_type": "stream",
     "text": [
      " \"2021-03-08\""
     ]
    },
    {
     "name": "stdout",
     "output_type": "stream",
     "text": [
      " \"2021-03-08\""
     ]
    },
    {
     "name": "stdout",
     "output_type": "stream",
     "text": [
      " \"2021-03-08\""
     ]
    },
    {
     "name": "stdout",
     "output_type": "stream",
     "text": [
      " \"2021-03-08\""
     ]
    },
    {
     "name": "stdout",
     "output_type": "stream",
     "text": [
      " \"2021-03-08\""
     ]
    },
    {
     "name": "stdout",
     "output_type": "stream",
     "text": [
      "\n"
     ]
    },
    {
     "name": "stdout",
     "output_type": "stream",
     "text": [
      " [561]"
     ]
    },
    {
     "name": "stdout",
     "output_type": "stream",
     "text": [
      " \"2021-03-08\""
     ]
    },
    {
     "name": "stdout",
     "output_type": "stream",
     "text": [
      " \"2021-03-08\""
     ]
    },
    {
     "name": "stdout",
     "output_type": "stream",
     "text": [
      " \"2021-03-08\""
     ]
    },
    {
     "name": "stdout",
     "output_type": "stream",
     "text": [
      " \"2021-03-08\""
     ]
    },
    {
     "name": "stdout",
     "output_type": "stream",
     "text": [
      " \"2021-03-08\""
     ]
    },
    {
     "name": "stdout",
     "output_type": "stream",
     "text": [
      "\n"
     ]
    },
    {
     "name": "stdout",
     "output_type": "stream",
     "text": [
      " [566]"
     ]
    },
    {
     "name": "stdout",
     "output_type": "stream",
     "text": [
      " \"2021-03-08\""
     ]
    },
    {
     "name": "stdout",
     "output_type": "stream",
     "text": [
      " \"2021-03-08\""
     ]
    },
    {
     "name": "stdout",
     "output_type": "stream",
     "text": [
      " \"2021-03-08\""
     ]
    },
    {
     "name": "stdout",
     "output_type": "stream",
     "text": [
      " \"2021-03-08\""
     ]
    },
    {
     "name": "stdout",
     "output_type": "stream",
     "text": [
      " \"2021-03-08\""
     ]
    },
    {
     "name": "stdout",
     "output_type": "stream",
     "text": [
      "\n"
     ]
    },
    {
     "name": "stdout",
     "output_type": "stream",
     "text": [
      " [571]"
     ]
    },
    {
     "name": "stdout",
     "output_type": "stream",
     "text": [
      " \"2021-03-08\""
     ]
    },
    {
     "name": "stdout",
     "output_type": "stream",
     "text": [
      " \"2021-03-08\""
     ]
    },
    {
     "name": "stdout",
     "output_type": "stream",
     "text": [
      " \"2021-03-08\""
     ]
    },
    {
     "name": "stdout",
     "output_type": "stream",
     "text": [
      " \"2021-03-08\""
     ]
    },
    {
     "name": "stdout",
     "output_type": "stream",
     "text": [
      " \"2021-03-08\""
     ]
    },
    {
     "name": "stdout",
     "output_type": "stream",
     "text": [
      "\n"
     ]
    },
    {
     "name": "stdout",
     "output_type": "stream",
     "text": [
      " [576]"
     ]
    },
    {
     "name": "stdout",
     "output_type": "stream",
     "text": [
      " \"2021-03-08\""
     ]
    },
    {
     "name": "stdout",
     "output_type": "stream",
     "text": [
      " \"2021-03-08\""
     ]
    },
    {
     "name": "stdout",
     "output_type": "stream",
     "text": [
      " \"2021-03-08\""
     ]
    },
    {
     "name": "stdout",
     "output_type": "stream",
     "text": [
      " \"2021-03-08\""
     ]
    },
    {
     "name": "stdout",
     "output_type": "stream",
     "text": [
      " \"2021-03-08\""
     ]
    },
    {
     "name": "stdout",
     "output_type": "stream",
     "text": [
      "\n"
     ]
    },
    {
     "name": "stdout",
     "output_type": "stream",
     "text": [
      " [581]"
     ]
    },
    {
     "name": "stdout",
     "output_type": "stream",
     "text": [
      " \"2021-03-08\""
     ]
    },
    {
     "name": "stdout",
     "output_type": "stream",
     "text": [
      " \"2021-03-08\""
     ]
    },
    {
     "name": "stdout",
     "output_type": "stream",
     "text": [
      " \"2021-03-08\""
     ]
    },
    {
     "name": "stdout",
     "output_type": "stream",
     "text": [
      " \"2021-03-08\""
     ]
    },
    {
     "name": "stdout",
     "output_type": "stream",
     "text": [
      " \"2021-03-08\""
     ]
    },
    {
     "name": "stdout",
     "output_type": "stream",
     "text": [
      "\n"
     ]
    },
    {
     "name": "stdout",
     "output_type": "stream",
     "text": [
      " [586]"
     ]
    },
    {
     "name": "stdout",
     "output_type": "stream",
     "text": [
      " \"2021-03-08\""
     ]
    },
    {
     "name": "stdout",
     "output_type": "stream",
     "text": [
      " \"2021-03-08\""
     ]
    },
    {
     "name": "stdout",
     "output_type": "stream",
     "text": [
      " \"2021-03-08\""
     ]
    },
    {
     "name": "stdout",
     "output_type": "stream",
     "text": [
      " \"2021-03-08\""
     ]
    },
    {
     "name": "stdout",
     "output_type": "stream",
     "text": [
      " \"2021-03-08\""
     ]
    },
    {
     "name": "stdout",
     "output_type": "stream",
     "text": [
      "\n"
     ]
    },
    {
     "name": "stdout",
     "output_type": "stream",
     "text": [
      " [591]"
     ]
    },
    {
     "name": "stdout",
     "output_type": "stream",
     "text": [
      " \"2021-03-08\""
     ]
    },
    {
     "name": "stdout",
     "output_type": "stream",
     "text": [
      " \"2021-03-08\""
     ]
    },
    {
     "name": "stdout",
     "output_type": "stream",
     "text": [
      " \"2021-03-08\""
     ]
    },
    {
     "name": "stdout",
     "output_type": "stream",
     "text": [
      " \"2021-03-08\""
     ]
    },
    {
     "name": "stdout",
     "output_type": "stream",
     "text": [
      " \"2021-03-08\""
     ]
    },
    {
     "name": "stdout",
     "output_type": "stream",
     "text": [
      "\n"
     ]
    },
    {
     "name": "stdout",
     "output_type": "stream",
     "text": [
      " [596]"
     ]
    },
    {
     "name": "stdout",
     "output_type": "stream",
     "text": [
      " \"2021-03-08\""
     ]
    },
    {
     "name": "stdout",
     "output_type": "stream",
     "text": [
      " \"2021-03-08\""
     ]
    },
    {
     "name": "stdout",
     "output_type": "stream",
     "text": [
      " \"2021-03-08\""
     ]
    },
    {
     "name": "stdout",
     "output_type": "stream",
     "text": [
      " \"2021-03-08\""
     ]
    },
    {
     "name": "stdout",
     "output_type": "stream",
     "text": [
      " \"2021-03-08\""
     ]
    },
    {
     "name": "stdout",
     "output_type": "stream",
     "text": [
      "\n"
     ]
    },
    {
     "name": "stdout",
     "output_type": "stream",
     "text": [
      " [601]"
     ]
    },
    {
     "name": "stdout",
     "output_type": "stream",
     "text": [
      " \"2021-03-08\""
     ]
    },
    {
     "name": "stdout",
     "output_type": "stream",
     "text": [
      " \"2021-03-08\""
     ]
    },
    {
     "name": "stdout",
     "output_type": "stream",
     "text": [
      " \"2021-03-08\""
     ]
    },
    {
     "name": "stdout",
     "output_type": "stream",
     "text": [
      " \"2021-03-08\""
     ]
    },
    {
     "name": "stdout",
     "output_type": "stream",
     "text": [
      " \"2021-03-08\""
     ]
    },
    {
     "name": "stdout",
     "output_type": "stream",
     "text": [
      "\n"
     ]
    },
    {
     "name": "stdout",
     "output_type": "stream",
     "text": [
      " [606]"
     ]
    },
    {
     "name": "stdout",
     "output_type": "stream",
     "text": [
      " \"2021-03-08\""
     ]
    },
    {
     "name": "stdout",
     "output_type": "stream",
     "text": [
      " \"2021-03-08\""
     ]
    },
    {
     "name": "stdout",
     "output_type": "stream",
     "text": [
      " \"2021-03-08\""
     ]
    },
    {
     "name": "stdout",
     "output_type": "stream",
     "text": [
      " \"2021-03-08\""
     ]
    },
    {
     "name": "stdout",
     "output_type": "stream",
     "text": [
      " \"2021-03-08\""
     ]
    },
    {
     "name": "stdout",
     "output_type": "stream",
     "text": [
      "\n"
     ]
    },
    {
     "name": "stdout",
     "output_type": "stream",
     "text": [
      " [611]"
     ]
    },
    {
     "name": "stdout",
     "output_type": "stream",
     "text": [
      " \"2021-03-08\""
     ]
    },
    {
     "name": "stdout",
     "output_type": "stream",
     "text": [
      " \"2021-03-08\""
     ]
    },
    {
     "name": "stdout",
     "output_type": "stream",
     "text": [
      " \"2021-03-08\""
     ]
    },
    {
     "name": "stdout",
     "output_type": "stream",
     "text": [
      " \"2021-03-08\""
     ]
    },
    {
     "name": "stdout",
     "output_type": "stream",
     "text": [
      " \"2021-03-08\""
     ]
    },
    {
     "name": "stdout",
     "output_type": "stream",
     "text": [
      "\n"
     ]
    },
    {
     "name": "stdout",
     "output_type": "stream",
     "text": [
      " [616]"
     ]
    },
    {
     "name": "stdout",
     "output_type": "stream",
     "text": [
      " \"2021-03-08\""
     ]
    },
    {
     "name": "stdout",
     "output_type": "stream",
     "text": [
      " \"2021-03-08\""
     ]
    },
    {
     "name": "stdout",
     "output_type": "stream",
     "text": [
      " \"2021-03-08\""
     ]
    },
    {
     "name": "stdout",
     "output_type": "stream",
     "text": [
      " \"2021-03-08\""
     ]
    },
    {
     "name": "stdout",
     "output_type": "stream",
     "text": [
      " \"2021-03-08\""
     ]
    },
    {
     "name": "stdout",
     "output_type": "stream",
     "text": [
      "\n"
     ]
    },
    {
     "name": "stdout",
     "output_type": "stream",
     "text": [
      " [621]"
     ]
    },
    {
     "name": "stdout",
     "output_type": "stream",
     "text": [
      " \"2021-03-08\""
     ]
    },
    {
     "name": "stdout",
     "output_type": "stream",
     "text": [
      " \"2021-03-15\""
     ]
    },
    {
     "name": "stdout",
     "output_type": "stream",
     "text": [
      " \"2021-03-15\""
     ]
    },
    {
     "name": "stdout",
     "output_type": "stream",
     "text": [
      " \"2021-03-15\""
     ]
    },
    {
     "name": "stdout",
     "output_type": "stream",
     "text": [
      " \"2021-03-15\""
     ]
    },
    {
     "name": "stdout",
     "output_type": "stream",
     "text": [
      "\n"
     ]
    },
    {
     "name": "stdout",
     "output_type": "stream",
     "text": [
      " [626]"
     ]
    },
    {
     "name": "stdout",
     "output_type": "stream",
     "text": [
      " \"2021-03-15\""
     ]
    },
    {
     "name": "stdout",
     "output_type": "stream",
     "text": [
      " \"2021-03-15\""
     ]
    },
    {
     "name": "stdout",
     "output_type": "stream",
     "text": [
      " \"2021-03-15\""
     ]
    },
    {
     "name": "stdout",
     "output_type": "stream",
     "text": [
      " \"2021-03-15\""
     ]
    },
    {
     "name": "stdout",
     "output_type": "stream",
     "text": [
      " \"2021-03-15\""
     ]
    },
    {
     "name": "stdout",
     "output_type": "stream",
     "text": [
      "\n"
     ]
    },
    {
     "name": "stdout",
     "output_type": "stream",
     "text": [
      " [631]"
     ]
    },
    {
     "name": "stdout",
     "output_type": "stream",
     "text": [
      " \"2021-03-15\""
     ]
    },
    {
     "name": "stdout",
     "output_type": "stream",
     "text": [
      " \"2021-03-15\""
     ]
    },
    {
     "name": "stdout",
     "output_type": "stream",
     "text": [
      " \"2021-03-15\""
     ]
    },
    {
     "name": "stdout",
     "output_type": "stream",
     "text": [
      " \"2021-03-15\""
     ]
    },
    {
     "name": "stdout",
     "output_type": "stream",
     "text": [
      " \"2021-03-15\""
     ]
    },
    {
     "name": "stdout",
     "output_type": "stream",
     "text": [
      "\n"
     ]
    },
    {
     "name": "stdout",
     "output_type": "stream",
     "text": [
      " [636]"
     ]
    },
    {
     "name": "stdout",
     "output_type": "stream",
     "text": [
      " \"2021-03-15\""
     ]
    },
    {
     "name": "stdout",
     "output_type": "stream",
     "text": [
      " \"2021-03-15\""
     ]
    },
    {
     "name": "stdout",
     "output_type": "stream",
     "text": [
      " \"2021-03-15\""
     ]
    },
    {
     "name": "stdout",
     "output_type": "stream",
     "text": [
      " \"2021-03-15\""
     ]
    },
    {
     "name": "stdout",
     "output_type": "stream",
     "text": [
      " \"2021-03-15\""
     ]
    },
    {
     "name": "stdout",
     "output_type": "stream",
     "text": [
      "\n"
     ]
    },
    {
     "name": "stdout",
     "output_type": "stream",
     "text": [
      " [641]"
     ]
    },
    {
     "name": "stdout",
     "output_type": "stream",
     "text": [
      " \"2021-03-15\""
     ]
    },
    {
     "name": "stdout",
     "output_type": "stream",
     "text": [
      " \"2021-03-15\""
     ]
    },
    {
     "name": "stdout",
     "output_type": "stream",
     "text": [
      " \"2021-03-15\""
     ]
    },
    {
     "name": "stdout",
     "output_type": "stream",
     "text": [
      " \"2021-03-15\""
     ]
    },
    {
     "name": "stdout",
     "output_type": "stream",
     "text": [
      " \"2021-03-15\""
     ]
    },
    {
     "name": "stdout",
     "output_type": "stream",
     "text": [
      "\n"
     ]
    },
    {
     "name": "stdout",
     "output_type": "stream",
     "text": [
      " [646]"
     ]
    },
    {
     "name": "stdout",
     "output_type": "stream",
     "text": [
      " \"2021-03-15\""
     ]
    },
    {
     "name": "stdout",
     "output_type": "stream",
     "text": [
      " \"2021-03-15\""
     ]
    },
    {
     "name": "stdout",
     "output_type": "stream",
     "text": [
      " \"2021-03-15\""
     ]
    },
    {
     "name": "stdout",
     "output_type": "stream",
     "text": [
      " \"2021-03-15\""
     ]
    },
    {
     "name": "stdout",
     "output_type": "stream",
     "text": [
      " \"2021-03-15\""
     ]
    },
    {
     "name": "stdout",
     "output_type": "stream",
     "text": [
      "\n"
     ]
    },
    {
     "name": "stdout",
     "output_type": "stream",
     "text": [
      " [651]"
     ]
    },
    {
     "name": "stdout",
     "output_type": "stream",
     "text": [
      " \"2021-03-15\""
     ]
    },
    {
     "name": "stdout",
     "output_type": "stream",
     "text": [
      " \"2021-03-15\""
     ]
    },
    {
     "name": "stdout",
     "output_type": "stream",
     "text": [
      " \"2021-03-15\""
     ]
    },
    {
     "name": "stdout",
     "output_type": "stream",
     "text": [
      " \"2021-03-15\""
     ]
    },
    {
     "name": "stdout",
     "output_type": "stream",
     "text": [
      " \"2021-03-15\""
     ]
    },
    {
     "name": "stdout",
     "output_type": "stream",
     "text": [
      "\n"
     ]
    },
    {
     "name": "stdout",
     "output_type": "stream",
     "text": [
      " [656]"
     ]
    },
    {
     "name": "stdout",
     "output_type": "stream",
     "text": [
      " \"2021-03-15\""
     ]
    },
    {
     "name": "stdout",
     "output_type": "stream",
     "text": [
      " \"2021-03-15\""
     ]
    },
    {
     "name": "stdout",
     "output_type": "stream",
     "text": [
      " \"2021-03-15\""
     ]
    },
    {
     "name": "stdout",
     "output_type": "stream",
     "text": [
      " \"2021-03-15\""
     ]
    },
    {
     "name": "stdout",
     "output_type": "stream",
     "text": [
      " \"2021-03-15\""
     ]
    },
    {
     "name": "stdout",
     "output_type": "stream",
     "text": [
      "\n"
     ]
    },
    {
     "name": "stdout",
     "output_type": "stream",
     "text": [
      " [661]"
     ]
    },
    {
     "name": "stdout",
     "output_type": "stream",
     "text": [
      " \"2021-03-15\""
     ]
    },
    {
     "name": "stdout",
     "output_type": "stream",
     "text": [
      " \"2021-03-15\""
     ]
    },
    {
     "name": "stdout",
     "output_type": "stream",
     "text": [
      " \"2021-03-15\""
     ]
    },
    {
     "name": "stdout",
     "output_type": "stream",
     "text": [
      " \"2021-03-15\""
     ]
    },
    {
     "name": "stdout",
     "output_type": "stream",
     "text": [
      " \"2021-03-15\""
     ]
    },
    {
     "name": "stdout",
     "output_type": "stream",
     "text": [
      "\n"
     ]
    },
    {
     "name": "stdout",
     "output_type": "stream",
     "text": [
      " [666]"
     ]
    },
    {
     "name": "stdout",
     "output_type": "stream",
     "text": [
      " \"2021-03-15\""
     ]
    },
    {
     "name": "stdout",
     "output_type": "stream",
     "text": [
      " \"2021-03-15\""
     ]
    },
    {
     "name": "stdout",
     "output_type": "stream",
     "text": [
      " \"2021-03-15\""
     ]
    },
    {
     "name": "stdout",
     "output_type": "stream",
     "text": [
      " \"2021-03-15\""
     ]
    },
    {
     "name": "stdout",
     "output_type": "stream",
     "text": [
      " \"2021-03-15\""
     ]
    },
    {
     "name": "stdout",
     "output_type": "stream",
     "text": [
      "\n"
     ]
    },
    {
     "name": "stdout",
     "output_type": "stream",
     "text": [
      " [671]"
     ]
    },
    {
     "name": "stdout",
     "output_type": "stream",
     "text": [
      " \"2021-03-15\""
     ]
    },
    {
     "name": "stdout",
     "output_type": "stream",
     "text": [
      " \"2021-03-15\""
     ]
    },
    {
     "name": "stdout",
     "output_type": "stream",
     "text": [
      " \"2021-03-15\""
     ]
    },
    {
     "name": "stdout",
     "output_type": "stream",
     "text": [
      " \"2021-03-15\""
     ]
    },
    {
     "name": "stdout",
     "output_type": "stream",
     "text": [
      " \"2021-03-15\""
     ]
    },
    {
     "name": "stdout",
     "output_type": "stream",
     "text": [
      "\n"
     ]
    },
    {
     "name": "stdout",
     "output_type": "stream",
     "text": [
      " [676]"
     ]
    },
    {
     "name": "stdout",
     "output_type": "stream",
     "text": [
      " \"2021-03-15\""
     ]
    },
    {
     "name": "stdout",
     "output_type": "stream",
     "text": [
      " \"2021-03-15\""
     ]
    },
    {
     "name": "stdout",
     "output_type": "stream",
     "text": [
      " \"2021-03-15\""
     ]
    },
    {
     "name": "stdout",
     "output_type": "stream",
     "text": [
      " \"2021-03-15\""
     ]
    },
    {
     "name": "stdout",
     "output_type": "stream",
     "text": [
      " \"2021-03-15\""
     ]
    },
    {
     "name": "stdout",
     "output_type": "stream",
     "text": [
      "\n"
     ]
    },
    {
     "name": "stdout",
     "output_type": "stream",
     "text": [
      " [681]"
     ]
    },
    {
     "name": "stdout",
     "output_type": "stream",
     "text": [
      " \"2021-03-15\""
     ]
    },
    {
     "name": "stdout",
     "output_type": "stream",
     "text": [
      " \"2021-03-15\""
     ]
    },
    {
     "name": "stdout",
     "output_type": "stream",
     "text": [
      " \"2021-03-15\""
     ]
    },
    {
     "name": "stdout",
     "output_type": "stream",
     "text": [
      " \"2021-03-15\""
     ]
    },
    {
     "name": "stdout",
     "output_type": "stream",
     "text": [
      " \"2021-03-15\""
     ]
    },
    {
     "name": "stdout",
     "output_type": "stream",
     "text": [
      "\n"
     ]
    },
    {
     "name": "stdout",
     "output_type": "stream",
     "text": [
      " [686]"
     ]
    },
    {
     "name": "stdout",
     "output_type": "stream",
     "text": [
      " \"2021-03-15\""
     ]
    },
    {
     "name": "stdout",
     "output_type": "stream",
     "text": [
      " \"2021-03-15\""
     ]
    },
    {
     "name": "stdout",
     "output_type": "stream",
     "text": [
      " \"2021-03-15\""
     ]
    },
    {
     "name": "stdout",
     "output_type": "stream",
     "text": [
      " \"2021-03-15\""
     ]
    },
    {
     "name": "stdout",
     "output_type": "stream",
     "text": [
      " \"2021-03-15\""
     ]
    },
    {
     "name": "stdout",
     "output_type": "stream",
     "text": [
      "\n"
     ]
    },
    {
     "name": "stdout",
     "output_type": "stream",
     "text": [
      " [691]"
     ]
    },
    {
     "name": "stdout",
     "output_type": "stream",
     "text": [
      " \"2021-03-22\""
     ]
    },
    {
     "name": "stdout",
     "output_type": "stream",
     "text": [
      " \"2021-03-22\""
     ]
    },
    {
     "name": "stdout",
     "output_type": "stream",
     "text": [
      " \"2021-03-22\""
     ]
    },
    {
     "name": "stdout",
     "output_type": "stream",
     "text": [
      " \"2021-03-22\""
     ]
    },
    {
     "name": "stdout",
     "output_type": "stream",
     "text": [
      " \"2021-03-22\""
     ]
    },
    {
     "name": "stdout",
     "output_type": "stream",
     "text": [
      "\n"
     ]
    },
    {
     "name": "stdout",
     "output_type": "stream",
     "text": [
      " [696]"
     ]
    },
    {
     "name": "stdout",
     "output_type": "stream",
     "text": [
      " \"2021-03-22\""
     ]
    },
    {
     "name": "stdout",
     "output_type": "stream",
     "text": [
      " \"2021-03-22\""
     ]
    },
    {
     "name": "stdout",
     "output_type": "stream",
     "text": [
      " \"2021-03-22\""
     ]
    },
    {
     "name": "stdout",
     "output_type": "stream",
     "text": [
      " \"2021-03-22\""
     ]
    },
    {
     "name": "stdout",
     "output_type": "stream",
     "text": [
      " \"2021-03-22\""
     ]
    },
    {
     "name": "stdout",
     "output_type": "stream",
     "text": [
      "\n"
     ]
    },
    {
     "name": "stdout",
     "output_type": "stream",
     "text": [
      " [701]"
     ]
    },
    {
     "name": "stdout",
     "output_type": "stream",
     "text": [
      " \"2021-03-22\""
     ]
    },
    {
     "name": "stdout",
     "output_type": "stream",
     "text": [
      " \"2021-03-22\""
     ]
    },
    {
     "name": "stdout",
     "output_type": "stream",
     "text": [
      " \"2021-03-22\""
     ]
    },
    {
     "name": "stdout",
     "output_type": "stream",
     "text": [
      " \"2021-03-22\""
     ]
    },
    {
     "name": "stdout",
     "output_type": "stream",
     "text": [
      " \"2021-03-22\""
     ]
    },
    {
     "name": "stdout",
     "output_type": "stream",
     "text": [
      "\n"
     ]
    },
    {
     "name": "stdout",
     "output_type": "stream",
     "text": [
      " [706]"
     ]
    },
    {
     "name": "stdout",
     "output_type": "stream",
     "text": [
      " \"2021-03-22\""
     ]
    },
    {
     "name": "stdout",
     "output_type": "stream",
     "text": [
      " \"2021-03-22\""
     ]
    },
    {
     "name": "stdout",
     "output_type": "stream",
     "text": [
      " \"2021-03-22\""
     ]
    },
    {
     "name": "stdout",
     "output_type": "stream",
     "text": [
      " \"2021-03-22\""
     ]
    },
    {
     "name": "stdout",
     "output_type": "stream",
     "text": [
      " \"2021-03-22\""
     ]
    },
    {
     "name": "stdout",
     "output_type": "stream",
     "text": [
      "\n"
     ]
    },
    {
     "name": "stdout",
     "output_type": "stream",
     "text": [
      " [711]"
     ]
    },
    {
     "name": "stdout",
     "output_type": "stream",
     "text": [
      " \"2021-03-22\""
     ]
    },
    {
     "name": "stdout",
     "output_type": "stream",
     "text": [
      " \"2021-03-22\""
     ]
    },
    {
     "name": "stdout",
     "output_type": "stream",
     "text": [
      " \"2021-03-22\""
     ]
    },
    {
     "name": "stdout",
     "output_type": "stream",
     "text": [
      " \"2021-03-22\""
     ]
    },
    {
     "name": "stdout",
     "output_type": "stream",
     "text": [
      " \"2021-03-22\""
     ]
    },
    {
     "name": "stdout",
     "output_type": "stream",
     "text": [
      "\n"
     ]
    },
    {
     "name": "stdout",
     "output_type": "stream",
     "text": [
      " [716]"
     ]
    },
    {
     "name": "stdout",
     "output_type": "stream",
     "text": [
      " \"2021-03-22\""
     ]
    },
    {
     "name": "stdout",
     "output_type": "stream",
     "text": [
      " \"2021-03-22\""
     ]
    },
    {
     "name": "stdout",
     "output_type": "stream",
     "text": [
      " \"2021-03-22\""
     ]
    },
    {
     "name": "stdout",
     "output_type": "stream",
     "text": [
      " \"2021-03-22\""
     ]
    },
    {
     "name": "stdout",
     "output_type": "stream",
     "text": [
      " \"2021-03-22\""
     ]
    },
    {
     "name": "stdout",
     "output_type": "stream",
     "text": [
      "\n"
     ]
    },
    {
     "name": "stdout",
     "output_type": "stream",
     "text": [
      " [721]"
     ]
    },
    {
     "name": "stdout",
     "output_type": "stream",
     "text": [
      " \"2021-03-22\""
     ]
    },
    {
     "name": "stdout",
     "output_type": "stream",
     "text": [
      " \"2021-03-22\""
     ]
    },
    {
     "name": "stdout",
     "output_type": "stream",
     "text": [
      " \"2021-03-22\""
     ]
    },
    {
     "name": "stdout",
     "output_type": "stream",
     "text": [
      " \"2021-03-22\""
     ]
    },
    {
     "name": "stdout",
     "output_type": "stream",
     "text": [
      " \"2021-03-22\""
     ]
    },
    {
     "name": "stdout",
     "output_type": "stream",
     "text": [
      "\n"
     ]
    },
    {
     "name": "stdout",
     "output_type": "stream",
     "text": [
      " [726]"
     ]
    },
    {
     "name": "stdout",
     "output_type": "stream",
     "text": [
      " \"2021-03-22\""
     ]
    },
    {
     "name": "stdout",
     "output_type": "stream",
     "text": [
      " \"2021-03-22\""
     ]
    },
    {
     "name": "stdout",
     "output_type": "stream",
     "text": [
      " \"2021-03-22\""
     ]
    },
    {
     "name": "stdout",
     "output_type": "stream",
     "text": [
      " \"2021-03-22\""
     ]
    },
    {
     "name": "stdout",
     "output_type": "stream",
     "text": [
      " \"2021-03-22\""
     ]
    },
    {
     "name": "stdout",
     "output_type": "stream",
     "text": [
      "\n"
     ]
    },
    {
     "name": "stdout",
     "output_type": "stream",
     "text": [
      " [731]"
     ]
    },
    {
     "name": "stdout",
     "output_type": "stream",
     "text": [
      " \"2021-03-22\""
     ]
    },
    {
     "name": "stdout",
     "output_type": "stream",
     "text": [
      " \"2021-03-22\""
     ]
    },
    {
     "name": "stdout",
     "output_type": "stream",
     "text": [
      " \"2021-03-22\""
     ]
    },
    {
     "name": "stdout",
     "output_type": "stream",
     "text": [
      " \"2021-03-22\""
     ]
    },
    {
     "name": "stdout",
     "output_type": "stream",
     "text": [
      " \"2021-03-22\""
     ]
    },
    {
     "name": "stdout",
     "output_type": "stream",
     "text": [
      "\n"
     ]
    },
    {
     "name": "stdout",
     "output_type": "stream",
     "text": [
      " [736]"
     ]
    },
    {
     "name": "stdout",
     "output_type": "stream",
     "text": [
      " \"2021-03-22\""
     ]
    },
    {
     "name": "stdout",
     "output_type": "stream",
     "text": [
      " \"2021-03-22\""
     ]
    },
    {
     "name": "stdout",
     "output_type": "stream",
     "text": [
      " \"2021-03-22\""
     ]
    },
    {
     "name": "stdout",
     "output_type": "stream",
     "text": [
      " \"2021-03-22\""
     ]
    },
    {
     "name": "stdout",
     "output_type": "stream",
     "text": [
      " \"2021-03-22\""
     ]
    },
    {
     "name": "stdout",
     "output_type": "stream",
     "text": [
      "\n"
     ]
    },
    {
     "name": "stdout",
     "output_type": "stream",
     "text": [
      " [741]"
     ]
    },
    {
     "name": "stdout",
     "output_type": "stream",
     "text": [
      " \"2021-03-22\""
     ]
    },
    {
     "name": "stdout",
     "output_type": "stream",
     "text": [
      " \"2021-03-22\""
     ]
    },
    {
     "name": "stdout",
     "output_type": "stream",
     "text": [
      " \"2021-03-22\""
     ]
    },
    {
     "name": "stdout",
     "output_type": "stream",
     "text": [
      " \"2021-03-22\""
     ]
    },
    {
     "name": "stdout",
     "output_type": "stream",
     "text": [
      " \"2021-03-22\""
     ]
    },
    {
     "name": "stdout",
     "output_type": "stream",
     "text": [
      "\n"
     ]
    },
    {
     "name": "stdout",
     "output_type": "stream",
     "text": [
      " [746]"
     ]
    },
    {
     "name": "stdout",
     "output_type": "stream",
     "text": [
      " \"2021-03-22\""
     ]
    },
    {
     "name": "stdout",
     "output_type": "stream",
     "text": [
      " \"2021-03-22\""
     ]
    },
    {
     "name": "stdout",
     "output_type": "stream",
     "text": [
      " \"2021-03-22\""
     ]
    },
    {
     "name": "stdout",
     "output_type": "stream",
     "text": [
      " \"2021-03-22\""
     ]
    },
    {
     "name": "stdout",
     "output_type": "stream",
     "text": [
      " \"2021-03-22\""
     ]
    },
    {
     "name": "stdout",
     "output_type": "stream",
     "text": [
      "\n"
     ]
    },
    {
     "name": "stdout",
     "output_type": "stream",
     "text": [
      " [751]"
     ]
    },
    {
     "name": "stdout",
     "output_type": "stream",
     "text": [
      " \"2021-03-22\""
     ]
    },
    {
     "name": "stdout",
     "output_type": "stream",
     "text": [
      " \"2021-03-22\""
     ]
    },
    {
     "name": "stdout",
     "output_type": "stream",
     "text": [
      " \"2021-03-22\""
     ]
    },
    {
     "name": "stdout",
     "output_type": "stream",
     "text": [
      " \"2021-03-22\""
     ]
    },
    {
     "name": "stdout",
     "output_type": "stream",
     "text": [
      " \"2021-03-22\""
     ]
    },
    {
     "name": "stdout",
     "output_type": "stream",
     "text": [
      "\n"
     ]
    },
    {
     "name": "stdout",
     "output_type": "stream",
     "text": [
      " [756]"
     ]
    },
    {
     "name": "stdout",
     "output_type": "stream",
     "text": [
      " \"2021-03-22\""
     ]
    },
    {
     "name": "stdout",
     "output_type": "stream",
     "text": [
      " \"2021-03-22\""
     ]
    },
    {
     "name": "stdout",
     "output_type": "stream",
     "text": [
      " \"2021-03-22\""
     ]
    },
    {
     "name": "stdout",
     "output_type": "stream",
     "text": [
      " \"2021-03-22\""
     ]
    },
    {
     "name": "stdout",
     "output_type": "stream",
     "text": [
      " \"2021-03-29\""
     ]
    },
    {
     "name": "stdout",
     "output_type": "stream",
     "text": [
      "\n"
     ]
    },
    {
     "name": "stdout",
     "output_type": "stream",
     "text": [
      " [761]"
     ]
    },
    {
     "name": "stdout",
     "output_type": "stream",
     "text": [
      " \"2021-03-29\""
     ]
    },
    {
     "name": "stdout",
     "output_type": "stream",
     "text": [
      " \"2021-03-29\""
     ]
    },
    {
     "name": "stdout",
     "output_type": "stream",
     "text": [
      " \"2021-03-29\""
     ]
    },
    {
     "name": "stdout",
     "output_type": "stream",
     "text": [
      " \"2021-03-29\""
     ]
    },
    {
     "name": "stdout",
     "output_type": "stream",
     "text": [
      " \"2021-03-29\""
     ]
    },
    {
     "name": "stdout",
     "output_type": "stream",
     "text": [
      "\n"
     ]
    },
    {
     "name": "stdout",
     "output_type": "stream",
     "text": [
      " [766]"
     ]
    },
    {
     "name": "stdout",
     "output_type": "stream",
     "text": [
      " \"2021-03-29\""
     ]
    },
    {
     "name": "stdout",
     "output_type": "stream",
     "text": [
      " \"2021-03-29\""
     ]
    },
    {
     "name": "stdout",
     "output_type": "stream",
     "text": [
      " \"2021-03-29\""
     ]
    },
    {
     "name": "stdout",
     "output_type": "stream",
     "text": [
      " \"2021-03-29\""
     ]
    },
    {
     "name": "stdout",
     "output_type": "stream",
     "text": [
      " \"2021-03-29\""
     ]
    },
    {
     "name": "stdout",
     "output_type": "stream",
     "text": [
      "\n"
     ]
    },
    {
     "name": "stdout",
     "output_type": "stream",
     "text": [
      " [771]"
     ]
    },
    {
     "name": "stdout",
     "output_type": "stream",
     "text": [
      " \"2021-03-29\""
     ]
    },
    {
     "name": "stdout",
     "output_type": "stream",
     "text": [
      " \"2021-03-29\""
     ]
    },
    {
     "name": "stdout",
     "output_type": "stream",
     "text": [
      " \"2021-03-29\""
     ]
    },
    {
     "name": "stdout",
     "output_type": "stream",
     "text": [
      " \"2021-03-29\""
     ]
    },
    {
     "name": "stdout",
     "output_type": "stream",
     "text": [
      " \"2021-03-29\""
     ]
    },
    {
     "name": "stdout",
     "output_type": "stream",
     "text": [
      "\n"
     ]
    },
    {
     "name": "stdout",
     "output_type": "stream",
     "text": [
      " [776]"
     ]
    },
    {
     "name": "stdout",
     "output_type": "stream",
     "text": [
      " \"2021-03-29\""
     ]
    },
    {
     "name": "stdout",
     "output_type": "stream",
     "text": [
      " \"2021-03-29\""
     ]
    },
    {
     "name": "stdout",
     "output_type": "stream",
     "text": [
      " \"2021-03-29\""
     ]
    },
    {
     "name": "stdout",
     "output_type": "stream",
     "text": [
      " \"2021-03-29\""
     ]
    },
    {
     "name": "stdout",
     "output_type": "stream",
     "text": [
      " \"2021-03-29\""
     ]
    },
    {
     "name": "stdout",
     "output_type": "stream",
     "text": [
      "\n"
     ]
    },
    {
     "name": "stdout",
     "output_type": "stream",
     "text": [
      " [781]"
     ]
    },
    {
     "name": "stdout",
     "output_type": "stream",
     "text": [
      " \"2021-03-29\""
     ]
    },
    {
     "name": "stdout",
     "output_type": "stream",
     "text": [
      " \"2021-03-29\""
     ]
    },
    {
     "name": "stdout",
     "output_type": "stream",
     "text": [
      " \"2021-03-29\""
     ]
    },
    {
     "name": "stdout",
     "output_type": "stream",
     "text": [
      " \"2021-03-29\""
     ]
    },
    {
     "name": "stdout",
     "output_type": "stream",
     "text": [
      " \"2021-03-29\""
     ]
    },
    {
     "name": "stdout",
     "output_type": "stream",
     "text": [
      "\n"
     ]
    },
    {
     "name": "stdout",
     "output_type": "stream",
     "text": [
      " [786]"
     ]
    },
    {
     "name": "stdout",
     "output_type": "stream",
     "text": [
      " \"2021-03-29\""
     ]
    },
    {
     "name": "stdout",
     "output_type": "stream",
     "text": [
      " \"2021-03-29\""
     ]
    },
    {
     "name": "stdout",
     "output_type": "stream",
     "text": [
      " \"2021-03-29\""
     ]
    },
    {
     "name": "stdout",
     "output_type": "stream",
     "text": [
      " \"2021-03-29\""
     ]
    },
    {
     "name": "stdout",
     "output_type": "stream",
     "text": [
      " \"2021-03-29\""
     ]
    },
    {
     "name": "stdout",
     "output_type": "stream",
     "text": [
      "\n"
     ]
    },
    {
     "name": "stdout",
     "output_type": "stream",
     "text": [
      " [791]"
     ]
    },
    {
     "name": "stdout",
     "output_type": "stream",
     "text": [
      " \"2021-03-29\""
     ]
    },
    {
     "name": "stdout",
     "output_type": "stream",
     "text": [
      " \"2021-03-29\""
     ]
    },
    {
     "name": "stdout",
     "output_type": "stream",
     "text": [
      " \"2021-03-29\""
     ]
    },
    {
     "name": "stdout",
     "output_type": "stream",
     "text": [
      " \"2021-03-29\""
     ]
    },
    {
     "name": "stdout",
     "output_type": "stream",
     "text": [
      " \"2021-03-29\""
     ]
    },
    {
     "name": "stdout",
     "output_type": "stream",
     "text": [
      "\n"
     ]
    },
    {
     "name": "stdout",
     "output_type": "stream",
     "text": [
      " [796]"
     ]
    },
    {
     "name": "stdout",
     "output_type": "stream",
     "text": [
      " \"2021-03-29\""
     ]
    },
    {
     "name": "stdout",
     "output_type": "stream",
     "text": [
      " \"2021-03-29\""
     ]
    },
    {
     "name": "stdout",
     "output_type": "stream",
     "text": [
      " \"2021-03-29\""
     ]
    },
    {
     "name": "stdout",
     "output_type": "stream",
     "text": [
      " \"2021-03-29\""
     ]
    },
    {
     "name": "stdout",
     "output_type": "stream",
     "text": [
      " \"2021-03-29\""
     ]
    },
    {
     "name": "stdout",
     "output_type": "stream",
     "text": [
      "\n"
     ]
    },
    {
     "name": "stdout",
     "output_type": "stream",
     "text": [
      " [801]"
     ]
    },
    {
     "name": "stdout",
     "output_type": "stream",
     "text": [
      " \"2021-03-29\""
     ]
    },
    {
     "name": "stdout",
     "output_type": "stream",
     "text": [
      " \"2021-03-29\""
     ]
    },
    {
     "name": "stdout",
     "output_type": "stream",
     "text": [
      " \"2021-03-29\""
     ]
    },
    {
     "name": "stdout",
     "output_type": "stream",
     "text": [
      " \"2021-03-29\""
     ]
    },
    {
     "name": "stdout",
     "output_type": "stream",
     "text": [
      " \"2021-03-29\""
     ]
    },
    {
     "name": "stdout",
     "output_type": "stream",
     "text": [
      "\n"
     ]
    },
    {
     "name": "stdout",
     "output_type": "stream",
     "text": [
      " [806]"
     ]
    },
    {
     "name": "stdout",
     "output_type": "stream",
     "text": [
      " \"2021-03-29\""
     ]
    },
    {
     "name": "stdout",
     "output_type": "stream",
     "text": [
      " \"2021-03-29\""
     ]
    },
    {
     "name": "stdout",
     "output_type": "stream",
     "text": [
      " \"2021-03-29\""
     ]
    },
    {
     "name": "stdout",
     "output_type": "stream",
     "text": [
      " \"2021-03-29\""
     ]
    },
    {
     "name": "stdout",
     "output_type": "stream",
     "text": [
      " \"2021-03-29\""
     ]
    },
    {
     "name": "stdout",
     "output_type": "stream",
     "text": [
      "\n"
     ]
    },
    {
     "name": "stdout",
     "output_type": "stream",
     "text": [
      " [811]"
     ]
    },
    {
     "name": "stdout",
     "output_type": "stream",
     "text": [
      " \"2021-03-29\""
     ]
    },
    {
     "name": "stdout",
     "output_type": "stream",
     "text": [
      " \"2021-03-29\""
     ]
    },
    {
     "name": "stdout",
     "output_type": "stream",
     "text": [
      " \"2021-03-29\""
     ]
    },
    {
     "name": "stdout",
     "output_type": "stream",
     "text": [
      " \"2021-03-29\""
     ]
    },
    {
     "name": "stdout",
     "output_type": "stream",
     "text": [
      " \"2021-03-29\""
     ]
    },
    {
     "name": "stdout",
     "output_type": "stream",
     "text": [
      "\n"
     ]
    },
    {
     "name": "stdout",
     "output_type": "stream",
     "text": [
      " [816]"
     ]
    },
    {
     "name": "stdout",
     "output_type": "stream",
     "text": [
      " \"2021-03-29\""
     ]
    },
    {
     "name": "stdout",
     "output_type": "stream",
     "text": [
      " \"2021-03-29\""
     ]
    },
    {
     "name": "stdout",
     "output_type": "stream",
     "text": [
      " \"2021-03-29\""
     ]
    },
    {
     "name": "stdout",
     "output_type": "stream",
     "text": [
      " \"2021-03-29\""
     ]
    },
    {
     "name": "stdout",
     "output_type": "stream",
     "text": [
      " \"2021-03-29\""
     ]
    },
    {
     "name": "stdout",
     "output_type": "stream",
     "text": [
      "\n"
     ]
    },
    {
     "name": "stdout",
     "output_type": "stream",
     "text": [
      " [821]"
     ]
    },
    {
     "name": "stdout",
     "output_type": "stream",
     "text": [
      " \"2021-03-29\""
     ]
    },
    {
     "name": "stdout",
     "output_type": "stream",
     "text": [
      " \"2021-03-29\""
     ]
    },
    {
     "name": "stdout",
     "output_type": "stream",
     "text": [
      " \"2021-03-29\""
     ]
    },
    {
     "name": "stdout",
     "output_type": "stream",
     "text": [
      " \"2021-03-29\""
     ]
    },
    {
     "name": "stdout",
     "output_type": "stream",
     "text": [
      " \"2021-03-29\""
     ]
    },
    {
     "name": "stdout",
     "output_type": "stream",
     "text": [
      "\n"
     ]
    },
    {
     "name": "stdout",
     "output_type": "stream",
     "text": [
      " [826]"
     ]
    },
    {
     "name": "stdout",
     "output_type": "stream",
     "text": [
      " \"2021-03-29\""
     ]
    },
    {
     "name": "stdout",
     "output_type": "stream",
     "text": [
      " \"2021-03-29\""
     ]
    },
    {
     "name": "stdout",
     "output_type": "stream",
     "text": [
      " \"2021-03-29\""
     ]
    },
    {
     "name": "stdout",
     "output_type": "stream",
     "text": [
      " \"2021-04-05\""
     ]
    },
    {
     "name": "stdout",
     "output_type": "stream",
     "text": [
      " \"2021-04-05\""
     ]
    },
    {
     "name": "stdout",
     "output_type": "stream",
     "text": [
      "\n"
     ]
    },
    {
     "name": "stdout",
     "output_type": "stream",
     "text": [
      " [831]"
     ]
    },
    {
     "name": "stdout",
     "output_type": "stream",
     "text": [
      " \"2021-04-05\""
     ]
    },
    {
     "name": "stdout",
     "output_type": "stream",
     "text": [
      " \"2021-04-05\""
     ]
    },
    {
     "name": "stdout",
     "output_type": "stream",
     "text": [
      " \"2021-04-05\""
     ]
    },
    {
     "name": "stdout",
     "output_type": "stream",
     "text": [
      " \"2021-04-05\""
     ]
    },
    {
     "name": "stdout",
     "output_type": "stream",
     "text": [
      " \"2021-04-05\""
     ]
    },
    {
     "name": "stdout",
     "output_type": "stream",
     "text": [
      "\n"
     ]
    },
    {
     "name": "stdout",
     "output_type": "stream",
     "text": [
      " [836]"
     ]
    },
    {
     "name": "stdout",
     "output_type": "stream",
     "text": [
      " \"2021-04-05\""
     ]
    },
    {
     "name": "stdout",
     "output_type": "stream",
     "text": [
      " \"2021-04-05\""
     ]
    },
    {
     "name": "stdout",
     "output_type": "stream",
     "text": [
      " \"2021-04-05\""
     ]
    },
    {
     "name": "stdout",
     "output_type": "stream",
     "text": [
      " \"2021-04-05\""
     ]
    },
    {
     "name": "stdout",
     "output_type": "stream",
     "text": [
      " \"2021-04-05\""
     ]
    },
    {
     "name": "stdout",
     "output_type": "stream",
     "text": [
      "\n"
     ]
    },
    {
     "name": "stdout",
     "output_type": "stream",
     "text": [
      " [841]"
     ]
    },
    {
     "name": "stdout",
     "output_type": "stream",
     "text": [
      " \"2021-04-05\""
     ]
    },
    {
     "name": "stdout",
     "output_type": "stream",
     "text": [
      " \"2021-04-05\""
     ]
    },
    {
     "name": "stdout",
     "output_type": "stream",
     "text": [
      " \"2021-04-05\""
     ]
    },
    {
     "name": "stdout",
     "output_type": "stream",
     "text": [
      " \"2021-04-05\""
     ]
    },
    {
     "name": "stdout",
     "output_type": "stream",
     "text": [
      " \"2021-04-05\""
     ]
    },
    {
     "name": "stdout",
     "output_type": "stream",
     "text": [
      "\n"
     ]
    },
    {
     "name": "stdout",
     "output_type": "stream",
     "text": [
      " [846]"
     ]
    },
    {
     "name": "stdout",
     "output_type": "stream",
     "text": [
      " \"2021-04-05\""
     ]
    },
    {
     "name": "stdout",
     "output_type": "stream",
     "text": [
      " \"2021-04-05\""
     ]
    },
    {
     "name": "stdout",
     "output_type": "stream",
     "text": [
      " \"2021-04-05\""
     ]
    },
    {
     "name": "stdout",
     "output_type": "stream",
     "text": [
      " \"2021-04-05\""
     ]
    },
    {
     "name": "stdout",
     "output_type": "stream",
     "text": [
      " \"2021-04-05\""
     ]
    },
    {
     "name": "stdout",
     "output_type": "stream",
     "text": [
      "\n"
     ]
    },
    {
     "name": "stdout",
     "output_type": "stream",
     "text": [
      " [851]"
     ]
    },
    {
     "name": "stdout",
     "output_type": "stream",
     "text": [
      " \"2021-04-05\""
     ]
    },
    {
     "name": "stdout",
     "output_type": "stream",
     "text": [
      " \"2021-04-05\""
     ]
    },
    {
     "name": "stdout",
     "output_type": "stream",
     "text": [
      " \"2021-04-05\""
     ]
    },
    {
     "name": "stdout",
     "output_type": "stream",
     "text": [
      " \"2021-04-05\""
     ]
    },
    {
     "name": "stdout",
     "output_type": "stream",
     "text": [
      " \"2021-04-05\""
     ]
    },
    {
     "name": "stdout",
     "output_type": "stream",
     "text": [
      "\n"
     ]
    },
    {
     "name": "stdout",
     "output_type": "stream",
     "text": [
      " [856]"
     ]
    },
    {
     "name": "stdout",
     "output_type": "stream",
     "text": [
      " \"2021-04-05\""
     ]
    },
    {
     "name": "stdout",
     "output_type": "stream",
     "text": [
      " \"2021-04-05\""
     ]
    },
    {
     "name": "stdout",
     "output_type": "stream",
     "text": [
      " \"2021-04-05\""
     ]
    },
    {
     "name": "stdout",
     "output_type": "stream",
     "text": [
      " \"2021-04-05\""
     ]
    },
    {
     "name": "stdout",
     "output_type": "stream",
     "text": [
      " \"2021-04-05\""
     ]
    },
    {
     "name": "stdout",
     "output_type": "stream",
     "text": [
      "\n"
     ]
    },
    {
     "name": "stdout",
     "output_type": "stream",
     "text": [
      " [861]"
     ]
    },
    {
     "name": "stdout",
     "output_type": "stream",
     "text": [
      " \"2021-04-05\""
     ]
    },
    {
     "name": "stdout",
     "output_type": "stream",
     "text": [
      " \"2021-04-05\""
     ]
    },
    {
     "name": "stdout",
     "output_type": "stream",
     "text": [
      " \"2021-04-05\""
     ]
    },
    {
     "name": "stdout",
     "output_type": "stream",
     "text": [
      " \"2021-04-05\""
     ]
    },
    {
     "name": "stdout",
     "output_type": "stream",
     "text": [
      " \"2021-04-05\""
     ]
    },
    {
     "name": "stdout",
     "output_type": "stream",
     "text": [
      "\n"
     ]
    },
    {
     "name": "stdout",
     "output_type": "stream",
     "text": [
      " [866]"
     ]
    },
    {
     "name": "stdout",
     "output_type": "stream",
     "text": [
      " \"2021-04-05\""
     ]
    },
    {
     "name": "stdout",
     "output_type": "stream",
     "text": [
      " \"2021-04-05\""
     ]
    },
    {
     "name": "stdout",
     "output_type": "stream",
     "text": [
      " \"2021-04-05\""
     ]
    },
    {
     "name": "stdout",
     "output_type": "stream",
     "text": [
      " \"2021-04-05\""
     ]
    },
    {
     "name": "stdout",
     "output_type": "stream",
     "text": [
      " \"2021-04-05\""
     ]
    },
    {
     "name": "stdout",
     "output_type": "stream",
     "text": [
      "\n"
     ]
    },
    {
     "name": "stdout",
     "output_type": "stream",
     "text": [
      " [871]"
     ]
    },
    {
     "name": "stdout",
     "output_type": "stream",
     "text": [
      " \"2021-04-05\""
     ]
    },
    {
     "name": "stdout",
     "output_type": "stream",
     "text": [
      " \"2021-04-05\""
     ]
    },
    {
     "name": "stdout",
     "output_type": "stream",
     "text": [
      " \"2021-04-05\""
     ]
    },
    {
     "name": "stdout",
     "output_type": "stream",
     "text": [
      " \"2021-04-05\""
     ]
    },
    {
     "name": "stdout",
     "output_type": "stream",
     "text": [
      " \"2021-04-05\""
     ]
    },
    {
     "name": "stdout",
     "output_type": "stream",
     "text": [
      "\n"
     ]
    },
    {
     "name": "stdout",
     "output_type": "stream",
     "text": [
      " [876]"
     ]
    },
    {
     "name": "stdout",
     "output_type": "stream",
     "text": [
      " \"2021-04-05\""
     ]
    },
    {
     "name": "stdout",
     "output_type": "stream",
     "text": [
      " \"2021-04-05\""
     ]
    },
    {
     "name": "stdout",
     "output_type": "stream",
     "text": [
      " \"2021-04-05\""
     ]
    },
    {
     "name": "stdout",
     "output_type": "stream",
     "text": [
      " \"2021-04-05\""
     ]
    },
    {
     "name": "stdout",
     "output_type": "stream",
     "text": [
      " \"2021-04-05\""
     ]
    },
    {
     "name": "stdout",
     "output_type": "stream",
     "text": [
      "\n"
     ]
    },
    {
     "name": "stdout",
     "output_type": "stream",
     "text": [
      " [881]"
     ]
    },
    {
     "name": "stdout",
     "output_type": "stream",
     "text": [
      " \"2021-04-05\""
     ]
    },
    {
     "name": "stdout",
     "output_type": "stream",
     "text": [
      " \"2021-04-05\""
     ]
    },
    {
     "name": "stdout",
     "output_type": "stream",
     "text": [
      " \"2021-04-05\""
     ]
    },
    {
     "name": "stdout",
     "output_type": "stream",
     "text": [
      " \"2021-04-05\""
     ]
    },
    {
     "name": "stdout",
     "output_type": "stream",
     "text": [
      " \"2021-04-05\""
     ]
    },
    {
     "name": "stdout",
     "output_type": "stream",
     "text": [
      "\n"
     ]
    },
    {
     "name": "stdout",
     "output_type": "stream",
     "text": [
      " [886]"
     ]
    },
    {
     "name": "stdout",
     "output_type": "stream",
     "text": [
      " \"2021-04-05\""
     ]
    },
    {
     "name": "stdout",
     "output_type": "stream",
     "text": [
      " \"2021-04-05\""
     ]
    },
    {
     "name": "stdout",
     "output_type": "stream",
     "text": [
      " \"2021-04-05\""
     ]
    },
    {
     "name": "stdout",
     "output_type": "stream",
     "text": [
      " \"2021-04-05\""
     ]
    },
    {
     "name": "stdout",
     "output_type": "stream",
     "text": [
      " \"2021-04-05\""
     ]
    },
    {
     "name": "stdout",
     "output_type": "stream",
     "text": [
      "\n"
     ]
    },
    {
     "name": "stdout",
     "output_type": "stream",
     "text": [
      " [891]"
     ]
    },
    {
     "name": "stdout",
     "output_type": "stream",
     "text": [
      " \"2021-04-05\""
     ]
    },
    {
     "name": "stdout",
     "output_type": "stream",
     "text": [
      " \"2021-04-05\""
     ]
    },
    {
     "name": "stdout",
     "output_type": "stream",
     "text": [
      " \"2021-04-05\""
     ]
    },
    {
     "name": "stdout",
     "output_type": "stream",
     "text": [
      " \"2021-04-05\""
     ]
    },
    {
     "name": "stdout",
     "output_type": "stream",
     "text": [
      " \"2021-04-05\""
     ]
    },
    {
     "name": "stdout",
     "output_type": "stream",
     "text": [
      "\n"
     ]
    },
    {
     "name": "stdout",
     "output_type": "stream",
     "text": [
      " [896]"
     ]
    },
    {
     "name": "stdout",
     "output_type": "stream",
     "text": [
      " \"2021-04-05\""
     ]
    },
    {
     "name": "stdout",
     "output_type": "stream",
     "text": [
      " \"2021-04-05\""
     ]
    },
    {
     "name": "stdout",
     "output_type": "stream",
     "text": [
      " \"2021-04-12\""
     ]
    },
    {
     "name": "stdout",
     "output_type": "stream",
     "text": [
      " \"2021-04-12\""
     ]
    },
    {
     "name": "stdout",
     "output_type": "stream",
     "text": [
      " \"2021-04-12\""
     ]
    },
    {
     "name": "stdout",
     "output_type": "stream",
     "text": [
      "\n"
     ]
    },
    {
     "name": "stdout",
     "output_type": "stream",
     "text": [
      " [901]"
     ]
    },
    {
     "name": "stdout",
     "output_type": "stream",
     "text": [
      " \"2021-04-12\""
     ]
    },
    {
     "name": "stdout",
     "output_type": "stream",
     "text": [
      " \"2021-04-12\""
     ]
    },
    {
     "name": "stdout",
     "output_type": "stream",
     "text": [
      " \"2021-04-12\""
     ]
    },
    {
     "name": "stdout",
     "output_type": "stream",
     "text": [
      " \"2021-04-12\""
     ]
    },
    {
     "name": "stdout",
     "output_type": "stream",
     "text": [
      " \"2021-04-12\""
     ]
    },
    {
     "name": "stdout",
     "output_type": "stream",
     "text": [
      "\n"
     ]
    },
    {
     "name": "stdout",
     "output_type": "stream",
     "text": [
      " [906]"
     ]
    },
    {
     "name": "stdout",
     "output_type": "stream",
     "text": [
      " \"2021-04-12\""
     ]
    },
    {
     "name": "stdout",
     "output_type": "stream",
     "text": [
      " \"2021-04-12\""
     ]
    },
    {
     "name": "stdout",
     "output_type": "stream",
     "text": [
      " \"2021-04-12\""
     ]
    },
    {
     "name": "stdout",
     "output_type": "stream",
     "text": [
      " \"2021-04-12\""
     ]
    },
    {
     "name": "stdout",
     "output_type": "stream",
     "text": [
      " \"2021-04-12\""
     ]
    },
    {
     "name": "stdout",
     "output_type": "stream",
     "text": [
      "\n"
     ]
    },
    {
     "name": "stdout",
     "output_type": "stream",
     "text": [
      " [911]"
     ]
    },
    {
     "name": "stdout",
     "output_type": "stream",
     "text": [
      " \"2021-04-12\""
     ]
    },
    {
     "name": "stdout",
     "output_type": "stream",
     "text": [
      " \"2021-04-12\""
     ]
    },
    {
     "name": "stdout",
     "output_type": "stream",
     "text": [
      " \"2021-04-12\""
     ]
    },
    {
     "name": "stdout",
     "output_type": "stream",
     "text": [
      " \"2021-04-12\""
     ]
    },
    {
     "name": "stdout",
     "output_type": "stream",
     "text": [
      " \"2021-04-12\""
     ]
    },
    {
     "name": "stdout",
     "output_type": "stream",
     "text": [
      "\n"
     ]
    },
    {
     "name": "stdout",
     "output_type": "stream",
     "text": [
      " [916]"
     ]
    },
    {
     "name": "stdout",
     "output_type": "stream",
     "text": [
      " \"2021-04-12\""
     ]
    },
    {
     "name": "stdout",
     "output_type": "stream",
     "text": [
      " \"2021-04-12\""
     ]
    },
    {
     "name": "stdout",
     "output_type": "stream",
     "text": [
      " \"2021-04-12\""
     ]
    },
    {
     "name": "stdout",
     "output_type": "stream",
     "text": [
      " \"2021-04-12\""
     ]
    },
    {
     "name": "stdout",
     "output_type": "stream",
     "text": [
      " \"2021-04-12\""
     ]
    },
    {
     "name": "stdout",
     "output_type": "stream",
     "text": [
      "\n"
     ]
    },
    {
     "name": "stdout",
     "output_type": "stream",
     "text": [
      " [921]"
     ]
    },
    {
     "name": "stdout",
     "output_type": "stream",
     "text": [
      " \"2021-04-12\""
     ]
    },
    {
     "name": "stdout",
     "output_type": "stream",
     "text": [
      " \"2021-04-12\""
     ]
    },
    {
     "name": "stdout",
     "output_type": "stream",
     "text": [
      " \"2021-04-12\""
     ]
    },
    {
     "name": "stdout",
     "output_type": "stream",
     "text": [
      " \"2021-04-12\""
     ]
    },
    {
     "name": "stdout",
     "output_type": "stream",
     "text": [
      " \"2021-04-12\""
     ]
    },
    {
     "name": "stdout",
     "output_type": "stream",
     "text": [
      "\n"
     ]
    },
    {
     "name": "stdout",
     "output_type": "stream",
     "text": [
      " [926]"
     ]
    },
    {
     "name": "stdout",
     "output_type": "stream",
     "text": [
      " \"2021-04-12\""
     ]
    },
    {
     "name": "stdout",
     "output_type": "stream",
     "text": [
      " \"2021-04-12\""
     ]
    },
    {
     "name": "stdout",
     "output_type": "stream",
     "text": [
      " \"2021-04-12\""
     ]
    },
    {
     "name": "stdout",
     "output_type": "stream",
     "text": [
      " \"2021-04-12\""
     ]
    },
    {
     "name": "stdout",
     "output_type": "stream",
     "text": [
      " \"2021-04-12\""
     ]
    },
    {
     "name": "stdout",
     "output_type": "stream",
     "text": [
      "\n"
     ]
    },
    {
     "name": "stdout",
     "output_type": "stream",
     "text": [
      " [931]"
     ]
    },
    {
     "name": "stdout",
     "output_type": "stream",
     "text": [
      " \"2021-04-12\""
     ]
    },
    {
     "name": "stdout",
     "output_type": "stream",
     "text": [
      " \"2021-04-12\""
     ]
    },
    {
     "name": "stdout",
     "output_type": "stream",
     "text": [
      " \"2021-04-12\""
     ]
    },
    {
     "name": "stdout",
     "output_type": "stream",
     "text": [
      " \"2021-04-12\""
     ]
    },
    {
     "name": "stdout",
     "output_type": "stream",
     "text": [
      " \"2021-04-12\""
     ]
    },
    {
     "name": "stdout",
     "output_type": "stream",
     "text": [
      "\n"
     ]
    },
    {
     "name": "stdout",
     "output_type": "stream",
     "text": [
      " [936]"
     ]
    },
    {
     "name": "stdout",
     "output_type": "stream",
     "text": [
      " \"2021-04-12\""
     ]
    },
    {
     "name": "stdout",
     "output_type": "stream",
     "text": [
      " \"2021-04-12\""
     ]
    },
    {
     "name": "stdout",
     "output_type": "stream",
     "text": [
      " \"2021-04-12\""
     ]
    },
    {
     "name": "stdout",
     "output_type": "stream",
     "text": [
      " \"2021-04-12\""
     ]
    },
    {
     "name": "stdout",
     "output_type": "stream",
     "text": [
      " \"2021-04-12\""
     ]
    },
    {
     "name": "stdout",
     "output_type": "stream",
     "text": [
      "\n"
     ]
    },
    {
     "name": "stdout",
     "output_type": "stream",
     "text": [
      " [941]"
     ]
    },
    {
     "name": "stdout",
     "output_type": "stream",
     "text": [
      " \"2021-04-12\""
     ]
    },
    {
     "name": "stdout",
     "output_type": "stream",
     "text": [
      " \"2021-04-12\""
     ]
    },
    {
     "name": "stdout",
     "output_type": "stream",
     "text": [
      " \"2021-04-12\""
     ]
    },
    {
     "name": "stdout",
     "output_type": "stream",
     "text": [
      " \"2021-04-12\""
     ]
    },
    {
     "name": "stdout",
     "output_type": "stream",
     "text": [
      " \"2021-04-12\""
     ]
    },
    {
     "name": "stdout",
     "output_type": "stream",
     "text": [
      "\n"
     ]
    },
    {
     "name": "stdout",
     "output_type": "stream",
     "text": [
      " [946]"
     ]
    },
    {
     "name": "stdout",
     "output_type": "stream",
     "text": [
      " \"2021-04-12\""
     ]
    },
    {
     "name": "stdout",
     "output_type": "stream",
     "text": [
      " \"2021-04-12\""
     ]
    },
    {
     "name": "stdout",
     "output_type": "stream",
     "text": [
      " \"2021-04-12\""
     ]
    },
    {
     "name": "stdout",
     "output_type": "stream",
     "text": [
      " \"2021-04-12\""
     ]
    },
    {
     "name": "stdout",
     "output_type": "stream",
     "text": [
      " \"2021-04-12\""
     ]
    },
    {
     "name": "stdout",
     "output_type": "stream",
     "text": [
      "\n"
     ]
    },
    {
     "name": "stdout",
     "output_type": "stream",
     "text": [
      " [951]"
     ]
    },
    {
     "name": "stdout",
     "output_type": "stream",
     "text": [
      " \"2021-04-12\""
     ]
    },
    {
     "name": "stdout",
     "output_type": "stream",
     "text": [
      " \"2021-04-12\""
     ]
    },
    {
     "name": "stdout",
     "output_type": "stream",
     "text": [
      " \"2021-04-12\""
     ]
    },
    {
     "name": "stdout",
     "output_type": "stream",
     "text": [
      " \"2021-04-12\""
     ]
    },
    {
     "name": "stdout",
     "output_type": "stream",
     "text": [
      " \"2021-04-12\""
     ]
    },
    {
     "name": "stdout",
     "output_type": "stream",
     "text": [
      "\n"
     ]
    },
    {
     "name": "stdout",
     "output_type": "stream",
     "text": [
      " [956]"
     ]
    },
    {
     "name": "stdout",
     "output_type": "stream",
     "text": [
      " \"2021-04-12\""
     ]
    },
    {
     "name": "stdout",
     "output_type": "stream",
     "text": [
      " \"2021-04-12\""
     ]
    },
    {
     "name": "stdout",
     "output_type": "stream",
     "text": [
      " \"2021-04-12\""
     ]
    },
    {
     "name": "stdout",
     "output_type": "stream",
     "text": [
      " \"2021-04-12\""
     ]
    },
    {
     "name": "stdout",
     "output_type": "stream",
     "text": [
      " \"2021-04-12\""
     ]
    },
    {
     "name": "stdout",
     "output_type": "stream",
     "text": [
      "\n"
     ]
    },
    {
     "name": "stdout",
     "output_type": "stream",
     "text": [
      " [961]"
     ]
    },
    {
     "name": "stdout",
     "output_type": "stream",
     "text": [
      " \"2021-04-12\""
     ]
    },
    {
     "name": "stdout",
     "output_type": "stream",
     "text": [
      " \"2021-04-12\""
     ]
    },
    {
     "name": "stdout",
     "output_type": "stream",
     "text": [
      " \"2021-04-12\""
     ]
    },
    {
     "name": "stdout",
     "output_type": "stream",
     "text": [
      " \"2021-04-12\""
     ]
    },
    {
     "name": "stdout",
     "output_type": "stream",
     "text": [
      " \"2021-04-12\""
     ]
    },
    {
     "name": "stdout",
     "output_type": "stream",
     "text": [
      "\n"
     ]
    },
    {
     "name": "stdout",
     "output_type": "stream",
     "text": [
      " [966]"
     ]
    },
    {
     "name": "stdout",
     "output_type": "stream",
     "text": [
      " \"2021-04-12\""
     ]
    },
    {
     "name": "stdout",
     "output_type": "stream",
     "text": [
      " \"2021-04-19\""
     ]
    },
    {
     "name": "stdout",
     "output_type": "stream",
     "text": [
      " \"2021-04-19\""
     ]
    },
    {
     "name": "stdout",
     "output_type": "stream",
     "text": [
      " \"2021-04-19\""
     ]
    },
    {
     "name": "stdout",
     "output_type": "stream",
     "text": [
      " \"2021-04-19\""
     ]
    },
    {
     "name": "stdout",
     "output_type": "stream",
     "text": [
      "\n"
     ]
    },
    {
     "name": "stdout",
     "output_type": "stream",
     "text": [
      " [971]"
     ]
    },
    {
     "name": "stdout",
     "output_type": "stream",
     "text": [
      " \"2021-04-19\""
     ]
    },
    {
     "name": "stdout",
     "output_type": "stream",
     "text": [
      " \"2021-04-19\""
     ]
    },
    {
     "name": "stdout",
     "output_type": "stream",
     "text": [
      " \"2021-04-19\""
     ]
    },
    {
     "name": "stdout",
     "output_type": "stream",
     "text": [
      " \"2021-04-19\""
     ]
    },
    {
     "name": "stdout",
     "output_type": "stream",
     "text": [
      " \"2021-04-19\""
     ]
    },
    {
     "name": "stdout",
     "output_type": "stream",
     "text": [
      "\n"
     ]
    },
    {
     "name": "stdout",
     "output_type": "stream",
     "text": [
      " [976]"
     ]
    },
    {
     "name": "stdout",
     "output_type": "stream",
     "text": [
      " \"2021-04-19\""
     ]
    },
    {
     "name": "stdout",
     "output_type": "stream",
     "text": [
      " \"2021-04-19\""
     ]
    },
    {
     "name": "stdout",
     "output_type": "stream",
     "text": [
      " \"2021-04-19\""
     ]
    },
    {
     "name": "stdout",
     "output_type": "stream",
     "text": [
      " \"2021-04-19\""
     ]
    },
    {
     "name": "stdout",
     "output_type": "stream",
     "text": [
      " \"2021-04-19\""
     ]
    },
    {
     "name": "stdout",
     "output_type": "stream",
     "text": [
      "\n"
     ]
    },
    {
     "name": "stdout",
     "output_type": "stream",
     "text": [
      " [981]"
     ]
    },
    {
     "name": "stdout",
     "output_type": "stream",
     "text": [
      " \"2021-04-19\""
     ]
    },
    {
     "name": "stdout",
     "output_type": "stream",
     "text": [
      " \"2021-04-19\""
     ]
    },
    {
     "name": "stdout",
     "output_type": "stream",
     "text": [
      " \"2021-04-19\""
     ]
    },
    {
     "name": "stdout",
     "output_type": "stream",
     "text": [
      " \"2021-04-19\""
     ]
    },
    {
     "name": "stdout",
     "output_type": "stream",
     "text": [
      " \"2021-04-19\""
     ]
    },
    {
     "name": "stdout",
     "output_type": "stream",
     "text": [
      "\n"
     ]
    },
    {
     "name": "stdout",
     "output_type": "stream",
     "text": [
      " [986]"
     ]
    },
    {
     "name": "stdout",
     "output_type": "stream",
     "text": [
      " \"2021-04-19\""
     ]
    },
    {
     "name": "stdout",
     "output_type": "stream",
     "text": [
      " \"2021-04-19\""
     ]
    },
    {
     "name": "stdout",
     "output_type": "stream",
     "text": [
      " \"2021-04-19\""
     ]
    },
    {
     "name": "stdout",
     "output_type": "stream",
     "text": [
      " \"2021-04-19\""
     ]
    },
    {
     "name": "stdout",
     "output_type": "stream",
     "text": [
      " \"2021-04-19\""
     ]
    },
    {
     "name": "stdout",
     "output_type": "stream",
     "text": [
      "\n"
     ]
    },
    {
     "name": "stdout",
     "output_type": "stream",
     "text": [
      " [991]"
     ]
    },
    {
     "name": "stdout",
     "output_type": "stream",
     "text": [
      " \"2021-04-19\""
     ]
    },
    {
     "name": "stdout",
     "output_type": "stream",
     "text": [
      " \"2021-04-19\""
     ]
    },
    {
     "name": "stdout",
     "output_type": "stream",
     "text": [
      " \"2021-04-19\""
     ]
    },
    {
     "name": "stdout",
     "output_type": "stream",
     "text": [
      " \"2021-04-19\""
     ]
    },
    {
     "name": "stdout",
     "output_type": "stream",
     "text": [
      " \"2021-04-19\""
     ]
    },
    {
     "name": "stdout",
     "output_type": "stream",
     "text": [
      "\n"
     ]
    },
    {
     "name": "stdout",
     "output_type": "stream",
     "text": [
      " [996]"
     ]
    },
    {
     "name": "stdout",
     "output_type": "stream",
     "text": [
      " \"2021-04-19\""
     ]
    },
    {
     "name": "stdout",
     "output_type": "stream",
     "text": [
      " \"2021-04-19\""
     ]
    },
    {
     "name": "stdout",
     "output_type": "stream",
     "text": [
      " \"2021-04-19\""
     ]
    },
    {
     "name": "stdout",
     "output_type": "stream",
     "text": [
      " \"2021-04-19\""
     ]
    },
    {
     "name": "stdout",
     "output_type": "stream",
     "text": [
      " \"2021-04-19\""
     ]
    },
    {
     "name": "stdout",
     "output_type": "stream",
     "text": [
      "\n"
     ]
    },
    {
     "name": "stdout",
     "output_type": "stream",
     "text": [
      "[1001]"
     ]
    },
    {
     "name": "stdout",
     "output_type": "stream",
     "text": [
      " \"2021-04-19\""
     ]
    },
    {
     "name": "stdout",
     "output_type": "stream",
     "text": [
      " \"2021-04-19\""
     ]
    },
    {
     "name": "stdout",
     "output_type": "stream",
     "text": [
      " \"2021-04-19\""
     ]
    },
    {
     "name": "stdout",
     "output_type": "stream",
     "text": [
      " \"2021-04-19\""
     ]
    },
    {
     "name": "stdout",
     "output_type": "stream",
     "text": [
      " \"2021-04-19\""
     ]
    },
    {
     "name": "stdout",
     "output_type": "stream",
     "text": [
      "\n"
     ]
    },
    {
     "name": "stdout",
     "output_type": "stream",
     "text": [
      "[1006]"
     ]
    },
    {
     "name": "stdout",
     "output_type": "stream",
     "text": [
      " \"2021-04-19\""
     ]
    },
    {
     "name": "stdout",
     "output_type": "stream",
     "text": [
      " \"2021-04-19\""
     ]
    },
    {
     "name": "stdout",
     "output_type": "stream",
     "text": [
      " \"2021-04-19\""
     ]
    },
    {
     "name": "stdout",
     "output_type": "stream",
     "text": [
      " \"2021-04-19\""
     ]
    },
    {
     "name": "stdout",
     "output_type": "stream",
     "text": [
      " \"2021-04-19\""
     ]
    },
    {
     "name": "stdout",
     "output_type": "stream",
     "text": [
      "\n"
     ]
    },
    {
     "name": "stdout",
     "output_type": "stream",
     "text": [
      "[1011]"
     ]
    },
    {
     "name": "stdout",
     "output_type": "stream",
     "text": [
      " \"2021-04-19\""
     ]
    },
    {
     "name": "stdout",
     "output_type": "stream",
     "text": [
      " \"2021-04-19\""
     ]
    },
    {
     "name": "stdout",
     "output_type": "stream",
     "text": [
      " \"2021-04-19\""
     ]
    },
    {
     "name": "stdout",
     "output_type": "stream",
     "text": [
      " \"2021-04-19\""
     ]
    },
    {
     "name": "stdout",
     "output_type": "stream",
     "text": [
      " \"2021-04-19\""
     ]
    },
    {
     "name": "stdout",
     "output_type": "stream",
     "text": [
      "\n"
     ]
    },
    {
     "name": "stdout",
     "output_type": "stream",
     "text": [
      "[1016]"
     ]
    },
    {
     "name": "stdout",
     "output_type": "stream",
     "text": [
      " \"2021-04-19\""
     ]
    },
    {
     "name": "stdout",
     "output_type": "stream",
     "text": [
      " \"2021-04-19\""
     ]
    },
    {
     "name": "stdout",
     "output_type": "stream",
     "text": [
      " \"2021-04-19\""
     ]
    },
    {
     "name": "stdout",
     "output_type": "stream",
     "text": [
      " \"2021-04-19\""
     ]
    },
    {
     "name": "stdout",
     "output_type": "stream",
     "text": [
      " \"2021-04-19\""
     ]
    },
    {
     "name": "stdout",
     "output_type": "stream",
     "text": [
      "\n"
     ]
    },
    {
     "name": "stdout",
     "output_type": "stream",
     "text": [
      "[1021]"
     ]
    },
    {
     "name": "stdout",
     "output_type": "stream",
     "text": [
      " \"2021-04-19\""
     ]
    },
    {
     "name": "stdout",
     "output_type": "stream",
     "text": [
      " \"2021-04-19\""
     ]
    },
    {
     "name": "stdout",
     "output_type": "stream",
     "text": [
      " \"2021-04-19\""
     ]
    },
    {
     "name": "stdout",
     "output_type": "stream",
     "text": [
      " \"2021-04-19\""
     ]
    },
    {
     "name": "stdout",
     "output_type": "stream",
     "text": [
      " \"2021-04-19\""
     ]
    },
    {
     "name": "stdout",
     "output_type": "stream",
     "text": [
      "\n"
     ]
    },
    {
     "name": "stdout",
     "output_type": "stream",
     "text": [
      "[1026]"
     ]
    },
    {
     "name": "stdout",
     "output_type": "stream",
     "text": [
      " \"2021-04-19\""
     ]
    },
    {
     "name": "stdout",
     "output_type": "stream",
     "text": [
      " \"2021-04-19\""
     ]
    },
    {
     "name": "stdout",
     "output_type": "stream",
     "text": [
      " \"2021-04-19\""
     ]
    },
    {
     "name": "stdout",
     "output_type": "stream",
     "text": [
      " \"2021-04-19\""
     ]
    },
    {
     "name": "stdout",
     "output_type": "stream",
     "text": [
      " \"2021-04-19\""
     ]
    },
    {
     "name": "stdout",
     "output_type": "stream",
     "text": [
      "\n"
     ]
    },
    {
     "name": "stdout",
     "output_type": "stream",
     "text": [
      "[1031]"
     ]
    },
    {
     "name": "stdout",
     "output_type": "stream",
     "text": [
      " \"2021-04-19\""
     ]
    },
    {
     "name": "stdout",
     "output_type": "stream",
     "text": [
      " \"2021-04-19\""
     ]
    },
    {
     "name": "stdout",
     "output_type": "stream",
     "text": [
      " \"2021-04-19\""
     ]
    },
    {
     "name": "stdout",
     "output_type": "stream",
     "text": [
      " \"2021-04-19\""
     ]
    },
    {
     "name": "stdout",
     "output_type": "stream",
     "text": [
      " \"2021-04-19\""
     ]
    },
    {
     "name": "stdout",
     "output_type": "stream",
     "text": [
      "\n"
     ]
    },
    {
     "name": "stdout",
     "output_type": "stream",
     "text": [
      "[1036]"
     ]
    },
    {
     "name": "stdout",
     "output_type": "stream",
     "text": [
      " \"2021-04-26\""
     ]
    },
    {
     "name": "stdout",
     "output_type": "stream",
     "text": [
      " \"2021-04-26\""
     ]
    },
    {
     "name": "stdout",
     "output_type": "stream",
     "text": [
      " \"2021-04-26\""
     ]
    },
    {
     "name": "stdout",
     "output_type": "stream",
     "text": [
      " \"2021-04-26\""
     ]
    },
    {
     "name": "stdout",
     "output_type": "stream",
     "text": [
      " \"2021-04-26\""
     ]
    },
    {
     "name": "stdout",
     "output_type": "stream",
     "text": [
      "\n"
     ]
    },
    {
     "name": "stdout",
     "output_type": "stream",
     "text": [
      "[1041]"
     ]
    },
    {
     "name": "stdout",
     "output_type": "stream",
     "text": [
      " \"2021-04-26\""
     ]
    },
    {
     "name": "stdout",
     "output_type": "stream",
     "text": [
      " \"2021-04-26\""
     ]
    },
    {
     "name": "stdout",
     "output_type": "stream",
     "text": [
      " \"2021-04-26\""
     ]
    },
    {
     "name": "stdout",
     "output_type": "stream",
     "text": [
      " \"2021-04-26\""
     ]
    },
    {
     "name": "stdout",
     "output_type": "stream",
     "text": [
      " \"2021-04-26\""
     ]
    },
    {
     "name": "stdout",
     "output_type": "stream",
     "text": [
      "\n"
     ]
    },
    {
     "name": "stdout",
     "output_type": "stream",
     "text": [
      "[1046]"
     ]
    },
    {
     "name": "stdout",
     "output_type": "stream",
     "text": [
      " \"2021-04-26\""
     ]
    },
    {
     "name": "stdout",
     "output_type": "stream",
     "text": [
      " \"2021-04-26\""
     ]
    },
    {
     "name": "stdout",
     "output_type": "stream",
     "text": [
      " \"2021-04-26\""
     ]
    },
    {
     "name": "stdout",
     "output_type": "stream",
     "text": [
      " \"2021-04-26\""
     ]
    },
    {
     "name": "stdout",
     "output_type": "stream",
     "text": [
      " \"2021-04-26\""
     ]
    },
    {
     "name": "stdout",
     "output_type": "stream",
     "text": [
      "\n"
     ]
    },
    {
     "name": "stdout",
     "output_type": "stream",
     "text": [
      "[1051]"
     ]
    },
    {
     "name": "stdout",
     "output_type": "stream",
     "text": [
      " \"2021-04-26\""
     ]
    },
    {
     "name": "stdout",
     "output_type": "stream",
     "text": [
      " \"2021-04-26\""
     ]
    },
    {
     "name": "stdout",
     "output_type": "stream",
     "text": [
      " \"2021-04-26\""
     ]
    },
    {
     "name": "stdout",
     "output_type": "stream",
     "text": [
      " \"2021-04-26\""
     ]
    },
    {
     "name": "stdout",
     "output_type": "stream",
     "text": [
      " \"2021-04-26\""
     ]
    },
    {
     "name": "stdout",
     "output_type": "stream",
     "text": [
      "\n"
     ]
    },
    {
     "name": "stdout",
     "output_type": "stream",
     "text": [
      "[1056]"
     ]
    },
    {
     "name": "stdout",
     "output_type": "stream",
     "text": [
      " \"2021-04-26\""
     ]
    },
    {
     "name": "stdout",
     "output_type": "stream",
     "text": [
      " \"2021-04-26\""
     ]
    },
    {
     "name": "stdout",
     "output_type": "stream",
     "text": [
      " \"2021-04-26\""
     ]
    },
    {
     "name": "stdout",
     "output_type": "stream",
     "text": [
      " \"2021-04-26\""
     ]
    },
    {
     "name": "stdout",
     "output_type": "stream",
     "text": [
      " \"2021-04-26\""
     ]
    },
    {
     "name": "stdout",
     "output_type": "stream",
     "text": [
      "\n"
     ]
    },
    {
     "name": "stdout",
     "output_type": "stream",
     "text": [
      "[1061]"
     ]
    },
    {
     "name": "stdout",
     "output_type": "stream",
     "text": [
      " \"2021-04-26\""
     ]
    },
    {
     "name": "stdout",
     "output_type": "stream",
     "text": [
      " \"2021-04-26\""
     ]
    },
    {
     "name": "stdout",
     "output_type": "stream",
     "text": [
      " \"2021-04-26\""
     ]
    },
    {
     "name": "stdout",
     "output_type": "stream",
     "text": [
      " \"2021-04-26\""
     ]
    },
    {
     "name": "stdout",
     "output_type": "stream",
     "text": [
      " \"2021-04-26\""
     ]
    },
    {
     "name": "stdout",
     "output_type": "stream",
     "text": [
      "\n"
     ]
    },
    {
     "name": "stdout",
     "output_type": "stream",
     "text": [
      "[1066]"
     ]
    },
    {
     "name": "stdout",
     "output_type": "stream",
     "text": [
      " \"2021-04-26\""
     ]
    },
    {
     "name": "stdout",
     "output_type": "stream",
     "text": [
      " \"2021-04-26\""
     ]
    },
    {
     "name": "stdout",
     "output_type": "stream",
     "text": [
      " \"2021-04-26\""
     ]
    },
    {
     "name": "stdout",
     "output_type": "stream",
     "text": [
      " \"2021-04-26\""
     ]
    },
    {
     "name": "stdout",
     "output_type": "stream",
     "text": [
      " \"2021-04-26\""
     ]
    },
    {
     "name": "stdout",
     "output_type": "stream",
     "text": [
      "\n"
     ]
    },
    {
     "name": "stdout",
     "output_type": "stream",
     "text": [
      "[1071]"
     ]
    },
    {
     "name": "stdout",
     "output_type": "stream",
     "text": [
      " \"2021-04-26\""
     ]
    },
    {
     "name": "stdout",
     "output_type": "stream",
     "text": [
      " \"2021-04-26\""
     ]
    },
    {
     "name": "stdout",
     "output_type": "stream",
     "text": [
      " \"2021-04-26\""
     ]
    },
    {
     "name": "stdout",
     "output_type": "stream",
     "text": [
      " \"2021-04-26\""
     ]
    },
    {
     "name": "stdout",
     "output_type": "stream",
     "text": [
      " \"2021-04-26\""
     ]
    },
    {
     "name": "stdout",
     "output_type": "stream",
     "text": [
      "\n"
     ]
    },
    {
     "name": "stdout",
     "output_type": "stream",
     "text": [
      "[1076]"
     ]
    },
    {
     "name": "stdout",
     "output_type": "stream",
     "text": [
      " \"2021-04-26\""
     ]
    },
    {
     "name": "stdout",
     "output_type": "stream",
     "text": [
      " \"2021-04-26\""
     ]
    },
    {
     "name": "stdout",
     "output_type": "stream",
     "text": [
      " \"2021-04-26\""
     ]
    },
    {
     "name": "stdout",
     "output_type": "stream",
     "text": [
      " \"2021-04-26\""
     ]
    },
    {
     "name": "stdout",
     "output_type": "stream",
     "text": [
      " \"2021-04-26\""
     ]
    },
    {
     "name": "stdout",
     "output_type": "stream",
     "text": [
      "\n"
     ]
    },
    {
     "name": "stdout",
     "output_type": "stream",
     "text": [
      "[1081]"
     ]
    },
    {
     "name": "stdout",
     "output_type": "stream",
     "text": [
      " \"2021-04-26\""
     ]
    },
    {
     "name": "stdout",
     "output_type": "stream",
     "text": [
      " \"2021-04-26\""
     ]
    },
    {
     "name": "stdout",
     "output_type": "stream",
     "text": [
      " \"2021-04-26\""
     ]
    },
    {
     "name": "stdout",
     "output_type": "stream",
     "text": [
      " \"2021-04-26\""
     ]
    },
    {
     "name": "stdout",
     "output_type": "stream",
     "text": [
      " \"2021-04-26\""
     ]
    },
    {
     "name": "stdout",
     "output_type": "stream",
     "text": [
      "\n"
     ]
    },
    {
     "name": "stdout",
     "output_type": "stream",
     "text": [
      "[1086]"
     ]
    },
    {
     "name": "stdout",
     "output_type": "stream",
     "text": [
      " \"2021-04-26\""
     ]
    },
    {
     "name": "stdout",
     "output_type": "stream",
     "text": [
      " \"2021-04-26\""
     ]
    },
    {
     "name": "stdout",
     "output_type": "stream",
     "text": [
      " \"2021-04-26\""
     ]
    },
    {
     "name": "stdout",
     "output_type": "stream",
     "text": [
      " \"2021-04-26\""
     ]
    },
    {
     "name": "stdout",
     "output_type": "stream",
     "text": [
      " \"2021-04-26\""
     ]
    },
    {
     "name": "stdout",
     "output_type": "stream",
     "text": [
      "\n"
     ]
    },
    {
     "name": "stdout",
     "output_type": "stream",
     "text": [
      "[1091]"
     ]
    },
    {
     "name": "stdout",
     "output_type": "stream",
     "text": [
      " \"2021-04-26\""
     ]
    },
    {
     "name": "stdout",
     "output_type": "stream",
     "text": [
      " \"2021-04-26\""
     ]
    },
    {
     "name": "stdout",
     "output_type": "stream",
     "text": [
      " \"2021-04-26\""
     ]
    },
    {
     "name": "stdout",
     "output_type": "stream",
     "text": [
      " \"2021-04-26\""
     ]
    },
    {
     "name": "stdout",
     "output_type": "stream",
     "text": [
      " \"2021-04-26\""
     ]
    },
    {
     "name": "stdout",
     "output_type": "stream",
     "text": [
      "\n"
     ]
    },
    {
     "name": "stdout",
     "output_type": "stream",
     "text": [
      "[1096]"
     ]
    },
    {
     "name": "stdout",
     "output_type": "stream",
     "text": [
      " \"2021-04-26\""
     ]
    },
    {
     "name": "stdout",
     "output_type": "stream",
     "text": [
      " \"2021-04-26\""
     ]
    },
    {
     "name": "stdout",
     "output_type": "stream",
     "text": [
      " \"2021-04-26\""
     ]
    },
    {
     "name": "stdout",
     "output_type": "stream",
     "text": [
      " \"2021-04-26\""
     ]
    },
    {
     "name": "stdout",
     "output_type": "stream",
     "text": [
      " \"2021-04-26\""
     ]
    },
    {
     "name": "stdout",
     "output_type": "stream",
     "text": [
      "\n"
     ]
    },
    {
     "name": "stdout",
     "output_type": "stream",
     "text": [
      "[1101]"
     ]
    },
    {
     "name": "stdout",
     "output_type": "stream",
     "text": [
      " \"2021-04-26\""
     ]
    },
    {
     "name": "stdout",
     "output_type": "stream",
     "text": [
      " \"2021-04-26\""
     ]
    },
    {
     "name": "stdout",
     "output_type": "stream",
     "text": [
      " \"2021-04-26\""
     ]
    },
    {
     "name": "stdout",
     "output_type": "stream",
     "text": [
      " \"2021-04-26\""
     ]
    },
    {
     "name": "stdout",
     "output_type": "stream",
     "text": [
      " \"2021-05-03\""
     ]
    },
    {
     "name": "stdout",
     "output_type": "stream",
     "text": [
      "\n"
     ]
    },
    {
     "name": "stdout",
     "output_type": "stream",
     "text": [
      "[1106]"
     ]
    },
    {
     "name": "stdout",
     "output_type": "stream",
     "text": [
      " \"2021-05-03\""
     ]
    },
    {
     "name": "stdout",
     "output_type": "stream",
     "text": [
      " \"2021-05-03\""
     ]
    },
    {
     "name": "stdout",
     "output_type": "stream",
     "text": [
      " \"2021-05-03\""
     ]
    },
    {
     "name": "stdout",
     "output_type": "stream",
     "text": [
      " \"2021-05-03\""
     ]
    },
    {
     "name": "stdout",
     "output_type": "stream",
     "text": [
      " \"2021-05-03\""
     ]
    },
    {
     "name": "stdout",
     "output_type": "stream",
     "text": [
      "\n"
     ]
    },
    {
     "name": "stdout",
     "output_type": "stream",
     "text": [
      "[1111]"
     ]
    },
    {
     "name": "stdout",
     "output_type": "stream",
     "text": [
      " \"2021-05-03\""
     ]
    },
    {
     "name": "stdout",
     "output_type": "stream",
     "text": [
      " \"2021-05-03\""
     ]
    },
    {
     "name": "stdout",
     "output_type": "stream",
     "text": [
      " \"2021-05-03\""
     ]
    },
    {
     "name": "stdout",
     "output_type": "stream",
     "text": [
      " \"2021-05-03\""
     ]
    },
    {
     "name": "stdout",
     "output_type": "stream",
     "text": [
      " \"2021-05-03\""
     ]
    },
    {
     "name": "stdout",
     "output_type": "stream",
     "text": [
      "\n"
     ]
    },
    {
     "name": "stdout",
     "output_type": "stream",
     "text": [
      "[1116]"
     ]
    },
    {
     "name": "stdout",
     "output_type": "stream",
     "text": [
      " \"2021-05-03\""
     ]
    },
    {
     "name": "stdout",
     "output_type": "stream",
     "text": [
      " \"2021-05-03\""
     ]
    },
    {
     "name": "stdout",
     "output_type": "stream",
     "text": [
      " \"2021-05-03\""
     ]
    },
    {
     "name": "stdout",
     "output_type": "stream",
     "text": [
      " \"2021-05-03\""
     ]
    },
    {
     "name": "stdout",
     "output_type": "stream",
     "text": [
      " \"2021-05-03\""
     ]
    },
    {
     "name": "stdout",
     "output_type": "stream",
     "text": [
      "\n"
     ]
    },
    {
     "name": "stdout",
     "output_type": "stream",
     "text": [
      "[1121]"
     ]
    },
    {
     "name": "stdout",
     "output_type": "stream",
     "text": [
      " \"2021-05-03\""
     ]
    },
    {
     "name": "stdout",
     "output_type": "stream",
     "text": [
      " \"2021-05-03\""
     ]
    },
    {
     "name": "stdout",
     "output_type": "stream",
     "text": [
      " \"2021-05-03\""
     ]
    },
    {
     "name": "stdout",
     "output_type": "stream",
     "text": [
      " \"2021-05-03\""
     ]
    },
    {
     "name": "stdout",
     "output_type": "stream",
     "text": [
      " \"2021-05-03\""
     ]
    },
    {
     "name": "stdout",
     "output_type": "stream",
     "text": [
      "\n"
     ]
    },
    {
     "name": "stdout",
     "output_type": "stream",
     "text": [
      "[1126]"
     ]
    },
    {
     "name": "stdout",
     "output_type": "stream",
     "text": [
      " \"2021-05-03\""
     ]
    },
    {
     "name": "stdout",
     "output_type": "stream",
     "text": [
      " \"2021-05-03\""
     ]
    },
    {
     "name": "stdout",
     "output_type": "stream",
     "text": [
      " \"2021-05-03\""
     ]
    },
    {
     "name": "stdout",
     "output_type": "stream",
     "text": [
      " \"2021-05-03\""
     ]
    },
    {
     "name": "stdout",
     "output_type": "stream",
     "text": [
      " \"2021-05-03\""
     ]
    },
    {
     "name": "stdout",
     "output_type": "stream",
     "text": [
      "\n"
     ]
    },
    {
     "name": "stdout",
     "output_type": "stream",
     "text": [
      "[1131]"
     ]
    },
    {
     "name": "stdout",
     "output_type": "stream",
     "text": [
      " \"2021-05-03\""
     ]
    },
    {
     "name": "stdout",
     "output_type": "stream",
     "text": [
      " \"2021-05-03\""
     ]
    },
    {
     "name": "stdout",
     "output_type": "stream",
     "text": [
      " \"2021-05-03\""
     ]
    },
    {
     "name": "stdout",
     "output_type": "stream",
     "text": [
      " \"2021-05-03\""
     ]
    },
    {
     "name": "stdout",
     "output_type": "stream",
     "text": [
      " \"2021-05-03\""
     ]
    },
    {
     "name": "stdout",
     "output_type": "stream",
     "text": [
      "\n"
     ]
    },
    {
     "name": "stdout",
     "output_type": "stream",
     "text": [
      "[1136]"
     ]
    },
    {
     "name": "stdout",
     "output_type": "stream",
     "text": [
      " \"2021-05-03\""
     ]
    },
    {
     "name": "stdout",
     "output_type": "stream",
     "text": [
      " \"2021-05-03\""
     ]
    },
    {
     "name": "stdout",
     "output_type": "stream",
     "text": [
      " \"2021-05-03\""
     ]
    },
    {
     "name": "stdout",
     "output_type": "stream",
     "text": [
      " \"2021-05-03\""
     ]
    },
    {
     "name": "stdout",
     "output_type": "stream",
     "text": [
      " \"2021-05-03\""
     ]
    },
    {
     "name": "stdout",
     "output_type": "stream",
     "text": [
      "\n"
     ]
    },
    {
     "name": "stdout",
     "output_type": "stream",
     "text": [
      "[1141]"
     ]
    },
    {
     "name": "stdout",
     "output_type": "stream",
     "text": [
      " \"2021-05-03\""
     ]
    },
    {
     "name": "stdout",
     "output_type": "stream",
     "text": [
      " \"2021-05-03\""
     ]
    },
    {
     "name": "stdout",
     "output_type": "stream",
     "text": [
      " \"2021-05-03\""
     ]
    },
    {
     "name": "stdout",
     "output_type": "stream",
     "text": [
      " \"2021-05-03\""
     ]
    },
    {
     "name": "stdout",
     "output_type": "stream",
     "text": [
      " \"2021-05-03\""
     ]
    },
    {
     "name": "stdout",
     "output_type": "stream",
     "text": [
      "\n"
     ]
    },
    {
     "name": "stdout",
     "output_type": "stream",
     "text": [
      "[1146]"
     ]
    },
    {
     "name": "stdout",
     "output_type": "stream",
     "text": [
      " \"2021-05-03\""
     ]
    },
    {
     "name": "stdout",
     "output_type": "stream",
     "text": [
      " \"2021-05-03\""
     ]
    },
    {
     "name": "stdout",
     "output_type": "stream",
     "text": [
      " \"2021-05-03\""
     ]
    },
    {
     "name": "stdout",
     "output_type": "stream",
     "text": [
      " \"2021-05-03\""
     ]
    },
    {
     "name": "stdout",
     "output_type": "stream",
     "text": [
      " \"2021-05-03\""
     ]
    },
    {
     "name": "stdout",
     "output_type": "stream",
     "text": [
      "\n"
     ]
    },
    {
     "name": "stdout",
     "output_type": "stream",
     "text": [
      "[1151]"
     ]
    },
    {
     "name": "stdout",
     "output_type": "stream",
     "text": [
      " \"2021-05-03\""
     ]
    },
    {
     "name": "stdout",
     "output_type": "stream",
     "text": [
      " \"2021-05-03\""
     ]
    },
    {
     "name": "stdout",
     "output_type": "stream",
     "text": [
      " \"2021-05-03\""
     ]
    },
    {
     "name": "stdout",
     "output_type": "stream",
     "text": [
      " \"2021-05-03\""
     ]
    },
    {
     "name": "stdout",
     "output_type": "stream",
     "text": [
      " \"2021-05-03\""
     ]
    },
    {
     "name": "stdout",
     "output_type": "stream",
     "text": [
      "\n"
     ]
    },
    {
     "name": "stdout",
     "output_type": "stream",
     "text": [
      "[1156]"
     ]
    },
    {
     "name": "stdout",
     "output_type": "stream",
     "text": [
      " \"2021-05-03\""
     ]
    },
    {
     "name": "stdout",
     "output_type": "stream",
     "text": [
      " \"2021-05-03\""
     ]
    },
    {
     "name": "stdout",
     "output_type": "stream",
     "text": [
      " \"2021-05-03\""
     ]
    },
    {
     "name": "stdout",
     "output_type": "stream",
     "text": [
      " \"2021-05-03\""
     ]
    },
    {
     "name": "stdout",
     "output_type": "stream",
     "text": [
      " \"2021-05-03\""
     ]
    },
    {
     "name": "stdout",
     "output_type": "stream",
     "text": [
      "\n"
     ]
    },
    {
     "name": "stdout",
     "output_type": "stream",
     "text": [
      "[1161]"
     ]
    },
    {
     "name": "stdout",
     "output_type": "stream",
     "text": [
      " \"2021-05-03\""
     ]
    },
    {
     "name": "stdout",
     "output_type": "stream",
     "text": [
      " \"2021-05-03\""
     ]
    },
    {
     "name": "stdout",
     "output_type": "stream",
     "text": [
      " \"2021-05-03\""
     ]
    },
    {
     "name": "stdout",
     "output_type": "stream",
     "text": [
      " \"2021-05-03\""
     ]
    },
    {
     "name": "stdout",
     "output_type": "stream",
     "text": [
      " \"2021-05-03\""
     ]
    },
    {
     "name": "stdout",
     "output_type": "stream",
     "text": [
      "\n"
     ]
    },
    {
     "name": "stdout",
     "output_type": "stream",
     "text": [
      "[1166]"
     ]
    },
    {
     "name": "stdout",
     "output_type": "stream",
     "text": [
      " \"2021-05-03\""
     ]
    },
    {
     "name": "stdout",
     "output_type": "stream",
     "text": [
      " \"2021-05-03\""
     ]
    },
    {
     "name": "stdout",
     "output_type": "stream",
     "text": [
      " \"2021-05-03\""
     ]
    },
    {
     "name": "stdout",
     "output_type": "stream",
     "text": [
      " \"2021-05-03\""
     ]
    },
    {
     "name": "stdout",
     "output_type": "stream",
     "text": [
      " \"2021-05-03\""
     ]
    },
    {
     "name": "stdout",
     "output_type": "stream",
     "text": [
      "\n"
     ]
    },
    {
     "name": "stdout",
     "output_type": "stream",
     "text": [
      "[1171]"
     ]
    },
    {
     "name": "stdout",
     "output_type": "stream",
     "text": [
      " \"2021-05-03\""
     ]
    },
    {
     "name": "stdout",
     "output_type": "stream",
     "text": [
      " \"2021-05-03\""
     ]
    },
    {
     "name": "stdout",
     "output_type": "stream",
     "text": [
      " \"2021-05-03\""
     ]
    },
    {
     "name": "stdout",
     "output_type": "stream",
     "text": [
      " \"2021-05-10\""
     ]
    },
    {
     "name": "stdout",
     "output_type": "stream",
     "text": [
      " \"2021-05-10\""
     ]
    },
    {
     "name": "stdout",
     "output_type": "stream",
     "text": [
      "\n"
     ]
    },
    {
     "name": "stdout",
     "output_type": "stream",
     "text": [
      "[1176]"
     ]
    },
    {
     "name": "stdout",
     "output_type": "stream",
     "text": [
      " \"2021-05-10\""
     ]
    },
    {
     "name": "stdout",
     "output_type": "stream",
     "text": [
      " \"2021-05-10\""
     ]
    },
    {
     "name": "stdout",
     "output_type": "stream",
     "text": [
      " \"2021-05-10\""
     ]
    },
    {
     "name": "stdout",
     "output_type": "stream",
     "text": [
      " \"2021-05-10\""
     ]
    },
    {
     "name": "stdout",
     "output_type": "stream",
     "text": [
      " \"2021-05-10\""
     ]
    },
    {
     "name": "stdout",
     "output_type": "stream",
     "text": [
      "\n"
     ]
    },
    {
     "name": "stdout",
     "output_type": "stream",
     "text": [
      "[1181]"
     ]
    },
    {
     "name": "stdout",
     "output_type": "stream",
     "text": [
      " \"2021-05-10\""
     ]
    },
    {
     "name": "stdout",
     "output_type": "stream",
     "text": [
      " \"2021-05-10\""
     ]
    },
    {
     "name": "stdout",
     "output_type": "stream",
     "text": [
      " \"2021-05-10\""
     ]
    },
    {
     "name": "stdout",
     "output_type": "stream",
     "text": [
      " \"2021-05-10\""
     ]
    },
    {
     "name": "stdout",
     "output_type": "stream",
     "text": [
      " \"2021-05-10\""
     ]
    },
    {
     "name": "stdout",
     "output_type": "stream",
     "text": [
      "\n"
     ]
    },
    {
     "name": "stdout",
     "output_type": "stream",
     "text": [
      "[1186]"
     ]
    },
    {
     "name": "stdout",
     "output_type": "stream",
     "text": [
      " \"2021-05-10\""
     ]
    },
    {
     "name": "stdout",
     "output_type": "stream",
     "text": [
      " \"2021-05-10\""
     ]
    },
    {
     "name": "stdout",
     "output_type": "stream",
     "text": [
      " \"2021-05-10\""
     ]
    },
    {
     "name": "stdout",
     "output_type": "stream",
     "text": [
      " \"2021-05-10\""
     ]
    },
    {
     "name": "stdout",
     "output_type": "stream",
     "text": [
      " \"2021-05-10\""
     ]
    },
    {
     "name": "stdout",
     "output_type": "stream",
     "text": [
      "\n"
     ]
    },
    {
     "name": "stdout",
     "output_type": "stream",
     "text": [
      "[1191]"
     ]
    },
    {
     "name": "stdout",
     "output_type": "stream",
     "text": [
      " \"2021-05-10\""
     ]
    },
    {
     "name": "stdout",
     "output_type": "stream",
     "text": [
      " \"2021-05-10\""
     ]
    },
    {
     "name": "stdout",
     "output_type": "stream",
     "text": [
      " \"2021-05-10\""
     ]
    },
    {
     "name": "stdout",
     "output_type": "stream",
     "text": [
      " \"2021-05-10\""
     ]
    },
    {
     "name": "stdout",
     "output_type": "stream",
     "text": [
      " \"2021-05-10\""
     ]
    },
    {
     "name": "stdout",
     "output_type": "stream",
     "text": [
      "\n"
     ]
    },
    {
     "name": "stdout",
     "output_type": "stream",
     "text": [
      "[1196]"
     ]
    },
    {
     "name": "stdout",
     "output_type": "stream",
     "text": [
      " \"2021-05-10\""
     ]
    },
    {
     "name": "stdout",
     "output_type": "stream",
     "text": [
      " \"2021-05-10\""
     ]
    },
    {
     "name": "stdout",
     "output_type": "stream",
     "text": [
      " \"2021-05-10\""
     ]
    },
    {
     "name": "stdout",
     "output_type": "stream",
     "text": [
      " \"2021-05-10\""
     ]
    },
    {
     "name": "stdout",
     "output_type": "stream",
     "text": [
      " \"2021-05-10\""
     ]
    },
    {
     "name": "stdout",
     "output_type": "stream",
     "text": [
      "\n"
     ]
    },
    {
     "name": "stdout",
     "output_type": "stream",
     "text": [
      "[1201]"
     ]
    },
    {
     "name": "stdout",
     "output_type": "stream",
     "text": [
      " \"2021-05-10\""
     ]
    },
    {
     "name": "stdout",
     "output_type": "stream",
     "text": [
      " \"2021-05-10\""
     ]
    },
    {
     "name": "stdout",
     "output_type": "stream",
     "text": [
      " \"2021-05-10\""
     ]
    },
    {
     "name": "stdout",
     "output_type": "stream",
     "text": [
      " \"2021-05-10\""
     ]
    },
    {
     "name": "stdout",
     "output_type": "stream",
     "text": [
      " \"2021-05-10\""
     ]
    },
    {
     "name": "stdout",
     "output_type": "stream",
     "text": [
      "\n"
     ]
    },
    {
     "name": "stdout",
     "output_type": "stream",
     "text": [
      "[1206]"
     ]
    },
    {
     "name": "stdout",
     "output_type": "stream",
     "text": [
      " \"2021-05-10\""
     ]
    },
    {
     "name": "stdout",
     "output_type": "stream",
     "text": [
      " \"2021-05-10\""
     ]
    },
    {
     "name": "stdout",
     "output_type": "stream",
     "text": [
      " \"2021-05-10\""
     ]
    },
    {
     "name": "stdout",
     "output_type": "stream",
     "text": [
      " \"2021-05-10\""
     ]
    },
    {
     "name": "stdout",
     "output_type": "stream",
     "text": [
      " \"2021-05-10\""
     ]
    },
    {
     "name": "stdout",
     "output_type": "stream",
     "text": [
      "\n"
     ]
    },
    {
     "name": "stdout",
     "output_type": "stream",
     "text": [
      "[1211]"
     ]
    },
    {
     "name": "stdout",
     "output_type": "stream",
     "text": [
      " \"2021-05-10\""
     ]
    },
    {
     "name": "stdout",
     "output_type": "stream",
     "text": [
      " \"2021-05-10\""
     ]
    },
    {
     "name": "stdout",
     "output_type": "stream",
     "text": [
      " \"2021-05-10\""
     ]
    },
    {
     "name": "stdout",
     "output_type": "stream",
     "text": [
      " \"2021-05-10\""
     ]
    },
    {
     "name": "stdout",
     "output_type": "stream",
     "text": [
      " \"2021-05-10\""
     ]
    },
    {
     "name": "stdout",
     "output_type": "stream",
     "text": [
      "\n"
     ]
    },
    {
     "name": "stdout",
     "output_type": "stream",
     "text": [
      "[1216]"
     ]
    },
    {
     "name": "stdout",
     "output_type": "stream",
     "text": [
      " \"2021-05-10\""
     ]
    },
    {
     "name": "stdout",
     "output_type": "stream",
     "text": [
      " \"2021-05-10\""
     ]
    },
    {
     "name": "stdout",
     "output_type": "stream",
     "text": [
      " \"2021-05-10\""
     ]
    },
    {
     "name": "stdout",
     "output_type": "stream",
     "text": [
      " \"2021-05-10\""
     ]
    },
    {
     "name": "stdout",
     "output_type": "stream",
     "text": [
      " \"2021-05-10\""
     ]
    },
    {
     "name": "stdout",
     "output_type": "stream",
     "text": [
      "\n"
     ]
    },
    {
     "name": "stdout",
     "output_type": "stream",
     "text": [
      "[1221]"
     ]
    },
    {
     "name": "stdout",
     "output_type": "stream",
     "text": [
      " \"2021-05-10\""
     ]
    },
    {
     "name": "stdout",
     "output_type": "stream",
     "text": [
      " \"2021-05-10\""
     ]
    },
    {
     "name": "stdout",
     "output_type": "stream",
     "text": [
      " \"2021-05-10\""
     ]
    },
    {
     "name": "stdout",
     "output_type": "stream",
     "text": [
      " \"2021-05-10\""
     ]
    },
    {
     "name": "stdout",
     "output_type": "stream",
     "text": [
      " \"2021-05-10\""
     ]
    },
    {
     "name": "stdout",
     "output_type": "stream",
     "text": [
      "\n"
     ]
    },
    {
     "name": "stdout",
     "output_type": "stream",
     "text": [
      "[1226]"
     ]
    },
    {
     "name": "stdout",
     "output_type": "stream",
     "text": [
      " \"2021-05-10\""
     ]
    },
    {
     "name": "stdout",
     "output_type": "stream",
     "text": [
      " \"2021-05-10\""
     ]
    },
    {
     "name": "stdout",
     "output_type": "stream",
     "text": [
      " \"2021-05-10\""
     ]
    },
    {
     "name": "stdout",
     "output_type": "stream",
     "text": [
      " \"2021-05-10\""
     ]
    },
    {
     "name": "stdout",
     "output_type": "stream",
     "text": [
      " \"2021-05-10\""
     ]
    },
    {
     "name": "stdout",
     "output_type": "stream",
     "text": [
      "\n"
     ]
    },
    {
     "name": "stdout",
     "output_type": "stream",
     "text": [
      "[1231]"
     ]
    },
    {
     "name": "stdout",
     "output_type": "stream",
     "text": [
      " \"2021-05-10\""
     ]
    },
    {
     "name": "stdout",
     "output_type": "stream",
     "text": [
      " \"2021-05-10\""
     ]
    },
    {
     "name": "stdout",
     "output_type": "stream",
     "text": [
      " \"2021-05-10\""
     ]
    },
    {
     "name": "stdout",
     "output_type": "stream",
     "text": [
      " \"2021-05-10\""
     ]
    },
    {
     "name": "stdout",
     "output_type": "stream",
     "text": [
      " \"2021-05-10\""
     ]
    },
    {
     "name": "stdout",
     "output_type": "stream",
     "text": [
      "\n"
     ]
    },
    {
     "name": "stdout",
     "output_type": "stream",
     "text": [
      "[1236]"
     ]
    },
    {
     "name": "stdout",
     "output_type": "stream",
     "text": [
      " \"2021-05-10\""
     ]
    },
    {
     "name": "stdout",
     "output_type": "stream",
     "text": [
      " \"2021-05-10\""
     ]
    },
    {
     "name": "stdout",
     "output_type": "stream",
     "text": [
      " \"2021-05-10\""
     ]
    },
    {
     "name": "stdout",
     "output_type": "stream",
     "text": [
      " \"2021-05-10\""
     ]
    },
    {
     "name": "stdout",
     "output_type": "stream",
     "text": [
      " \"2021-05-10\""
     ]
    },
    {
     "name": "stdout",
     "output_type": "stream",
     "text": [
      "\n"
     ]
    },
    {
     "name": "stdout",
     "output_type": "stream",
     "text": [
      "[1241]"
     ]
    },
    {
     "name": "stdout",
     "output_type": "stream",
     "text": [
      " \"2021-05-10\""
     ]
    },
    {
     "name": "stdout",
     "output_type": "stream",
     "text": [
      " \"2021-05-10\""
     ]
    },
    {
     "name": "stdout",
     "output_type": "stream",
     "text": [
      " \"2021-05-17\""
     ]
    },
    {
     "name": "stdout",
     "output_type": "stream",
     "text": [
      " \"2021-05-17\""
     ]
    },
    {
     "name": "stdout",
     "output_type": "stream",
     "text": [
      " \"2021-05-17\""
     ]
    },
    {
     "name": "stdout",
     "output_type": "stream",
     "text": [
      "\n"
     ]
    },
    {
     "name": "stdout",
     "output_type": "stream",
     "text": [
      "[1246]"
     ]
    },
    {
     "name": "stdout",
     "output_type": "stream",
     "text": [
      " \"2021-05-17\""
     ]
    },
    {
     "name": "stdout",
     "output_type": "stream",
     "text": [
      " \"2021-05-17\""
     ]
    },
    {
     "name": "stdout",
     "output_type": "stream",
     "text": [
      " \"2021-05-17\""
     ]
    },
    {
     "name": "stdout",
     "output_type": "stream",
     "text": [
      " \"2021-05-17\""
     ]
    },
    {
     "name": "stdout",
     "output_type": "stream",
     "text": [
      " \"2021-05-17\""
     ]
    },
    {
     "name": "stdout",
     "output_type": "stream",
     "text": [
      "\n"
     ]
    },
    {
     "name": "stdout",
     "output_type": "stream",
     "text": [
      "[1251]"
     ]
    },
    {
     "name": "stdout",
     "output_type": "stream",
     "text": [
      " \"2021-05-17\""
     ]
    },
    {
     "name": "stdout",
     "output_type": "stream",
     "text": [
      " \"2021-05-17\""
     ]
    },
    {
     "name": "stdout",
     "output_type": "stream",
     "text": [
      " \"2021-05-17\""
     ]
    },
    {
     "name": "stdout",
     "output_type": "stream",
     "text": [
      " \"2021-05-17\""
     ]
    },
    {
     "name": "stdout",
     "output_type": "stream",
     "text": [
      " \"2021-05-17\""
     ]
    },
    {
     "name": "stdout",
     "output_type": "stream",
     "text": [
      "\n"
     ]
    },
    {
     "name": "stdout",
     "output_type": "stream",
     "text": [
      "[1256]"
     ]
    },
    {
     "name": "stdout",
     "output_type": "stream",
     "text": [
      " \"2021-05-17\""
     ]
    },
    {
     "name": "stdout",
     "output_type": "stream",
     "text": [
      " \"2021-05-17\""
     ]
    },
    {
     "name": "stdout",
     "output_type": "stream",
     "text": [
      " \"2021-05-17\""
     ]
    },
    {
     "name": "stdout",
     "output_type": "stream",
     "text": [
      " \"2021-05-17\""
     ]
    },
    {
     "name": "stdout",
     "output_type": "stream",
     "text": [
      " \"2021-05-17\""
     ]
    },
    {
     "name": "stdout",
     "output_type": "stream",
     "text": [
      "\n"
     ]
    },
    {
     "name": "stdout",
     "output_type": "stream",
     "text": [
      "[1261]"
     ]
    },
    {
     "name": "stdout",
     "output_type": "stream",
     "text": [
      " \"2021-05-17\""
     ]
    },
    {
     "name": "stdout",
     "output_type": "stream",
     "text": [
      " \"2021-05-17\""
     ]
    },
    {
     "name": "stdout",
     "output_type": "stream",
     "text": [
      " \"2021-05-17\""
     ]
    },
    {
     "name": "stdout",
     "output_type": "stream",
     "text": [
      " \"2021-05-17\""
     ]
    },
    {
     "name": "stdout",
     "output_type": "stream",
     "text": [
      " \"2021-05-17\""
     ]
    },
    {
     "name": "stdout",
     "output_type": "stream",
     "text": [
      "\n"
     ]
    },
    {
     "name": "stdout",
     "output_type": "stream",
     "text": [
      "[1266]"
     ]
    },
    {
     "name": "stdout",
     "output_type": "stream",
     "text": [
      " \"2021-05-17\""
     ]
    },
    {
     "name": "stdout",
     "output_type": "stream",
     "text": [
      " \"2021-05-17\""
     ]
    },
    {
     "name": "stdout",
     "output_type": "stream",
     "text": [
      " \"2021-05-17\""
     ]
    },
    {
     "name": "stdout",
     "output_type": "stream",
     "text": [
      " \"2021-05-17\""
     ]
    },
    {
     "name": "stdout",
     "output_type": "stream",
     "text": [
      " \"2021-05-17\""
     ]
    },
    {
     "name": "stdout",
     "output_type": "stream",
     "text": [
      "\n"
     ]
    },
    {
     "name": "stdout",
     "output_type": "stream",
     "text": [
      "[1271]"
     ]
    },
    {
     "name": "stdout",
     "output_type": "stream",
     "text": [
      " \"2021-05-17\""
     ]
    },
    {
     "name": "stdout",
     "output_type": "stream",
     "text": [
      " \"2021-05-17\""
     ]
    },
    {
     "name": "stdout",
     "output_type": "stream",
     "text": [
      " \"2021-05-17\""
     ]
    },
    {
     "name": "stdout",
     "output_type": "stream",
     "text": [
      " \"2021-05-17\""
     ]
    },
    {
     "name": "stdout",
     "output_type": "stream",
     "text": [
      " \"2021-05-17\""
     ]
    },
    {
     "name": "stdout",
     "output_type": "stream",
     "text": [
      "\n"
     ]
    },
    {
     "name": "stdout",
     "output_type": "stream",
     "text": [
      "[1276]"
     ]
    },
    {
     "name": "stdout",
     "output_type": "stream",
     "text": [
      " \"2021-05-17\""
     ]
    },
    {
     "name": "stdout",
     "output_type": "stream",
     "text": [
      " \"2021-05-17\""
     ]
    },
    {
     "name": "stdout",
     "output_type": "stream",
     "text": [
      " \"2021-05-17\""
     ]
    },
    {
     "name": "stdout",
     "output_type": "stream",
     "text": [
      " \"2021-05-17\""
     ]
    },
    {
     "name": "stdout",
     "output_type": "stream",
     "text": [
      " \"2021-05-17\""
     ]
    },
    {
     "name": "stdout",
     "output_type": "stream",
     "text": [
      "\n"
     ]
    },
    {
     "name": "stdout",
     "output_type": "stream",
     "text": [
      "[1281]"
     ]
    },
    {
     "name": "stdout",
     "output_type": "stream",
     "text": [
      " \"2021-05-17\""
     ]
    },
    {
     "name": "stdout",
     "output_type": "stream",
     "text": [
      " \"2021-05-17\""
     ]
    },
    {
     "name": "stdout",
     "output_type": "stream",
     "text": [
      " \"2021-05-17\""
     ]
    },
    {
     "name": "stdout",
     "output_type": "stream",
     "text": [
      " \"2021-05-17\""
     ]
    },
    {
     "name": "stdout",
     "output_type": "stream",
     "text": [
      " \"2021-05-17\""
     ]
    },
    {
     "name": "stdout",
     "output_type": "stream",
     "text": [
      "\n"
     ]
    },
    {
     "name": "stdout",
     "output_type": "stream",
     "text": [
      "[1286]"
     ]
    },
    {
     "name": "stdout",
     "output_type": "stream",
     "text": [
      " \"2021-05-17\""
     ]
    },
    {
     "name": "stdout",
     "output_type": "stream",
     "text": [
      " \"2021-05-17\""
     ]
    },
    {
     "name": "stdout",
     "output_type": "stream",
     "text": [
      " \"2021-05-17\""
     ]
    },
    {
     "name": "stdout",
     "output_type": "stream",
     "text": [
      " \"2021-05-17\""
     ]
    },
    {
     "name": "stdout",
     "output_type": "stream",
     "text": [
      " \"2021-05-17\""
     ]
    },
    {
     "name": "stdout",
     "output_type": "stream",
     "text": [
      "\n"
     ]
    },
    {
     "name": "stdout",
     "output_type": "stream",
     "text": [
      "[1291]"
     ]
    },
    {
     "name": "stdout",
     "output_type": "stream",
     "text": [
      " \"2021-05-17\""
     ]
    },
    {
     "name": "stdout",
     "output_type": "stream",
     "text": [
      " \"2021-05-17\""
     ]
    },
    {
     "name": "stdout",
     "output_type": "stream",
     "text": [
      " \"2021-05-17\""
     ]
    },
    {
     "name": "stdout",
     "output_type": "stream",
     "text": [
      " \"2021-05-17\""
     ]
    },
    {
     "name": "stdout",
     "output_type": "stream",
     "text": [
      " \"2021-05-17\""
     ]
    },
    {
     "name": "stdout",
     "output_type": "stream",
     "text": [
      "\n"
     ]
    },
    {
     "name": "stdout",
     "output_type": "stream",
     "text": [
      "[1296]"
     ]
    },
    {
     "name": "stdout",
     "output_type": "stream",
     "text": [
      " \"2021-05-17\""
     ]
    },
    {
     "name": "stdout",
     "output_type": "stream",
     "text": [
      " \"2021-05-17\""
     ]
    },
    {
     "name": "stdout",
     "output_type": "stream",
     "text": [
      " \"2021-05-17\""
     ]
    },
    {
     "name": "stdout",
     "output_type": "stream",
     "text": [
      " \"2021-05-17\""
     ]
    },
    {
     "name": "stdout",
     "output_type": "stream",
     "text": [
      " \"2021-05-17\""
     ]
    },
    {
     "name": "stdout",
     "output_type": "stream",
     "text": [
      "\n"
     ]
    },
    {
     "name": "stdout",
     "output_type": "stream",
     "text": [
      "[1301]"
     ]
    },
    {
     "name": "stdout",
     "output_type": "stream",
     "text": [
      " \"2021-05-17\""
     ]
    },
    {
     "name": "stdout",
     "output_type": "stream",
     "text": [
      " \"2021-05-17\""
     ]
    },
    {
     "name": "stdout",
     "output_type": "stream",
     "text": [
      " \"2021-05-17\""
     ]
    },
    {
     "name": "stdout",
     "output_type": "stream",
     "text": [
      " \"2021-05-17\""
     ]
    },
    {
     "name": "stdout",
     "output_type": "stream",
     "text": [
      " \"2021-05-17\""
     ]
    },
    {
     "name": "stdout",
     "output_type": "stream",
     "text": [
      "\n"
     ]
    },
    {
     "name": "stdout",
     "output_type": "stream",
     "text": [
      "[1306]"
     ]
    },
    {
     "name": "stdout",
     "output_type": "stream",
     "text": [
      " \"2021-05-17\""
     ]
    },
    {
     "name": "stdout",
     "output_type": "stream",
     "text": [
      " \"2021-05-17\""
     ]
    },
    {
     "name": "stdout",
     "output_type": "stream",
     "text": [
      " \"2021-05-17\""
     ]
    },
    {
     "name": "stdout",
     "output_type": "stream",
     "text": [
      " \"2021-05-17\""
     ]
    },
    {
     "name": "stdout",
     "output_type": "stream",
     "text": [
      " \"2021-05-17\""
     ]
    },
    {
     "name": "stdout",
     "output_type": "stream",
     "text": [
      "\n"
     ]
    },
    {
     "name": "stdout",
     "output_type": "stream",
     "text": [
      "[1311]"
     ]
    },
    {
     "name": "stdout",
     "output_type": "stream",
     "text": [
      " \"2021-05-17\""
     ]
    },
    {
     "name": "stdout",
     "output_type": "stream",
     "text": [
      " \"2021-05-24\""
     ]
    },
    {
     "name": "stdout",
     "output_type": "stream",
     "text": [
      " \"2021-05-24\""
     ]
    },
    {
     "name": "stdout",
     "output_type": "stream",
     "text": [
      " \"2021-05-24\""
     ]
    },
    {
     "name": "stdout",
     "output_type": "stream",
     "text": [
      " \"2021-05-24\""
     ]
    },
    {
     "name": "stdout",
     "output_type": "stream",
     "text": [
      "\n"
     ]
    },
    {
     "name": "stdout",
     "output_type": "stream",
     "text": [
      "[1316]"
     ]
    },
    {
     "name": "stdout",
     "output_type": "stream",
     "text": [
      " \"2021-05-24\""
     ]
    },
    {
     "name": "stdout",
     "output_type": "stream",
     "text": [
      " \"2021-05-24\""
     ]
    },
    {
     "name": "stdout",
     "output_type": "stream",
     "text": [
      " \"2021-05-24\""
     ]
    },
    {
     "name": "stdout",
     "output_type": "stream",
     "text": [
      " \"2021-05-24\""
     ]
    },
    {
     "name": "stdout",
     "output_type": "stream",
     "text": [
      " \"2021-05-24\""
     ]
    },
    {
     "name": "stdout",
     "output_type": "stream",
     "text": [
      "\n"
     ]
    },
    {
     "name": "stdout",
     "output_type": "stream",
     "text": [
      "[1321]"
     ]
    },
    {
     "name": "stdout",
     "output_type": "stream",
     "text": [
      " \"2021-05-24\""
     ]
    },
    {
     "name": "stdout",
     "output_type": "stream",
     "text": [
      " \"2021-05-24\""
     ]
    },
    {
     "name": "stdout",
     "output_type": "stream",
     "text": [
      " \"2021-05-24\""
     ]
    },
    {
     "name": "stdout",
     "output_type": "stream",
     "text": [
      " \"2021-05-24\""
     ]
    },
    {
     "name": "stdout",
     "output_type": "stream",
     "text": [
      " \"2021-05-24\""
     ]
    },
    {
     "name": "stdout",
     "output_type": "stream",
     "text": [
      "\n"
     ]
    },
    {
     "name": "stdout",
     "output_type": "stream",
     "text": [
      "[1326]"
     ]
    },
    {
     "name": "stdout",
     "output_type": "stream",
     "text": [
      " \"2021-05-24\""
     ]
    },
    {
     "name": "stdout",
     "output_type": "stream",
     "text": [
      " \"2021-05-24\""
     ]
    },
    {
     "name": "stdout",
     "output_type": "stream",
     "text": [
      " \"2021-05-24\""
     ]
    },
    {
     "name": "stdout",
     "output_type": "stream",
     "text": [
      " \"2021-05-24\""
     ]
    },
    {
     "name": "stdout",
     "output_type": "stream",
     "text": [
      " \"2021-05-24\""
     ]
    },
    {
     "name": "stdout",
     "output_type": "stream",
     "text": [
      "\n"
     ]
    },
    {
     "name": "stdout",
     "output_type": "stream",
     "text": [
      "[1331]"
     ]
    },
    {
     "name": "stdout",
     "output_type": "stream",
     "text": [
      " \"2021-05-24\""
     ]
    },
    {
     "name": "stdout",
     "output_type": "stream",
     "text": [
      " \"2021-05-24\""
     ]
    },
    {
     "name": "stdout",
     "output_type": "stream",
     "text": [
      " \"2021-05-24\""
     ]
    },
    {
     "name": "stdout",
     "output_type": "stream",
     "text": [
      " \"2021-05-24\""
     ]
    },
    {
     "name": "stdout",
     "output_type": "stream",
     "text": [
      " \"2021-05-24\""
     ]
    },
    {
     "name": "stdout",
     "output_type": "stream",
     "text": [
      "\n"
     ]
    },
    {
     "name": "stdout",
     "output_type": "stream",
     "text": [
      "[1336]"
     ]
    },
    {
     "name": "stdout",
     "output_type": "stream",
     "text": [
      " \"2021-05-24\""
     ]
    },
    {
     "name": "stdout",
     "output_type": "stream",
     "text": [
      " \"2021-05-24\""
     ]
    },
    {
     "name": "stdout",
     "output_type": "stream",
     "text": [
      " \"2021-05-24\""
     ]
    },
    {
     "name": "stdout",
     "output_type": "stream",
     "text": [
      " \"2021-05-24\""
     ]
    },
    {
     "name": "stdout",
     "output_type": "stream",
     "text": [
      " \"2021-05-24\""
     ]
    },
    {
     "name": "stdout",
     "output_type": "stream",
     "text": [
      "\n"
     ]
    },
    {
     "name": "stdout",
     "output_type": "stream",
     "text": [
      "[1341]"
     ]
    },
    {
     "name": "stdout",
     "output_type": "stream",
     "text": [
      " \"2021-05-24\""
     ]
    },
    {
     "name": "stdout",
     "output_type": "stream",
     "text": [
      " \"2021-05-24\""
     ]
    },
    {
     "name": "stdout",
     "output_type": "stream",
     "text": [
      " \"2021-05-24\""
     ]
    },
    {
     "name": "stdout",
     "output_type": "stream",
     "text": [
      " \"2021-05-24\""
     ]
    },
    {
     "name": "stdout",
     "output_type": "stream",
     "text": [
      " \"2021-05-24\""
     ]
    },
    {
     "name": "stdout",
     "output_type": "stream",
     "text": [
      "\n"
     ]
    },
    {
     "name": "stdout",
     "output_type": "stream",
     "text": [
      "[1346]"
     ]
    },
    {
     "name": "stdout",
     "output_type": "stream",
     "text": [
      " \"2021-05-24\""
     ]
    },
    {
     "name": "stdout",
     "output_type": "stream",
     "text": [
      " \"2021-05-24\""
     ]
    },
    {
     "name": "stdout",
     "output_type": "stream",
     "text": [
      " \"2021-05-24\""
     ]
    },
    {
     "name": "stdout",
     "output_type": "stream",
     "text": [
      " \"2021-05-24\""
     ]
    },
    {
     "name": "stdout",
     "output_type": "stream",
     "text": [
      " \"2021-05-24\""
     ]
    },
    {
     "name": "stdout",
     "output_type": "stream",
     "text": [
      "\n"
     ]
    },
    {
     "name": "stdout",
     "output_type": "stream",
     "text": [
      "[1351]"
     ]
    },
    {
     "name": "stdout",
     "output_type": "stream",
     "text": [
      " \"2021-05-24\""
     ]
    },
    {
     "name": "stdout",
     "output_type": "stream",
     "text": [
      " \"2021-05-24\""
     ]
    },
    {
     "name": "stdout",
     "output_type": "stream",
     "text": [
      " \"2021-05-24\""
     ]
    },
    {
     "name": "stdout",
     "output_type": "stream",
     "text": [
      " \"2021-05-24\""
     ]
    },
    {
     "name": "stdout",
     "output_type": "stream",
     "text": [
      " \"2021-05-24\""
     ]
    },
    {
     "name": "stdout",
     "output_type": "stream",
     "text": [
      "\n"
     ]
    },
    {
     "name": "stdout",
     "output_type": "stream",
     "text": [
      "[1356]"
     ]
    },
    {
     "name": "stdout",
     "output_type": "stream",
     "text": [
      " \"2021-05-24\""
     ]
    },
    {
     "name": "stdout",
     "output_type": "stream",
     "text": [
      " \"2021-05-24\""
     ]
    },
    {
     "name": "stdout",
     "output_type": "stream",
     "text": [
      " \"2021-05-24\""
     ]
    },
    {
     "name": "stdout",
     "output_type": "stream",
     "text": [
      " \"2021-05-24\""
     ]
    },
    {
     "name": "stdout",
     "output_type": "stream",
     "text": [
      " \"2021-05-24\""
     ]
    },
    {
     "name": "stdout",
     "output_type": "stream",
     "text": [
      "\n"
     ]
    },
    {
     "name": "stdout",
     "output_type": "stream",
     "text": [
      "[1361]"
     ]
    },
    {
     "name": "stdout",
     "output_type": "stream",
     "text": [
      " \"2021-05-24\""
     ]
    },
    {
     "name": "stdout",
     "output_type": "stream",
     "text": [
      " \"2021-05-24\""
     ]
    },
    {
     "name": "stdout",
     "output_type": "stream",
     "text": [
      " \"2021-05-24\""
     ]
    },
    {
     "name": "stdout",
     "output_type": "stream",
     "text": [
      " \"2021-05-24\""
     ]
    },
    {
     "name": "stdout",
     "output_type": "stream",
     "text": [
      " \"2021-05-24\""
     ]
    },
    {
     "name": "stdout",
     "output_type": "stream",
     "text": [
      "\n"
     ]
    },
    {
     "name": "stdout",
     "output_type": "stream",
     "text": [
      "[1366]"
     ]
    },
    {
     "name": "stdout",
     "output_type": "stream",
     "text": [
      " \"2021-05-24\""
     ]
    },
    {
     "name": "stdout",
     "output_type": "stream",
     "text": [
      " \"2021-05-24\""
     ]
    },
    {
     "name": "stdout",
     "output_type": "stream",
     "text": [
      " \"2021-05-24\""
     ]
    },
    {
     "name": "stdout",
     "output_type": "stream",
     "text": [
      " \"2021-05-24\""
     ]
    },
    {
     "name": "stdout",
     "output_type": "stream",
     "text": [
      " \"2021-05-24\""
     ]
    },
    {
     "name": "stdout",
     "output_type": "stream",
     "text": [
      "\n"
     ]
    },
    {
     "name": "stdout",
     "output_type": "stream",
     "text": [
      "[1371]"
     ]
    },
    {
     "name": "stdout",
     "output_type": "stream",
     "text": [
      " \"2021-05-24\""
     ]
    },
    {
     "name": "stdout",
     "output_type": "stream",
     "text": [
      " \"2021-05-24\""
     ]
    },
    {
     "name": "stdout",
     "output_type": "stream",
     "text": [
      " \"2021-05-24\""
     ]
    },
    {
     "name": "stdout",
     "output_type": "stream",
     "text": [
      " \"2021-05-24\""
     ]
    },
    {
     "name": "stdout",
     "output_type": "stream",
     "text": [
      " \"2021-05-24\""
     ]
    },
    {
     "name": "stdout",
     "output_type": "stream",
     "text": [
      "\n"
     ]
    },
    {
     "name": "stdout",
     "output_type": "stream",
     "text": [
      "[1376]"
     ]
    },
    {
     "name": "stdout",
     "output_type": "stream",
     "text": [
      " \"2021-05-24\""
     ]
    },
    {
     "name": "stdout",
     "output_type": "stream",
     "text": [
      " \"2021-05-24\""
     ]
    },
    {
     "name": "stdout",
     "output_type": "stream",
     "text": [
      " \"2021-05-24\""
     ]
    },
    {
     "name": "stdout",
     "output_type": "stream",
     "text": [
      " \"2021-05-24\""
     ]
    },
    {
     "name": "stdout",
     "output_type": "stream",
     "text": [
      " \"2021-05-24\""
     ]
    },
    {
     "name": "stdout",
     "output_type": "stream",
     "text": [
      "\n"
     ]
    },
    {
     "name": "stdout",
     "output_type": "stream",
     "text": [
      "[1381]"
     ]
    },
    {
     "name": "stdout",
     "output_type": "stream",
     "text": [
      " \"2021-05-31\""
     ]
    },
    {
     "name": "stdout",
     "output_type": "stream",
     "text": [
      " \"2021-05-31\""
     ]
    },
    {
     "name": "stdout",
     "output_type": "stream",
     "text": [
      " \"2021-05-31\""
     ]
    },
    {
     "name": "stdout",
     "output_type": "stream",
     "text": [
      " \"2021-05-31\""
     ]
    },
    {
     "name": "stdout",
     "output_type": "stream",
     "text": [
      " \"2021-05-31\""
     ]
    },
    {
     "name": "stdout",
     "output_type": "stream",
     "text": [
      "\n"
     ]
    },
    {
     "name": "stdout",
     "output_type": "stream",
     "text": [
      "[1386]"
     ]
    },
    {
     "name": "stdout",
     "output_type": "stream",
     "text": [
      " \"2021-05-31\""
     ]
    },
    {
     "name": "stdout",
     "output_type": "stream",
     "text": [
      " \"2021-05-31\""
     ]
    },
    {
     "name": "stdout",
     "output_type": "stream",
     "text": [
      " \"2021-05-31\""
     ]
    },
    {
     "name": "stdout",
     "output_type": "stream",
     "text": [
      " \"2021-05-31\""
     ]
    },
    {
     "name": "stdout",
     "output_type": "stream",
     "text": [
      " \"2021-05-31\""
     ]
    },
    {
     "name": "stdout",
     "output_type": "stream",
     "text": [
      "\n"
     ]
    },
    {
     "name": "stdout",
     "output_type": "stream",
     "text": [
      "[1391]"
     ]
    },
    {
     "name": "stdout",
     "output_type": "stream",
     "text": [
      " \"2021-05-31\""
     ]
    },
    {
     "name": "stdout",
     "output_type": "stream",
     "text": [
      " \"2021-05-31\""
     ]
    },
    {
     "name": "stdout",
     "output_type": "stream",
     "text": [
      " \"2021-05-31\""
     ]
    },
    {
     "name": "stdout",
     "output_type": "stream",
     "text": [
      " \"2021-05-31\""
     ]
    },
    {
     "name": "stdout",
     "output_type": "stream",
     "text": [
      " \"2021-05-31\""
     ]
    },
    {
     "name": "stdout",
     "output_type": "stream",
     "text": [
      "\n"
     ]
    },
    {
     "name": "stdout",
     "output_type": "stream",
     "text": [
      "[1396]"
     ]
    },
    {
     "name": "stdout",
     "output_type": "stream",
     "text": [
      " \"2021-05-31\""
     ]
    },
    {
     "name": "stdout",
     "output_type": "stream",
     "text": [
      " \"2021-05-31\""
     ]
    },
    {
     "name": "stdout",
     "output_type": "stream",
     "text": [
      " \"2021-05-31\""
     ]
    },
    {
     "name": "stdout",
     "output_type": "stream",
     "text": [
      " \"2021-05-31\""
     ]
    },
    {
     "name": "stdout",
     "output_type": "stream",
     "text": [
      " \"2021-05-31\""
     ]
    },
    {
     "name": "stdout",
     "output_type": "stream",
     "text": [
      "\n"
     ]
    },
    {
     "name": "stdout",
     "output_type": "stream",
     "text": [
      "[1401]"
     ]
    },
    {
     "name": "stdout",
     "output_type": "stream",
     "text": [
      " \"2021-05-31\""
     ]
    },
    {
     "name": "stdout",
     "output_type": "stream",
     "text": [
      " \"2021-05-31\""
     ]
    },
    {
     "name": "stdout",
     "output_type": "stream",
     "text": [
      " \"2021-05-31\""
     ]
    },
    {
     "name": "stdout",
     "output_type": "stream",
     "text": [
      " \"2021-05-31\""
     ]
    },
    {
     "name": "stdout",
     "output_type": "stream",
     "text": [
      " \"2021-05-31\""
     ]
    },
    {
     "name": "stdout",
     "output_type": "stream",
     "text": [
      "\n"
     ]
    },
    {
     "name": "stdout",
     "output_type": "stream",
     "text": [
      "[1406]"
     ]
    },
    {
     "name": "stdout",
     "output_type": "stream",
     "text": [
      " \"2021-05-31\""
     ]
    },
    {
     "name": "stdout",
     "output_type": "stream",
     "text": [
      " \"2021-05-31\""
     ]
    },
    {
     "name": "stdout",
     "output_type": "stream",
     "text": [
      " \"2021-05-31\""
     ]
    },
    {
     "name": "stdout",
     "output_type": "stream",
     "text": [
      " \"2021-05-31\""
     ]
    },
    {
     "name": "stdout",
     "output_type": "stream",
     "text": [
      " \"2021-05-31\""
     ]
    },
    {
     "name": "stdout",
     "output_type": "stream",
     "text": [
      "\n"
     ]
    },
    {
     "name": "stdout",
     "output_type": "stream",
     "text": [
      "[1411]"
     ]
    },
    {
     "name": "stdout",
     "output_type": "stream",
     "text": [
      " \"2021-05-31\""
     ]
    },
    {
     "name": "stdout",
     "output_type": "stream",
     "text": [
      " \"2021-05-31\""
     ]
    },
    {
     "name": "stdout",
     "output_type": "stream",
     "text": [
      " \"2021-05-31\""
     ]
    },
    {
     "name": "stdout",
     "output_type": "stream",
     "text": [
      " \"2021-05-31\""
     ]
    },
    {
     "name": "stdout",
     "output_type": "stream",
     "text": [
      " \"2021-05-31\""
     ]
    },
    {
     "name": "stdout",
     "output_type": "stream",
     "text": [
      "\n"
     ]
    },
    {
     "name": "stdout",
     "output_type": "stream",
     "text": [
      "[1416]"
     ]
    },
    {
     "name": "stdout",
     "output_type": "stream",
     "text": [
      " \"2021-05-31\""
     ]
    },
    {
     "name": "stdout",
     "output_type": "stream",
     "text": [
      " \"2021-05-31\""
     ]
    },
    {
     "name": "stdout",
     "output_type": "stream",
     "text": [
      " \"2021-05-31\""
     ]
    },
    {
     "name": "stdout",
     "output_type": "stream",
     "text": [
      " \"2021-05-31\""
     ]
    },
    {
     "name": "stdout",
     "output_type": "stream",
     "text": [
      " \"2021-05-31\""
     ]
    },
    {
     "name": "stdout",
     "output_type": "stream",
     "text": [
      "\n"
     ]
    },
    {
     "name": "stdout",
     "output_type": "stream",
     "text": [
      "[1421]"
     ]
    },
    {
     "name": "stdout",
     "output_type": "stream",
     "text": [
      " \"2021-05-31\""
     ]
    },
    {
     "name": "stdout",
     "output_type": "stream",
     "text": [
      " \"2021-05-31\""
     ]
    },
    {
     "name": "stdout",
     "output_type": "stream",
     "text": [
      " \"2021-05-31\""
     ]
    },
    {
     "name": "stdout",
     "output_type": "stream",
     "text": [
      " \"2021-05-31\""
     ]
    },
    {
     "name": "stdout",
     "output_type": "stream",
     "text": [
      " \"2021-05-31\""
     ]
    },
    {
     "name": "stdout",
     "output_type": "stream",
     "text": [
      "\n"
     ]
    },
    {
     "name": "stdout",
     "output_type": "stream",
     "text": [
      "[1426]"
     ]
    },
    {
     "name": "stdout",
     "output_type": "stream",
     "text": [
      " \"2021-05-31\""
     ]
    },
    {
     "name": "stdout",
     "output_type": "stream",
     "text": [
      " \"2021-05-31\""
     ]
    },
    {
     "name": "stdout",
     "output_type": "stream",
     "text": [
      " \"2021-05-31\""
     ]
    },
    {
     "name": "stdout",
     "output_type": "stream",
     "text": [
      " \"2021-05-31\""
     ]
    },
    {
     "name": "stdout",
     "output_type": "stream",
     "text": [
      " \"2021-05-31\""
     ]
    },
    {
     "name": "stdout",
     "output_type": "stream",
     "text": [
      "\n"
     ]
    },
    {
     "name": "stdout",
     "output_type": "stream",
     "text": [
      "[1431]"
     ]
    },
    {
     "name": "stdout",
     "output_type": "stream",
     "text": [
      " \"2021-05-31\""
     ]
    },
    {
     "name": "stdout",
     "output_type": "stream",
     "text": [
      " \"2021-05-31\""
     ]
    },
    {
     "name": "stdout",
     "output_type": "stream",
     "text": [
      " \"2021-05-31\""
     ]
    },
    {
     "name": "stdout",
     "output_type": "stream",
     "text": [
      " \"2021-05-31\""
     ]
    },
    {
     "name": "stdout",
     "output_type": "stream",
     "text": [
      " \"2021-05-31\""
     ]
    },
    {
     "name": "stdout",
     "output_type": "stream",
     "text": [
      "\n"
     ]
    },
    {
     "name": "stdout",
     "output_type": "stream",
     "text": [
      "[1436]"
     ]
    },
    {
     "name": "stdout",
     "output_type": "stream",
     "text": [
      " \"2021-05-31\""
     ]
    },
    {
     "name": "stdout",
     "output_type": "stream",
     "text": [
      " \"2021-05-31\""
     ]
    },
    {
     "name": "stdout",
     "output_type": "stream",
     "text": [
      " \"2021-05-31\""
     ]
    },
    {
     "name": "stdout",
     "output_type": "stream",
     "text": [
      " \"2021-05-31\""
     ]
    },
    {
     "name": "stdout",
     "output_type": "stream",
     "text": [
      " \"2021-05-31\""
     ]
    },
    {
     "name": "stdout",
     "output_type": "stream",
     "text": [
      "\n"
     ]
    },
    {
     "name": "stdout",
     "output_type": "stream",
     "text": [
      "[1441]"
     ]
    },
    {
     "name": "stdout",
     "output_type": "stream",
     "text": [
      " \"2021-05-31\""
     ]
    },
    {
     "name": "stdout",
     "output_type": "stream",
     "text": [
      " \"2021-05-31\""
     ]
    },
    {
     "name": "stdout",
     "output_type": "stream",
     "text": [
      " \"2021-05-31\""
     ]
    },
    {
     "name": "stdout",
     "output_type": "stream",
     "text": [
      " \"2021-05-31\""
     ]
    },
    {
     "name": "stdout",
     "output_type": "stream",
     "text": [
      " \"2021-05-31\""
     ]
    },
    {
     "name": "stdout",
     "output_type": "stream",
     "text": [
      "\n"
     ]
    },
    {
     "name": "stdout",
     "output_type": "stream",
     "text": [
      "[1446]"
     ]
    },
    {
     "name": "stdout",
     "output_type": "stream",
     "text": [
      " \"2021-05-31\""
     ]
    },
    {
     "name": "stdout",
     "output_type": "stream",
     "text": [
      " \"2021-05-31\""
     ]
    },
    {
     "name": "stdout",
     "output_type": "stream",
     "text": [
      " \"2021-05-31\""
     ]
    },
    {
     "name": "stdout",
     "output_type": "stream",
     "text": [
      " \"2021-05-31\""
     ]
    },
    {
     "name": "stdout",
     "output_type": "stream",
     "text": [
      " \"2021-06-07\""
     ]
    },
    {
     "name": "stdout",
     "output_type": "stream",
     "text": [
      "\n"
     ]
    },
    {
     "name": "stdout",
     "output_type": "stream",
     "text": [
      "[1451]"
     ]
    },
    {
     "name": "stdout",
     "output_type": "stream",
     "text": [
      " \"2021-06-07\""
     ]
    },
    {
     "name": "stdout",
     "output_type": "stream",
     "text": [
      " \"2021-06-07\""
     ]
    },
    {
     "name": "stdout",
     "output_type": "stream",
     "text": [
      " \"2021-06-07\""
     ]
    },
    {
     "name": "stdout",
     "output_type": "stream",
     "text": [
      " \"2021-06-07\""
     ]
    },
    {
     "name": "stdout",
     "output_type": "stream",
     "text": [
      " \"2021-06-07\""
     ]
    },
    {
     "name": "stdout",
     "output_type": "stream",
     "text": [
      "\n"
     ]
    },
    {
     "name": "stdout",
     "output_type": "stream",
     "text": [
      "[1456]"
     ]
    },
    {
     "name": "stdout",
     "output_type": "stream",
     "text": [
      " \"2021-06-07\""
     ]
    },
    {
     "name": "stdout",
     "output_type": "stream",
     "text": [
      " \"2021-06-07\""
     ]
    },
    {
     "name": "stdout",
     "output_type": "stream",
     "text": [
      " \"2021-06-07\""
     ]
    },
    {
     "name": "stdout",
     "output_type": "stream",
     "text": [
      " \"2021-06-07\""
     ]
    },
    {
     "name": "stdout",
     "output_type": "stream",
     "text": [
      " \"2021-06-07\""
     ]
    },
    {
     "name": "stdout",
     "output_type": "stream",
     "text": [
      "\n"
     ]
    },
    {
     "name": "stdout",
     "output_type": "stream",
     "text": [
      "[1461]"
     ]
    },
    {
     "name": "stdout",
     "output_type": "stream",
     "text": [
      " \"2021-06-07\""
     ]
    },
    {
     "name": "stdout",
     "output_type": "stream",
     "text": [
      " \"2021-06-07\""
     ]
    },
    {
     "name": "stdout",
     "output_type": "stream",
     "text": [
      " \"2021-06-07\""
     ]
    },
    {
     "name": "stdout",
     "output_type": "stream",
     "text": [
      " \"2021-06-07\""
     ]
    },
    {
     "name": "stdout",
     "output_type": "stream",
     "text": [
      " \"2021-06-07\""
     ]
    },
    {
     "name": "stdout",
     "output_type": "stream",
     "text": [
      "\n"
     ]
    },
    {
     "name": "stdout",
     "output_type": "stream",
     "text": [
      "[1466]"
     ]
    },
    {
     "name": "stdout",
     "output_type": "stream",
     "text": [
      " \"2021-06-07\""
     ]
    },
    {
     "name": "stdout",
     "output_type": "stream",
     "text": [
      " \"2021-06-07\""
     ]
    },
    {
     "name": "stdout",
     "output_type": "stream",
     "text": [
      " \"2021-06-07\""
     ]
    },
    {
     "name": "stdout",
     "output_type": "stream",
     "text": [
      " \"2021-06-07\""
     ]
    },
    {
     "name": "stdout",
     "output_type": "stream",
     "text": [
      " \"2021-06-07\""
     ]
    },
    {
     "name": "stdout",
     "output_type": "stream",
     "text": [
      "\n"
     ]
    },
    {
     "name": "stdout",
     "output_type": "stream",
     "text": [
      "[1471]"
     ]
    },
    {
     "name": "stdout",
     "output_type": "stream",
     "text": [
      " \"2021-06-07\""
     ]
    },
    {
     "name": "stdout",
     "output_type": "stream",
     "text": [
      " \"2021-06-07\""
     ]
    },
    {
     "name": "stdout",
     "output_type": "stream",
     "text": [
      " \"2021-06-07\""
     ]
    },
    {
     "name": "stdout",
     "output_type": "stream",
     "text": [
      " \"2021-06-07\""
     ]
    },
    {
     "name": "stdout",
     "output_type": "stream",
     "text": [
      " \"2021-06-07\""
     ]
    },
    {
     "name": "stdout",
     "output_type": "stream",
     "text": [
      "\n"
     ]
    },
    {
     "name": "stdout",
     "output_type": "stream",
     "text": [
      "[1476]"
     ]
    },
    {
     "name": "stdout",
     "output_type": "stream",
     "text": [
      " \"2021-06-07\""
     ]
    },
    {
     "name": "stdout",
     "output_type": "stream",
     "text": [
      " \"2021-06-07\""
     ]
    },
    {
     "name": "stdout",
     "output_type": "stream",
     "text": [
      " \"2021-06-07\""
     ]
    },
    {
     "name": "stdout",
     "output_type": "stream",
     "text": [
      " \"2021-06-07\""
     ]
    },
    {
     "name": "stdout",
     "output_type": "stream",
     "text": [
      " \"2021-06-07\""
     ]
    },
    {
     "name": "stdout",
     "output_type": "stream",
     "text": [
      "\n"
     ]
    },
    {
     "name": "stdout",
     "output_type": "stream",
     "text": [
      "[1481]"
     ]
    },
    {
     "name": "stdout",
     "output_type": "stream",
     "text": [
      " \"2021-06-07\""
     ]
    },
    {
     "name": "stdout",
     "output_type": "stream",
     "text": [
      " \"2021-06-07\""
     ]
    },
    {
     "name": "stdout",
     "output_type": "stream",
     "text": [
      " \"2021-06-07\""
     ]
    },
    {
     "name": "stdout",
     "output_type": "stream",
     "text": [
      " \"2021-06-07\""
     ]
    },
    {
     "name": "stdout",
     "output_type": "stream",
     "text": [
      " \"2021-06-07\""
     ]
    },
    {
     "name": "stdout",
     "output_type": "stream",
     "text": [
      "\n"
     ]
    },
    {
     "name": "stdout",
     "output_type": "stream",
     "text": [
      "[1486]"
     ]
    },
    {
     "name": "stdout",
     "output_type": "stream",
     "text": [
      " \"2021-06-07\""
     ]
    },
    {
     "name": "stdout",
     "output_type": "stream",
     "text": [
      " \"2021-06-07\""
     ]
    },
    {
     "name": "stdout",
     "output_type": "stream",
     "text": [
      " \"2021-06-07\""
     ]
    },
    {
     "name": "stdout",
     "output_type": "stream",
     "text": [
      " \"2021-06-07\""
     ]
    },
    {
     "name": "stdout",
     "output_type": "stream",
     "text": [
      " \"2021-06-07\""
     ]
    },
    {
     "name": "stdout",
     "output_type": "stream",
     "text": [
      "\n"
     ]
    },
    {
     "name": "stdout",
     "output_type": "stream",
     "text": [
      "[1491]"
     ]
    },
    {
     "name": "stdout",
     "output_type": "stream",
     "text": [
      " \"2021-06-07\""
     ]
    },
    {
     "name": "stdout",
     "output_type": "stream",
     "text": [
      " \"2021-06-07\""
     ]
    },
    {
     "name": "stdout",
     "output_type": "stream",
     "text": [
      " \"2021-06-07\""
     ]
    },
    {
     "name": "stdout",
     "output_type": "stream",
     "text": [
      " \"2021-06-07\""
     ]
    },
    {
     "name": "stdout",
     "output_type": "stream",
     "text": [
      " \"2021-06-07\""
     ]
    },
    {
     "name": "stdout",
     "output_type": "stream",
     "text": [
      "\n"
     ]
    },
    {
     "name": "stdout",
     "output_type": "stream",
     "text": [
      "[1496]"
     ]
    },
    {
     "name": "stdout",
     "output_type": "stream",
     "text": [
      " \"2021-06-07\""
     ]
    },
    {
     "name": "stdout",
     "output_type": "stream",
     "text": [
      " \"2021-06-07\""
     ]
    },
    {
     "name": "stdout",
     "output_type": "stream",
     "text": [
      " \"2021-06-07\""
     ]
    },
    {
     "name": "stdout",
     "output_type": "stream",
     "text": [
      " \"2021-06-07\""
     ]
    },
    {
     "name": "stdout",
     "output_type": "stream",
     "text": [
      " \"2021-06-07\""
     ]
    },
    {
     "name": "stdout",
     "output_type": "stream",
     "text": [
      "\n"
     ]
    },
    {
     "name": "stdout",
     "output_type": "stream",
     "text": [
      "[1501]"
     ]
    },
    {
     "name": "stdout",
     "output_type": "stream",
     "text": [
      " \"2021-06-07\""
     ]
    },
    {
     "name": "stdout",
     "output_type": "stream",
     "text": [
      " \"2021-06-07\""
     ]
    },
    {
     "name": "stdout",
     "output_type": "stream",
     "text": [
      " \"2021-06-07\""
     ]
    },
    {
     "name": "stdout",
     "output_type": "stream",
     "text": [
      " \"2021-06-07\""
     ]
    },
    {
     "name": "stdout",
     "output_type": "stream",
     "text": [
      " \"2021-06-07\""
     ]
    },
    {
     "name": "stdout",
     "output_type": "stream",
     "text": [
      "\n"
     ]
    },
    {
     "name": "stdout",
     "output_type": "stream",
     "text": [
      "[1506]"
     ]
    },
    {
     "name": "stdout",
     "output_type": "stream",
     "text": [
      " \"2021-06-07\""
     ]
    },
    {
     "name": "stdout",
     "output_type": "stream",
     "text": [
      " \"2021-06-07\""
     ]
    },
    {
     "name": "stdout",
     "output_type": "stream",
     "text": [
      " \"2021-06-07\""
     ]
    },
    {
     "name": "stdout",
     "output_type": "stream",
     "text": [
      " \"2021-06-07\""
     ]
    },
    {
     "name": "stdout",
     "output_type": "stream",
     "text": [
      " \"2021-06-07\""
     ]
    },
    {
     "name": "stdout",
     "output_type": "stream",
     "text": [
      "\n"
     ]
    },
    {
     "name": "stdout",
     "output_type": "stream",
     "text": [
      "[1511]"
     ]
    },
    {
     "name": "stdout",
     "output_type": "stream",
     "text": [
      " \"2021-06-07\""
     ]
    },
    {
     "name": "stdout",
     "output_type": "stream",
     "text": [
      " \"2021-06-07\""
     ]
    },
    {
     "name": "stdout",
     "output_type": "stream",
     "text": [
      " \"2021-06-07\""
     ]
    },
    {
     "name": "stdout",
     "output_type": "stream",
     "text": [
      " \"2021-06-07\""
     ]
    },
    {
     "name": "stdout",
     "output_type": "stream",
     "text": [
      " \"2021-06-07\""
     ]
    },
    {
     "name": "stdout",
     "output_type": "stream",
     "text": [
      "\n"
     ]
    },
    {
     "name": "stdout",
     "output_type": "stream",
     "text": [
      "[1516]"
     ]
    },
    {
     "name": "stdout",
     "output_type": "stream",
     "text": [
      " \"2021-06-07\""
     ]
    },
    {
     "name": "stdout",
     "output_type": "stream",
     "text": [
      " \"2021-06-07\""
     ]
    },
    {
     "name": "stdout",
     "output_type": "stream",
     "text": [
      " \"2021-06-07\""
     ]
    },
    {
     "name": "stdout",
     "output_type": "stream",
     "text": [
      " \"2021-06-14\""
     ]
    },
    {
     "name": "stdout",
     "output_type": "stream",
     "text": [
      " \"2021-06-14\""
     ]
    },
    {
     "name": "stdout",
     "output_type": "stream",
     "text": [
      "\n"
     ]
    },
    {
     "name": "stdout",
     "output_type": "stream",
     "text": [
      "[1521]"
     ]
    },
    {
     "name": "stdout",
     "output_type": "stream",
     "text": [
      " \"2021-06-14\""
     ]
    },
    {
     "name": "stdout",
     "output_type": "stream",
     "text": [
      " \"2021-06-14\""
     ]
    },
    {
     "name": "stdout",
     "output_type": "stream",
     "text": [
      " \"2021-06-14\""
     ]
    },
    {
     "name": "stdout",
     "output_type": "stream",
     "text": [
      " \"2021-06-14\""
     ]
    },
    {
     "name": "stdout",
     "output_type": "stream",
     "text": [
      " \"2021-06-14\""
     ]
    },
    {
     "name": "stdout",
     "output_type": "stream",
     "text": [
      "\n"
     ]
    },
    {
     "name": "stdout",
     "output_type": "stream",
     "text": [
      "[1526]"
     ]
    },
    {
     "name": "stdout",
     "output_type": "stream",
     "text": [
      " \"2021-06-14\""
     ]
    },
    {
     "name": "stdout",
     "output_type": "stream",
     "text": [
      " \"2021-06-14\""
     ]
    },
    {
     "name": "stdout",
     "output_type": "stream",
     "text": [
      " \"2021-06-14\""
     ]
    },
    {
     "name": "stdout",
     "output_type": "stream",
     "text": [
      " \"2021-06-14\""
     ]
    },
    {
     "name": "stdout",
     "output_type": "stream",
     "text": [
      " \"2021-06-14\""
     ]
    },
    {
     "name": "stdout",
     "output_type": "stream",
     "text": [
      "\n"
     ]
    },
    {
     "name": "stdout",
     "output_type": "stream",
     "text": [
      "[1531]"
     ]
    },
    {
     "name": "stdout",
     "output_type": "stream",
     "text": [
      " \"2021-06-14\""
     ]
    },
    {
     "name": "stdout",
     "output_type": "stream",
     "text": [
      " \"2021-06-14\""
     ]
    },
    {
     "name": "stdout",
     "output_type": "stream",
     "text": [
      " \"2021-06-14\""
     ]
    },
    {
     "name": "stdout",
     "output_type": "stream",
     "text": [
      " \"2021-06-14\""
     ]
    },
    {
     "name": "stdout",
     "output_type": "stream",
     "text": [
      " \"2021-06-14\""
     ]
    },
    {
     "name": "stdout",
     "output_type": "stream",
     "text": [
      "\n"
     ]
    },
    {
     "name": "stdout",
     "output_type": "stream",
     "text": [
      "[1536]"
     ]
    },
    {
     "name": "stdout",
     "output_type": "stream",
     "text": [
      " \"2021-06-14\""
     ]
    },
    {
     "name": "stdout",
     "output_type": "stream",
     "text": [
      " \"2021-06-14\""
     ]
    },
    {
     "name": "stdout",
     "output_type": "stream",
     "text": [
      " \"2021-06-14\""
     ]
    },
    {
     "name": "stdout",
     "output_type": "stream",
     "text": [
      " \"2021-06-14\""
     ]
    },
    {
     "name": "stdout",
     "output_type": "stream",
     "text": [
      " \"2021-06-14\""
     ]
    },
    {
     "name": "stdout",
     "output_type": "stream",
     "text": [
      "\n"
     ]
    },
    {
     "name": "stdout",
     "output_type": "stream",
     "text": [
      "[1541]"
     ]
    },
    {
     "name": "stdout",
     "output_type": "stream",
     "text": [
      " \"2021-06-14\""
     ]
    },
    {
     "name": "stdout",
     "output_type": "stream",
     "text": [
      " \"2021-06-14\""
     ]
    },
    {
     "name": "stdout",
     "output_type": "stream",
     "text": [
      " \"2021-06-14\""
     ]
    },
    {
     "name": "stdout",
     "output_type": "stream",
     "text": [
      " \"2021-06-14\""
     ]
    },
    {
     "name": "stdout",
     "output_type": "stream",
     "text": [
      " \"2021-06-14\""
     ]
    },
    {
     "name": "stdout",
     "output_type": "stream",
     "text": [
      "\n"
     ]
    },
    {
     "name": "stdout",
     "output_type": "stream",
     "text": [
      "[1546]"
     ]
    },
    {
     "name": "stdout",
     "output_type": "stream",
     "text": [
      " \"2021-06-14\""
     ]
    },
    {
     "name": "stdout",
     "output_type": "stream",
     "text": [
      " \"2021-06-14\""
     ]
    },
    {
     "name": "stdout",
     "output_type": "stream",
     "text": [
      " \"2021-06-14\""
     ]
    },
    {
     "name": "stdout",
     "output_type": "stream",
     "text": [
      " \"2021-06-14\""
     ]
    },
    {
     "name": "stdout",
     "output_type": "stream",
     "text": [
      " \"2021-06-14\""
     ]
    },
    {
     "name": "stdout",
     "output_type": "stream",
     "text": [
      "\n"
     ]
    },
    {
     "name": "stdout",
     "output_type": "stream",
     "text": [
      "[1551]"
     ]
    },
    {
     "name": "stdout",
     "output_type": "stream",
     "text": [
      " \"2021-06-14\""
     ]
    },
    {
     "name": "stdout",
     "output_type": "stream",
     "text": [
      " \"2021-06-14\""
     ]
    },
    {
     "name": "stdout",
     "output_type": "stream",
     "text": [
      " \"2021-06-14\""
     ]
    },
    {
     "name": "stdout",
     "output_type": "stream",
     "text": [
      " \"2021-06-14\""
     ]
    },
    {
     "name": "stdout",
     "output_type": "stream",
     "text": [
      " \"2021-06-14\""
     ]
    },
    {
     "name": "stdout",
     "output_type": "stream",
     "text": [
      "\n"
     ]
    },
    {
     "name": "stdout",
     "output_type": "stream",
     "text": [
      "[1556]"
     ]
    },
    {
     "name": "stdout",
     "output_type": "stream",
     "text": [
      " \"2021-06-14\""
     ]
    },
    {
     "name": "stdout",
     "output_type": "stream",
     "text": [
      " \"2021-06-14\""
     ]
    },
    {
     "name": "stdout",
     "output_type": "stream",
     "text": [
      " \"2021-06-14\""
     ]
    },
    {
     "name": "stdout",
     "output_type": "stream",
     "text": [
      " \"2021-06-14\""
     ]
    },
    {
     "name": "stdout",
     "output_type": "stream",
     "text": [
      " \"2021-06-14\""
     ]
    },
    {
     "name": "stdout",
     "output_type": "stream",
     "text": [
      "\n"
     ]
    },
    {
     "name": "stdout",
     "output_type": "stream",
     "text": [
      "[1561]"
     ]
    },
    {
     "name": "stdout",
     "output_type": "stream",
     "text": [
      " \"2021-06-14\""
     ]
    },
    {
     "name": "stdout",
     "output_type": "stream",
     "text": [
      " \"2021-06-14\""
     ]
    },
    {
     "name": "stdout",
     "output_type": "stream",
     "text": [
      " \"2021-06-14\""
     ]
    },
    {
     "name": "stdout",
     "output_type": "stream",
     "text": [
      " \"2021-06-14\""
     ]
    },
    {
     "name": "stdout",
     "output_type": "stream",
     "text": [
      " \"2021-06-14\""
     ]
    },
    {
     "name": "stdout",
     "output_type": "stream",
     "text": [
      "\n"
     ]
    },
    {
     "name": "stdout",
     "output_type": "stream",
     "text": [
      "[1566]"
     ]
    },
    {
     "name": "stdout",
     "output_type": "stream",
     "text": [
      " \"2021-06-14\""
     ]
    },
    {
     "name": "stdout",
     "output_type": "stream",
     "text": [
      " \"2021-06-14\""
     ]
    },
    {
     "name": "stdout",
     "output_type": "stream",
     "text": [
      " \"2021-06-14\""
     ]
    },
    {
     "name": "stdout",
     "output_type": "stream",
     "text": [
      " \"2021-06-14\""
     ]
    },
    {
     "name": "stdout",
     "output_type": "stream",
     "text": [
      " \"2021-06-14\""
     ]
    },
    {
     "name": "stdout",
     "output_type": "stream",
     "text": [
      "\n"
     ]
    },
    {
     "name": "stdout",
     "output_type": "stream",
     "text": [
      "[1571]"
     ]
    },
    {
     "name": "stdout",
     "output_type": "stream",
     "text": [
      " \"2021-06-14\""
     ]
    },
    {
     "name": "stdout",
     "output_type": "stream",
     "text": [
      " \"2021-06-14\""
     ]
    },
    {
     "name": "stdout",
     "output_type": "stream",
     "text": [
      " \"2021-06-14\""
     ]
    },
    {
     "name": "stdout",
     "output_type": "stream",
     "text": [
      " \"2021-06-14\""
     ]
    },
    {
     "name": "stdout",
     "output_type": "stream",
     "text": [
      " \"2021-06-14\""
     ]
    },
    {
     "name": "stdout",
     "output_type": "stream",
     "text": [
      "\n"
     ]
    },
    {
     "name": "stdout",
     "output_type": "stream",
     "text": [
      "[1576]"
     ]
    },
    {
     "name": "stdout",
     "output_type": "stream",
     "text": [
      " \"2021-06-14\""
     ]
    },
    {
     "name": "stdout",
     "output_type": "stream",
     "text": [
      " \"2021-06-14\""
     ]
    },
    {
     "name": "stdout",
     "output_type": "stream",
     "text": [
      " \"2021-06-14\""
     ]
    },
    {
     "name": "stdout",
     "output_type": "stream",
     "text": [
      " \"2021-06-14\""
     ]
    },
    {
     "name": "stdout",
     "output_type": "stream",
     "text": [
      " \"2021-06-14\""
     ]
    },
    {
     "name": "stdout",
     "output_type": "stream",
     "text": [
      "\n"
     ]
    },
    {
     "name": "stdout",
     "output_type": "stream",
     "text": [
      "[1581]"
     ]
    },
    {
     "name": "stdout",
     "output_type": "stream",
     "text": [
      " \"2021-06-14\""
     ]
    },
    {
     "name": "stdout",
     "output_type": "stream",
     "text": [
      " \"2021-06-14\""
     ]
    },
    {
     "name": "stdout",
     "output_type": "stream",
     "text": [
      " \"2021-06-14\""
     ]
    },
    {
     "name": "stdout",
     "output_type": "stream",
     "text": [
      " \"2021-06-14\""
     ]
    },
    {
     "name": "stdout",
     "output_type": "stream",
     "text": [
      " \"2021-06-14\""
     ]
    },
    {
     "name": "stdout",
     "output_type": "stream",
     "text": [
      "\n"
     ]
    },
    {
     "name": "stdout",
     "output_type": "stream",
     "text": [
      "[1586]"
     ]
    },
    {
     "name": "stdout",
     "output_type": "stream",
     "text": [
      " \"2021-06-14\""
     ]
    },
    {
     "name": "stdout",
     "output_type": "stream",
     "text": [
      " \"2021-06-14\""
     ]
    },
    {
     "name": "stdout",
     "output_type": "stream",
     "text": [
      " \"2021-06-21\""
     ]
    },
    {
     "name": "stdout",
     "output_type": "stream",
     "text": [
      " \"2021-06-21\""
     ]
    },
    {
     "name": "stdout",
     "output_type": "stream",
     "text": [
      " \"2021-06-21\""
     ]
    },
    {
     "name": "stdout",
     "output_type": "stream",
     "text": [
      "\n"
     ]
    },
    {
     "name": "stdout",
     "output_type": "stream",
     "text": [
      "[1591]"
     ]
    },
    {
     "name": "stdout",
     "output_type": "stream",
     "text": [
      " \"2021-06-21\""
     ]
    },
    {
     "name": "stdout",
     "output_type": "stream",
     "text": [
      " \"2021-06-21\""
     ]
    },
    {
     "name": "stdout",
     "output_type": "stream",
     "text": [
      " \"2021-06-21\""
     ]
    },
    {
     "name": "stdout",
     "output_type": "stream",
     "text": [
      " \"2021-06-21\""
     ]
    },
    {
     "name": "stdout",
     "output_type": "stream",
     "text": [
      " \"2021-06-21\""
     ]
    },
    {
     "name": "stdout",
     "output_type": "stream",
     "text": [
      "\n"
     ]
    },
    {
     "name": "stdout",
     "output_type": "stream",
     "text": [
      "[1596]"
     ]
    },
    {
     "name": "stdout",
     "output_type": "stream",
     "text": [
      " \"2021-06-21\""
     ]
    },
    {
     "name": "stdout",
     "output_type": "stream",
     "text": [
      " \"2021-06-21\""
     ]
    },
    {
     "name": "stdout",
     "output_type": "stream",
     "text": [
      " \"2021-06-21\""
     ]
    },
    {
     "name": "stdout",
     "output_type": "stream",
     "text": [
      " \"2021-06-21\""
     ]
    },
    {
     "name": "stdout",
     "output_type": "stream",
     "text": [
      " \"2021-06-21\""
     ]
    },
    {
     "name": "stdout",
     "output_type": "stream",
     "text": [
      "\n"
     ]
    },
    {
     "name": "stdout",
     "output_type": "stream",
     "text": [
      "[1601]"
     ]
    },
    {
     "name": "stdout",
     "output_type": "stream",
     "text": [
      " \"2021-06-21\""
     ]
    },
    {
     "name": "stdout",
     "output_type": "stream",
     "text": [
      " \"2021-06-21\""
     ]
    },
    {
     "name": "stdout",
     "output_type": "stream",
     "text": [
      " \"2021-06-21\""
     ]
    },
    {
     "name": "stdout",
     "output_type": "stream",
     "text": [
      " \"2021-06-21\""
     ]
    },
    {
     "name": "stdout",
     "output_type": "stream",
     "text": [
      " \"2021-06-21\""
     ]
    },
    {
     "name": "stdout",
     "output_type": "stream",
     "text": [
      "\n"
     ]
    },
    {
     "name": "stdout",
     "output_type": "stream",
     "text": [
      "[1606]"
     ]
    },
    {
     "name": "stdout",
     "output_type": "stream",
     "text": [
      " \"2021-06-21\""
     ]
    },
    {
     "name": "stdout",
     "output_type": "stream",
     "text": [
      " \"2021-06-21\""
     ]
    },
    {
     "name": "stdout",
     "output_type": "stream",
     "text": [
      " \"2021-06-21\""
     ]
    },
    {
     "name": "stdout",
     "output_type": "stream",
     "text": [
      " \"2021-06-21\""
     ]
    },
    {
     "name": "stdout",
     "output_type": "stream",
     "text": [
      " \"2021-06-21\""
     ]
    },
    {
     "name": "stdout",
     "output_type": "stream",
     "text": [
      "\n"
     ]
    },
    {
     "name": "stdout",
     "output_type": "stream",
     "text": [
      "[1611]"
     ]
    },
    {
     "name": "stdout",
     "output_type": "stream",
     "text": [
      " \"2021-06-21\""
     ]
    },
    {
     "name": "stdout",
     "output_type": "stream",
     "text": [
      " \"2021-06-21\""
     ]
    },
    {
     "name": "stdout",
     "output_type": "stream",
     "text": [
      " \"2021-06-21\""
     ]
    },
    {
     "name": "stdout",
     "output_type": "stream",
     "text": [
      " \"2021-06-21\""
     ]
    },
    {
     "name": "stdout",
     "output_type": "stream",
     "text": [
      " \"2021-06-21\""
     ]
    },
    {
     "name": "stdout",
     "output_type": "stream",
     "text": [
      "\n"
     ]
    },
    {
     "name": "stdout",
     "output_type": "stream",
     "text": [
      "[1616]"
     ]
    },
    {
     "name": "stdout",
     "output_type": "stream",
     "text": [
      " \"2021-06-21\""
     ]
    },
    {
     "name": "stdout",
     "output_type": "stream",
     "text": [
      " \"2021-06-21\""
     ]
    },
    {
     "name": "stdout",
     "output_type": "stream",
     "text": [
      " \"2021-06-21\""
     ]
    },
    {
     "name": "stdout",
     "output_type": "stream",
     "text": [
      " \"2021-06-21\""
     ]
    },
    {
     "name": "stdout",
     "output_type": "stream",
     "text": [
      " \"2021-06-21\""
     ]
    },
    {
     "name": "stdout",
     "output_type": "stream",
     "text": [
      "\n"
     ]
    },
    {
     "name": "stdout",
     "output_type": "stream",
     "text": [
      "[1621]"
     ]
    },
    {
     "name": "stdout",
     "output_type": "stream",
     "text": [
      " \"2021-06-21\""
     ]
    },
    {
     "name": "stdout",
     "output_type": "stream",
     "text": [
      " \"2021-06-21\""
     ]
    },
    {
     "name": "stdout",
     "output_type": "stream",
     "text": [
      " \"2021-06-21\""
     ]
    },
    {
     "name": "stdout",
     "output_type": "stream",
     "text": [
      " \"2021-06-21\""
     ]
    },
    {
     "name": "stdout",
     "output_type": "stream",
     "text": [
      " \"2021-06-21\""
     ]
    },
    {
     "name": "stdout",
     "output_type": "stream",
     "text": [
      "\n"
     ]
    },
    {
     "name": "stdout",
     "output_type": "stream",
     "text": [
      "[1626]"
     ]
    },
    {
     "name": "stdout",
     "output_type": "stream",
     "text": [
      " \"2021-06-21\""
     ]
    },
    {
     "name": "stdout",
     "output_type": "stream",
     "text": [
      " \"2021-06-21\""
     ]
    },
    {
     "name": "stdout",
     "output_type": "stream",
     "text": [
      " \"2021-06-21\""
     ]
    },
    {
     "name": "stdout",
     "output_type": "stream",
     "text": [
      " \"2021-06-21\""
     ]
    },
    {
     "name": "stdout",
     "output_type": "stream",
     "text": [
      " \"2021-06-21\""
     ]
    },
    {
     "name": "stdout",
     "output_type": "stream",
     "text": [
      "\n"
     ]
    },
    {
     "name": "stdout",
     "output_type": "stream",
     "text": [
      "[1631]"
     ]
    },
    {
     "name": "stdout",
     "output_type": "stream",
     "text": [
      " \"2021-06-21\""
     ]
    },
    {
     "name": "stdout",
     "output_type": "stream",
     "text": [
      " \"2021-06-21\""
     ]
    },
    {
     "name": "stdout",
     "output_type": "stream",
     "text": [
      " \"2021-06-21\""
     ]
    },
    {
     "name": "stdout",
     "output_type": "stream",
     "text": [
      " \"2021-06-21\""
     ]
    },
    {
     "name": "stdout",
     "output_type": "stream",
     "text": [
      " \"2021-06-21\""
     ]
    },
    {
     "name": "stdout",
     "output_type": "stream",
     "text": [
      "\n"
     ]
    },
    {
     "name": "stdout",
     "output_type": "stream",
     "text": [
      "[1636]"
     ]
    },
    {
     "name": "stdout",
     "output_type": "stream",
     "text": [
      " \"2021-06-21\""
     ]
    },
    {
     "name": "stdout",
     "output_type": "stream",
     "text": [
      " \"2021-06-21\""
     ]
    },
    {
     "name": "stdout",
     "output_type": "stream",
     "text": [
      " \"2021-06-21\""
     ]
    },
    {
     "name": "stdout",
     "output_type": "stream",
     "text": [
      " \"2021-06-21\""
     ]
    },
    {
     "name": "stdout",
     "output_type": "stream",
     "text": [
      " \"2021-06-21\""
     ]
    },
    {
     "name": "stdout",
     "output_type": "stream",
     "text": [
      "\n"
     ]
    },
    {
     "name": "stdout",
     "output_type": "stream",
     "text": [
      "[1641]"
     ]
    },
    {
     "name": "stdout",
     "output_type": "stream",
     "text": [
      " \"2021-06-21\""
     ]
    },
    {
     "name": "stdout",
     "output_type": "stream",
     "text": [
      " \"2021-06-21\""
     ]
    },
    {
     "name": "stdout",
     "output_type": "stream",
     "text": [
      " \"2021-06-21\""
     ]
    },
    {
     "name": "stdout",
     "output_type": "stream",
     "text": [
      " \"2021-06-21\""
     ]
    },
    {
     "name": "stdout",
     "output_type": "stream",
     "text": [
      " \"2021-06-21\""
     ]
    },
    {
     "name": "stdout",
     "output_type": "stream",
     "text": [
      "\n"
     ]
    },
    {
     "name": "stdout",
     "output_type": "stream",
     "text": [
      "[1646]"
     ]
    },
    {
     "name": "stdout",
     "output_type": "stream",
     "text": [
      " \"2021-06-21\""
     ]
    },
    {
     "name": "stdout",
     "output_type": "stream",
     "text": [
      " \"2021-06-21\""
     ]
    },
    {
     "name": "stdout",
     "output_type": "stream",
     "text": [
      " \"2021-06-21\""
     ]
    },
    {
     "name": "stdout",
     "output_type": "stream",
     "text": [
      " \"2021-06-21\""
     ]
    },
    {
     "name": "stdout",
     "output_type": "stream",
     "text": [
      " \"2021-06-21\""
     ]
    },
    {
     "name": "stdout",
     "output_type": "stream",
     "text": [
      "\n"
     ]
    },
    {
     "name": "stdout",
     "output_type": "stream",
     "text": [
      "[1651]"
     ]
    },
    {
     "name": "stdout",
     "output_type": "stream",
     "text": [
      " \"2021-06-21\""
     ]
    },
    {
     "name": "stdout",
     "output_type": "stream",
     "text": [
      " \"2021-06-21\""
     ]
    },
    {
     "name": "stdout",
     "output_type": "stream",
     "text": [
      " \"2021-06-21\""
     ]
    },
    {
     "name": "stdout",
     "output_type": "stream",
     "text": [
      " \"2021-06-21\""
     ]
    },
    {
     "name": "stdout",
     "output_type": "stream",
     "text": [
      " \"2021-06-21\""
     ]
    },
    {
     "name": "stdout",
     "output_type": "stream",
     "text": [
      "\n"
     ]
    },
    {
     "name": "stdout",
     "output_type": "stream",
     "text": [
      "[1656]"
     ]
    },
    {
     "name": "stdout",
     "output_type": "stream",
     "text": [
      " \"2021-06-21\""
     ]
    },
    {
     "name": "stdout",
     "output_type": "stream",
     "text": [
      " \"2021-06-28\""
     ]
    },
    {
     "name": "stdout",
     "output_type": "stream",
     "text": [
      " \"2021-06-28\""
     ]
    },
    {
     "name": "stdout",
     "output_type": "stream",
     "text": [
      " \"2021-06-28\""
     ]
    },
    {
     "name": "stdout",
     "output_type": "stream",
     "text": [
      " \"2021-06-28\""
     ]
    },
    {
     "name": "stdout",
     "output_type": "stream",
     "text": [
      "\n"
     ]
    },
    {
     "name": "stdout",
     "output_type": "stream",
     "text": [
      "[1661]"
     ]
    },
    {
     "name": "stdout",
     "output_type": "stream",
     "text": [
      " \"2021-06-28\""
     ]
    },
    {
     "name": "stdout",
     "output_type": "stream",
     "text": [
      " \"2021-06-28\""
     ]
    },
    {
     "name": "stdout",
     "output_type": "stream",
     "text": [
      " \"2021-06-28\""
     ]
    },
    {
     "name": "stdout",
     "output_type": "stream",
     "text": [
      " \"2021-06-28\""
     ]
    },
    {
     "name": "stdout",
     "output_type": "stream",
     "text": [
      " \"2021-06-28\""
     ]
    },
    {
     "name": "stdout",
     "output_type": "stream",
     "text": [
      "\n"
     ]
    },
    {
     "name": "stdout",
     "output_type": "stream",
     "text": [
      "[1666]"
     ]
    },
    {
     "name": "stdout",
     "output_type": "stream",
     "text": [
      " \"2021-06-28\""
     ]
    },
    {
     "name": "stdout",
     "output_type": "stream",
     "text": [
      " \"2021-06-28\""
     ]
    },
    {
     "name": "stdout",
     "output_type": "stream",
     "text": [
      " \"2021-06-28\""
     ]
    },
    {
     "name": "stdout",
     "output_type": "stream",
     "text": [
      " \"2021-06-28\""
     ]
    },
    {
     "name": "stdout",
     "output_type": "stream",
     "text": [
      " \"2021-06-28\""
     ]
    },
    {
     "name": "stdout",
     "output_type": "stream",
     "text": [
      "\n"
     ]
    },
    {
     "name": "stdout",
     "output_type": "stream",
     "text": [
      "[1671]"
     ]
    },
    {
     "name": "stdout",
     "output_type": "stream",
     "text": [
      " \"2021-06-28\""
     ]
    },
    {
     "name": "stdout",
     "output_type": "stream",
     "text": [
      " \"2021-06-28\""
     ]
    },
    {
     "name": "stdout",
     "output_type": "stream",
     "text": [
      " \"2021-06-28\""
     ]
    },
    {
     "name": "stdout",
     "output_type": "stream",
     "text": [
      " \"2021-06-28\""
     ]
    },
    {
     "name": "stdout",
     "output_type": "stream",
     "text": [
      " \"2021-06-28\""
     ]
    },
    {
     "name": "stdout",
     "output_type": "stream",
     "text": [
      "\n"
     ]
    },
    {
     "name": "stdout",
     "output_type": "stream",
     "text": [
      "[1676]"
     ]
    },
    {
     "name": "stdout",
     "output_type": "stream",
     "text": [
      " \"2021-06-28\""
     ]
    },
    {
     "name": "stdout",
     "output_type": "stream",
     "text": [
      " \"2021-06-28\""
     ]
    },
    {
     "name": "stdout",
     "output_type": "stream",
     "text": [
      " \"2021-06-28\""
     ]
    },
    {
     "name": "stdout",
     "output_type": "stream",
     "text": [
      " \"2021-06-28\""
     ]
    },
    {
     "name": "stdout",
     "output_type": "stream",
     "text": [
      " \"2021-06-28\""
     ]
    },
    {
     "name": "stdout",
     "output_type": "stream",
     "text": [
      "\n"
     ]
    },
    {
     "name": "stdout",
     "output_type": "stream",
     "text": [
      "[1681]"
     ]
    },
    {
     "name": "stdout",
     "output_type": "stream",
     "text": [
      " \"2021-06-28\""
     ]
    },
    {
     "name": "stdout",
     "output_type": "stream",
     "text": [
      " \"2021-06-28\""
     ]
    },
    {
     "name": "stdout",
     "output_type": "stream",
     "text": [
      " \"2021-06-28\""
     ]
    },
    {
     "name": "stdout",
     "output_type": "stream",
     "text": [
      " \"2021-06-28\""
     ]
    },
    {
     "name": "stdout",
     "output_type": "stream",
     "text": [
      " \"2021-06-28\""
     ]
    },
    {
     "name": "stdout",
     "output_type": "stream",
     "text": [
      "\n"
     ]
    },
    {
     "name": "stdout",
     "output_type": "stream",
     "text": [
      "[1686]"
     ]
    },
    {
     "name": "stdout",
     "output_type": "stream",
     "text": [
      " \"2021-06-28\""
     ]
    },
    {
     "name": "stdout",
     "output_type": "stream",
     "text": [
      " \"2021-06-28\""
     ]
    },
    {
     "name": "stdout",
     "output_type": "stream",
     "text": [
      " \"2021-06-28\""
     ]
    },
    {
     "name": "stdout",
     "output_type": "stream",
     "text": [
      " \"2021-06-28\""
     ]
    },
    {
     "name": "stdout",
     "output_type": "stream",
     "text": [
      " \"2021-06-28\""
     ]
    },
    {
     "name": "stdout",
     "output_type": "stream",
     "text": [
      "\n"
     ]
    },
    {
     "name": "stdout",
     "output_type": "stream",
     "text": [
      "[1691]"
     ]
    },
    {
     "name": "stdout",
     "output_type": "stream",
     "text": [
      " \"2021-06-28\""
     ]
    },
    {
     "name": "stdout",
     "output_type": "stream",
     "text": [
      " \"2021-06-28\""
     ]
    },
    {
     "name": "stdout",
     "output_type": "stream",
     "text": [
      " \"2021-06-28\""
     ]
    },
    {
     "name": "stdout",
     "output_type": "stream",
     "text": [
      " \"2021-06-28\""
     ]
    },
    {
     "name": "stdout",
     "output_type": "stream",
     "text": [
      " \"2021-06-28\""
     ]
    },
    {
     "name": "stdout",
     "output_type": "stream",
     "text": [
      "\n"
     ]
    },
    {
     "name": "stdout",
     "output_type": "stream",
     "text": [
      "[1696]"
     ]
    },
    {
     "name": "stdout",
     "output_type": "stream",
     "text": [
      " \"2021-06-28\""
     ]
    },
    {
     "name": "stdout",
     "output_type": "stream",
     "text": [
      " \"2021-06-28\""
     ]
    },
    {
     "name": "stdout",
     "output_type": "stream",
     "text": [
      " \"2021-06-28\""
     ]
    },
    {
     "name": "stdout",
     "output_type": "stream",
     "text": [
      " \"2021-06-28\""
     ]
    },
    {
     "name": "stdout",
     "output_type": "stream",
     "text": [
      " \"2021-06-28\""
     ]
    },
    {
     "name": "stdout",
     "output_type": "stream",
     "text": [
      "\n"
     ]
    },
    {
     "name": "stdout",
     "output_type": "stream",
     "text": [
      "[1701]"
     ]
    },
    {
     "name": "stdout",
     "output_type": "stream",
     "text": [
      " \"2021-06-28\""
     ]
    },
    {
     "name": "stdout",
     "output_type": "stream",
     "text": [
      " \"2021-06-28\""
     ]
    },
    {
     "name": "stdout",
     "output_type": "stream",
     "text": [
      " \"2021-06-28\""
     ]
    },
    {
     "name": "stdout",
     "output_type": "stream",
     "text": [
      " \"2021-06-28\""
     ]
    },
    {
     "name": "stdout",
     "output_type": "stream",
     "text": [
      " \"2021-06-28\""
     ]
    },
    {
     "name": "stdout",
     "output_type": "stream",
     "text": [
      "\n"
     ]
    },
    {
     "name": "stdout",
     "output_type": "stream",
     "text": [
      "[1706]"
     ]
    },
    {
     "name": "stdout",
     "output_type": "stream",
     "text": [
      " \"2021-06-28\""
     ]
    },
    {
     "name": "stdout",
     "output_type": "stream",
     "text": [
      " \"2021-06-28\""
     ]
    },
    {
     "name": "stdout",
     "output_type": "stream",
     "text": [
      " \"2021-06-28\""
     ]
    },
    {
     "name": "stdout",
     "output_type": "stream",
     "text": [
      " \"2021-06-28\""
     ]
    },
    {
     "name": "stdout",
     "output_type": "stream",
     "text": [
      " \"2021-06-28\""
     ]
    },
    {
     "name": "stdout",
     "output_type": "stream",
     "text": [
      "\n"
     ]
    },
    {
     "name": "stdout",
     "output_type": "stream",
     "text": [
      "[1711]"
     ]
    },
    {
     "name": "stdout",
     "output_type": "stream",
     "text": [
      " \"2021-06-28\""
     ]
    },
    {
     "name": "stdout",
     "output_type": "stream",
     "text": [
      " \"2021-06-28\""
     ]
    },
    {
     "name": "stdout",
     "output_type": "stream",
     "text": [
      " \"2021-06-28\""
     ]
    },
    {
     "name": "stdout",
     "output_type": "stream",
     "text": [
      " \"2021-06-28\""
     ]
    },
    {
     "name": "stdout",
     "output_type": "stream",
     "text": [
      " \"2021-06-28\""
     ]
    },
    {
     "name": "stdout",
     "output_type": "stream",
     "text": [
      "\n"
     ]
    },
    {
     "name": "stdout",
     "output_type": "stream",
     "text": [
      "[1716]"
     ]
    },
    {
     "name": "stdout",
     "output_type": "stream",
     "text": [
      " \"2021-06-28\""
     ]
    },
    {
     "name": "stdout",
     "output_type": "stream",
     "text": [
      " \"2021-06-28\""
     ]
    },
    {
     "name": "stdout",
     "output_type": "stream",
     "text": [
      " \"2021-06-28\""
     ]
    },
    {
     "name": "stdout",
     "output_type": "stream",
     "text": [
      " \"2021-06-28\""
     ]
    },
    {
     "name": "stdout",
     "output_type": "stream",
     "text": [
      " \"2021-06-28\""
     ]
    },
    {
     "name": "stdout",
     "output_type": "stream",
     "text": [
      "\n"
     ]
    },
    {
     "name": "stdout",
     "output_type": "stream",
     "text": [
      "[1721]"
     ]
    },
    {
     "name": "stdout",
     "output_type": "stream",
     "text": [
      " \"2021-06-28\""
     ]
    },
    {
     "name": "stdout",
     "output_type": "stream",
     "text": [
      " \"2021-06-28\""
     ]
    },
    {
     "name": "stdout",
     "output_type": "stream",
     "text": [
      " \"2021-06-28\""
     ]
    },
    {
     "name": "stdout",
     "output_type": "stream",
     "text": [
      " \"2021-06-28\""
     ]
    },
    {
     "name": "stdout",
     "output_type": "stream",
     "text": [
      " \"2021-06-28\""
     ]
    },
    {
     "name": "stdout",
     "output_type": "stream",
     "text": [
      "\n"
     ]
    },
    {
     "name": "stdout",
     "output_type": "stream",
     "text": [
      "[1726]"
     ]
    },
    {
     "name": "stdout",
     "output_type": "stream",
     "text": [
      " \"2021-07-05\""
     ]
    },
    {
     "name": "stdout",
     "output_type": "stream",
     "text": [
      " \"2021-07-05\""
     ]
    },
    {
     "name": "stdout",
     "output_type": "stream",
     "text": [
      " \"2021-07-05\""
     ]
    },
    {
     "name": "stdout",
     "output_type": "stream",
     "text": [
      " \"2021-07-05\""
     ]
    },
    {
     "name": "stdout",
     "output_type": "stream",
     "text": [
      " \"2021-07-05\""
     ]
    },
    {
     "name": "stdout",
     "output_type": "stream",
     "text": [
      "\n"
     ]
    },
    {
     "name": "stdout",
     "output_type": "stream",
     "text": [
      "[1731]"
     ]
    },
    {
     "name": "stdout",
     "output_type": "stream",
     "text": [
      " \"2021-07-05\""
     ]
    },
    {
     "name": "stdout",
     "output_type": "stream",
     "text": [
      " \"2021-07-05\""
     ]
    },
    {
     "name": "stdout",
     "output_type": "stream",
     "text": [
      " \"2021-07-05\""
     ]
    },
    {
     "name": "stdout",
     "output_type": "stream",
     "text": [
      " \"2021-07-05\""
     ]
    },
    {
     "name": "stdout",
     "output_type": "stream",
     "text": [
      " \"2021-07-05\""
     ]
    },
    {
     "name": "stdout",
     "output_type": "stream",
     "text": [
      "\n"
     ]
    },
    {
     "name": "stdout",
     "output_type": "stream",
     "text": [
      "[1736]"
     ]
    },
    {
     "name": "stdout",
     "output_type": "stream",
     "text": [
      " \"2021-07-05\""
     ]
    },
    {
     "name": "stdout",
     "output_type": "stream",
     "text": [
      " \"2021-07-05\""
     ]
    },
    {
     "name": "stdout",
     "output_type": "stream",
     "text": [
      " \"2021-07-05\""
     ]
    },
    {
     "name": "stdout",
     "output_type": "stream",
     "text": [
      " \"2021-07-05\""
     ]
    },
    {
     "name": "stdout",
     "output_type": "stream",
     "text": [
      " \"2021-07-05\""
     ]
    },
    {
     "name": "stdout",
     "output_type": "stream",
     "text": [
      "\n"
     ]
    },
    {
     "name": "stdout",
     "output_type": "stream",
     "text": [
      "[1741]"
     ]
    },
    {
     "name": "stdout",
     "output_type": "stream",
     "text": [
      " \"2021-07-05\""
     ]
    },
    {
     "name": "stdout",
     "output_type": "stream",
     "text": [
      " \"2021-07-05\""
     ]
    },
    {
     "name": "stdout",
     "output_type": "stream",
     "text": [
      " \"2021-07-05\""
     ]
    },
    {
     "name": "stdout",
     "output_type": "stream",
     "text": [
      " \"2021-07-05\""
     ]
    },
    {
     "name": "stdout",
     "output_type": "stream",
     "text": [
      " \"2021-07-05\""
     ]
    },
    {
     "name": "stdout",
     "output_type": "stream",
     "text": [
      "\n"
     ]
    },
    {
     "name": "stdout",
     "output_type": "stream",
     "text": [
      "[1746]"
     ]
    },
    {
     "name": "stdout",
     "output_type": "stream",
     "text": [
      " \"2021-07-05\""
     ]
    },
    {
     "name": "stdout",
     "output_type": "stream",
     "text": [
      " \"2021-07-05\""
     ]
    },
    {
     "name": "stdout",
     "output_type": "stream",
     "text": [
      " \"2021-07-05\""
     ]
    },
    {
     "name": "stdout",
     "output_type": "stream",
     "text": [
      " \"2021-07-05\""
     ]
    },
    {
     "name": "stdout",
     "output_type": "stream",
     "text": [
      " \"2021-07-05\""
     ]
    },
    {
     "name": "stdout",
     "output_type": "stream",
     "text": [
      "\n"
     ]
    },
    {
     "name": "stdout",
     "output_type": "stream",
     "text": [
      "[1751]"
     ]
    },
    {
     "name": "stdout",
     "output_type": "stream",
     "text": [
      " \"2021-07-05\""
     ]
    },
    {
     "name": "stdout",
     "output_type": "stream",
     "text": [
      " \"2021-07-05\""
     ]
    },
    {
     "name": "stdout",
     "output_type": "stream",
     "text": [
      " \"2021-07-05\""
     ]
    },
    {
     "name": "stdout",
     "output_type": "stream",
     "text": [
      " \"2021-07-05\""
     ]
    },
    {
     "name": "stdout",
     "output_type": "stream",
     "text": [
      " \"2021-07-05\""
     ]
    },
    {
     "name": "stdout",
     "output_type": "stream",
     "text": [
      "\n"
     ]
    },
    {
     "name": "stdout",
     "output_type": "stream",
     "text": [
      "[1756]"
     ]
    },
    {
     "name": "stdout",
     "output_type": "stream",
     "text": [
      " \"2021-07-05\""
     ]
    },
    {
     "name": "stdout",
     "output_type": "stream",
     "text": [
      " \"2021-07-05\""
     ]
    },
    {
     "name": "stdout",
     "output_type": "stream",
     "text": [
      " \"2021-07-05\""
     ]
    },
    {
     "name": "stdout",
     "output_type": "stream",
     "text": [
      " \"2021-07-05\""
     ]
    },
    {
     "name": "stdout",
     "output_type": "stream",
     "text": [
      " \"2021-07-05\""
     ]
    },
    {
     "name": "stdout",
     "output_type": "stream",
     "text": [
      "\n"
     ]
    },
    {
     "name": "stdout",
     "output_type": "stream",
     "text": [
      "[1761]"
     ]
    },
    {
     "name": "stdout",
     "output_type": "stream",
     "text": [
      " \"2021-07-05\""
     ]
    },
    {
     "name": "stdout",
     "output_type": "stream",
     "text": [
      " \"2021-07-05\""
     ]
    },
    {
     "name": "stdout",
     "output_type": "stream",
     "text": [
      " \"2021-07-05\""
     ]
    },
    {
     "name": "stdout",
     "output_type": "stream",
     "text": [
      " \"2021-07-05\""
     ]
    },
    {
     "name": "stdout",
     "output_type": "stream",
     "text": [
      " \"2021-07-05\""
     ]
    },
    {
     "name": "stdout",
     "output_type": "stream",
     "text": [
      "\n"
     ]
    },
    {
     "name": "stdout",
     "output_type": "stream",
     "text": [
      "[1766]"
     ]
    },
    {
     "name": "stdout",
     "output_type": "stream",
     "text": [
      " \"2021-07-05\""
     ]
    },
    {
     "name": "stdout",
     "output_type": "stream",
     "text": [
      " \"2021-07-05\""
     ]
    },
    {
     "name": "stdout",
     "output_type": "stream",
     "text": [
      " \"2021-07-05\""
     ]
    },
    {
     "name": "stdout",
     "output_type": "stream",
     "text": [
      " \"2021-07-05\""
     ]
    },
    {
     "name": "stdout",
     "output_type": "stream",
     "text": [
      " \"2021-07-05\""
     ]
    },
    {
     "name": "stdout",
     "output_type": "stream",
     "text": [
      "\n"
     ]
    },
    {
     "name": "stdout",
     "output_type": "stream",
     "text": [
      "[1771]"
     ]
    },
    {
     "name": "stdout",
     "output_type": "stream",
     "text": [
      " \"2021-07-05\""
     ]
    },
    {
     "name": "stdout",
     "output_type": "stream",
     "text": [
      " \"2021-07-05\""
     ]
    },
    {
     "name": "stdout",
     "output_type": "stream",
     "text": [
      " \"2021-07-05\""
     ]
    },
    {
     "name": "stdout",
     "output_type": "stream",
     "text": [
      " \"2021-07-05\""
     ]
    },
    {
     "name": "stdout",
     "output_type": "stream",
     "text": [
      " \"2021-07-05\""
     ]
    },
    {
     "name": "stdout",
     "output_type": "stream",
     "text": [
      "\n"
     ]
    },
    {
     "name": "stdout",
     "output_type": "stream",
     "text": [
      "[1776]"
     ]
    },
    {
     "name": "stdout",
     "output_type": "stream",
     "text": [
      " \"2021-07-05\""
     ]
    },
    {
     "name": "stdout",
     "output_type": "stream",
     "text": [
      " \"2021-07-05\""
     ]
    },
    {
     "name": "stdout",
     "output_type": "stream",
     "text": [
      " \"2021-07-05\""
     ]
    },
    {
     "name": "stdout",
     "output_type": "stream",
     "text": [
      " \"2021-07-05\""
     ]
    },
    {
     "name": "stdout",
     "output_type": "stream",
     "text": [
      " \"2021-07-05\""
     ]
    },
    {
     "name": "stdout",
     "output_type": "stream",
     "text": [
      "\n"
     ]
    },
    {
     "name": "stdout",
     "output_type": "stream",
     "text": [
      "[1781]"
     ]
    },
    {
     "name": "stdout",
     "output_type": "stream",
     "text": [
      " \"2021-07-05\""
     ]
    },
    {
     "name": "stdout",
     "output_type": "stream",
     "text": [
      " \"2021-07-05\""
     ]
    },
    {
     "name": "stdout",
     "output_type": "stream",
     "text": [
      " \"2021-07-05\""
     ]
    },
    {
     "name": "stdout",
     "output_type": "stream",
     "text": [
      " \"2021-07-05\""
     ]
    },
    {
     "name": "stdout",
     "output_type": "stream",
     "text": [
      " \"2021-07-05\""
     ]
    },
    {
     "name": "stdout",
     "output_type": "stream",
     "text": [
      "\n"
     ]
    },
    {
     "name": "stdout",
     "output_type": "stream",
     "text": [
      "[1786]"
     ]
    },
    {
     "name": "stdout",
     "output_type": "stream",
     "text": [
      " \"2021-07-05\""
     ]
    },
    {
     "name": "stdout",
     "output_type": "stream",
     "text": [
      " \"2021-07-05\""
     ]
    },
    {
     "name": "stdout",
     "output_type": "stream",
     "text": [
      " \"2021-07-05\""
     ]
    },
    {
     "name": "stdout",
     "output_type": "stream",
     "text": [
      " \"2021-07-05\""
     ]
    },
    {
     "name": "stdout",
     "output_type": "stream",
     "text": [
      " \"2021-07-05\""
     ]
    },
    {
     "name": "stdout",
     "output_type": "stream",
     "text": [
      "\n"
     ]
    },
    {
     "name": "stdout",
     "output_type": "stream",
     "text": [
      "[1791]"
     ]
    },
    {
     "name": "stdout",
     "output_type": "stream",
     "text": [
      " \"2021-07-05\""
     ]
    },
    {
     "name": "stdout",
     "output_type": "stream",
     "text": [
      " \"2021-07-05\""
     ]
    },
    {
     "name": "stdout",
     "output_type": "stream",
     "text": [
      " \"2021-07-05\""
     ]
    },
    {
     "name": "stdout",
     "output_type": "stream",
     "text": [
      " \"2021-07-05\""
     ]
    },
    {
     "name": "stdout",
     "output_type": "stream",
     "text": [
      " \"2021-07-12\""
     ]
    },
    {
     "name": "stdout",
     "output_type": "stream",
     "text": [
      "\n"
     ]
    },
    {
     "name": "stdout",
     "output_type": "stream",
     "text": [
      "[1796]"
     ]
    },
    {
     "name": "stdout",
     "output_type": "stream",
     "text": [
      " \"2021-07-12\""
     ]
    },
    {
     "name": "stdout",
     "output_type": "stream",
     "text": [
      " \"2021-07-12\""
     ]
    },
    {
     "name": "stdout",
     "output_type": "stream",
     "text": [
      " \"2021-07-12\""
     ]
    },
    {
     "name": "stdout",
     "output_type": "stream",
     "text": [
      " \"2021-07-12\""
     ]
    },
    {
     "name": "stdout",
     "output_type": "stream",
     "text": [
      " \"2021-07-12\""
     ]
    },
    {
     "name": "stdout",
     "output_type": "stream",
     "text": [
      "\n"
     ]
    },
    {
     "name": "stdout",
     "output_type": "stream",
     "text": [
      "[1801]"
     ]
    },
    {
     "name": "stdout",
     "output_type": "stream",
     "text": [
      " \"2021-07-12\""
     ]
    },
    {
     "name": "stdout",
     "output_type": "stream",
     "text": [
      " \"2021-07-12\""
     ]
    },
    {
     "name": "stdout",
     "output_type": "stream",
     "text": [
      " \"2021-07-12\""
     ]
    },
    {
     "name": "stdout",
     "output_type": "stream",
     "text": [
      " \"2021-07-12\""
     ]
    },
    {
     "name": "stdout",
     "output_type": "stream",
     "text": [
      " \"2021-07-12\""
     ]
    },
    {
     "name": "stdout",
     "output_type": "stream",
     "text": [
      "\n"
     ]
    },
    {
     "name": "stdout",
     "output_type": "stream",
     "text": [
      "[1806]"
     ]
    },
    {
     "name": "stdout",
     "output_type": "stream",
     "text": [
      " \"2021-07-12\""
     ]
    },
    {
     "name": "stdout",
     "output_type": "stream",
     "text": [
      " \"2021-07-12\""
     ]
    },
    {
     "name": "stdout",
     "output_type": "stream",
     "text": [
      " \"2021-07-12\""
     ]
    },
    {
     "name": "stdout",
     "output_type": "stream",
     "text": [
      " \"2021-07-12\""
     ]
    },
    {
     "name": "stdout",
     "output_type": "stream",
     "text": [
      " \"2021-07-12\""
     ]
    },
    {
     "name": "stdout",
     "output_type": "stream",
     "text": [
      "\n"
     ]
    },
    {
     "name": "stdout",
     "output_type": "stream",
     "text": [
      "[1811]"
     ]
    },
    {
     "name": "stdout",
     "output_type": "stream",
     "text": [
      " \"2021-07-12\""
     ]
    },
    {
     "name": "stdout",
     "output_type": "stream",
     "text": [
      " \"2021-07-12\""
     ]
    },
    {
     "name": "stdout",
     "output_type": "stream",
     "text": [
      " \"2021-07-12\""
     ]
    },
    {
     "name": "stdout",
     "output_type": "stream",
     "text": [
      " \"2021-07-12\""
     ]
    },
    {
     "name": "stdout",
     "output_type": "stream",
     "text": [
      " \"2021-07-12\""
     ]
    },
    {
     "name": "stdout",
     "output_type": "stream",
     "text": [
      "\n"
     ]
    },
    {
     "name": "stdout",
     "output_type": "stream",
     "text": [
      "[1816]"
     ]
    },
    {
     "name": "stdout",
     "output_type": "stream",
     "text": [
      " \"2021-07-12\""
     ]
    },
    {
     "name": "stdout",
     "output_type": "stream",
     "text": [
      " \"2021-07-12\""
     ]
    },
    {
     "name": "stdout",
     "output_type": "stream",
     "text": [
      " \"2021-07-12\""
     ]
    },
    {
     "name": "stdout",
     "output_type": "stream",
     "text": [
      " \"2021-07-12\""
     ]
    },
    {
     "name": "stdout",
     "output_type": "stream",
     "text": [
      " \"2021-07-12\""
     ]
    },
    {
     "name": "stdout",
     "output_type": "stream",
     "text": [
      "\n"
     ]
    },
    {
     "name": "stdout",
     "output_type": "stream",
     "text": [
      "[1821]"
     ]
    },
    {
     "name": "stdout",
     "output_type": "stream",
     "text": [
      " \"2021-07-12\""
     ]
    },
    {
     "name": "stdout",
     "output_type": "stream",
     "text": [
      " \"2021-07-12\""
     ]
    },
    {
     "name": "stdout",
     "output_type": "stream",
     "text": [
      " \"2021-07-12\""
     ]
    },
    {
     "name": "stdout",
     "output_type": "stream",
     "text": [
      " \"2021-07-12\""
     ]
    },
    {
     "name": "stdout",
     "output_type": "stream",
     "text": [
      " \"2021-07-12\""
     ]
    },
    {
     "name": "stdout",
     "output_type": "stream",
     "text": [
      "\n"
     ]
    },
    {
     "name": "stdout",
     "output_type": "stream",
     "text": [
      "[1826]"
     ]
    },
    {
     "name": "stdout",
     "output_type": "stream",
     "text": [
      " \"2021-07-12\""
     ]
    },
    {
     "name": "stdout",
     "output_type": "stream",
     "text": [
      " \"2021-07-12\""
     ]
    },
    {
     "name": "stdout",
     "output_type": "stream",
     "text": [
      " \"2021-07-12\""
     ]
    },
    {
     "name": "stdout",
     "output_type": "stream",
     "text": [
      " \"2021-07-12\""
     ]
    },
    {
     "name": "stdout",
     "output_type": "stream",
     "text": [
      " \"2021-07-12\""
     ]
    },
    {
     "name": "stdout",
     "output_type": "stream",
     "text": [
      "\n"
     ]
    },
    {
     "name": "stdout",
     "output_type": "stream",
     "text": [
      "[1831]"
     ]
    },
    {
     "name": "stdout",
     "output_type": "stream",
     "text": [
      " \"2021-07-12\""
     ]
    },
    {
     "name": "stdout",
     "output_type": "stream",
     "text": [
      " \"2021-07-12\""
     ]
    },
    {
     "name": "stdout",
     "output_type": "stream",
     "text": [
      " \"2021-07-12\""
     ]
    },
    {
     "name": "stdout",
     "output_type": "stream",
     "text": [
      " \"2021-07-12\""
     ]
    },
    {
     "name": "stdout",
     "output_type": "stream",
     "text": [
      " \"2021-07-12\""
     ]
    },
    {
     "name": "stdout",
     "output_type": "stream",
     "text": [
      "\n"
     ]
    },
    {
     "name": "stdout",
     "output_type": "stream",
     "text": [
      "[1836]"
     ]
    },
    {
     "name": "stdout",
     "output_type": "stream",
     "text": [
      " \"2021-07-12\""
     ]
    },
    {
     "name": "stdout",
     "output_type": "stream",
     "text": [
      " \"2021-07-12\""
     ]
    },
    {
     "name": "stdout",
     "output_type": "stream",
     "text": [
      " \"2021-07-12\""
     ]
    },
    {
     "name": "stdout",
     "output_type": "stream",
     "text": [
      " \"2021-07-12\""
     ]
    },
    {
     "name": "stdout",
     "output_type": "stream",
     "text": [
      " \"2021-07-12\""
     ]
    },
    {
     "name": "stdout",
     "output_type": "stream",
     "text": [
      "\n"
     ]
    },
    {
     "name": "stdout",
     "output_type": "stream",
     "text": [
      "[1841]"
     ]
    },
    {
     "name": "stdout",
     "output_type": "stream",
     "text": [
      " \"2021-07-12\""
     ]
    },
    {
     "name": "stdout",
     "output_type": "stream",
     "text": [
      " \"2021-07-12\""
     ]
    },
    {
     "name": "stdout",
     "output_type": "stream",
     "text": [
      " \"2021-07-12\""
     ]
    },
    {
     "name": "stdout",
     "output_type": "stream",
     "text": [
      " \"2021-07-12\""
     ]
    },
    {
     "name": "stdout",
     "output_type": "stream",
     "text": [
      " \"2021-07-12\""
     ]
    },
    {
     "name": "stdout",
     "output_type": "stream",
     "text": [
      "\n"
     ]
    },
    {
     "name": "stdout",
     "output_type": "stream",
     "text": [
      "[1846]"
     ]
    },
    {
     "name": "stdout",
     "output_type": "stream",
     "text": [
      " \"2021-07-12\""
     ]
    },
    {
     "name": "stdout",
     "output_type": "stream",
     "text": [
      " \"2021-07-12\""
     ]
    },
    {
     "name": "stdout",
     "output_type": "stream",
     "text": [
      " \"2021-07-12\""
     ]
    },
    {
     "name": "stdout",
     "output_type": "stream",
     "text": [
      " \"2021-07-12\""
     ]
    },
    {
     "name": "stdout",
     "output_type": "stream",
     "text": [
      " \"2021-07-12\""
     ]
    },
    {
     "name": "stdout",
     "output_type": "stream",
     "text": [
      "\n"
     ]
    },
    {
     "name": "stdout",
     "output_type": "stream",
     "text": [
      "[1851]"
     ]
    },
    {
     "name": "stdout",
     "output_type": "stream",
     "text": [
      " \"2021-07-12\""
     ]
    },
    {
     "name": "stdout",
     "output_type": "stream",
     "text": [
      " \"2021-07-12\""
     ]
    },
    {
     "name": "stdout",
     "output_type": "stream",
     "text": [
      " \"2021-07-12\""
     ]
    },
    {
     "name": "stdout",
     "output_type": "stream",
     "text": [
      " \"2021-07-12\""
     ]
    },
    {
     "name": "stdout",
     "output_type": "stream",
     "text": [
      " \"2021-07-12\""
     ]
    },
    {
     "name": "stdout",
     "output_type": "stream",
     "text": [
      "\n"
     ]
    },
    {
     "name": "stdout",
     "output_type": "stream",
     "text": [
      "[1856]"
     ]
    },
    {
     "name": "stdout",
     "output_type": "stream",
     "text": [
      " \"2021-07-12\""
     ]
    },
    {
     "name": "stdout",
     "output_type": "stream",
     "text": [
      " \"2021-07-12\""
     ]
    },
    {
     "name": "stdout",
     "output_type": "stream",
     "text": [
      " \"2021-07-12\""
     ]
    },
    {
     "name": "stdout",
     "output_type": "stream",
     "text": [
      " \"2021-07-12\""
     ]
    },
    {
     "name": "stdout",
     "output_type": "stream",
     "text": [
      " \"2021-07-12\""
     ]
    },
    {
     "name": "stdout",
     "output_type": "stream",
     "text": [
      "\n"
     ]
    },
    {
     "name": "stdout",
     "output_type": "stream",
     "text": [
      "[1861]"
     ]
    },
    {
     "name": "stdout",
     "output_type": "stream",
     "text": [
      " \"2021-07-12\""
     ]
    },
    {
     "name": "stdout",
     "output_type": "stream",
     "text": [
      " \"2021-07-12\""
     ]
    },
    {
     "name": "stdout",
     "output_type": "stream",
     "text": [
      " \"2021-07-12\""
     ]
    },
    {
     "name": "stdout",
     "output_type": "stream",
     "text": [
      " \"2021-07-19\""
     ]
    },
    {
     "name": "stdout",
     "output_type": "stream",
     "text": [
      " \"2021-07-19\""
     ]
    },
    {
     "name": "stdout",
     "output_type": "stream",
     "text": [
      "\n"
     ]
    },
    {
     "name": "stdout",
     "output_type": "stream",
     "text": [
      "[1866]"
     ]
    },
    {
     "name": "stdout",
     "output_type": "stream",
     "text": [
      " \"2021-07-19\""
     ]
    },
    {
     "name": "stdout",
     "output_type": "stream",
     "text": [
      " \"2021-07-19\""
     ]
    },
    {
     "name": "stdout",
     "output_type": "stream",
     "text": [
      " \"2021-07-19\""
     ]
    },
    {
     "name": "stdout",
     "output_type": "stream",
     "text": [
      " \"2021-07-19\""
     ]
    },
    {
     "name": "stdout",
     "output_type": "stream",
     "text": [
      " \"2021-07-19\""
     ]
    },
    {
     "name": "stdout",
     "output_type": "stream",
     "text": [
      "\n"
     ]
    },
    {
     "name": "stdout",
     "output_type": "stream",
     "text": [
      "[1871]"
     ]
    },
    {
     "name": "stdout",
     "output_type": "stream",
     "text": [
      " \"2021-07-19\""
     ]
    },
    {
     "name": "stdout",
     "output_type": "stream",
     "text": [
      " \"2021-07-19\""
     ]
    },
    {
     "name": "stdout",
     "output_type": "stream",
     "text": [
      " \"2021-07-19\""
     ]
    },
    {
     "name": "stdout",
     "output_type": "stream",
     "text": [
      " \"2021-07-19\""
     ]
    },
    {
     "name": "stdout",
     "output_type": "stream",
     "text": [
      " \"2021-07-19\""
     ]
    },
    {
     "name": "stdout",
     "output_type": "stream",
     "text": [
      "\n"
     ]
    },
    {
     "name": "stdout",
     "output_type": "stream",
     "text": [
      "[1876]"
     ]
    },
    {
     "name": "stdout",
     "output_type": "stream",
     "text": [
      " \"2021-07-19\""
     ]
    },
    {
     "name": "stdout",
     "output_type": "stream",
     "text": [
      " \"2021-07-19\""
     ]
    },
    {
     "name": "stdout",
     "output_type": "stream",
     "text": [
      " \"2021-07-19\""
     ]
    },
    {
     "name": "stdout",
     "output_type": "stream",
     "text": [
      " \"2021-07-19\""
     ]
    },
    {
     "name": "stdout",
     "output_type": "stream",
     "text": [
      " \"2021-07-19\""
     ]
    },
    {
     "name": "stdout",
     "output_type": "stream",
     "text": [
      "\n"
     ]
    },
    {
     "name": "stdout",
     "output_type": "stream",
     "text": [
      "[1881]"
     ]
    },
    {
     "name": "stdout",
     "output_type": "stream",
     "text": [
      " \"2021-07-19\""
     ]
    },
    {
     "name": "stdout",
     "output_type": "stream",
     "text": [
      " \"2021-07-19\""
     ]
    },
    {
     "name": "stdout",
     "output_type": "stream",
     "text": [
      " \"2021-07-19\""
     ]
    },
    {
     "name": "stdout",
     "output_type": "stream",
     "text": [
      " \"2021-07-19\""
     ]
    },
    {
     "name": "stdout",
     "output_type": "stream",
     "text": [
      " \"2021-07-19\""
     ]
    },
    {
     "name": "stdout",
     "output_type": "stream",
     "text": [
      "\n"
     ]
    },
    {
     "name": "stdout",
     "output_type": "stream",
     "text": [
      "[1886]"
     ]
    },
    {
     "name": "stdout",
     "output_type": "stream",
     "text": [
      " \"2021-07-19\""
     ]
    },
    {
     "name": "stdout",
     "output_type": "stream",
     "text": [
      " \"2021-07-19\""
     ]
    },
    {
     "name": "stdout",
     "output_type": "stream",
     "text": [
      " \"2021-07-19\""
     ]
    },
    {
     "name": "stdout",
     "output_type": "stream",
     "text": [
      " \"2021-07-19\""
     ]
    },
    {
     "name": "stdout",
     "output_type": "stream",
     "text": [
      " \"2021-07-19\""
     ]
    },
    {
     "name": "stdout",
     "output_type": "stream",
     "text": [
      "\n"
     ]
    },
    {
     "name": "stdout",
     "output_type": "stream",
     "text": [
      "[1891]"
     ]
    },
    {
     "name": "stdout",
     "output_type": "stream",
     "text": [
      " \"2021-07-19\""
     ]
    },
    {
     "name": "stdout",
     "output_type": "stream",
     "text": [
      " \"2021-07-19\""
     ]
    },
    {
     "name": "stdout",
     "output_type": "stream",
     "text": [
      " \"2021-07-19\""
     ]
    },
    {
     "name": "stdout",
     "output_type": "stream",
     "text": [
      " \"2021-07-19\""
     ]
    },
    {
     "name": "stdout",
     "output_type": "stream",
     "text": [
      " \"2021-07-19\""
     ]
    },
    {
     "name": "stdout",
     "output_type": "stream",
     "text": [
      "\n"
     ]
    },
    {
     "name": "stdout",
     "output_type": "stream",
     "text": [
      "[1896]"
     ]
    },
    {
     "name": "stdout",
     "output_type": "stream",
     "text": [
      " \"2021-07-19\""
     ]
    },
    {
     "name": "stdout",
     "output_type": "stream",
     "text": [
      " \"2021-07-19\""
     ]
    },
    {
     "name": "stdout",
     "output_type": "stream",
     "text": [
      " \"2021-07-19\""
     ]
    },
    {
     "name": "stdout",
     "output_type": "stream",
     "text": [
      " \"2021-07-19\""
     ]
    },
    {
     "name": "stdout",
     "output_type": "stream",
     "text": [
      " \"2021-07-19\""
     ]
    },
    {
     "name": "stdout",
     "output_type": "stream",
     "text": [
      "\n"
     ]
    },
    {
     "name": "stdout",
     "output_type": "stream",
     "text": [
      "[1901]"
     ]
    },
    {
     "name": "stdout",
     "output_type": "stream",
     "text": [
      " \"2021-07-19\""
     ]
    },
    {
     "name": "stdout",
     "output_type": "stream",
     "text": [
      " \"2021-07-19\""
     ]
    },
    {
     "name": "stdout",
     "output_type": "stream",
     "text": [
      " \"2021-07-19\""
     ]
    },
    {
     "name": "stdout",
     "output_type": "stream",
     "text": [
      " \"2021-07-19\""
     ]
    },
    {
     "name": "stdout",
     "output_type": "stream",
     "text": [
      " \"2021-07-19\""
     ]
    },
    {
     "name": "stdout",
     "output_type": "stream",
     "text": [
      "\n"
     ]
    },
    {
     "name": "stdout",
     "output_type": "stream",
     "text": [
      "[1906]"
     ]
    },
    {
     "name": "stdout",
     "output_type": "stream",
     "text": [
      " \"2021-07-19\""
     ]
    },
    {
     "name": "stdout",
     "output_type": "stream",
     "text": [
      " \"2021-07-19\""
     ]
    },
    {
     "name": "stdout",
     "output_type": "stream",
     "text": [
      " \"2021-07-19\""
     ]
    },
    {
     "name": "stdout",
     "output_type": "stream",
     "text": [
      " \"2021-07-19\""
     ]
    },
    {
     "name": "stdout",
     "output_type": "stream",
     "text": [
      " \"2021-07-19\""
     ]
    },
    {
     "name": "stdout",
     "output_type": "stream",
     "text": [
      "\n"
     ]
    },
    {
     "name": "stdout",
     "output_type": "stream",
     "text": [
      "[1911]"
     ]
    },
    {
     "name": "stdout",
     "output_type": "stream",
     "text": [
      " \"2021-07-19\""
     ]
    },
    {
     "name": "stdout",
     "output_type": "stream",
     "text": [
      " \"2021-07-19\""
     ]
    },
    {
     "name": "stdout",
     "output_type": "stream",
     "text": [
      " \"2021-07-19\""
     ]
    },
    {
     "name": "stdout",
     "output_type": "stream",
     "text": [
      " \"2021-07-19\""
     ]
    },
    {
     "name": "stdout",
     "output_type": "stream",
     "text": [
      " \"2021-07-19\""
     ]
    },
    {
     "name": "stdout",
     "output_type": "stream",
     "text": [
      "\n"
     ]
    },
    {
     "name": "stdout",
     "output_type": "stream",
     "text": [
      "[1916]"
     ]
    },
    {
     "name": "stdout",
     "output_type": "stream",
     "text": [
      " \"2021-07-19\""
     ]
    },
    {
     "name": "stdout",
     "output_type": "stream",
     "text": [
      " \"2021-07-19\""
     ]
    },
    {
     "name": "stdout",
     "output_type": "stream",
     "text": [
      " \"2021-07-19\""
     ]
    },
    {
     "name": "stdout",
     "output_type": "stream",
     "text": [
      " \"2021-07-19\""
     ]
    },
    {
     "name": "stdout",
     "output_type": "stream",
     "text": [
      " \"2021-07-19\""
     ]
    },
    {
     "name": "stdout",
     "output_type": "stream",
     "text": [
      "\n"
     ]
    },
    {
     "name": "stdout",
     "output_type": "stream",
     "text": [
      "[1921]"
     ]
    },
    {
     "name": "stdout",
     "output_type": "stream",
     "text": [
      " \"2021-07-19\""
     ]
    },
    {
     "name": "stdout",
     "output_type": "stream",
     "text": [
      " \"2021-07-19\""
     ]
    },
    {
     "name": "stdout",
     "output_type": "stream",
     "text": [
      " \"2021-07-19\""
     ]
    },
    {
     "name": "stdout",
     "output_type": "stream",
     "text": [
      " \"2021-07-19\""
     ]
    },
    {
     "name": "stdout",
     "output_type": "stream",
     "text": [
      " \"2021-07-19\""
     ]
    },
    {
     "name": "stdout",
     "output_type": "stream",
     "text": [
      "\n"
     ]
    },
    {
     "name": "stdout",
     "output_type": "stream",
     "text": [
      "[1926]"
     ]
    },
    {
     "name": "stdout",
     "output_type": "stream",
     "text": [
      " \"2021-07-19\""
     ]
    },
    {
     "name": "stdout",
     "output_type": "stream",
     "text": [
      " \"2021-07-19\""
     ]
    },
    {
     "name": "stdout",
     "output_type": "stream",
     "text": [
      " \"2021-07-19\""
     ]
    },
    {
     "name": "stdout",
     "output_type": "stream",
     "text": [
      " \"2021-07-19\""
     ]
    },
    {
     "name": "stdout",
     "output_type": "stream",
     "text": [
      " \"2021-07-19\""
     ]
    },
    {
     "name": "stdout",
     "output_type": "stream",
     "text": [
      "\n"
     ]
    },
    {
     "name": "stdout",
     "output_type": "stream",
     "text": [
      "[1931]"
     ]
    },
    {
     "name": "stdout",
     "output_type": "stream",
     "text": [
      " \"2021-07-19\""
     ]
    },
    {
     "name": "stdout",
     "output_type": "stream",
     "text": [
      " \"2021-07-19\""
     ]
    },
    {
     "name": "stdout",
     "output_type": "stream",
     "text": [
      " \"2021-07-26\""
     ]
    },
    {
     "name": "stdout",
     "output_type": "stream",
     "text": [
      " \"2021-07-26\""
     ]
    },
    {
     "name": "stdout",
     "output_type": "stream",
     "text": [
      " \"2021-07-26\""
     ]
    },
    {
     "name": "stdout",
     "output_type": "stream",
     "text": [
      "\n"
     ]
    },
    {
     "name": "stdout",
     "output_type": "stream",
     "text": [
      "[1936]"
     ]
    },
    {
     "name": "stdout",
     "output_type": "stream",
     "text": [
      " \"2021-07-26\""
     ]
    },
    {
     "name": "stdout",
     "output_type": "stream",
     "text": [
      " \"2021-07-26\""
     ]
    },
    {
     "name": "stdout",
     "output_type": "stream",
     "text": [
      " \"2021-07-26\""
     ]
    },
    {
     "name": "stdout",
     "output_type": "stream",
     "text": [
      " \"2021-07-26\""
     ]
    },
    {
     "name": "stdout",
     "output_type": "stream",
     "text": [
      " \"2021-07-26\""
     ]
    },
    {
     "name": "stdout",
     "output_type": "stream",
     "text": [
      "\n"
     ]
    },
    {
     "name": "stdout",
     "output_type": "stream",
     "text": [
      "[1941]"
     ]
    },
    {
     "name": "stdout",
     "output_type": "stream",
     "text": [
      " \"2021-07-26\""
     ]
    },
    {
     "name": "stdout",
     "output_type": "stream",
     "text": [
      " \"2021-07-26\""
     ]
    },
    {
     "name": "stdout",
     "output_type": "stream",
     "text": [
      " \"2021-07-26\""
     ]
    },
    {
     "name": "stdout",
     "output_type": "stream",
     "text": [
      " \"2021-07-26\""
     ]
    },
    {
     "name": "stdout",
     "output_type": "stream",
     "text": [
      " \"2021-07-26\""
     ]
    },
    {
     "name": "stdout",
     "output_type": "stream",
     "text": [
      "\n"
     ]
    },
    {
     "name": "stdout",
     "output_type": "stream",
     "text": [
      "[1946]"
     ]
    },
    {
     "name": "stdout",
     "output_type": "stream",
     "text": [
      " \"2021-07-26\""
     ]
    },
    {
     "name": "stdout",
     "output_type": "stream",
     "text": [
      " \"2021-07-26\""
     ]
    },
    {
     "name": "stdout",
     "output_type": "stream",
     "text": [
      " \"2021-07-26\""
     ]
    },
    {
     "name": "stdout",
     "output_type": "stream",
     "text": [
      " \"2021-07-26\""
     ]
    },
    {
     "name": "stdout",
     "output_type": "stream",
     "text": [
      " \"2021-07-26\""
     ]
    },
    {
     "name": "stdout",
     "output_type": "stream",
     "text": [
      "\n"
     ]
    },
    {
     "name": "stdout",
     "output_type": "stream",
     "text": [
      "[1951]"
     ]
    },
    {
     "name": "stdout",
     "output_type": "stream",
     "text": [
      " \"2021-07-26\""
     ]
    },
    {
     "name": "stdout",
     "output_type": "stream",
     "text": [
      " \"2021-07-26\""
     ]
    },
    {
     "name": "stdout",
     "output_type": "stream",
     "text": [
      " \"2021-07-26\""
     ]
    },
    {
     "name": "stdout",
     "output_type": "stream",
     "text": [
      " \"2021-07-26\""
     ]
    },
    {
     "name": "stdout",
     "output_type": "stream",
     "text": [
      " \"2021-07-26\""
     ]
    },
    {
     "name": "stdout",
     "output_type": "stream",
     "text": [
      "\n"
     ]
    },
    {
     "name": "stdout",
     "output_type": "stream",
     "text": [
      "[1956]"
     ]
    },
    {
     "name": "stdout",
     "output_type": "stream",
     "text": [
      " \"2021-07-26\""
     ]
    },
    {
     "name": "stdout",
     "output_type": "stream",
     "text": [
      " \"2021-07-26\""
     ]
    },
    {
     "name": "stdout",
     "output_type": "stream",
     "text": [
      " \"2021-07-26\""
     ]
    },
    {
     "name": "stdout",
     "output_type": "stream",
     "text": [
      " \"2021-07-26\""
     ]
    },
    {
     "name": "stdout",
     "output_type": "stream",
     "text": [
      " \"2021-07-26\""
     ]
    },
    {
     "name": "stdout",
     "output_type": "stream",
     "text": [
      "\n"
     ]
    },
    {
     "name": "stdout",
     "output_type": "stream",
     "text": [
      "[1961]"
     ]
    },
    {
     "name": "stdout",
     "output_type": "stream",
     "text": [
      " \"2021-07-26\""
     ]
    },
    {
     "name": "stdout",
     "output_type": "stream",
     "text": [
      " \"2021-07-26\""
     ]
    },
    {
     "name": "stdout",
     "output_type": "stream",
     "text": [
      " \"2021-07-26\""
     ]
    },
    {
     "name": "stdout",
     "output_type": "stream",
     "text": [
      " \"2021-07-26\""
     ]
    },
    {
     "name": "stdout",
     "output_type": "stream",
     "text": [
      " \"2021-07-26\""
     ]
    },
    {
     "name": "stdout",
     "output_type": "stream",
     "text": [
      "\n"
     ]
    },
    {
     "name": "stdout",
     "output_type": "stream",
     "text": [
      "[1966]"
     ]
    },
    {
     "name": "stdout",
     "output_type": "stream",
     "text": [
      " \"2021-07-26\""
     ]
    },
    {
     "name": "stdout",
     "output_type": "stream",
     "text": [
      " \"2021-07-26\""
     ]
    },
    {
     "name": "stdout",
     "output_type": "stream",
     "text": [
      " \"2021-07-26\""
     ]
    },
    {
     "name": "stdout",
     "output_type": "stream",
     "text": [
      " \"2021-07-26\""
     ]
    },
    {
     "name": "stdout",
     "output_type": "stream",
     "text": [
      " \"2021-07-26\""
     ]
    },
    {
     "name": "stdout",
     "output_type": "stream",
     "text": [
      "\n"
     ]
    },
    {
     "name": "stdout",
     "output_type": "stream",
     "text": [
      "[1971]"
     ]
    },
    {
     "name": "stdout",
     "output_type": "stream",
     "text": [
      " \"2021-07-26\""
     ]
    },
    {
     "name": "stdout",
     "output_type": "stream",
     "text": [
      " \"2021-07-26\""
     ]
    },
    {
     "name": "stdout",
     "output_type": "stream",
     "text": [
      " \"2021-07-26\""
     ]
    },
    {
     "name": "stdout",
     "output_type": "stream",
     "text": [
      " \"2021-07-26\""
     ]
    },
    {
     "name": "stdout",
     "output_type": "stream",
     "text": [
      " \"2021-07-26\""
     ]
    },
    {
     "name": "stdout",
     "output_type": "stream",
     "text": [
      "\n"
     ]
    },
    {
     "name": "stdout",
     "output_type": "stream",
     "text": [
      "[1976]"
     ]
    },
    {
     "name": "stdout",
     "output_type": "stream",
     "text": [
      " \"2021-07-26\""
     ]
    },
    {
     "name": "stdout",
     "output_type": "stream",
     "text": [
      " \"2021-07-26\""
     ]
    },
    {
     "name": "stdout",
     "output_type": "stream",
     "text": [
      " \"2021-07-26\""
     ]
    },
    {
     "name": "stdout",
     "output_type": "stream",
     "text": [
      " \"2021-07-26\""
     ]
    },
    {
     "name": "stdout",
     "output_type": "stream",
     "text": [
      " \"2021-07-26\""
     ]
    },
    {
     "name": "stdout",
     "output_type": "stream",
     "text": [
      "\n"
     ]
    },
    {
     "name": "stdout",
     "output_type": "stream",
     "text": [
      "[1981]"
     ]
    },
    {
     "name": "stdout",
     "output_type": "stream",
     "text": [
      " \"2021-07-26\""
     ]
    },
    {
     "name": "stdout",
     "output_type": "stream",
     "text": [
      " \"2021-07-26\""
     ]
    },
    {
     "name": "stdout",
     "output_type": "stream",
     "text": [
      " \"2021-07-26\""
     ]
    },
    {
     "name": "stdout",
     "output_type": "stream",
     "text": [
      " \"2021-07-26\""
     ]
    },
    {
     "name": "stdout",
     "output_type": "stream",
     "text": [
      " \"2021-07-26\""
     ]
    },
    {
     "name": "stdout",
     "output_type": "stream",
     "text": [
      "\n"
     ]
    },
    {
     "name": "stdout",
     "output_type": "stream",
     "text": [
      "[1986]"
     ]
    },
    {
     "name": "stdout",
     "output_type": "stream",
     "text": [
      " \"2021-07-26\""
     ]
    },
    {
     "name": "stdout",
     "output_type": "stream",
     "text": [
      " \"2021-07-26\""
     ]
    },
    {
     "name": "stdout",
     "output_type": "stream",
     "text": [
      " \"2021-07-26\""
     ]
    },
    {
     "name": "stdout",
     "output_type": "stream",
     "text": [
      " \"2021-07-26\""
     ]
    },
    {
     "name": "stdout",
     "output_type": "stream",
     "text": [
      " \"2021-07-26\""
     ]
    },
    {
     "name": "stdout",
     "output_type": "stream",
     "text": [
      "\n"
     ]
    },
    {
     "name": "stdout",
     "output_type": "stream",
     "text": [
      "[1991]"
     ]
    },
    {
     "name": "stdout",
     "output_type": "stream",
     "text": [
      " \"2021-07-26\""
     ]
    },
    {
     "name": "stdout",
     "output_type": "stream",
     "text": [
      " \"2021-07-26\""
     ]
    },
    {
     "name": "stdout",
     "output_type": "stream",
     "text": [
      " \"2021-07-26\""
     ]
    },
    {
     "name": "stdout",
     "output_type": "stream",
     "text": [
      " \"2021-07-26\""
     ]
    },
    {
     "name": "stdout",
     "output_type": "stream",
     "text": [
      " \"2021-07-26\""
     ]
    },
    {
     "name": "stdout",
     "output_type": "stream",
     "text": [
      "\n"
     ]
    },
    {
     "name": "stdout",
     "output_type": "stream",
     "text": [
      "[1996]"
     ]
    },
    {
     "name": "stdout",
     "output_type": "stream",
     "text": [
      " \"2021-07-26\""
     ]
    },
    {
     "name": "stdout",
     "output_type": "stream",
     "text": [
      " \"2021-07-26\""
     ]
    },
    {
     "name": "stdout",
     "output_type": "stream",
     "text": [
      " \"2021-07-26\""
     ]
    },
    {
     "name": "stdout",
     "output_type": "stream",
     "text": [
      " \"2021-07-26\""
     ]
    },
    {
     "name": "stdout",
     "output_type": "stream",
     "text": [
      " \"2021-07-26\""
     ]
    },
    {
     "name": "stdout",
     "output_type": "stream",
     "text": [
      "\n"
     ]
    },
    {
     "name": "stdout",
     "output_type": "stream",
     "text": [
      "[2001]"
     ]
    },
    {
     "name": "stdout",
     "output_type": "stream",
     "text": [
      " \"2021-07-26\""
     ]
    },
    {
     "name": "stdout",
     "output_type": "stream",
     "text": [
      " \"2021-08-02\""
     ]
    },
    {
     "name": "stdout",
     "output_type": "stream",
     "text": [
      " \"2021-08-02\""
     ]
    },
    {
     "name": "stdout",
     "output_type": "stream",
     "text": [
      " \"2021-08-02\""
     ]
    },
    {
     "name": "stdout",
     "output_type": "stream",
     "text": [
      " \"2021-08-02\""
     ]
    },
    {
     "name": "stdout",
     "output_type": "stream",
     "text": [
      "\n"
     ]
    },
    {
     "name": "stdout",
     "output_type": "stream",
     "text": [
      "[2006]"
     ]
    },
    {
     "name": "stdout",
     "output_type": "stream",
     "text": [
      " \"2021-08-02\""
     ]
    },
    {
     "name": "stdout",
     "output_type": "stream",
     "text": [
      " \"2021-08-02\""
     ]
    },
    {
     "name": "stdout",
     "output_type": "stream",
     "text": [
      " \"2021-08-02\""
     ]
    },
    {
     "name": "stdout",
     "output_type": "stream",
     "text": [
      " \"2021-08-02\""
     ]
    },
    {
     "name": "stdout",
     "output_type": "stream",
     "text": [
      " \"2021-08-02\""
     ]
    },
    {
     "name": "stdout",
     "output_type": "stream",
     "text": [
      "\n"
     ]
    },
    {
     "name": "stdout",
     "output_type": "stream",
     "text": [
      "[2011]"
     ]
    },
    {
     "name": "stdout",
     "output_type": "stream",
     "text": [
      " \"2021-08-02\""
     ]
    },
    {
     "name": "stdout",
     "output_type": "stream",
     "text": [
      " \"2021-08-02\""
     ]
    },
    {
     "name": "stdout",
     "output_type": "stream",
     "text": [
      " \"2021-08-02\""
     ]
    },
    {
     "name": "stdout",
     "output_type": "stream",
     "text": [
      " \"2021-08-02\""
     ]
    },
    {
     "name": "stdout",
     "output_type": "stream",
     "text": [
      " \"2021-08-02\""
     ]
    },
    {
     "name": "stdout",
     "output_type": "stream",
     "text": [
      "\n"
     ]
    },
    {
     "name": "stdout",
     "output_type": "stream",
     "text": [
      "[2016]"
     ]
    },
    {
     "name": "stdout",
     "output_type": "stream",
     "text": [
      " \"2021-08-02\""
     ]
    },
    {
     "name": "stdout",
     "output_type": "stream",
     "text": [
      " \"2021-08-02\""
     ]
    },
    {
     "name": "stdout",
     "output_type": "stream",
     "text": [
      " \"2021-08-02\""
     ]
    },
    {
     "name": "stdout",
     "output_type": "stream",
     "text": [
      " \"2021-08-02\""
     ]
    },
    {
     "name": "stdout",
     "output_type": "stream",
     "text": [
      " \"2021-08-02\""
     ]
    },
    {
     "name": "stdout",
     "output_type": "stream",
     "text": [
      "\n"
     ]
    },
    {
     "name": "stdout",
     "output_type": "stream",
     "text": [
      "[2021]"
     ]
    },
    {
     "name": "stdout",
     "output_type": "stream",
     "text": [
      " \"2021-08-02\""
     ]
    },
    {
     "name": "stdout",
     "output_type": "stream",
     "text": [
      " \"2021-08-02\""
     ]
    },
    {
     "name": "stdout",
     "output_type": "stream",
     "text": [
      " \"2021-08-02\""
     ]
    },
    {
     "name": "stdout",
     "output_type": "stream",
     "text": [
      " \"2021-08-02\""
     ]
    },
    {
     "name": "stdout",
     "output_type": "stream",
     "text": [
      " \"2021-08-02\""
     ]
    },
    {
     "name": "stdout",
     "output_type": "stream",
     "text": [
      "\n"
     ]
    },
    {
     "name": "stdout",
     "output_type": "stream",
     "text": [
      "[2026]"
     ]
    },
    {
     "name": "stdout",
     "output_type": "stream",
     "text": [
      " \"2021-08-02\""
     ]
    },
    {
     "name": "stdout",
     "output_type": "stream",
     "text": [
      " \"2021-08-02\""
     ]
    },
    {
     "name": "stdout",
     "output_type": "stream",
     "text": [
      " \"2021-08-02\""
     ]
    },
    {
     "name": "stdout",
     "output_type": "stream",
     "text": [
      " \"2021-08-02\""
     ]
    },
    {
     "name": "stdout",
     "output_type": "stream",
     "text": [
      " \"2021-08-02\""
     ]
    },
    {
     "name": "stdout",
     "output_type": "stream",
     "text": [
      "\n"
     ]
    },
    {
     "name": "stdout",
     "output_type": "stream",
     "text": [
      "[2031]"
     ]
    },
    {
     "name": "stdout",
     "output_type": "stream",
     "text": [
      " \"2021-08-02\""
     ]
    },
    {
     "name": "stdout",
     "output_type": "stream",
     "text": [
      " \"2021-08-02\""
     ]
    },
    {
     "name": "stdout",
     "output_type": "stream",
     "text": [
      " \"2021-08-02\""
     ]
    },
    {
     "name": "stdout",
     "output_type": "stream",
     "text": [
      " \"2021-08-02\""
     ]
    },
    {
     "name": "stdout",
     "output_type": "stream",
     "text": [
      " \"2021-08-02\""
     ]
    },
    {
     "name": "stdout",
     "output_type": "stream",
     "text": [
      "\n"
     ]
    },
    {
     "name": "stdout",
     "output_type": "stream",
     "text": [
      "[2036]"
     ]
    },
    {
     "name": "stdout",
     "output_type": "stream",
     "text": [
      " \"2021-08-02\""
     ]
    },
    {
     "name": "stdout",
     "output_type": "stream",
     "text": [
      " \"2021-08-02\""
     ]
    },
    {
     "name": "stdout",
     "output_type": "stream",
     "text": [
      " \"2021-08-02\""
     ]
    },
    {
     "name": "stdout",
     "output_type": "stream",
     "text": [
      " \"2021-08-02\""
     ]
    },
    {
     "name": "stdout",
     "output_type": "stream",
     "text": [
      " \"2021-08-02\""
     ]
    },
    {
     "name": "stdout",
     "output_type": "stream",
     "text": [
      "\n"
     ]
    },
    {
     "name": "stdout",
     "output_type": "stream",
     "text": [
      "[2041]"
     ]
    },
    {
     "name": "stdout",
     "output_type": "stream",
     "text": [
      " \"2021-08-02\""
     ]
    },
    {
     "name": "stdout",
     "output_type": "stream",
     "text": [
      " \"2021-08-02\""
     ]
    },
    {
     "name": "stdout",
     "output_type": "stream",
     "text": [
      " \"2021-08-02\""
     ]
    },
    {
     "name": "stdout",
     "output_type": "stream",
     "text": [
      " \"2021-08-02\""
     ]
    },
    {
     "name": "stdout",
     "output_type": "stream",
     "text": [
      " \"2021-08-02\""
     ]
    },
    {
     "name": "stdout",
     "output_type": "stream",
     "text": [
      "\n"
     ]
    },
    {
     "name": "stdout",
     "output_type": "stream",
     "text": [
      "[2046]"
     ]
    },
    {
     "name": "stdout",
     "output_type": "stream",
     "text": [
      " \"2021-08-02\""
     ]
    },
    {
     "name": "stdout",
     "output_type": "stream",
     "text": [
      " \"2021-08-02\""
     ]
    },
    {
     "name": "stdout",
     "output_type": "stream",
     "text": [
      " \"2021-08-02\""
     ]
    },
    {
     "name": "stdout",
     "output_type": "stream",
     "text": [
      " \"2021-08-02\""
     ]
    },
    {
     "name": "stdout",
     "output_type": "stream",
     "text": [
      " \"2021-08-02\""
     ]
    },
    {
     "name": "stdout",
     "output_type": "stream",
     "text": [
      "\n"
     ]
    },
    {
     "name": "stdout",
     "output_type": "stream",
     "text": [
      "[2051]"
     ]
    },
    {
     "name": "stdout",
     "output_type": "stream",
     "text": [
      " \"2021-08-02\""
     ]
    },
    {
     "name": "stdout",
     "output_type": "stream",
     "text": [
      " \"2021-08-02\""
     ]
    },
    {
     "name": "stdout",
     "output_type": "stream",
     "text": [
      " \"2021-08-02\""
     ]
    },
    {
     "name": "stdout",
     "output_type": "stream",
     "text": [
      " \"2021-08-02\""
     ]
    },
    {
     "name": "stdout",
     "output_type": "stream",
     "text": [
      " \"2021-08-02\""
     ]
    },
    {
     "name": "stdout",
     "output_type": "stream",
     "text": [
      "\n"
     ]
    },
    {
     "name": "stdout",
     "output_type": "stream",
     "text": [
      "[2056]"
     ]
    },
    {
     "name": "stdout",
     "output_type": "stream",
     "text": [
      " \"2021-08-02\""
     ]
    },
    {
     "name": "stdout",
     "output_type": "stream",
     "text": [
      " \"2021-08-02\""
     ]
    },
    {
     "name": "stdout",
     "output_type": "stream",
     "text": [
      " \"2021-08-02\""
     ]
    },
    {
     "name": "stdout",
     "output_type": "stream",
     "text": [
      " \"2021-08-02\""
     ]
    },
    {
     "name": "stdout",
     "output_type": "stream",
     "text": [
      " \"2021-08-02\""
     ]
    },
    {
     "name": "stdout",
     "output_type": "stream",
     "text": [
      "\n"
     ]
    },
    {
     "name": "stdout",
     "output_type": "stream",
     "text": [
      "[2061]"
     ]
    },
    {
     "name": "stdout",
     "output_type": "stream",
     "text": [
      " \"2021-08-02\""
     ]
    },
    {
     "name": "stdout",
     "output_type": "stream",
     "text": [
      " \"2021-08-02\""
     ]
    },
    {
     "name": "stdout",
     "output_type": "stream",
     "text": [
      " \"2021-08-02\""
     ]
    },
    {
     "name": "stdout",
     "output_type": "stream",
     "text": [
      " \"2021-08-02\""
     ]
    },
    {
     "name": "stdout",
     "output_type": "stream",
     "text": [
      " \"2021-08-02\""
     ]
    },
    {
     "name": "stdout",
     "output_type": "stream",
     "text": [
      "\n"
     ]
    },
    {
     "name": "stdout",
     "output_type": "stream",
     "text": [
      "[2066]"
     ]
    },
    {
     "name": "stdout",
     "output_type": "stream",
     "text": [
      " \"2021-08-02\""
     ]
    },
    {
     "name": "stdout",
     "output_type": "stream",
     "text": [
      " \"2021-08-02\""
     ]
    },
    {
     "name": "stdout",
     "output_type": "stream",
     "text": [
      " \"2021-08-02\""
     ]
    },
    {
     "name": "stdout",
     "output_type": "stream",
     "text": [
      " \"2021-08-02\""
     ]
    },
    {
     "name": "stdout",
     "output_type": "stream",
     "text": [
      " \"2021-08-02\""
     ]
    },
    {
     "name": "stdout",
     "output_type": "stream",
     "text": [
      "\n"
     ]
    },
    {
     "name": "stdout",
     "output_type": "stream",
     "text": [
      "[2071]"
     ]
    },
    {
     "name": "stdout",
     "output_type": "stream",
     "text": [
      " \"2021-08-09\""
     ]
    },
    {
     "name": "stdout",
     "output_type": "stream",
     "text": [
      " \"2021-08-09\""
     ]
    },
    {
     "name": "stdout",
     "output_type": "stream",
     "text": [
      " \"2021-08-09\""
     ]
    },
    {
     "name": "stdout",
     "output_type": "stream",
     "text": [
      " \"2021-08-09\""
     ]
    },
    {
     "name": "stdout",
     "output_type": "stream",
     "text": [
      " \"2021-08-09\""
     ]
    },
    {
     "name": "stdout",
     "output_type": "stream",
     "text": [
      "\n"
     ]
    },
    {
     "name": "stdout",
     "output_type": "stream",
     "text": [
      "[2076]"
     ]
    },
    {
     "name": "stdout",
     "output_type": "stream",
     "text": [
      " \"2021-08-09\""
     ]
    },
    {
     "name": "stdout",
     "output_type": "stream",
     "text": [
      " \"2021-08-09\""
     ]
    },
    {
     "name": "stdout",
     "output_type": "stream",
     "text": [
      " \"2021-08-09\""
     ]
    },
    {
     "name": "stdout",
     "output_type": "stream",
     "text": [
      " \"2021-08-09\""
     ]
    },
    {
     "name": "stdout",
     "output_type": "stream",
     "text": [
      " \"2021-08-09\""
     ]
    },
    {
     "name": "stdout",
     "output_type": "stream",
     "text": [
      "\n"
     ]
    },
    {
     "name": "stdout",
     "output_type": "stream",
     "text": [
      "[2081]"
     ]
    },
    {
     "name": "stdout",
     "output_type": "stream",
     "text": [
      " \"2021-08-09\""
     ]
    },
    {
     "name": "stdout",
     "output_type": "stream",
     "text": [
      " \"2021-08-09\""
     ]
    },
    {
     "name": "stdout",
     "output_type": "stream",
     "text": [
      " \"2021-08-09\""
     ]
    },
    {
     "name": "stdout",
     "output_type": "stream",
     "text": [
      " \"2021-08-09\""
     ]
    },
    {
     "name": "stdout",
     "output_type": "stream",
     "text": [
      " \"2021-08-09\""
     ]
    },
    {
     "name": "stdout",
     "output_type": "stream",
     "text": [
      "\n"
     ]
    },
    {
     "name": "stdout",
     "output_type": "stream",
     "text": [
      "[2086]"
     ]
    },
    {
     "name": "stdout",
     "output_type": "stream",
     "text": [
      " \"2021-08-09\""
     ]
    },
    {
     "name": "stdout",
     "output_type": "stream",
     "text": [
      " \"2021-08-09\""
     ]
    },
    {
     "name": "stdout",
     "output_type": "stream",
     "text": [
      " \"2021-08-09\""
     ]
    },
    {
     "name": "stdout",
     "output_type": "stream",
     "text": [
      " \"2021-08-09\""
     ]
    },
    {
     "name": "stdout",
     "output_type": "stream",
     "text": [
      " \"2021-08-09\""
     ]
    },
    {
     "name": "stdout",
     "output_type": "stream",
     "text": [
      "\n"
     ]
    },
    {
     "name": "stdout",
     "output_type": "stream",
     "text": [
      "[2091]"
     ]
    },
    {
     "name": "stdout",
     "output_type": "stream",
     "text": [
      " \"2021-08-09\""
     ]
    },
    {
     "name": "stdout",
     "output_type": "stream",
     "text": [
      " \"2021-08-09\""
     ]
    },
    {
     "name": "stdout",
     "output_type": "stream",
     "text": [
      " \"2021-08-09\""
     ]
    },
    {
     "name": "stdout",
     "output_type": "stream",
     "text": [
      " \"2021-08-09\""
     ]
    },
    {
     "name": "stdout",
     "output_type": "stream",
     "text": [
      " \"2021-08-09\""
     ]
    },
    {
     "name": "stdout",
     "output_type": "stream",
     "text": [
      "\n"
     ]
    },
    {
     "name": "stdout",
     "output_type": "stream",
     "text": [
      "[2096]"
     ]
    },
    {
     "name": "stdout",
     "output_type": "stream",
     "text": [
      " \"2021-08-09\""
     ]
    },
    {
     "name": "stdout",
     "output_type": "stream",
     "text": [
      " \"2021-08-09\""
     ]
    },
    {
     "name": "stdout",
     "output_type": "stream",
     "text": [
      " \"2021-08-09\""
     ]
    },
    {
     "name": "stdout",
     "output_type": "stream",
     "text": [
      " \"2021-08-09\""
     ]
    },
    {
     "name": "stdout",
     "output_type": "stream",
     "text": [
      " \"2021-08-09\""
     ]
    },
    {
     "name": "stdout",
     "output_type": "stream",
     "text": [
      "\n"
     ]
    },
    {
     "name": "stdout",
     "output_type": "stream",
     "text": [
      "[2101]"
     ]
    },
    {
     "name": "stdout",
     "output_type": "stream",
     "text": [
      " \"2021-08-09\""
     ]
    },
    {
     "name": "stdout",
     "output_type": "stream",
     "text": [
      " \"2021-08-09\""
     ]
    },
    {
     "name": "stdout",
     "output_type": "stream",
     "text": [
      " \"2021-08-09\""
     ]
    },
    {
     "name": "stdout",
     "output_type": "stream",
     "text": [
      " \"2021-08-09\""
     ]
    },
    {
     "name": "stdout",
     "output_type": "stream",
     "text": [
      " \"2021-08-09\""
     ]
    },
    {
     "name": "stdout",
     "output_type": "stream",
     "text": [
      "\n"
     ]
    },
    {
     "name": "stdout",
     "output_type": "stream",
     "text": [
      "[2106]"
     ]
    },
    {
     "name": "stdout",
     "output_type": "stream",
     "text": [
      " \"2021-08-09\""
     ]
    },
    {
     "name": "stdout",
     "output_type": "stream",
     "text": [
      " \"2021-08-09\""
     ]
    },
    {
     "name": "stdout",
     "output_type": "stream",
     "text": [
      " \"2021-08-09\""
     ]
    },
    {
     "name": "stdout",
     "output_type": "stream",
     "text": [
      " \"2021-08-09\""
     ]
    },
    {
     "name": "stdout",
     "output_type": "stream",
     "text": [
      " \"2021-08-09\""
     ]
    },
    {
     "name": "stdout",
     "output_type": "stream",
     "text": [
      "\n"
     ]
    },
    {
     "name": "stdout",
     "output_type": "stream",
     "text": [
      "[2111]"
     ]
    },
    {
     "name": "stdout",
     "output_type": "stream",
     "text": [
      " \"2021-08-09\""
     ]
    },
    {
     "name": "stdout",
     "output_type": "stream",
     "text": [
      " \"2021-08-09\""
     ]
    },
    {
     "name": "stdout",
     "output_type": "stream",
     "text": [
      " \"2021-08-09\""
     ]
    },
    {
     "name": "stdout",
     "output_type": "stream",
     "text": [
      " \"2021-08-09\""
     ]
    },
    {
     "name": "stdout",
     "output_type": "stream",
     "text": [
      " \"2021-08-09\""
     ]
    },
    {
     "name": "stdout",
     "output_type": "stream",
     "text": [
      "\n"
     ]
    },
    {
     "name": "stdout",
     "output_type": "stream",
     "text": [
      "[2116]"
     ]
    },
    {
     "name": "stdout",
     "output_type": "stream",
     "text": [
      " \"2021-08-09\""
     ]
    },
    {
     "name": "stdout",
     "output_type": "stream",
     "text": [
      " \"2021-08-09\""
     ]
    },
    {
     "name": "stdout",
     "output_type": "stream",
     "text": [
      " \"2021-08-09\""
     ]
    },
    {
     "name": "stdout",
     "output_type": "stream",
     "text": [
      " \"2021-08-09\""
     ]
    },
    {
     "name": "stdout",
     "output_type": "stream",
     "text": [
      " \"2021-08-09\""
     ]
    },
    {
     "name": "stdout",
     "output_type": "stream",
     "text": [
      "\n"
     ]
    },
    {
     "name": "stdout",
     "output_type": "stream",
     "text": [
      "[2121]"
     ]
    },
    {
     "name": "stdout",
     "output_type": "stream",
     "text": [
      " \"2021-08-09\""
     ]
    },
    {
     "name": "stdout",
     "output_type": "stream",
     "text": [
      " \"2021-08-09\""
     ]
    },
    {
     "name": "stdout",
     "output_type": "stream",
     "text": [
      " \"2021-08-09\""
     ]
    },
    {
     "name": "stdout",
     "output_type": "stream",
     "text": [
      " \"2021-08-09\""
     ]
    },
    {
     "name": "stdout",
     "output_type": "stream",
     "text": [
      " \"2021-08-09\""
     ]
    },
    {
     "name": "stdout",
     "output_type": "stream",
     "text": [
      "\n"
     ]
    },
    {
     "name": "stdout",
     "output_type": "stream",
     "text": [
      "[2126]"
     ]
    },
    {
     "name": "stdout",
     "output_type": "stream",
     "text": [
      " \"2021-08-09\""
     ]
    },
    {
     "name": "stdout",
     "output_type": "stream",
     "text": [
      " \"2021-08-09\""
     ]
    },
    {
     "name": "stdout",
     "output_type": "stream",
     "text": [
      " \"2021-08-09\""
     ]
    },
    {
     "name": "stdout",
     "output_type": "stream",
     "text": [
      " \"2021-08-09\""
     ]
    },
    {
     "name": "stdout",
     "output_type": "stream",
     "text": [
      " \"2021-08-09\""
     ]
    },
    {
     "name": "stdout",
     "output_type": "stream",
     "text": [
      "\n"
     ]
    },
    {
     "name": "stdout",
     "output_type": "stream",
     "text": [
      "[2131]"
     ]
    },
    {
     "name": "stdout",
     "output_type": "stream",
     "text": [
      " \"2021-08-09\""
     ]
    },
    {
     "name": "stdout",
     "output_type": "stream",
     "text": [
      " \"2021-08-09\""
     ]
    },
    {
     "name": "stdout",
     "output_type": "stream",
     "text": [
      " \"2021-08-09\""
     ]
    },
    {
     "name": "stdout",
     "output_type": "stream",
     "text": [
      " \"2021-08-09\""
     ]
    },
    {
     "name": "stdout",
     "output_type": "stream",
     "text": [
      " \"2021-08-09\""
     ]
    },
    {
     "name": "stdout",
     "output_type": "stream",
     "text": [
      "\n"
     ]
    },
    {
     "name": "stdout",
     "output_type": "stream",
     "text": [
      "[2136]"
     ]
    },
    {
     "name": "stdout",
     "output_type": "stream",
     "text": [
      " \"2021-08-09\""
     ]
    },
    {
     "name": "stdout",
     "output_type": "stream",
     "text": [
      " \"2021-08-09\""
     ]
    },
    {
     "name": "stdout",
     "output_type": "stream",
     "text": [
      " \"2021-08-09\""
     ]
    },
    {
     "name": "stdout",
     "output_type": "stream",
     "text": [
      " \"2021-08-09\""
     ]
    },
    {
     "name": "stdout",
     "output_type": "stream",
     "text": [
      " \"2021-08-16\""
     ]
    },
    {
     "name": "stdout",
     "output_type": "stream",
     "text": [
      "\n"
     ]
    },
    {
     "name": "stdout",
     "output_type": "stream",
     "text": [
      "[2141]"
     ]
    },
    {
     "name": "stdout",
     "output_type": "stream",
     "text": [
      " \"2021-08-16\""
     ]
    },
    {
     "name": "stdout",
     "output_type": "stream",
     "text": [
      " \"2021-08-16\""
     ]
    },
    {
     "name": "stdout",
     "output_type": "stream",
     "text": [
      " \"2021-08-16\""
     ]
    },
    {
     "name": "stdout",
     "output_type": "stream",
     "text": [
      " \"2021-08-16\""
     ]
    },
    {
     "name": "stdout",
     "output_type": "stream",
     "text": [
      " \"2021-08-16\""
     ]
    },
    {
     "name": "stdout",
     "output_type": "stream",
     "text": [
      "\n"
     ]
    },
    {
     "name": "stdout",
     "output_type": "stream",
     "text": [
      "[2146]"
     ]
    },
    {
     "name": "stdout",
     "output_type": "stream",
     "text": [
      " \"2021-08-16\""
     ]
    },
    {
     "name": "stdout",
     "output_type": "stream",
     "text": [
      " \"2021-08-16\""
     ]
    },
    {
     "name": "stdout",
     "output_type": "stream",
     "text": [
      " \"2021-08-16\""
     ]
    },
    {
     "name": "stdout",
     "output_type": "stream",
     "text": [
      " \"2021-08-16\""
     ]
    },
    {
     "name": "stdout",
     "output_type": "stream",
     "text": [
      " \"2021-08-16\""
     ]
    },
    {
     "name": "stdout",
     "output_type": "stream",
     "text": [
      "\n"
     ]
    },
    {
     "name": "stdout",
     "output_type": "stream",
     "text": [
      "[2151]"
     ]
    },
    {
     "name": "stdout",
     "output_type": "stream",
     "text": [
      " \"2021-08-16\""
     ]
    },
    {
     "name": "stdout",
     "output_type": "stream",
     "text": [
      " \"2021-08-16\""
     ]
    },
    {
     "name": "stdout",
     "output_type": "stream",
     "text": [
      " \"2021-08-16\""
     ]
    },
    {
     "name": "stdout",
     "output_type": "stream",
     "text": [
      " \"2021-08-16\""
     ]
    },
    {
     "name": "stdout",
     "output_type": "stream",
     "text": [
      " \"2021-08-16\""
     ]
    },
    {
     "name": "stdout",
     "output_type": "stream",
     "text": [
      "\n"
     ]
    },
    {
     "name": "stdout",
     "output_type": "stream",
     "text": [
      "[2156]"
     ]
    },
    {
     "name": "stdout",
     "output_type": "stream",
     "text": [
      " \"2021-08-16\""
     ]
    },
    {
     "name": "stdout",
     "output_type": "stream",
     "text": [
      " \"2021-08-16\""
     ]
    },
    {
     "name": "stdout",
     "output_type": "stream",
     "text": [
      " \"2021-08-16\""
     ]
    },
    {
     "name": "stdout",
     "output_type": "stream",
     "text": [
      " \"2021-08-16\""
     ]
    },
    {
     "name": "stdout",
     "output_type": "stream",
     "text": [
      " \"2021-08-16\""
     ]
    },
    {
     "name": "stdout",
     "output_type": "stream",
     "text": [
      "\n"
     ]
    },
    {
     "name": "stdout",
     "output_type": "stream",
     "text": [
      "[2161]"
     ]
    },
    {
     "name": "stdout",
     "output_type": "stream",
     "text": [
      " \"2021-08-16\""
     ]
    },
    {
     "name": "stdout",
     "output_type": "stream",
     "text": [
      " \"2021-08-16\""
     ]
    },
    {
     "name": "stdout",
     "output_type": "stream",
     "text": [
      " \"2021-08-16\""
     ]
    },
    {
     "name": "stdout",
     "output_type": "stream",
     "text": [
      " \"2021-08-16\""
     ]
    },
    {
     "name": "stdout",
     "output_type": "stream",
     "text": [
      " \"2021-08-16\""
     ]
    },
    {
     "name": "stdout",
     "output_type": "stream",
     "text": [
      "\n"
     ]
    },
    {
     "name": "stdout",
     "output_type": "stream",
     "text": [
      "[2166]"
     ]
    },
    {
     "name": "stdout",
     "output_type": "stream",
     "text": [
      " \"2021-08-16\""
     ]
    },
    {
     "name": "stdout",
     "output_type": "stream",
     "text": [
      " \"2021-08-16\""
     ]
    },
    {
     "name": "stdout",
     "output_type": "stream",
     "text": [
      " \"2021-08-16\""
     ]
    },
    {
     "name": "stdout",
     "output_type": "stream",
     "text": [
      " \"2021-08-16\""
     ]
    },
    {
     "name": "stdout",
     "output_type": "stream",
     "text": [
      " \"2021-08-16\""
     ]
    },
    {
     "name": "stdout",
     "output_type": "stream",
     "text": [
      "\n"
     ]
    },
    {
     "name": "stdout",
     "output_type": "stream",
     "text": [
      "[2171]"
     ]
    },
    {
     "name": "stdout",
     "output_type": "stream",
     "text": [
      " \"2021-08-16\""
     ]
    },
    {
     "name": "stdout",
     "output_type": "stream",
     "text": [
      " \"2021-08-16\""
     ]
    },
    {
     "name": "stdout",
     "output_type": "stream",
     "text": [
      " \"2021-08-16\""
     ]
    },
    {
     "name": "stdout",
     "output_type": "stream",
     "text": [
      " \"2021-08-16\""
     ]
    },
    {
     "name": "stdout",
     "output_type": "stream",
     "text": [
      " \"2021-08-16\""
     ]
    },
    {
     "name": "stdout",
     "output_type": "stream",
     "text": [
      "\n"
     ]
    },
    {
     "name": "stdout",
     "output_type": "stream",
     "text": [
      "[2176]"
     ]
    },
    {
     "name": "stdout",
     "output_type": "stream",
     "text": [
      " \"2021-08-16\""
     ]
    },
    {
     "name": "stdout",
     "output_type": "stream",
     "text": [
      " \"2021-08-16\""
     ]
    },
    {
     "name": "stdout",
     "output_type": "stream",
     "text": [
      " \"2021-08-16\""
     ]
    },
    {
     "name": "stdout",
     "output_type": "stream",
     "text": [
      " \"2021-08-16\""
     ]
    },
    {
     "name": "stdout",
     "output_type": "stream",
     "text": [
      " \"2021-08-16\""
     ]
    },
    {
     "name": "stdout",
     "output_type": "stream",
     "text": [
      "\n"
     ]
    },
    {
     "name": "stdout",
     "output_type": "stream",
     "text": [
      "[2181]"
     ]
    },
    {
     "name": "stdout",
     "output_type": "stream",
     "text": [
      " \"2021-08-16\""
     ]
    },
    {
     "name": "stdout",
     "output_type": "stream",
     "text": [
      " \"2021-08-16\""
     ]
    },
    {
     "name": "stdout",
     "output_type": "stream",
     "text": [
      " \"2021-08-16\""
     ]
    },
    {
     "name": "stdout",
     "output_type": "stream",
     "text": [
      " \"2021-08-16\""
     ]
    },
    {
     "name": "stdout",
     "output_type": "stream",
     "text": [
      " \"2021-08-16\""
     ]
    },
    {
     "name": "stdout",
     "output_type": "stream",
     "text": [
      "\n"
     ]
    },
    {
     "name": "stdout",
     "output_type": "stream",
     "text": [
      "[2186]"
     ]
    },
    {
     "name": "stdout",
     "output_type": "stream",
     "text": [
      " \"2021-08-16\""
     ]
    },
    {
     "name": "stdout",
     "output_type": "stream",
     "text": [
      " \"2021-08-16\""
     ]
    },
    {
     "name": "stdout",
     "output_type": "stream",
     "text": [
      " \"2021-08-16\""
     ]
    },
    {
     "name": "stdout",
     "output_type": "stream",
     "text": [
      " \"2021-08-16\""
     ]
    },
    {
     "name": "stdout",
     "output_type": "stream",
     "text": [
      " \"2021-08-16\""
     ]
    },
    {
     "name": "stdout",
     "output_type": "stream",
     "text": [
      "\n"
     ]
    },
    {
     "name": "stdout",
     "output_type": "stream",
     "text": [
      "[2191]"
     ]
    },
    {
     "name": "stdout",
     "output_type": "stream",
     "text": [
      " \"2021-08-16\""
     ]
    },
    {
     "name": "stdout",
     "output_type": "stream",
     "text": [
      " \"2021-08-16\""
     ]
    },
    {
     "name": "stdout",
     "output_type": "stream",
     "text": [
      " \"2021-08-16\""
     ]
    },
    {
     "name": "stdout",
     "output_type": "stream",
     "text": [
      " \"2021-08-16\""
     ]
    },
    {
     "name": "stdout",
     "output_type": "stream",
     "text": [
      " \"2021-08-16\""
     ]
    },
    {
     "name": "stdout",
     "output_type": "stream",
     "text": [
      "\n"
     ]
    },
    {
     "name": "stdout",
     "output_type": "stream",
     "text": [
      "[2196]"
     ]
    },
    {
     "name": "stdout",
     "output_type": "stream",
     "text": [
      " \"2021-08-16\""
     ]
    },
    {
     "name": "stdout",
     "output_type": "stream",
     "text": [
      " \"2021-08-16\""
     ]
    },
    {
     "name": "stdout",
     "output_type": "stream",
     "text": [
      " \"2021-08-16\""
     ]
    },
    {
     "name": "stdout",
     "output_type": "stream",
     "text": [
      " \"2021-08-16\""
     ]
    },
    {
     "name": "stdout",
     "output_type": "stream",
     "text": [
      " \"2021-08-16\""
     ]
    },
    {
     "name": "stdout",
     "output_type": "stream",
     "text": [
      "\n"
     ]
    },
    {
     "name": "stdout",
     "output_type": "stream",
     "text": [
      "[2201]"
     ]
    },
    {
     "name": "stdout",
     "output_type": "stream",
     "text": [
      " \"2021-08-16\""
     ]
    },
    {
     "name": "stdout",
     "output_type": "stream",
     "text": [
      " \"2021-08-16\""
     ]
    },
    {
     "name": "stdout",
     "output_type": "stream",
     "text": [
      " \"2021-08-16\""
     ]
    },
    {
     "name": "stdout",
     "output_type": "stream",
     "text": [
      " \"2021-08-16\""
     ]
    },
    {
     "name": "stdout",
     "output_type": "stream",
     "text": [
      " \"2021-08-16\""
     ]
    },
    {
     "name": "stdout",
     "output_type": "stream",
     "text": [
      "\n"
     ]
    },
    {
     "name": "stdout",
     "output_type": "stream",
     "text": [
      "[2206]"
     ]
    },
    {
     "name": "stdout",
     "output_type": "stream",
     "text": [
      " \"2021-08-16\""
     ]
    },
    {
     "name": "stdout",
     "output_type": "stream",
     "text": [
      " \"2021-08-16\""
     ]
    },
    {
     "name": "stdout",
     "output_type": "stream",
     "text": [
      " \"2021-08-16\""
     ]
    },
    {
     "name": "stdout",
     "output_type": "stream",
     "text": [
      " \"2021-08-23\""
     ]
    },
    {
     "name": "stdout",
     "output_type": "stream",
     "text": [
      " \"2021-08-23\""
     ]
    },
    {
     "name": "stdout",
     "output_type": "stream",
     "text": [
      "\n"
     ]
    },
    {
     "name": "stdout",
     "output_type": "stream",
     "text": [
      "[2211]"
     ]
    },
    {
     "name": "stdout",
     "output_type": "stream",
     "text": [
      " \"2021-08-23\""
     ]
    },
    {
     "name": "stdout",
     "output_type": "stream",
     "text": [
      " \"2021-08-23\""
     ]
    },
    {
     "name": "stdout",
     "output_type": "stream",
     "text": [
      " \"2021-08-23\""
     ]
    },
    {
     "name": "stdout",
     "output_type": "stream",
     "text": [
      " \"2021-08-23\""
     ]
    },
    {
     "name": "stdout",
     "output_type": "stream",
     "text": [
      " \"2021-08-23\""
     ]
    },
    {
     "name": "stdout",
     "output_type": "stream",
     "text": [
      "\n"
     ]
    },
    {
     "name": "stdout",
     "output_type": "stream",
     "text": [
      "[2216]"
     ]
    },
    {
     "name": "stdout",
     "output_type": "stream",
     "text": [
      " \"2021-08-23\""
     ]
    },
    {
     "name": "stdout",
     "output_type": "stream",
     "text": [
      " \"2021-08-23\""
     ]
    },
    {
     "name": "stdout",
     "output_type": "stream",
     "text": [
      " \"2021-08-23\""
     ]
    },
    {
     "name": "stdout",
     "output_type": "stream",
     "text": [
      " \"2021-08-23\""
     ]
    },
    {
     "name": "stdout",
     "output_type": "stream",
     "text": [
      " \"2021-08-23\""
     ]
    },
    {
     "name": "stdout",
     "output_type": "stream",
     "text": [
      "\n"
     ]
    },
    {
     "name": "stdout",
     "output_type": "stream",
     "text": [
      "[2221]"
     ]
    },
    {
     "name": "stdout",
     "output_type": "stream",
     "text": [
      " \"2021-08-23\""
     ]
    },
    {
     "name": "stdout",
     "output_type": "stream",
     "text": [
      " \"2021-08-23\""
     ]
    },
    {
     "name": "stdout",
     "output_type": "stream",
     "text": [
      " \"2021-08-23\""
     ]
    },
    {
     "name": "stdout",
     "output_type": "stream",
     "text": [
      " \"2021-08-23\""
     ]
    },
    {
     "name": "stdout",
     "output_type": "stream",
     "text": [
      " \"2021-08-23\""
     ]
    },
    {
     "name": "stdout",
     "output_type": "stream",
     "text": [
      "\n"
     ]
    },
    {
     "name": "stdout",
     "output_type": "stream",
     "text": [
      "[2226]"
     ]
    },
    {
     "name": "stdout",
     "output_type": "stream",
     "text": [
      " \"2021-08-23\""
     ]
    },
    {
     "name": "stdout",
     "output_type": "stream",
     "text": [
      " \"2021-08-23\""
     ]
    },
    {
     "name": "stdout",
     "output_type": "stream",
     "text": [
      " \"2021-08-23\""
     ]
    },
    {
     "name": "stdout",
     "output_type": "stream",
     "text": [
      " \"2021-08-23\""
     ]
    },
    {
     "name": "stdout",
     "output_type": "stream",
     "text": [
      " \"2021-08-23\""
     ]
    },
    {
     "name": "stdout",
     "output_type": "stream",
     "text": [
      "\n"
     ]
    },
    {
     "name": "stdout",
     "output_type": "stream",
     "text": [
      "[2231]"
     ]
    },
    {
     "name": "stdout",
     "output_type": "stream",
     "text": [
      " \"2021-08-23\""
     ]
    },
    {
     "name": "stdout",
     "output_type": "stream",
     "text": [
      " \"2021-08-23\""
     ]
    },
    {
     "name": "stdout",
     "output_type": "stream",
     "text": [
      " \"2021-08-23\""
     ]
    },
    {
     "name": "stdout",
     "output_type": "stream",
     "text": [
      " \"2021-08-23\""
     ]
    },
    {
     "name": "stdout",
     "output_type": "stream",
     "text": [
      " \"2021-08-23\""
     ]
    },
    {
     "name": "stdout",
     "output_type": "stream",
     "text": [
      "\n"
     ]
    },
    {
     "name": "stdout",
     "output_type": "stream",
     "text": [
      "[2236]"
     ]
    },
    {
     "name": "stdout",
     "output_type": "stream",
     "text": [
      " \"2021-08-23\""
     ]
    },
    {
     "name": "stdout",
     "output_type": "stream",
     "text": [
      " \"2021-08-23\""
     ]
    },
    {
     "name": "stdout",
     "output_type": "stream",
     "text": [
      " \"2021-08-23\""
     ]
    },
    {
     "name": "stdout",
     "output_type": "stream",
     "text": [
      " \"2021-08-23\""
     ]
    },
    {
     "name": "stdout",
     "output_type": "stream",
     "text": [
      " \"2021-08-23\""
     ]
    },
    {
     "name": "stdout",
     "output_type": "stream",
     "text": [
      "\n"
     ]
    },
    {
     "name": "stdout",
     "output_type": "stream",
     "text": [
      "[2241]"
     ]
    },
    {
     "name": "stdout",
     "output_type": "stream",
     "text": [
      " \"2021-08-23\""
     ]
    },
    {
     "name": "stdout",
     "output_type": "stream",
     "text": [
      " \"2021-08-23\""
     ]
    },
    {
     "name": "stdout",
     "output_type": "stream",
     "text": [
      " \"2021-08-23\""
     ]
    },
    {
     "name": "stdout",
     "output_type": "stream",
     "text": [
      " \"2021-08-23\""
     ]
    },
    {
     "name": "stdout",
     "output_type": "stream",
     "text": [
      " \"2021-08-23\""
     ]
    },
    {
     "name": "stdout",
     "output_type": "stream",
     "text": [
      "\n"
     ]
    },
    {
     "name": "stdout",
     "output_type": "stream",
     "text": [
      "[2246]"
     ]
    },
    {
     "name": "stdout",
     "output_type": "stream",
     "text": [
      " \"2021-08-23\""
     ]
    },
    {
     "name": "stdout",
     "output_type": "stream",
     "text": [
      " \"2021-08-23\""
     ]
    },
    {
     "name": "stdout",
     "output_type": "stream",
     "text": [
      " \"2021-08-23\""
     ]
    },
    {
     "name": "stdout",
     "output_type": "stream",
     "text": [
      " \"2021-08-23\""
     ]
    },
    {
     "name": "stdout",
     "output_type": "stream",
     "text": [
      " \"2021-08-23\""
     ]
    },
    {
     "name": "stdout",
     "output_type": "stream",
     "text": [
      "\n"
     ]
    },
    {
     "name": "stdout",
     "output_type": "stream",
     "text": [
      "[2251]"
     ]
    },
    {
     "name": "stdout",
     "output_type": "stream",
     "text": [
      " \"2021-08-23\""
     ]
    },
    {
     "name": "stdout",
     "output_type": "stream",
     "text": [
      " \"2021-08-23\""
     ]
    },
    {
     "name": "stdout",
     "output_type": "stream",
     "text": [
      " \"2021-08-23\""
     ]
    },
    {
     "name": "stdout",
     "output_type": "stream",
     "text": [
      " \"2021-08-23\""
     ]
    },
    {
     "name": "stdout",
     "output_type": "stream",
     "text": [
      " \"2021-08-23\""
     ]
    },
    {
     "name": "stdout",
     "output_type": "stream",
     "text": [
      "\n"
     ]
    },
    {
     "name": "stdout",
     "output_type": "stream",
     "text": [
      "[2256]"
     ]
    },
    {
     "name": "stdout",
     "output_type": "stream",
     "text": [
      " \"2021-08-23\""
     ]
    },
    {
     "name": "stdout",
     "output_type": "stream",
     "text": [
      " \"2021-08-23\""
     ]
    },
    {
     "name": "stdout",
     "output_type": "stream",
     "text": [
      " \"2021-08-23\""
     ]
    },
    {
     "name": "stdout",
     "output_type": "stream",
     "text": [
      " \"2021-08-23\""
     ]
    },
    {
     "name": "stdout",
     "output_type": "stream",
     "text": [
      " \"2021-08-23\""
     ]
    },
    {
     "name": "stdout",
     "output_type": "stream",
     "text": [
      "\n"
     ]
    },
    {
     "name": "stdout",
     "output_type": "stream",
     "text": [
      "[2261]"
     ]
    },
    {
     "name": "stdout",
     "output_type": "stream",
     "text": [
      " \"2021-08-23\""
     ]
    },
    {
     "name": "stdout",
     "output_type": "stream",
     "text": [
      " \"2021-08-23\""
     ]
    },
    {
     "name": "stdout",
     "output_type": "stream",
     "text": [
      " \"2021-08-23\""
     ]
    },
    {
     "name": "stdout",
     "output_type": "stream",
     "text": [
      " \"2021-08-23\""
     ]
    },
    {
     "name": "stdout",
     "output_type": "stream",
     "text": [
      " \"2021-08-23\""
     ]
    },
    {
     "name": "stdout",
     "output_type": "stream",
     "text": [
      "\n"
     ]
    },
    {
     "name": "stdout",
     "output_type": "stream",
     "text": [
      "[2266]"
     ]
    },
    {
     "name": "stdout",
     "output_type": "stream",
     "text": [
      " \"2021-08-23\""
     ]
    },
    {
     "name": "stdout",
     "output_type": "stream",
     "text": [
      " \"2021-08-23\""
     ]
    },
    {
     "name": "stdout",
     "output_type": "stream",
     "text": [
      " \"2021-08-23\""
     ]
    },
    {
     "name": "stdout",
     "output_type": "stream",
     "text": [
      " \"2021-08-23\""
     ]
    },
    {
     "name": "stdout",
     "output_type": "stream",
     "text": [
      " \"2021-08-23\""
     ]
    },
    {
     "name": "stdout",
     "output_type": "stream",
     "text": [
      "\n"
     ]
    },
    {
     "name": "stdout",
     "output_type": "stream",
     "text": [
      "[2271]"
     ]
    },
    {
     "name": "stdout",
     "output_type": "stream",
     "text": [
      " \"2021-08-23\""
     ]
    },
    {
     "name": "stdout",
     "output_type": "stream",
     "text": [
      " \"2021-08-23\""
     ]
    },
    {
     "name": "stdout",
     "output_type": "stream",
     "text": [
      " \"2021-08-23\""
     ]
    },
    {
     "name": "stdout",
     "output_type": "stream",
     "text": [
      " \"2021-08-23\""
     ]
    },
    {
     "name": "stdout",
     "output_type": "stream",
     "text": [
      " \"2021-08-23\""
     ]
    },
    {
     "name": "stdout",
     "output_type": "stream",
     "text": [
      "\n"
     ]
    },
    {
     "name": "stdout",
     "output_type": "stream",
     "text": [
      "[2276]"
     ]
    },
    {
     "name": "stdout",
     "output_type": "stream",
     "text": [
      " \"2021-08-23\""
     ]
    },
    {
     "name": "stdout",
     "output_type": "stream",
     "text": [
      " \"2021-08-23\""
     ]
    },
    {
     "name": "stdout",
     "output_type": "stream",
     "text": [
      " \"2021-08-30\""
     ]
    },
    {
     "name": "stdout",
     "output_type": "stream",
     "text": [
      " \"2021-08-30\""
     ]
    },
    {
     "name": "stdout",
     "output_type": "stream",
     "text": [
      " \"2021-08-30\""
     ]
    },
    {
     "name": "stdout",
     "output_type": "stream",
     "text": [
      "\n"
     ]
    },
    {
     "name": "stdout",
     "output_type": "stream",
     "text": [
      "[2281]"
     ]
    },
    {
     "name": "stdout",
     "output_type": "stream",
     "text": [
      " \"2021-08-30\""
     ]
    },
    {
     "name": "stdout",
     "output_type": "stream",
     "text": [
      " \"2021-08-30\""
     ]
    },
    {
     "name": "stdout",
     "output_type": "stream",
     "text": [
      " \"2021-08-30\""
     ]
    },
    {
     "name": "stdout",
     "output_type": "stream",
     "text": [
      " \"2021-08-30\""
     ]
    },
    {
     "name": "stdout",
     "output_type": "stream",
     "text": [
      " \"2021-08-30\""
     ]
    },
    {
     "name": "stdout",
     "output_type": "stream",
     "text": [
      "\n"
     ]
    },
    {
     "name": "stdout",
     "output_type": "stream",
     "text": [
      "[2286]"
     ]
    },
    {
     "name": "stdout",
     "output_type": "stream",
     "text": [
      " \"2021-08-30\""
     ]
    },
    {
     "name": "stdout",
     "output_type": "stream",
     "text": [
      " \"2021-08-30\""
     ]
    },
    {
     "name": "stdout",
     "output_type": "stream",
     "text": [
      " \"2021-08-30\""
     ]
    },
    {
     "name": "stdout",
     "output_type": "stream",
     "text": [
      " \"2021-08-30\""
     ]
    },
    {
     "name": "stdout",
     "output_type": "stream",
     "text": [
      " \"2021-08-30\""
     ]
    },
    {
     "name": "stdout",
     "output_type": "stream",
     "text": [
      "\n"
     ]
    },
    {
     "name": "stdout",
     "output_type": "stream",
     "text": [
      "[2291]"
     ]
    },
    {
     "name": "stdout",
     "output_type": "stream",
     "text": [
      " \"2021-08-30\""
     ]
    },
    {
     "name": "stdout",
     "output_type": "stream",
     "text": [
      " \"2021-08-30\""
     ]
    },
    {
     "name": "stdout",
     "output_type": "stream",
     "text": [
      " \"2021-08-30\""
     ]
    },
    {
     "name": "stdout",
     "output_type": "stream",
     "text": [
      " \"2021-08-30\""
     ]
    },
    {
     "name": "stdout",
     "output_type": "stream",
     "text": [
      " \"2021-08-30\""
     ]
    },
    {
     "name": "stdout",
     "output_type": "stream",
     "text": [
      "\n"
     ]
    },
    {
     "name": "stdout",
     "output_type": "stream",
     "text": [
      "[2296]"
     ]
    },
    {
     "name": "stdout",
     "output_type": "stream",
     "text": [
      " \"2021-08-30\""
     ]
    },
    {
     "name": "stdout",
     "output_type": "stream",
     "text": [
      " \"2021-08-30\""
     ]
    },
    {
     "name": "stdout",
     "output_type": "stream",
     "text": [
      " \"2021-08-30\""
     ]
    },
    {
     "name": "stdout",
     "output_type": "stream",
     "text": [
      " \"2021-08-30\""
     ]
    },
    {
     "name": "stdout",
     "output_type": "stream",
     "text": [
      " \"2021-08-30\""
     ]
    },
    {
     "name": "stdout",
     "output_type": "stream",
     "text": [
      "\n"
     ]
    },
    {
     "name": "stdout",
     "output_type": "stream",
     "text": [
      "[2301]"
     ]
    },
    {
     "name": "stdout",
     "output_type": "stream",
     "text": [
      " \"2021-08-30\""
     ]
    },
    {
     "name": "stdout",
     "output_type": "stream",
     "text": [
      " \"2021-08-30\""
     ]
    },
    {
     "name": "stdout",
     "output_type": "stream",
     "text": [
      " \"2021-08-30\""
     ]
    },
    {
     "name": "stdout",
     "output_type": "stream",
     "text": [
      " \"2021-08-30\""
     ]
    },
    {
     "name": "stdout",
     "output_type": "stream",
     "text": [
      " \"2021-08-30\""
     ]
    },
    {
     "name": "stdout",
     "output_type": "stream",
     "text": [
      "\n"
     ]
    },
    {
     "name": "stdout",
     "output_type": "stream",
     "text": [
      "[2306]"
     ]
    },
    {
     "name": "stdout",
     "output_type": "stream",
     "text": [
      " \"2021-08-30\""
     ]
    },
    {
     "name": "stdout",
     "output_type": "stream",
     "text": [
      " \"2021-08-30\""
     ]
    },
    {
     "name": "stdout",
     "output_type": "stream",
     "text": [
      " \"2021-08-30\""
     ]
    },
    {
     "name": "stdout",
     "output_type": "stream",
     "text": [
      " \"2021-08-30\""
     ]
    },
    {
     "name": "stdout",
     "output_type": "stream",
     "text": [
      " \"2021-08-30\""
     ]
    },
    {
     "name": "stdout",
     "output_type": "stream",
     "text": [
      "\n"
     ]
    },
    {
     "name": "stdout",
     "output_type": "stream",
     "text": [
      "[2311]"
     ]
    },
    {
     "name": "stdout",
     "output_type": "stream",
     "text": [
      " \"2021-08-30\""
     ]
    },
    {
     "name": "stdout",
     "output_type": "stream",
     "text": [
      " \"2021-08-30\""
     ]
    },
    {
     "name": "stdout",
     "output_type": "stream",
     "text": [
      " \"2021-08-30\""
     ]
    },
    {
     "name": "stdout",
     "output_type": "stream",
     "text": [
      " \"2021-08-30\""
     ]
    },
    {
     "name": "stdout",
     "output_type": "stream",
     "text": [
      " \"2021-08-30\""
     ]
    },
    {
     "name": "stdout",
     "output_type": "stream",
     "text": [
      "\n"
     ]
    },
    {
     "name": "stdout",
     "output_type": "stream",
     "text": [
      "[2316]"
     ]
    },
    {
     "name": "stdout",
     "output_type": "stream",
     "text": [
      " \"2021-08-30\""
     ]
    },
    {
     "name": "stdout",
     "output_type": "stream",
     "text": [
      " \"2021-08-30\""
     ]
    },
    {
     "name": "stdout",
     "output_type": "stream",
     "text": [
      " \"2021-08-30\""
     ]
    },
    {
     "name": "stdout",
     "output_type": "stream",
     "text": [
      " \"2021-08-30\""
     ]
    },
    {
     "name": "stdout",
     "output_type": "stream",
     "text": [
      " \"2021-08-30\""
     ]
    },
    {
     "name": "stdout",
     "output_type": "stream",
     "text": [
      "\n"
     ]
    },
    {
     "name": "stdout",
     "output_type": "stream",
     "text": [
      "[2321]"
     ]
    },
    {
     "name": "stdout",
     "output_type": "stream",
     "text": [
      " \"2021-08-30\""
     ]
    },
    {
     "name": "stdout",
     "output_type": "stream",
     "text": [
      " \"2021-08-30\""
     ]
    },
    {
     "name": "stdout",
     "output_type": "stream",
     "text": [
      " \"2021-08-30\""
     ]
    },
    {
     "name": "stdout",
     "output_type": "stream",
     "text": [
      " \"2021-08-30\""
     ]
    },
    {
     "name": "stdout",
     "output_type": "stream",
     "text": [
      " \"2021-08-30\""
     ]
    },
    {
     "name": "stdout",
     "output_type": "stream",
     "text": [
      "\n"
     ]
    },
    {
     "name": "stdout",
     "output_type": "stream",
     "text": [
      "[2326]"
     ]
    },
    {
     "name": "stdout",
     "output_type": "stream",
     "text": [
      " \"2021-08-30\""
     ]
    },
    {
     "name": "stdout",
     "output_type": "stream",
     "text": [
      " \"2021-08-30\""
     ]
    },
    {
     "name": "stdout",
     "output_type": "stream",
     "text": [
      " \"2021-08-30\""
     ]
    },
    {
     "name": "stdout",
     "output_type": "stream",
     "text": [
      " \"2021-08-30\""
     ]
    },
    {
     "name": "stdout",
     "output_type": "stream",
     "text": [
      " \"2021-08-30\""
     ]
    },
    {
     "name": "stdout",
     "output_type": "stream",
     "text": [
      "\n"
     ]
    },
    {
     "name": "stdout",
     "output_type": "stream",
     "text": [
      "[2331]"
     ]
    },
    {
     "name": "stdout",
     "output_type": "stream",
     "text": [
      " \"2021-08-30\""
     ]
    },
    {
     "name": "stdout",
     "output_type": "stream",
     "text": [
      " \"2021-08-30\""
     ]
    },
    {
     "name": "stdout",
     "output_type": "stream",
     "text": [
      " \"2021-08-30\""
     ]
    },
    {
     "name": "stdout",
     "output_type": "stream",
     "text": [
      " \"2021-08-30\""
     ]
    },
    {
     "name": "stdout",
     "output_type": "stream",
     "text": [
      " \"2021-08-30\""
     ]
    },
    {
     "name": "stdout",
     "output_type": "stream",
     "text": [
      "\n"
     ]
    },
    {
     "name": "stdout",
     "output_type": "stream",
     "text": [
      "[2336]"
     ]
    },
    {
     "name": "stdout",
     "output_type": "stream",
     "text": [
      " \"2021-08-30\""
     ]
    },
    {
     "name": "stdout",
     "output_type": "stream",
     "text": [
      " \"2021-08-30\""
     ]
    },
    {
     "name": "stdout",
     "output_type": "stream",
     "text": [
      " \"2021-08-30\""
     ]
    },
    {
     "name": "stdout",
     "output_type": "stream",
     "text": [
      " \"2021-08-30\""
     ]
    },
    {
     "name": "stdout",
     "output_type": "stream",
     "text": [
      " \"2021-08-30\""
     ]
    },
    {
     "name": "stdout",
     "output_type": "stream",
     "text": [
      "\n"
     ]
    },
    {
     "name": "stdout",
     "output_type": "stream",
     "text": [
      "[2341]"
     ]
    },
    {
     "name": "stdout",
     "output_type": "stream",
     "text": [
      " \"2021-08-30\""
     ]
    },
    {
     "name": "stdout",
     "output_type": "stream",
     "text": [
      " \"2021-08-30\""
     ]
    },
    {
     "name": "stdout",
     "output_type": "stream",
     "text": [
      " \"2021-08-30\""
     ]
    },
    {
     "name": "stdout",
     "output_type": "stream",
     "text": [
      " \"2021-08-30\""
     ]
    },
    {
     "name": "stdout",
     "output_type": "stream",
     "text": [
      " \"2021-08-30\""
     ]
    },
    {
     "name": "stdout",
     "output_type": "stream",
     "text": [
      "\n"
     ]
    },
    {
     "name": "stdout",
     "output_type": "stream",
     "text": [
      "[2346]"
     ]
    },
    {
     "name": "stdout",
     "output_type": "stream",
     "text": [
      " \"2021-08-30\""
     ]
    },
    {
     "name": "stdout",
     "output_type": "stream",
     "text": [
      " \"2021-09-06\""
     ]
    },
    {
     "name": "stdout",
     "output_type": "stream",
     "text": [
      " \"2021-09-06\""
     ]
    },
    {
     "name": "stdout",
     "output_type": "stream",
     "text": [
      " \"2021-09-06\""
     ]
    },
    {
     "name": "stdout",
     "output_type": "stream",
     "text": [
      " \"2021-09-06\""
     ]
    },
    {
     "name": "stdout",
     "output_type": "stream",
     "text": [
      "\n"
     ]
    },
    {
     "name": "stdout",
     "output_type": "stream",
     "text": [
      "[2351]"
     ]
    },
    {
     "name": "stdout",
     "output_type": "stream",
     "text": [
      " \"2021-09-06\""
     ]
    },
    {
     "name": "stdout",
     "output_type": "stream",
     "text": [
      " \"2021-09-06\""
     ]
    },
    {
     "name": "stdout",
     "output_type": "stream",
     "text": [
      " \"2021-09-06\""
     ]
    },
    {
     "name": "stdout",
     "output_type": "stream",
     "text": [
      " \"2021-09-06\""
     ]
    },
    {
     "name": "stdout",
     "output_type": "stream",
     "text": [
      " \"2021-09-06\""
     ]
    },
    {
     "name": "stdout",
     "output_type": "stream",
     "text": [
      "\n"
     ]
    },
    {
     "name": "stdout",
     "output_type": "stream",
     "text": [
      "[2356]"
     ]
    },
    {
     "name": "stdout",
     "output_type": "stream",
     "text": [
      " \"2021-09-06\""
     ]
    },
    {
     "name": "stdout",
     "output_type": "stream",
     "text": [
      " \"2021-09-06\""
     ]
    },
    {
     "name": "stdout",
     "output_type": "stream",
     "text": [
      " \"2021-09-06\""
     ]
    },
    {
     "name": "stdout",
     "output_type": "stream",
     "text": [
      " \"2021-09-06\""
     ]
    },
    {
     "name": "stdout",
     "output_type": "stream",
     "text": [
      " \"2021-09-06\""
     ]
    },
    {
     "name": "stdout",
     "output_type": "stream",
     "text": [
      "\n"
     ]
    },
    {
     "name": "stdout",
     "output_type": "stream",
     "text": [
      "[2361]"
     ]
    },
    {
     "name": "stdout",
     "output_type": "stream",
     "text": [
      " \"2021-09-06\""
     ]
    },
    {
     "name": "stdout",
     "output_type": "stream",
     "text": [
      " \"2021-09-06\""
     ]
    },
    {
     "name": "stdout",
     "output_type": "stream",
     "text": [
      " \"2021-09-06\""
     ]
    },
    {
     "name": "stdout",
     "output_type": "stream",
     "text": [
      " \"2021-09-06\""
     ]
    },
    {
     "name": "stdout",
     "output_type": "stream",
     "text": [
      " \"2021-09-06\""
     ]
    },
    {
     "name": "stdout",
     "output_type": "stream",
     "text": [
      "\n"
     ]
    },
    {
     "name": "stdout",
     "output_type": "stream",
     "text": [
      "[2366]"
     ]
    },
    {
     "name": "stdout",
     "output_type": "stream",
     "text": [
      " \"2021-09-06\""
     ]
    },
    {
     "name": "stdout",
     "output_type": "stream",
     "text": [
      " \"2021-09-06\""
     ]
    },
    {
     "name": "stdout",
     "output_type": "stream",
     "text": [
      " \"2021-09-06\""
     ]
    },
    {
     "name": "stdout",
     "output_type": "stream",
     "text": [
      " \"2021-09-06\""
     ]
    },
    {
     "name": "stdout",
     "output_type": "stream",
     "text": [
      " \"2021-09-06\""
     ]
    },
    {
     "name": "stdout",
     "output_type": "stream",
     "text": [
      "\n"
     ]
    },
    {
     "name": "stdout",
     "output_type": "stream",
     "text": [
      "[2371]"
     ]
    },
    {
     "name": "stdout",
     "output_type": "stream",
     "text": [
      " \"2021-09-06\""
     ]
    },
    {
     "name": "stdout",
     "output_type": "stream",
     "text": [
      " \"2021-09-06\""
     ]
    },
    {
     "name": "stdout",
     "output_type": "stream",
     "text": [
      " \"2021-09-06\""
     ]
    },
    {
     "name": "stdout",
     "output_type": "stream",
     "text": [
      " \"2021-09-06\""
     ]
    },
    {
     "name": "stdout",
     "output_type": "stream",
     "text": [
      " \"2021-09-06\""
     ]
    },
    {
     "name": "stdout",
     "output_type": "stream",
     "text": [
      "\n"
     ]
    },
    {
     "name": "stdout",
     "output_type": "stream",
     "text": [
      "[2376]"
     ]
    },
    {
     "name": "stdout",
     "output_type": "stream",
     "text": [
      " \"2021-09-06\""
     ]
    },
    {
     "name": "stdout",
     "output_type": "stream",
     "text": [
      " \"2021-09-06\""
     ]
    },
    {
     "name": "stdout",
     "output_type": "stream",
     "text": [
      " \"2021-09-06\""
     ]
    },
    {
     "name": "stdout",
     "output_type": "stream",
     "text": [
      " \"2021-09-06\""
     ]
    },
    {
     "name": "stdout",
     "output_type": "stream",
     "text": [
      " \"2021-09-06\""
     ]
    },
    {
     "name": "stdout",
     "output_type": "stream",
     "text": [
      "\n"
     ]
    },
    {
     "name": "stdout",
     "output_type": "stream",
     "text": [
      "[2381]"
     ]
    },
    {
     "name": "stdout",
     "output_type": "stream",
     "text": [
      " \"2021-09-06\""
     ]
    },
    {
     "name": "stdout",
     "output_type": "stream",
     "text": [
      " \"2021-09-06\""
     ]
    },
    {
     "name": "stdout",
     "output_type": "stream",
     "text": [
      " \"2021-09-06\""
     ]
    },
    {
     "name": "stdout",
     "output_type": "stream",
     "text": [
      " \"2021-09-06\""
     ]
    },
    {
     "name": "stdout",
     "output_type": "stream",
     "text": [
      " \"2021-09-06\""
     ]
    },
    {
     "name": "stdout",
     "output_type": "stream",
     "text": [
      "\n"
     ]
    },
    {
     "name": "stdout",
     "output_type": "stream",
     "text": [
      "[2386]"
     ]
    },
    {
     "name": "stdout",
     "output_type": "stream",
     "text": [
      " \"2021-09-06\""
     ]
    },
    {
     "name": "stdout",
     "output_type": "stream",
     "text": [
      " \"2021-09-06\""
     ]
    },
    {
     "name": "stdout",
     "output_type": "stream",
     "text": [
      " \"2021-09-06\""
     ]
    },
    {
     "name": "stdout",
     "output_type": "stream",
     "text": [
      " \"2021-09-06\""
     ]
    },
    {
     "name": "stdout",
     "output_type": "stream",
     "text": [
      " \"2021-09-06\""
     ]
    },
    {
     "name": "stdout",
     "output_type": "stream",
     "text": [
      "\n"
     ]
    },
    {
     "name": "stdout",
     "output_type": "stream",
     "text": [
      "[2391]"
     ]
    },
    {
     "name": "stdout",
     "output_type": "stream",
     "text": [
      " \"2021-09-06\""
     ]
    },
    {
     "name": "stdout",
     "output_type": "stream",
     "text": [
      " \"2021-09-06\""
     ]
    },
    {
     "name": "stdout",
     "output_type": "stream",
     "text": [
      " \"2021-09-06\""
     ]
    },
    {
     "name": "stdout",
     "output_type": "stream",
     "text": [
      " \"2021-09-06\""
     ]
    },
    {
     "name": "stdout",
     "output_type": "stream",
     "text": [
      " \"2021-09-06\""
     ]
    },
    {
     "name": "stdout",
     "output_type": "stream",
     "text": [
      "\n"
     ]
    },
    {
     "name": "stdout",
     "output_type": "stream",
     "text": [
      "[2396]"
     ]
    },
    {
     "name": "stdout",
     "output_type": "stream",
     "text": [
      " \"2021-09-06\""
     ]
    },
    {
     "name": "stdout",
     "output_type": "stream",
     "text": [
      " \"2021-09-06\""
     ]
    },
    {
     "name": "stdout",
     "output_type": "stream",
     "text": [
      " \"2021-09-06\""
     ]
    },
    {
     "name": "stdout",
     "output_type": "stream",
     "text": [
      " \"2021-09-06\""
     ]
    },
    {
     "name": "stdout",
     "output_type": "stream",
     "text": [
      " \"2021-09-06\""
     ]
    },
    {
     "name": "stdout",
     "output_type": "stream",
     "text": [
      "\n"
     ]
    },
    {
     "name": "stdout",
     "output_type": "stream",
     "text": [
      "[2401]"
     ]
    },
    {
     "name": "stdout",
     "output_type": "stream",
     "text": [
      " \"2021-09-06\""
     ]
    },
    {
     "name": "stdout",
     "output_type": "stream",
     "text": [
      " \"2021-09-06\""
     ]
    },
    {
     "name": "stdout",
     "output_type": "stream",
     "text": [
      " \"2021-09-06\""
     ]
    },
    {
     "name": "stdout",
     "output_type": "stream",
     "text": [
      " \"2021-09-06\""
     ]
    },
    {
     "name": "stdout",
     "output_type": "stream",
     "text": [
      " \"2021-09-06\""
     ]
    },
    {
     "name": "stdout",
     "output_type": "stream",
     "text": [
      "\n"
     ]
    },
    {
     "name": "stdout",
     "output_type": "stream",
     "text": [
      "[2406]"
     ]
    },
    {
     "name": "stdout",
     "output_type": "stream",
     "text": [
      " \"2021-09-06\""
     ]
    },
    {
     "name": "stdout",
     "output_type": "stream",
     "text": [
      " \"2021-09-06\""
     ]
    },
    {
     "name": "stdout",
     "output_type": "stream",
     "text": [
      " \"2021-09-06\""
     ]
    },
    {
     "name": "stdout",
     "output_type": "stream",
     "text": [
      " \"2021-09-06\""
     ]
    },
    {
     "name": "stdout",
     "output_type": "stream",
     "text": [
      " \"2021-09-06\""
     ]
    },
    {
     "name": "stdout",
     "output_type": "stream",
     "text": [
      "\n"
     ]
    },
    {
     "name": "stdout",
     "output_type": "stream",
     "text": [
      "[2411]"
     ]
    },
    {
     "name": "stdout",
     "output_type": "stream",
     "text": [
      " \"2021-09-06\""
     ]
    },
    {
     "name": "stdout",
     "output_type": "stream",
     "text": [
      " \"2021-09-06\""
     ]
    },
    {
     "name": "stdout",
     "output_type": "stream",
     "text": [
      " \"2021-09-06\""
     ]
    },
    {
     "name": "stdout",
     "output_type": "stream",
     "text": [
      " \"2021-09-06\""
     ]
    },
    {
     "name": "stdout",
     "output_type": "stream",
     "text": [
      " \"2021-09-06\""
     ]
    },
    {
     "name": "stdout",
     "output_type": "stream",
     "text": [
      "\n"
     ]
    },
    {
     "name": "stdout",
     "output_type": "stream",
     "text": [
      "[2416]"
     ]
    },
    {
     "name": "stdout",
     "output_type": "stream",
     "text": [
      " \"2021-09-13\""
     ]
    },
    {
     "name": "stdout",
     "output_type": "stream",
     "text": [
      " \"2021-09-13\""
     ]
    },
    {
     "name": "stdout",
     "output_type": "stream",
     "text": [
      " \"2021-09-13\""
     ]
    },
    {
     "name": "stdout",
     "output_type": "stream",
     "text": [
      " \"2021-09-13\""
     ]
    },
    {
     "name": "stdout",
     "output_type": "stream",
     "text": [
      " \"2021-09-13\""
     ]
    },
    {
     "name": "stdout",
     "output_type": "stream",
     "text": [
      "\n"
     ]
    },
    {
     "name": "stdout",
     "output_type": "stream",
     "text": [
      "[2421]"
     ]
    },
    {
     "name": "stdout",
     "output_type": "stream",
     "text": [
      " \"2021-09-13\""
     ]
    },
    {
     "name": "stdout",
     "output_type": "stream",
     "text": [
      " \"2021-09-13\""
     ]
    },
    {
     "name": "stdout",
     "output_type": "stream",
     "text": [
      " \"2021-09-13\""
     ]
    },
    {
     "name": "stdout",
     "output_type": "stream",
     "text": [
      " \"2021-09-13\""
     ]
    },
    {
     "name": "stdout",
     "output_type": "stream",
     "text": [
      " \"2021-09-13\""
     ]
    },
    {
     "name": "stdout",
     "output_type": "stream",
     "text": [
      "\n"
     ]
    },
    {
     "name": "stdout",
     "output_type": "stream",
     "text": [
      "[2426]"
     ]
    },
    {
     "name": "stdout",
     "output_type": "stream",
     "text": [
      " \"2021-09-13\""
     ]
    },
    {
     "name": "stdout",
     "output_type": "stream",
     "text": [
      " \"2021-09-13\""
     ]
    },
    {
     "name": "stdout",
     "output_type": "stream",
     "text": [
      " \"2021-09-13\""
     ]
    },
    {
     "name": "stdout",
     "output_type": "stream",
     "text": [
      " \"2021-09-13\""
     ]
    },
    {
     "name": "stdout",
     "output_type": "stream",
     "text": [
      " \"2021-09-13\""
     ]
    },
    {
     "name": "stdout",
     "output_type": "stream",
     "text": [
      "\n"
     ]
    },
    {
     "name": "stdout",
     "output_type": "stream",
     "text": [
      "[2431]"
     ]
    },
    {
     "name": "stdout",
     "output_type": "stream",
     "text": [
      " \"2021-09-13\""
     ]
    },
    {
     "name": "stdout",
     "output_type": "stream",
     "text": [
      " \"2021-09-13\""
     ]
    },
    {
     "name": "stdout",
     "output_type": "stream",
     "text": [
      " \"2021-09-13\""
     ]
    },
    {
     "name": "stdout",
     "output_type": "stream",
     "text": [
      " \"2021-09-13\""
     ]
    },
    {
     "name": "stdout",
     "output_type": "stream",
     "text": [
      " \"2021-09-13\""
     ]
    },
    {
     "name": "stdout",
     "output_type": "stream",
     "text": [
      "\n"
     ]
    },
    {
     "name": "stdout",
     "output_type": "stream",
     "text": [
      "[2436]"
     ]
    },
    {
     "name": "stdout",
     "output_type": "stream",
     "text": [
      " \"2021-09-13\""
     ]
    },
    {
     "name": "stdout",
     "output_type": "stream",
     "text": [
      " \"2021-09-13\""
     ]
    },
    {
     "name": "stdout",
     "output_type": "stream",
     "text": [
      " \"2021-09-13\""
     ]
    },
    {
     "name": "stdout",
     "output_type": "stream",
     "text": [
      " \"2021-09-13\""
     ]
    },
    {
     "name": "stdout",
     "output_type": "stream",
     "text": [
      " \"2021-09-13\""
     ]
    },
    {
     "name": "stdout",
     "output_type": "stream",
     "text": [
      "\n"
     ]
    },
    {
     "name": "stdout",
     "output_type": "stream",
     "text": [
      "[2441]"
     ]
    },
    {
     "name": "stdout",
     "output_type": "stream",
     "text": [
      " \"2021-09-13\""
     ]
    },
    {
     "name": "stdout",
     "output_type": "stream",
     "text": [
      " \"2021-09-13\""
     ]
    },
    {
     "name": "stdout",
     "output_type": "stream",
     "text": [
      " \"2021-09-13\""
     ]
    },
    {
     "name": "stdout",
     "output_type": "stream",
     "text": [
      " \"2021-09-13\""
     ]
    },
    {
     "name": "stdout",
     "output_type": "stream",
     "text": [
      " \"2021-09-13\""
     ]
    },
    {
     "name": "stdout",
     "output_type": "stream",
     "text": [
      "\n"
     ]
    },
    {
     "name": "stdout",
     "output_type": "stream",
     "text": [
      "[2446]"
     ]
    },
    {
     "name": "stdout",
     "output_type": "stream",
     "text": [
      " \"2021-09-13\""
     ]
    },
    {
     "name": "stdout",
     "output_type": "stream",
     "text": [
      " \"2021-09-13\""
     ]
    },
    {
     "name": "stdout",
     "output_type": "stream",
     "text": [
      " \"2021-09-13\""
     ]
    },
    {
     "name": "stdout",
     "output_type": "stream",
     "text": [
      " \"2021-09-13\""
     ]
    },
    {
     "name": "stdout",
     "output_type": "stream",
     "text": [
      " \"2021-09-13\""
     ]
    },
    {
     "name": "stdout",
     "output_type": "stream",
     "text": [
      "\n"
     ]
    },
    {
     "name": "stdout",
     "output_type": "stream",
     "text": [
      "[2451]"
     ]
    },
    {
     "name": "stdout",
     "output_type": "stream",
     "text": [
      " \"2021-09-13\""
     ]
    },
    {
     "name": "stdout",
     "output_type": "stream",
     "text": [
      " \"2021-09-13\""
     ]
    },
    {
     "name": "stdout",
     "output_type": "stream",
     "text": [
      " \"2021-09-13\""
     ]
    },
    {
     "name": "stdout",
     "output_type": "stream",
     "text": [
      " \"2021-09-13\""
     ]
    },
    {
     "name": "stdout",
     "output_type": "stream",
     "text": [
      " \"2021-09-13\""
     ]
    },
    {
     "name": "stdout",
     "output_type": "stream",
     "text": [
      "\n"
     ]
    },
    {
     "name": "stdout",
     "output_type": "stream",
     "text": [
      "[2456]"
     ]
    },
    {
     "name": "stdout",
     "output_type": "stream",
     "text": [
      " \"2021-09-13\""
     ]
    },
    {
     "name": "stdout",
     "output_type": "stream",
     "text": [
      " \"2021-09-13\""
     ]
    },
    {
     "name": "stdout",
     "output_type": "stream",
     "text": [
      " \"2021-09-13\""
     ]
    },
    {
     "name": "stdout",
     "output_type": "stream",
     "text": [
      " \"2021-09-13\""
     ]
    },
    {
     "name": "stdout",
     "output_type": "stream",
     "text": [
      " \"2021-09-13\""
     ]
    },
    {
     "name": "stdout",
     "output_type": "stream",
     "text": [
      "\n"
     ]
    },
    {
     "name": "stdout",
     "output_type": "stream",
     "text": [
      "[2461]"
     ]
    },
    {
     "name": "stdout",
     "output_type": "stream",
     "text": [
      " \"2021-09-13\""
     ]
    },
    {
     "name": "stdout",
     "output_type": "stream",
     "text": [
      " \"2021-09-13\""
     ]
    },
    {
     "name": "stdout",
     "output_type": "stream",
     "text": [
      " \"2021-09-13\""
     ]
    },
    {
     "name": "stdout",
     "output_type": "stream",
     "text": [
      " \"2021-09-13\""
     ]
    },
    {
     "name": "stdout",
     "output_type": "stream",
     "text": [
      " \"2021-09-13\""
     ]
    },
    {
     "name": "stdout",
     "output_type": "stream",
     "text": [
      "\n"
     ]
    },
    {
     "name": "stdout",
     "output_type": "stream",
     "text": [
      "[2466]"
     ]
    },
    {
     "name": "stdout",
     "output_type": "stream",
     "text": [
      " \"2021-09-13\""
     ]
    },
    {
     "name": "stdout",
     "output_type": "stream",
     "text": [
      " \"2021-09-13\""
     ]
    },
    {
     "name": "stdout",
     "output_type": "stream",
     "text": [
      " \"2021-09-13\""
     ]
    },
    {
     "name": "stdout",
     "output_type": "stream",
     "text": [
      " \"2021-09-13\""
     ]
    },
    {
     "name": "stdout",
     "output_type": "stream",
     "text": [
      " \"2021-09-13\""
     ]
    },
    {
     "name": "stdout",
     "output_type": "stream",
     "text": [
      "\n"
     ]
    },
    {
     "name": "stdout",
     "output_type": "stream",
     "text": [
      "[2471]"
     ]
    },
    {
     "name": "stdout",
     "output_type": "stream",
     "text": [
      " \"2021-09-13\""
     ]
    },
    {
     "name": "stdout",
     "output_type": "stream",
     "text": [
      " \"2021-09-13\""
     ]
    },
    {
     "name": "stdout",
     "output_type": "stream",
     "text": [
      " \"2021-09-13\""
     ]
    },
    {
     "name": "stdout",
     "output_type": "stream",
     "text": [
      " \"2021-09-13\""
     ]
    },
    {
     "name": "stdout",
     "output_type": "stream",
     "text": [
      " \"2021-09-13\""
     ]
    },
    {
     "name": "stdout",
     "output_type": "stream",
     "text": [
      "\n"
     ]
    },
    {
     "name": "stdout",
     "output_type": "stream",
     "text": [
      "[2476]"
     ]
    },
    {
     "name": "stdout",
     "output_type": "stream",
     "text": [
      " \"2021-09-13\""
     ]
    },
    {
     "name": "stdout",
     "output_type": "stream",
     "text": [
      " \"2021-09-13\""
     ]
    },
    {
     "name": "stdout",
     "output_type": "stream",
     "text": [
      " \"2021-09-13\""
     ]
    },
    {
     "name": "stdout",
     "output_type": "stream",
     "text": [
      " \"2021-09-13\""
     ]
    },
    {
     "name": "stdout",
     "output_type": "stream",
     "text": [
      " \"2021-09-13\""
     ]
    },
    {
     "name": "stdout",
     "output_type": "stream",
     "text": [
      "\n"
     ]
    },
    {
     "name": "stdout",
     "output_type": "stream",
     "text": [
      "[2481]"
     ]
    },
    {
     "name": "stdout",
     "output_type": "stream",
     "text": [
      " \"2021-09-13\""
     ]
    },
    {
     "name": "stdout",
     "output_type": "stream",
     "text": [
      " \"2021-09-13\""
     ]
    },
    {
     "name": "stdout",
     "output_type": "stream",
     "text": [
      " \"2021-09-13\""
     ]
    },
    {
     "name": "stdout",
     "output_type": "stream",
     "text": [
      " \"2021-09-13\""
     ]
    },
    {
     "name": "stdout",
     "output_type": "stream",
     "text": [
      " \"2021-09-20\""
     ]
    },
    {
     "name": "stdout",
     "output_type": "stream",
     "text": [
      "\n"
     ]
    },
    {
     "name": "stdout",
     "output_type": "stream",
     "text": [
      "[2486]"
     ]
    },
    {
     "name": "stdout",
     "output_type": "stream",
     "text": [
      " \"2021-09-20\""
     ]
    },
    {
     "name": "stdout",
     "output_type": "stream",
     "text": [
      " \"2021-09-20\""
     ]
    },
    {
     "name": "stdout",
     "output_type": "stream",
     "text": [
      " \"2021-09-20\""
     ]
    },
    {
     "name": "stdout",
     "output_type": "stream",
     "text": [
      " \"2021-09-20\""
     ]
    },
    {
     "name": "stdout",
     "output_type": "stream",
     "text": [
      " \"2021-09-20\""
     ]
    },
    {
     "name": "stdout",
     "output_type": "stream",
     "text": [
      "\n"
     ]
    },
    {
     "name": "stdout",
     "output_type": "stream",
     "text": [
      "[2491]"
     ]
    },
    {
     "name": "stdout",
     "output_type": "stream",
     "text": [
      " \"2021-09-20\""
     ]
    },
    {
     "name": "stdout",
     "output_type": "stream",
     "text": [
      " \"2021-09-20\""
     ]
    },
    {
     "name": "stdout",
     "output_type": "stream",
     "text": [
      " \"2021-09-20\""
     ]
    },
    {
     "name": "stdout",
     "output_type": "stream",
     "text": [
      " \"2021-09-20\""
     ]
    },
    {
     "name": "stdout",
     "output_type": "stream",
     "text": [
      " \"2021-09-20\""
     ]
    },
    {
     "name": "stdout",
     "output_type": "stream",
     "text": [
      "\n"
     ]
    },
    {
     "name": "stdout",
     "output_type": "stream",
     "text": [
      "[2496]"
     ]
    },
    {
     "name": "stdout",
     "output_type": "stream",
     "text": [
      " \"2021-09-20\""
     ]
    },
    {
     "name": "stdout",
     "output_type": "stream",
     "text": [
      " \"2021-09-20\""
     ]
    },
    {
     "name": "stdout",
     "output_type": "stream",
     "text": [
      " \"2021-09-20\""
     ]
    },
    {
     "name": "stdout",
     "output_type": "stream",
     "text": [
      " \"2021-09-20\""
     ]
    },
    {
     "name": "stdout",
     "output_type": "stream",
     "text": [
      " \"2021-09-20\""
     ]
    },
    {
     "name": "stdout",
     "output_type": "stream",
     "text": [
      "\n"
     ]
    },
    {
     "name": "stdout",
     "output_type": "stream",
     "text": [
      "[2501]"
     ]
    },
    {
     "name": "stdout",
     "output_type": "stream",
     "text": [
      " \"2021-09-20\""
     ]
    },
    {
     "name": "stdout",
     "output_type": "stream",
     "text": [
      " \"2021-09-20\""
     ]
    },
    {
     "name": "stdout",
     "output_type": "stream",
     "text": [
      " \"2021-09-20\""
     ]
    },
    {
     "name": "stdout",
     "output_type": "stream",
     "text": [
      " \"2021-09-20\""
     ]
    },
    {
     "name": "stdout",
     "output_type": "stream",
     "text": [
      " \"2021-09-20\""
     ]
    },
    {
     "name": "stdout",
     "output_type": "stream",
     "text": [
      "\n"
     ]
    },
    {
     "name": "stdout",
     "output_type": "stream",
     "text": [
      "[2506]"
     ]
    },
    {
     "name": "stdout",
     "output_type": "stream",
     "text": [
      " \"2021-09-20\""
     ]
    },
    {
     "name": "stdout",
     "output_type": "stream",
     "text": [
      " \"2021-09-20\""
     ]
    },
    {
     "name": "stdout",
     "output_type": "stream",
     "text": [
      " \"2021-09-20\""
     ]
    },
    {
     "name": "stdout",
     "output_type": "stream",
     "text": [
      " \"2021-09-20\""
     ]
    },
    {
     "name": "stdout",
     "output_type": "stream",
     "text": [
      " \"2021-09-20\""
     ]
    },
    {
     "name": "stdout",
     "output_type": "stream",
     "text": [
      "\n"
     ]
    },
    {
     "name": "stdout",
     "output_type": "stream",
     "text": [
      "[2511]"
     ]
    },
    {
     "name": "stdout",
     "output_type": "stream",
     "text": [
      " \"2021-09-20\""
     ]
    },
    {
     "name": "stdout",
     "output_type": "stream",
     "text": [
      " \"2021-09-20\""
     ]
    },
    {
     "name": "stdout",
     "output_type": "stream",
     "text": [
      " \"2021-09-20\""
     ]
    },
    {
     "name": "stdout",
     "output_type": "stream",
     "text": [
      " \"2021-09-20\""
     ]
    },
    {
     "name": "stdout",
     "output_type": "stream",
     "text": [
      " \"2021-09-20\""
     ]
    },
    {
     "name": "stdout",
     "output_type": "stream",
     "text": [
      "\n"
     ]
    },
    {
     "name": "stdout",
     "output_type": "stream",
     "text": [
      "[2516]"
     ]
    },
    {
     "name": "stdout",
     "output_type": "stream",
     "text": [
      " \"2021-09-20\""
     ]
    },
    {
     "name": "stdout",
     "output_type": "stream",
     "text": [
      " \"2021-09-20\""
     ]
    },
    {
     "name": "stdout",
     "output_type": "stream",
     "text": [
      " \"2021-09-20\""
     ]
    },
    {
     "name": "stdout",
     "output_type": "stream",
     "text": [
      " \"2021-09-20\""
     ]
    },
    {
     "name": "stdout",
     "output_type": "stream",
     "text": [
      " \"2021-09-20\""
     ]
    },
    {
     "name": "stdout",
     "output_type": "stream",
     "text": [
      "\n"
     ]
    },
    {
     "name": "stdout",
     "output_type": "stream",
     "text": [
      "[2521]"
     ]
    },
    {
     "name": "stdout",
     "output_type": "stream",
     "text": [
      " \"2021-09-20\""
     ]
    },
    {
     "name": "stdout",
     "output_type": "stream",
     "text": [
      " \"2021-09-20\""
     ]
    },
    {
     "name": "stdout",
     "output_type": "stream",
     "text": [
      " \"2021-09-20\""
     ]
    },
    {
     "name": "stdout",
     "output_type": "stream",
     "text": [
      " \"2021-09-20\""
     ]
    },
    {
     "name": "stdout",
     "output_type": "stream",
     "text": [
      " \"2021-09-20\""
     ]
    },
    {
     "name": "stdout",
     "output_type": "stream",
     "text": [
      "\n"
     ]
    },
    {
     "name": "stdout",
     "output_type": "stream",
     "text": [
      "[2526]"
     ]
    },
    {
     "name": "stdout",
     "output_type": "stream",
     "text": [
      " \"2021-09-20\""
     ]
    },
    {
     "name": "stdout",
     "output_type": "stream",
     "text": [
      " \"2021-09-20\""
     ]
    },
    {
     "name": "stdout",
     "output_type": "stream",
     "text": [
      " \"2021-09-20\""
     ]
    },
    {
     "name": "stdout",
     "output_type": "stream",
     "text": [
      " \"2021-09-20\""
     ]
    },
    {
     "name": "stdout",
     "output_type": "stream",
     "text": [
      " \"2021-09-20\""
     ]
    },
    {
     "name": "stdout",
     "output_type": "stream",
     "text": [
      "\n"
     ]
    },
    {
     "name": "stdout",
     "output_type": "stream",
     "text": [
      "[2531]"
     ]
    },
    {
     "name": "stdout",
     "output_type": "stream",
     "text": [
      " \"2021-09-20\""
     ]
    },
    {
     "name": "stdout",
     "output_type": "stream",
     "text": [
      " \"2021-09-20\""
     ]
    },
    {
     "name": "stdout",
     "output_type": "stream",
     "text": [
      " \"2021-09-20\""
     ]
    },
    {
     "name": "stdout",
     "output_type": "stream",
     "text": [
      " \"2021-09-20\""
     ]
    },
    {
     "name": "stdout",
     "output_type": "stream",
     "text": [
      " \"2021-09-20\""
     ]
    },
    {
     "name": "stdout",
     "output_type": "stream",
     "text": [
      "\n"
     ]
    },
    {
     "name": "stdout",
     "output_type": "stream",
     "text": [
      "[2536]"
     ]
    },
    {
     "name": "stdout",
     "output_type": "stream",
     "text": [
      " \"2021-09-20\""
     ]
    },
    {
     "name": "stdout",
     "output_type": "stream",
     "text": [
      " \"2021-09-20\""
     ]
    },
    {
     "name": "stdout",
     "output_type": "stream",
     "text": [
      " \"2021-09-20\""
     ]
    },
    {
     "name": "stdout",
     "output_type": "stream",
     "text": [
      " \"2021-09-20\""
     ]
    },
    {
     "name": "stdout",
     "output_type": "stream",
     "text": [
      " \"2021-09-20\""
     ]
    },
    {
     "name": "stdout",
     "output_type": "stream",
     "text": [
      "\n"
     ]
    },
    {
     "name": "stdout",
     "output_type": "stream",
     "text": [
      "[2541]"
     ]
    },
    {
     "name": "stdout",
     "output_type": "stream",
     "text": [
      " \"2021-09-20\""
     ]
    },
    {
     "name": "stdout",
     "output_type": "stream",
     "text": [
      " \"2021-09-20\""
     ]
    },
    {
     "name": "stdout",
     "output_type": "stream",
     "text": [
      " \"2021-09-20\""
     ]
    },
    {
     "name": "stdout",
     "output_type": "stream",
     "text": [
      " \"2021-09-20\""
     ]
    },
    {
     "name": "stdout",
     "output_type": "stream",
     "text": [
      " \"2021-09-20\""
     ]
    },
    {
     "name": "stdout",
     "output_type": "stream",
     "text": [
      "\n"
     ]
    },
    {
     "name": "stdout",
     "output_type": "stream",
     "text": [
      "[2546]"
     ]
    },
    {
     "name": "stdout",
     "output_type": "stream",
     "text": [
      " \"2021-09-20\""
     ]
    },
    {
     "name": "stdout",
     "output_type": "stream",
     "text": [
      " \"2021-09-20\""
     ]
    },
    {
     "name": "stdout",
     "output_type": "stream",
     "text": [
      " \"2021-09-20\""
     ]
    },
    {
     "name": "stdout",
     "output_type": "stream",
     "text": [
      " \"2021-09-20\""
     ]
    },
    {
     "name": "stdout",
     "output_type": "stream",
     "text": [
      " \"2021-09-20\""
     ]
    },
    {
     "name": "stdout",
     "output_type": "stream",
     "text": [
      "\n"
     ]
    },
    {
     "name": "stdout",
     "output_type": "stream",
     "text": [
      "[2551]"
     ]
    },
    {
     "name": "stdout",
     "output_type": "stream",
     "text": [
      " \"2021-09-20\""
     ]
    },
    {
     "name": "stdout",
     "output_type": "stream",
     "text": [
      " \"2021-09-20\""
     ]
    },
    {
     "name": "stdout",
     "output_type": "stream",
     "text": [
      " \"2021-09-20\""
     ]
    },
    {
     "name": "stdout",
     "output_type": "stream",
     "text": [
      " \"2021-09-27\""
     ]
    },
    {
     "name": "stdout",
     "output_type": "stream",
     "text": [
      " \"2021-09-27\""
     ]
    },
    {
     "name": "stdout",
     "output_type": "stream",
     "text": [
      "\n"
     ]
    },
    {
     "name": "stdout",
     "output_type": "stream",
     "text": [
      "[2556]"
     ]
    },
    {
     "name": "stdout",
     "output_type": "stream",
     "text": [
      " \"2021-09-27\""
     ]
    },
    {
     "name": "stdout",
     "output_type": "stream",
     "text": [
      " \"2021-09-27\""
     ]
    },
    {
     "name": "stdout",
     "output_type": "stream",
     "text": [
      " \"2021-09-27\""
     ]
    },
    {
     "name": "stdout",
     "output_type": "stream",
     "text": [
      " \"2021-09-27\""
     ]
    },
    {
     "name": "stdout",
     "output_type": "stream",
     "text": [
      " \"2021-09-27\""
     ]
    },
    {
     "name": "stdout",
     "output_type": "stream",
     "text": [
      "\n"
     ]
    },
    {
     "name": "stdout",
     "output_type": "stream",
     "text": [
      "[2561]"
     ]
    },
    {
     "name": "stdout",
     "output_type": "stream",
     "text": [
      " \"2021-09-27\""
     ]
    },
    {
     "name": "stdout",
     "output_type": "stream",
     "text": [
      " \"2021-09-27\""
     ]
    },
    {
     "name": "stdout",
     "output_type": "stream",
     "text": [
      " \"2021-09-27\""
     ]
    },
    {
     "name": "stdout",
     "output_type": "stream",
     "text": [
      " \"2021-09-27\""
     ]
    },
    {
     "name": "stdout",
     "output_type": "stream",
     "text": [
      " \"2021-09-27\""
     ]
    },
    {
     "name": "stdout",
     "output_type": "stream",
     "text": [
      "\n"
     ]
    },
    {
     "name": "stdout",
     "output_type": "stream",
     "text": [
      "[2566]"
     ]
    },
    {
     "name": "stdout",
     "output_type": "stream",
     "text": [
      " \"2021-09-27\""
     ]
    },
    {
     "name": "stdout",
     "output_type": "stream",
     "text": [
      " \"2021-09-27\""
     ]
    },
    {
     "name": "stdout",
     "output_type": "stream",
     "text": [
      " \"2021-09-27\""
     ]
    },
    {
     "name": "stdout",
     "output_type": "stream",
     "text": [
      " \"2021-09-27\""
     ]
    },
    {
     "name": "stdout",
     "output_type": "stream",
     "text": [
      " \"2021-09-27\""
     ]
    },
    {
     "name": "stdout",
     "output_type": "stream",
     "text": [
      "\n"
     ]
    },
    {
     "name": "stdout",
     "output_type": "stream",
     "text": [
      "[2571]"
     ]
    },
    {
     "name": "stdout",
     "output_type": "stream",
     "text": [
      " \"2021-09-27\""
     ]
    },
    {
     "name": "stdout",
     "output_type": "stream",
     "text": [
      " \"2021-09-27\""
     ]
    },
    {
     "name": "stdout",
     "output_type": "stream",
     "text": [
      " \"2021-09-27\""
     ]
    },
    {
     "name": "stdout",
     "output_type": "stream",
     "text": [
      " \"2021-09-27\""
     ]
    },
    {
     "name": "stdout",
     "output_type": "stream",
     "text": [
      " \"2021-09-27\""
     ]
    },
    {
     "name": "stdout",
     "output_type": "stream",
     "text": [
      "\n"
     ]
    },
    {
     "name": "stdout",
     "output_type": "stream",
     "text": [
      "[2576]"
     ]
    },
    {
     "name": "stdout",
     "output_type": "stream",
     "text": [
      " \"2021-09-27\""
     ]
    },
    {
     "name": "stdout",
     "output_type": "stream",
     "text": [
      " \"2021-09-27\""
     ]
    },
    {
     "name": "stdout",
     "output_type": "stream",
     "text": [
      " \"2021-09-27\""
     ]
    },
    {
     "name": "stdout",
     "output_type": "stream",
     "text": [
      " \"2021-09-27\""
     ]
    },
    {
     "name": "stdout",
     "output_type": "stream",
     "text": [
      " \"2021-09-27\""
     ]
    },
    {
     "name": "stdout",
     "output_type": "stream",
     "text": [
      "\n"
     ]
    },
    {
     "name": "stdout",
     "output_type": "stream",
     "text": [
      "[2581]"
     ]
    },
    {
     "name": "stdout",
     "output_type": "stream",
     "text": [
      " \"2021-09-27\""
     ]
    },
    {
     "name": "stdout",
     "output_type": "stream",
     "text": [
      " \"2021-09-27\""
     ]
    },
    {
     "name": "stdout",
     "output_type": "stream",
     "text": [
      " \"2021-09-27\""
     ]
    },
    {
     "name": "stdout",
     "output_type": "stream",
     "text": [
      " \"2021-09-27\""
     ]
    },
    {
     "name": "stdout",
     "output_type": "stream",
     "text": [
      " \"2021-09-27\""
     ]
    },
    {
     "name": "stdout",
     "output_type": "stream",
     "text": [
      "\n"
     ]
    },
    {
     "name": "stdout",
     "output_type": "stream",
     "text": [
      "[2586]"
     ]
    },
    {
     "name": "stdout",
     "output_type": "stream",
     "text": [
      " \"2021-09-27\""
     ]
    },
    {
     "name": "stdout",
     "output_type": "stream",
     "text": [
      " \"2021-09-27\""
     ]
    },
    {
     "name": "stdout",
     "output_type": "stream",
     "text": [
      " \"2021-09-27\""
     ]
    },
    {
     "name": "stdout",
     "output_type": "stream",
     "text": [
      " \"2021-09-27\""
     ]
    },
    {
     "name": "stdout",
     "output_type": "stream",
     "text": [
      " \"2021-09-27\""
     ]
    },
    {
     "name": "stdout",
     "output_type": "stream",
     "text": [
      "\n"
     ]
    },
    {
     "name": "stdout",
     "output_type": "stream",
     "text": [
      "[2591]"
     ]
    },
    {
     "name": "stdout",
     "output_type": "stream",
     "text": [
      " \"2021-09-27\""
     ]
    },
    {
     "name": "stdout",
     "output_type": "stream",
     "text": [
      " \"2021-09-27\""
     ]
    },
    {
     "name": "stdout",
     "output_type": "stream",
     "text": [
      " \"2021-09-27\""
     ]
    },
    {
     "name": "stdout",
     "output_type": "stream",
     "text": [
      " \"2021-09-27\""
     ]
    },
    {
     "name": "stdout",
     "output_type": "stream",
     "text": [
      " \"2021-09-27\""
     ]
    },
    {
     "name": "stdout",
     "output_type": "stream",
     "text": [
      "\n"
     ]
    },
    {
     "name": "stdout",
     "output_type": "stream",
     "text": [
      "[2596]"
     ]
    },
    {
     "name": "stdout",
     "output_type": "stream",
     "text": [
      " \"2021-09-27\""
     ]
    },
    {
     "name": "stdout",
     "output_type": "stream",
     "text": [
      " \"2021-09-27\""
     ]
    },
    {
     "name": "stdout",
     "output_type": "stream",
     "text": [
      " \"2021-09-27\""
     ]
    },
    {
     "name": "stdout",
     "output_type": "stream",
     "text": [
      " \"2021-09-27\""
     ]
    },
    {
     "name": "stdout",
     "output_type": "stream",
     "text": [
      " \"2021-09-27\""
     ]
    },
    {
     "name": "stdout",
     "output_type": "stream",
     "text": [
      "\n"
     ]
    },
    {
     "name": "stdout",
     "output_type": "stream",
     "text": [
      "[2601]"
     ]
    },
    {
     "name": "stdout",
     "output_type": "stream",
     "text": [
      " \"2021-09-27\""
     ]
    },
    {
     "name": "stdout",
     "output_type": "stream",
     "text": [
      " \"2021-09-27\""
     ]
    },
    {
     "name": "stdout",
     "output_type": "stream",
     "text": [
      " \"2021-09-27\""
     ]
    },
    {
     "name": "stdout",
     "output_type": "stream",
     "text": [
      " \"2021-09-27\""
     ]
    },
    {
     "name": "stdout",
     "output_type": "stream",
     "text": [
      " \"2021-09-27\""
     ]
    },
    {
     "name": "stdout",
     "output_type": "stream",
     "text": [
      "\n"
     ]
    },
    {
     "name": "stdout",
     "output_type": "stream",
     "text": [
      "[2606]"
     ]
    },
    {
     "name": "stdout",
     "output_type": "stream",
     "text": [
      " \"2021-09-27\""
     ]
    },
    {
     "name": "stdout",
     "output_type": "stream",
     "text": [
      " \"2021-09-27\""
     ]
    },
    {
     "name": "stdout",
     "output_type": "stream",
     "text": [
      " \"2021-09-27\""
     ]
    },
    {
     "name": "stdout",
     "output_type": "stream",
     "text": [
      " \"2021-09-27\""
     ]
    },
    {
     "name": "stdout",
     "output_type": "stream",
     "text": [
      " \"2021-09-27\""
     ]
    },
    {
     "name": "stdout",
     "output_type": "stream",
     "text": [
      "\n"
     ]
    },
    {
     "name": "stdout",
     "output_type": "stream",
     "text": [
      "[2611]"
     ]
    },
    {
     "name": "stdout",
     "output_type": "stream",
     "text": [
      " \"2021-09-27\""
     ]
    },
    {
     "name": "stdout",
     "output_type": "stream",
     "text": [
      " \"2021-09-27\""
     ]
    },
    {
     "name": "stdout",
     "output_type": "stream",
     "text": [
      " \"2021-09-27\""
     ]
    },
    {
     "name": "stdout",
     "output_type": "stream",
     "text": [
      " \"2021-09-27\""
     ]
    },
    {
     "name": "stdout",
     "output_type": "stream",
     "text": [
      " \"2021-09-27\""
     ]
    },
    {
     "name": "stdout",
     "output_type": "stream",
     "text": [
      "\n"
     ]
    },
    {
     "name": "stdout",
     "output_type": "stream",
     "text": [
      "[2616]"
     ]
    },
    {
     "name": "stdout",
     "output_type": "stream",
     "text": [
      " \"2021-09-27\""
     ]
    },
    {
     "name": "stdout",
     "output_type": "stream",
     "text": [
      " \"2021-09-27\""
     ]
    },
    {
     "name": "stdout",
     "output_type": "stream",
     "text": [
      " \"2021-09-27\""
     ]
    },
    {
     "name": "stdout",
     "output_type": "stream",
     "text": [
      " \"2021-09-27\""
     ]
    },
    {
     "name": "stdout",
     "output_type": "stream",
     "text": [
      " \"2021-09-27\""
     ]
    },
    {
     "name": "stdout",
     "output_type": "stream",
     "text": [
      "\n"
     ]
    },
    {
     "name": "stdout",
     "output_type": "stream",
     "text": [
      "[2621]"
     ]
    },
    {
     "name": "stdout",
     "output_type": "stream",
     "text": [
      " \"2021-09-27\""
     ]
    },
    {
     "name": "stdout",
     "output_type": "stream",
     "text": [
      " \"2021-09-27\""
     ]
    },
    {
     "name": "stdout",
     "output_type": "stream",
     "text": [
      " \"2021-10-04\""
     ]
    },
    {
     "name": "stdout",
     "output_type": "stream",
     "text": [
      " \"2021-10-04\""
     ]
    },
    {
     "name": "stdout",
     "output_type": "stream",
     "text": [
      " \"2021-10-04\""
     ]
    },
    {
     "name": "stdout",
     "output_type": "stream",
     "text": [
      "\n"
     ]
    },
    {
     "name": "stdout",
     "output_type": "stream",
     "text": [
      "[2626]"
     ]
    },
    {
     "name": "stdout",
     "output_type": "stream",
     "text": [
      " \"2021-10-04\""
     ]
    },
    {
     "name": "stdout",
     "output_type": "stream",
     "text": [
      " \"2021-10-04\""
     ]
    },
    {
     "name": "stdout",
     "output_type": "stream",
     "text": [
      " \"2021-10-04\""
     ]
    },
    {
     "name": "stdout",
     "output_type": "stream",
     "text": [
      " \"2021-10-04\""
     ]
    },
    {
     "name": "stdout",
     "output_type": "stream",
     "text": [
      " \"2021-10-04\""
     ]
    },
    {
     "name": "stdout",
     "output_type": "stream",
     "text": [
      "\n"
     ]
    },
    {
     "name": "stdout",
     "output_type": "stream",
     "text": [
      "[2631]"
     ]
    },
    {
     "name": "stdout",
     "output_type": "stream",
     "text": [
      " \"2021-10-04\""
     ]
    },
    {
     "name": "stdout",
     "output_type": "stream",
     "text": [
      " \"2021-10-04\""
     ]
    },
    {
     "name": "stdout",
     "output_type": "stream",
     "text": [
      " \"2021-10-04\""
     ]
    },
    {
     "name": "stdout",
     "output_type": "stream",
     "text": [
      " \"2021-10-04\""
     ]
    },
    {
     "name": "stdout",
     "output_type": "stream",
     "text": [
      " \"2021-10-04\""
     ]
    },
    {
     "name": "stdout",
     "output_type": "stream",
     "text": [
      "\n"
     ]
    },
    {
     "name": "stdout",
     "output_type": "stream",
     "text": [
      "[2636]"
     ]
    },
    {
     "name": "stdout",
     "output_type": "stream",
     "text": [
      " \"2021-10-04\""
     ]
    },
    {
     "name": "stdout",
     "output_type": "stream",
     "text": [
      " \"2021-10-04\""
     ]
    },
    {
     "name": "stdout",
     "output_type": "stream",
     "text": [
      " \"2021-10-04\""
     ]
    },
    {
     "name": "stdout",
     "output_type": "stream",
     "text": [
      " \"2021-10-04\""
     ]
    },
    {
     "name": "stdout",
     "output_type": "stream",
     "text": [
      " \"2021-10-04\""
     ]
    },
    {
     "name": "stdout",
     "output_type": "stream",
     "text": [
      "\n"
     ]
    },
    {
     "name": "stdout",
     "output_type": "stream",
     "text": [
      "[2641]"
     ]
    },
    {
     "name": "stdout",
     "output_type": "stream",
     "text": [
      " \"2021-10-04\""
     ]
    },
    {
     "name": "stdout",
     "output_type": "stream",
     "text": [
      " \"2021-10-04\""
     ]
    },
    {
     "name": "stdout",
     "output_type": "stream",
     "text": [
      " \"2021-10-04\""
     ]
    },
    {
     "name": "stdout",
     "output_type": "stream",
     "text": [
      " \"2021-10-04\""
     ]
    },
    {
     "name": "stdout",
     "output_type": "stream",
     "text": [
      " \"2021-10-04\""
     ]
    },
    {
     "name": "stdout",
     "output_type": "stream",
     "text": [
      "\n"
     ]
    },
    {
     "name": "stdout",
     "output_type": "stream",
     "text": [
      "[2646]"
     ]
    },
    {
     "name": "stdout",
     "output_type": "stream",
     "text": [
      " \"2021-10-04\""
     ]
    },
    {
     "name": "stdout",
     "output_type": "stream",
     "text": [
      " \"2021-10-04\""
     ]
    },
    {
     "name": "stdout",
     "output_type": "stream",
     "text": [
      " \"2021-10-04\""
     ]
    },
    {
     "name": "stdout",
     "output_type": "stream",
     "text": [
      " \"2021-10-04\""
     ]
    },
    {
     "name": "stdout",
     "output_type": "stream",
     "text": [
      " \"2021-10-04\""
     ]
    },
    {
     "name": "stdout",
     "output_type": "stream",
     "text": [
      "\n"
     ]
    },
    {
     "name": "stdout",
     "output_type": "stream",
     "text": [
      "[2651]"
     ]
    },
    {
     "name": "stdout",
     "output_type": "stream",
     "text": [
      " \"2021-10-04\""
     ]
    },
    {
     "name": "stdout",
     "output_type": "stream",
     "text": [
      " \"2021-10-04\""
     ]
    },
    {
     "name": "stdout",
     "output_type": "stream",
     "text": [
      " \"2021-10-04\""
     ]
    },
    {
     "name": "stdout",
     "output_type": "stream",
     "text": [
      " \"2021-10-04\""
     ]
    },
    {
     "name": "stdout",
     "output_type": "stream",
     "text": [
      " \"2021-10-04\""
     ]
    },
    {
     "name": "stdout",
     "output_type": "stream",
     "text": [
      "\n"
     ]
    },
    {
     "name": "stdout",
     "output_type": "stream",
     "text": [
      "[2656]"
     ]
    },
    {
     "name": "stdout",
     "output_type": "stream",
     "text": [
      " \"2021-10-04\""
     ]
    },
    {
     "name": "stdout",
     "output_type": "stream",
     "text": [
      " \"2021-10-04\""
     ]
    },
    {
     "name": "stdout",
     "output_type": "stream",
     "text": [
      " \"2021-10-04\""
     ]
    },
    {
     "name": "stdout",
     "output_type": "stream",
     "text": [
      " \"2021-10-04\""
     ]
    },
    {
     "name": "stdout",
     "output_type": "stream",
     "text": [
      " \"2021-10-04\""
     ]
    },
    {
     "name": "stdout",
     "output_type": "stream",
     "text": [
      "\n"
     ]
    },
    {
     "name": "stdout",
     "output_type": "stream",
     "text": [
      "[2661]"
     ]
    },
    {
     "name": "stdout",
     "output_type": "stream",
     "text": [
      " \"2021-10-04\""
     ]
    },
    {
     "name": "stdout",
     "output_type": "stream",
     "text": [
      " \"2021-10-04\""
     ]
    },
    {
     "name": "stdout",
     "output_type": "stream",
     "text": [
      " \"2021-10-04\""
     ]
    },
    {
     "name": "stdout",
     "output_type": "stream",
     "text": [
      " \"2021-10-04\""
     ]
    },
    {
     "name": "stdout",
     "output_type": "stream",
     "text": [
      " \"2021-10-04\""
     ]
    },
    {
     "name": "stdout",
     "output_type": "stream",
     "text": [
      "\n"
     ]
    },
    {
     "name": "stdout",
     "output_type": "stream",
     "text": [
      "[2666]"
     ]
    },
    {
     "name": "stdout",
     "output_type": "stream",
     "text": [
      " \"2021-10-04\""
     ]
    },
    {
     "name": "stdout",
     "output_type": "stream",
     "text": [
      " \"2021-10-04\""
     ]
    },
    {
     "name": "stdout",
     "output_type": "stream",
     "text": [
      " \"2021-10-04\""
     ]
    },
    {
     "name": "stdout",
     "output_type": "stream",
     "text": [
      " \"2021-10-04\""
     ]
    },
    {
     "name": "stdout",
     "output_type": "stream",
     "text": [
      " \"2021-10-04\""
     ]
    },
    {
     "name": "stdout",
     "output_type": "stream",
     "text": [
      "\n"
     ]
    },
    {
     "name": "stdout",
     "output_type": "stream",
     "text": [
      "[2671]"
     ]
    },
    {
     "name": "stdout",
     "output_type": "stream",
     "text": [
      " \"2021-10-04\""
     ]
    },
    {
     "name": "stdout",
     "output_type": "stream",
     "text": [
      " \"2021-10-04\""
     ]
    },
    {
     "name": "stdout",
     "output_type": "stream",
     "text": [
      " \"2021-10-04\""
     ]
    },
    {
     "name": "stdout",
     "output_type": "stream",
     "text": [
      " \"2021-10-04\""
     ]
    },
    {
     "name": "stdout",
     "output_type": "stream",
     "text": [
      " \"2021-10-04\""
     ]
    },
    {
     "name": "stdout",
     "output_type": "stream",
     "text": [
      "\n"
     ]
    },
    {
     "name": "stdout",
     "output_type": "stream",
     "text": [
      "[2676]"
     ]
    },
    {
     "name": "stdout",
     "output_type": "stream",
     "text": [
      " \"2021-10-04\""
     ]
    },
    {
     "name": "stdout",
     "output_type": "stream",
     "text": [
      " \"2021-10-04\""
     ]
    },
    {
     "name": "stdout",
     "output_type": "stream",
     "text": [
      " \"2021-10-04\""
     ]
    },
    {
     "name": "stdout",
     "output_type": "stream",
     "text": [
      " \"2021-10-04\""
     ]
    },
    {
     "name": "stdout",
     "output_type": "stream",
     "text": [
      " \"2021-10-04\""
     ]
    },
    {
     "name": "stdout",
     "output_type": "stream",
     "text": [
      "\n"
     ]
    },
    {
     "name": "stdout",
     "output_type": "stream",
     "text": [
      "[2681]"
     ]
    },
    {
     "name": "stdout",
     "output_type": "stream",
     "text": [
      " \"2021-10-04\""
     ]
    },
    {
     "name": "stdout",
     "output_type": "stream",
     "text": [
      " \"2021-10-04\""
     ]
    },
    {
     "name": "stdout",
     "output_type": "stream",
     "text": [
      " \"2021-10-04\""
     ]
    },
    {
     "name": "stdout",
     "output_type": "stream",
     "text": [
      " \"2021-10-04\""
     ]
    },
    {
     "name": "stdout",
     "output_type": "stream",
     "text": [
      " \"2021-10-04\""
     ]
    },
    {
     "name": "stdout",
     "output_type": "stream",
     "text": [
      "\n"
     ]
    },
    {
     "name": "stdout",
     "output_type": "stream",
     "text": [
      "[2686]"
     ]
    },
    {
     "name": "stdout",
     "output_type": "stream",
     "text": [
      " \"2021-10-04\""
     ]
    },
    {
     "name": "stdout",
     "output_type": "stream",
     "text": [
      " \"2021-10-04\""
     ]
    },
    {
     "name": "stdout",
     "output_type": "stream",
     "text": [
      " \"2021-10-04\""
     ]
    },
    {
     "name": "stdout",
     "output_type": "stream",
     "text": [
      " \"2021-10-04\""
     ]
    },
    {
     "name": "stdout",
     "output_type": "stream",
     "text": [
      " \"2021-10-04\""
     ]
    },
    {
     "name": "stdout",
     "output_type": "stream",
     "text": [
      "\n"
     ]
    },
    {
     "name": "stdout",
     "output_type": "stream",
     "text": [
      "[2691]"
     ]
    },
    {
     "name": "stdout",
     "output_type": "stream",
     "text": [
      " \"2021-10-04\""
     ]
    },
    {
     "name": "stdout",
     "output_type": "stream",
     "text": [
      " \"2021-10-11\""
     ]
    },
    {
     "name": "stdout",
     "output_type": "stream",
     "text": [
      " \"2021-10-11\""
     ]
    },
    {
     "name": "stdout",
     "output_type": "stream",
     "text": [
      " \"2021-10-11\""
     ]
    },
    {
     "name": "stdout",
     "output_type": "stream",
     "text": [
      " \"2021-10-11\""
     ]
    },
    {
     "name": "stdout",
     "output_type": "stream",
     "text": [
      "\n"
     ]
    },
    {
     "name": "stdout",
     "output_type": "stream",
     "text": [
      "[2696]"
     ]
    },
    {
     "name": "stdout",
     "output_type": "stream",
     "text": [
      " \"2021-10-11\""
     ]
    },
    {
     "name": "stdout",
     "output_type": "stream",
     "text": [
      " \"2021-10-11\""
     ]
    },
    {
     "name": "stdout",
     "output_type": "stream",
     "text": [
      " \"2021-10-11\""
     ]
    },
    {
     "name": "stdout",
     "output_type": "stream",
     "text": [
      " \"2021-10-11\""
     ]
    },
    {
     "name": "stdout",
     "output_type": "stream",
     "text": [
      " \"2021-10-11\""
     ]
    },
    {
     "name": "stdout",
     "output_type": "stream",
     "text": [
      "\n"
     ]
    },
    {
     "name": "stdout",
     "output_type": "stream",
     "text": [
      "[2701]"
     ]
    },
    {
     "name": "stdout",
     "output_type": "stream",
     "text": [
      " \"2021-10-11\""
     ]
    },
    {
     "name": "stdout",
     "output_type": "stream",
     "text": [
      " \"2021-10-11\""
     ]
    },
    {
     "name": "stdout",
     "output_type": "stream",
     "text": [
      " \"2021-10-11\""
     ]
    },
    {
     "name": "stdout",
     "output_type": "stream",
     "text": [
      " \"2021-10-11\""
     ]
    },
    {
     "name": "stdout",
     "output_type": "stream",
     "text": [
      " \"2021-10-11\""
     ]
    },
    {
     "name": "stdout",
     "output_type": "stream",
     "text": [
      "\n"
     ]
    },
    {
     "name": "stdout",
     "output_type": "stream",
     "text": [
      "[2706]"
     ]
    },
    {
     "name": "stdout",
     "output_type": "stream",
     "text": [
      " \"2021-10-11\""
     ]
    },
    {
     "name": "stdout",
     "output_type": "stream",
     "text": [
      " \"2021-10-11\""
     ]
    },
    {
     "name": "stdout",
     "output_type": "stream",
     "text": [
      " \"2021-10-11\""
     ]
    },
    {
     "name": "stdout",
     "output_type": "stream",
     "text": [
      " \"2021-10-11\""
     ]
    },
    {
     "name": "stdout",
     "output_type": "stream",
     "text": [
      " \"2021-10-11\""
     ]
    },
    {
     "name": "stdout",
     "output_type": "stream",
     "text": [
      "\n"
     ]
    },
    {
     "name": "stdout",
     "output_type": "stream",
     "text": [
      "[2711]"
     ]
    },
    {
     "name": "stdout",
     "output_type": "stream",
     "text": [
      " \"2021-10-11\""
     ]
    },
    {
     "name": "stdout",
     "output_type": "stream",
     "text": [
      " \"2021-10-11\""
     ]
    },
    {
     "name": "stdout",
     "output_type": "stream",
     "text": [
      " \"2021-10-11\""
     ]
    },
    {
     "name": "stdout",
     "output_type": "stream",
     "text": [
      " \"2021-10-11\""
     ]
    },
    {
     "name": "stdout",
     "output_type": "stream",
     "text": [
      " \"2021-10-11\""
     ]
    },
    {
     "name": "stdout",
     "output_type": "stream",
     "text": [
      "\n"
     ]
    },
    {
     "name": "stdout",
     "output_type": "stream",
     "text": [
      "[2716]"
     ]
    },
    {
     "name": "stdout",
     "output_type": "stream",
     "text": [
      " \"2021-10-11\""
     ]
    },
    {
     "name": "stdout",
     "output_type": "stream",
     "text": [
      " \"2021-10-11\""
     ]
    },
    {
     "name": "stdout",
     "output_type": "stream",
     "text": [
      " \"2021-10-11\""
     ]
    },
    {
     "name": "stdout",
     "output_type": "stream",
     "text": [
      " \"2021-10-11\""
     ]
    },
    {
     "name": "stdout",
     "output_type": "stream",
     "text": [
      " \"2021-10-11\""
     ]
    },
    {
     "name": "stdout",
     "output_type": "stream",
     "text": [
      "\n"
     ]
    },
    {
     "name": "stdout",
     "output_type": "stream",
     "text": [
      "[2721]"
     ]
    },
    {
     "name": "stdout",
     "output_type": "stream",
     "text": [
      " \"2021-10-11\""
     ]
    },
    {
     "name": "stdout",
     "output_type": "stream",
     "text": [
      " \"2021-10-11\""
     ]
    },
    {
     "name": "stdout",
     "output_type": "stream",
     "text": [
      " \"2021-10-11\""
     ]
    },
    {
     "name": "stdout",
     "output_type": "stream",
     "text": [
      " \"2021-10-11\""
     ]
    },
    {
     "name": "stdout",
     "output_type": "stream",
     "text": [
      " \"2021-10-11\""
     ]
    },
    {
     "name": "stdout",
     "output_type": "stream",
     "text": [
      "\n"
     ]
    },
    {
     "name": "stdout",
     "output_type": "stream",
     "text": [
      "[2726]"
     ]
    },
    {
     "name": "stdout",
     "output_type": "stream",
     "text": [
      " \"2021-10-11\""
     ]
    },
    {
     "name": "stdout",
     "output_type": "stream",
     "text": [
      " \"2021-10-11\""
     ]
    },
    {
     "name": "stdout",
     "output_type": "stream",
     "text": [
      " \"2021-10-11\""
     ]
    },
    {
     "name": "stdout",
     "output_type": "stream",
     "text": [
      " \"2021-10-11\""
     ]
    },
    {
     "name": "stdout",
     "output_type": "stream",
     "text": [
      " \"2021-10-11\""
     ]
    },
    {
     "name": "stdout",
     "output_type": "stream",
     "text": [
      "\n"
     ]
    },
    {
     "name": "stdout",
     "output_type": "stream",
     "text": [
      "[2731]"
     ]
    },
    {
     "name": "stdout",
     "output_type": "stream",
     "text": [
      " \"2021-10-11\""
     ]
    },
    {
     "name": "stdout",
     "output_type": "stream",
     "text": [
      " \"2021-10-11\""
     ]
    },
    {
     "name": "stdout",
     "output_type": "stream",
     "text": [
      " \"2021-10-11\""
     ]
    },
    {
     "name": "stdout",
     "output_type": "stream",
     "text": [
      " \"2021-10-11\""
     ]
    },
    {
     "name": "stdout",
     "output_type": "stream",
     "text": [
      " \"2021-10-11\""
     ]
    },
    {
     "name": "stdout",
     "output_type": "stream",
     "text": [
      "\n"
     ]
    },
    {
     "name": "stdout",
     "output_type": "stream",
     "text": [
      "[2736]"
     ]
    },
    {
     "name": "stdout",
     "output_type": "stream",
     "text": [
      " \"2021-10-11\""
     ]
    },
    {
     "name": "stdout",
     "output_type": "stream",
     "text": [
      " \"2021-10-11\""
     ]
    },
    {
     "name": "stdout",
     "output_type": "stream",
     "text": [
      " \"2021-10-11\""
     ]
    },
    {
     "name": "stdout",
     "output_type": "stream",
     "text": [
      " \"2021-10-11\""
     ]
    },
    {
     "name": "stdout",
     "output_type": "stream",
     "text": [
      " \"2021-10-11\""
     ]
    },
    {
     "name": "stdout",
     "output_type": "stream",
     "text": [
      "\n"
     ]
    },
    {
     "name": "stdout",
     "output_type": "stream",
     "text": [
      "[2741]"
     ]
    },
    {
     "name": "stdout",
     "output_type": "stream",
     "text": [
      " \"2021-10-11\""
     ]
    },
    {
     "name": "stdout",
     "output_type": "stream",
     "text": [
      " \"2021-10-11\""
     ]
    },
    {
     "name": "stdout",
     "output_type": "stream",
     "text": [
      " \"2021-10-11\""
     ]
    },
    {
     "name": "stdout",
     "output_type": "stream",
     "text": [
      " \"2021-10-11\""
     ]
    },
    {
     "name": "stdout",
     "output_type": "stream",
     "text": [
      " \"2021-10-11\""
     ]
    },
    {
     "name": "stdout",
     "output_type": "stream",
     "text": [
      "\n"
     ]
    },
    {
     "name": "stdout",
     "output_type": "stream",
     "text": [
      "[2746]"
     ]
    },
    {
     "name": "stdout",
     "output_type": "stream",
     "text": [
      " \"2021-10-11\""
     ]
    },
    {
     "name": "stdout",
     "output_type": "stream",
     "text": [
      " \"2021-10-11\""
     ]
    },
    {
     "name": "stdout",
     "output_type": "stream",
     "text": [
      " \"2021-10-11\""
     ]
    },
    {
     "name": "stdout",
     "output_type": "stream",
     "text": [
      " \"2021-10-11\""
     ]
    },
    {
     "name": "stdout",
     "output_type": "stream",
     "text": [
      " \"2021-10-11\""
     ]
    },
    {
     "name": "stdout",
     "output_type": "stream",
     "text": [
      "\n"
     ]
    },
    {
     "name": "stdout",
     "output_type": "stream",
     "text": [
      "[2751]"
     ]
    },
    {
     "name": "stdout",
     "output_type": "stream",
     "text": [
      " \"2021-10-11\""
     ]
    },
    {
     "name": "stdout",
     "output_type": "stream",
     "text": [
      " \"2021-10-11\""
     ]
    },
    {
     "name": "stdout",
     "output_type": "stream",
     "text": [
      " \"2021-10-11\""
     ]
    },
    {
     "name": "stdout",
     "output_type": "stream",
     "text": [
      " \"2021-10-11\""
     ]
    },
    {
     "name": "stdout",
     "output_type": "stream",
     "text": [
      " \"2021-10-11\""
     ]
    },
    {
     "name": "stdout",
     "output_type": "stream",
     "text": [
      "\n"
     ]
    },
    {
     "name": "stdout",
     "output_type": "stream",
     "text": [
      "[2756]"
     ]
    },
    {
     "name": "stdout",
     "output_type": "stream",
     "text": [
      " \"2021-10-11\""
     ]
    },
    {
     "name": "stdout",
     "output_type": "stream",
     "text": [
      " \"2021-10-11\""
     ]
    },
    {
     "name": "stdout",
     "output_type": "stream",
     "text": [
      " \"2021-10-11\""
     ]
    },
    {
     "name": "stdout",
     "output_type": "stream",
     "text": [
      " \"2021-10-11\""
     ]
    },
    {
     "name": "stdout",
     "output_type": "stream",
     "text": [
      " \"2021-10-11\""
     ]
    },
    {
     "name": "stdout",
     "output_type": "stream",
     "text": [
      "\n"
     ]
    },
    {
     "name": "stdout",
     "output_type": "stream",
     "text": [
      "[2761]"
     ]
    },
    {
     "name": "stdout",
     "output_type": "stream",
     "text": [
      " \"2021-10-18\""
     ]
    },
    {
     "name": "stdout",
     "output_type": "stream",
     "text": [
      " \"2021-10-18\""
     ]
    },
    {
     "name": "stdout",
     "output_type": "stream",
     "text": [
      " \"2021-10-18\""
     ]
    },
    {
     "name": "stdout",
     "output_type": "stream",
     "text": [
      " \"2021-10-18\""
     ]
    },
    {
     "name": "stdout",
     "output_type": "stream",
     "text": [
      " \"2021-10-18\""
     ]
    },
    {
     "name": "stdout",
     "output_type": "stream",
     "text": [
      "\n"
     ]
    },
    {
     "name": "stdout",
     "output_type": "stream",
     "text": [
      "[2766]"
     ]
    },
    {
     "name": "stdout",
     "output_type": "stream",
     "text": [
      " \"2021-10-18\""
     ]
    },
    {
     "name": "stdout",
     "output_type": "stream",
     "text": [
      " \"2021-10-18\""
     ]
    },
    {
     "name": "stdout",
     "output_type": "stream",
     "text": [
      " \"2021-10-18\""
     ]
    },
    {
     "name": "stdout",
     "output_type": "stream",
     "text": [
      " \"2021-10-18\""
     ]
    },
    {
     "name": "stdout",
     "output_type": "stream",
     "text": [
      " \"2021-10-18\""
     ]
    },
    {
     "name": "stdout",
     "output_type": "stream",
     "text": [
      "\n"
     ]
    },
    {
     "name": "stdout",
     "output_type": "stream",
     "text": [
      "[2771]"
     ]
    },
    {
     "name": "stdout",
     "output_type": "stream",
     "text": [
      " \"2021-10-18\""
     ]
    },
    {
     "name": "stdout",
     "output_type": "stream",
     "text": [
      " \"2021-10-18\""
     ]
    },
    {
     "name": "stdout",
     "output_type": "stream",
     "text": [
      " \"2021-10-18\""
     ]
    },
    {
     "name": "stdout",
     "output_type": "stream",
     "text": [
      " \"2021-10-18\""
     ]
    },
    {
     "name": "stdout",
     "output_type": "stream",
     "text": [
      " \"2021-10-18\""
     ]
    },
    {
     "name": "stdout",
     "output_type": "stream",
     "text": [
      "\n"
     ]
    },
    {
     "name": "stdout",
     "output_type": "stream",
     "text": [
      "[2776]"
     ]
    },
    {
     "name": "stdout",
     "output_type": "stream",
     "text": [
      " \"2021-10-18\""
     ]
    },
    {
     "name": "stdout",
     "output_type": "stream",
     "text": [
      " \"2021-10-18\""
     ]
    },
    {
     "name": "stdout",
     "output_type": "stream",
     "text": [
      " \"2021-10-18\""
     ]
    },
    {
     "name": "stdout",
     "output_type": "stream",
     "text": [
      " \"2021-10-18\""
     ]
    },
    {
     "name": "stdout",
     "output_type": "stream",
     "text": [
      " \"2021-10-18\""
     ]
    },
    {
     "name": "stdout",
     "output_type": "stream",
     "text": [
      "\n"
     ]
    },
    {
     "name": "stdout",
     "output_type": "stream",
     "text": [
      "[2781]"
     ]
    },
    {
     "name": "stdout",
     "output_type": "stream",
     "text": [
      " \"2021-10-18\""
     ]
    },
    {
     "name": "stdout",
     "output_type": "stream",
     "text": [
      " \"2021-10-18\""
     ]
    },
    {
     "name": "stdout",
     "output_type": "stream",
     "text": [
      " \"2021-10-18\""
     ]
    },
    {
     "name": "stdout",
     "output_type": "stream",
     "text": [
      " \"2021-10-18\""
     ]
    },
    {
     "name": "stdout",
     "output_type": "stream",
     "text": [
      " \"2021-10-18\""
     ]
    },
    {
     "name": "stdout",
     "output_type": "stream",
     "text": [
      "\n"
     ]
    },
    {
     "name": "stdout",
     "output_type": "stream",
     "text": [
      "[2786]"
     ]
    },
    {
     "name": "stdout",
     "output_type": "stream",
     "text": [
      " \"2021-10-18\""
     ]
    },
    {
     "name": "stdout",
     "output_type": "stream",
     "text": [
      " \"2021-10-18\""
     ]
    },
    {
     "name": "stdout",
     "output_type": "stream",
     "text": [
      " \"2021-10-18\""
     ]
    },
    {
     "name": "stdout",
     "output_type": "stream",
     "text": [
      " \"2021-10-18\""
     ]
    },
    {
     "name": "stdout",
     "output_type": "stream",
     "text": [
      " \"2021-10-18\""
     ]
    },
    {
     "name": "stdout",
     "output_type": "stream",
     "text": [
      "\n"
     ]
    },
    {
     "name": "stdout",
     "output_type": "stream",
     "text": [
      "[2791]"
     ]
    },
    {
     "name": "stdout",
     "output_type": "stream",
     "text": [
      " \"2021-10-18\""
     ]
    },
    {
     "name": "stdout",
     "output_type": "stream",
     "text": [
      " \"2021-10-18\""
     ]
    },
    {
     "name": "stdout",
     "output_type": "stream",
     "text": [
      " \"2021-10-18\""
     ]
    },
    {
     "name": "stdout",
     "output_type": "stream",
     "text": [
      " \"2021-10-18\""
     ]
    },
    {
     "name": "stdout",
     "output_type": "stream",
     "text": [
      " \"2021-10-18\""
     ]
    },
    {
     "name": "stdout",
     "output_type": "stream",
     "text": [
      "\n"
     ]
    },
    {
     "name": "stdout",
     "output_type": "stream",
     "text": [
      "[2796]"
     ]
    },
    {
     "name": "stdout",
     "output_type": "stream",
     "text": [
      " \"2021-10-18\""
     ]
    },
    {
     "name": "stdout",
     "output_type": "stream",
     "text": [
      " \"2021-10-18\""
     ]
    },
    {
     "name": "stdout",
     "output_type": "stream",
     "text": [
      " \"2021-10-18\""
     ]
    },
    {
     "name": "stdout",
     "output_type": "stream",
     "text": [
      " \"2021-10-18\""
     ]
    },
    {
     "name": "stdout",
     "output_type": "stream",
     "text": [
      " \"2021-10-18\""
     ]
    },
    {
     "name": "stdout",
     "output_type": "stream",
     "text": [
      "\n"
     ]
    },
    {
     "name": "stdout",
     "output_type": "stream",
     "text": [
      "[2801]"
     ]
    },
    {
     "name": "stdout",
     "output_type": "stream",
     "text": [
      " \"2021-10-18\""
     ]
    },
    {
     "name": "stdout",
     "output_type": "stream",
     "text": [
      " \"2021-10-18\""
     ]
    },
    {
     "name": "stdout",
     "output_type": "stream",
     "text": [
      " \"2021-10-18\""
     ]
    },
    {
     "name": "stdout",
     "output_type": "stream",
     "text": [
      " \"2021-10-18\""
     ]
    },
    {
     "name": "stdout",
     "output_type": "stream",
     "text": [
      " \"2021-10-18\""
     ]
    },
    {
     "name": "stdout",
     "output_type": "stream",
     "text": [
      "\n"
     ]
    },
    {
     "name": "stdout",
     "output_type": "stream",
     "text": [
      "[2806]"
     ]
    },
    {
     "name": "stdout",
     "output_type": "stream",
     "text": [
      " \"2021-10-18\""
     ]
    },
    {
     "name": "stdout",
     "output_type": "stream",
     "text": [
      " \"2021-10-18\""
     ]
    },
    {
     "name": "stdout",
     "output_type": "stream",
     "text": [
      " \"2021-10-18\""
     ]
    },
    {
     "name": "stdout",
     "output_type": "stream",
     "text": [
      " \"2021-10-18\""
     ]
    },
    {
     "name": "stdout",
     "output_type": "stream",
     "text": [
      " \"2021-10-18\""
     ]
    },
    {
     "name": "stdout",
     "output_type": "stream",
     "text": [
      "\n"
     ]
    },
    {
     "name": "stdout",
     "output_type": "stream",
     "text": [
      "[2811]"
     ]
    },
    {
     "name": "stdout",
     "output_type": "stream",
     "text": [
      " \"2021-10-18\""
     ]
    },
    {
     "name": "stdout",
     "output_type": "stream",
     "text": [
      " \"2021-10-18\""
     ]
    },
    {
     "name": "stdout",
     "output_type": "stream",
     "text": [
      " \"2021-10-18\""
     ]
    },
    {
     "name": "stdout",
     "output_type": "stream",
     "text": [
      " \"2021-10-18\""
     ]
    },
    {
     "name": "stdout",
     "output_type": "stream",
     "text": [
      " \"2021-10-18\""
     ]
    },
    {
     "name": "stdout",
     "output_type": "stream",
     "text": [
      "\n"
     ]
    },
    {
     "name": "stdout",
     "output_type": "stream",
     "text": [
      "[2816]"
     ]
    },
    {
     "name": "stdout",
     "output_type": "stream",
     "text": [
      " \"2021-10-18\""
     ]
    },
    {
     "name": "stdout",
     "output_type": "stream",
     "text": [
      " \"2021-10-18\""
     ]
    },
    {
     "name": "stdout",
     "output_type": "stream",
     "text": [
      " \"2021-10-18\""
     ]
    },
    {
     "name": "stdout",
     "output_type": "stream",
     "text": [
      " \"2021-10-18\""
     ]
    },
    {
     "name": "stdout",
     "output_type": "stream",
     "text": [
      " \"2021-10-18\""
     ]
    },
    {
     "name": "stdout",
     "output_type": "stream",
     "text": [
      "\n"
     ]
    },
    {
     "name": "stdout",
     "output_type": "stream",
     "text": [
      "[2821]"
     ]
    },
    {
     "name": "stdout",
     "output_type": "stream",
     "text": [
      " \"2021-10-18\""
     ]
    },
    {
     "name": "stdout",
     "output_type": "stream",
     "text": [
      " \"2021-10-18\""
     ]
    },
    {
     "name": "stdout",
     "output_type": "stream",
     "text": [
      " \"2021-10-18\""
     ]
    },
    {
     "name": "stdout",
     "output_type": "stream",
     "text": [
      " \"2021-10-18\""
     ]
    },
    {
     "name": "stdout",
     "output_type": "stream",
     "text": [
      " \"2021-10-18\""
     ]
    },
    {
     "name": "stdout",
     "output_type": "stream",
     "text": [
      "\n"
     ]
    },
    {
     "name": "stdout",
     "output_type": "stream",
     "text": [
      "[2826]"
     ]
    },
    {
     "name": "stdout",
     "output_type": "stream",
     "text": [
      " \"2021-10-18\""
     ]
    },
    {
     "name": "stdout",
     "output_type": "stream",
     "text": [
      " \"2021-10-18\""
     ]
    },
    {
     "name": "stdout",
     "output_type": "stream",
     "text": [
      " \"2021-10-18\""
     ]
    },
    {
     "name": "stdout",
     "output_type": "stream",
     "text": [
      " \"2021-10-18\""
     ]
    },
    {
     "name": "stdout",
     "output_type": "stream",
     "text": [
      " \"2021-10-25\""
     ]
    },
    {
     "name": "stdout",
     "output_type": "stream",
     "text": [
      "\n"
     ]
    },
    {
     "name": "stdout",
     "output_type": "stream",
     "text": [
      "[2831]"
     ]
    },
    {
     "name": "stdout",
     "output_type": "stream",
     "text": [
      " \"2021-10-25\""
     ]
    },
    {
     "name": "stdout",
     "output_type": "stream",
     "text": [
      " \"2021-10-25\""
     ]
    },
    {
     "name": "stdout",
     "output_type": "stream",
     "text": [
      " \"2021-10-25\""
     ]
    },
    {
     "name": "stdout",
     "output_type": "stream",
     "text": [
      " \"2021-10-25\""
     ]
    },
    {
     "name": "stdout",
     "output_type": "stream",
     "text": [
      " \"2021-10-25\""
     ]
    },
    {
     "name": "stdout",
     "output_type": "stream",
     "text": [
      "\n"
     ]
    },
    {
     "name": "stdout",
     "output_type": "stream",
     "text": [
      "[2836]"
     ]
    },
    {
     "name": "stdout",
     "output_type": "stream",
     "text": [
      " \"2021-10-25\""
     ]
    },
    {
     "name": "stdout",
     "output_type": "stream",
     "text": [
      " \"2021-10-25\""
     ]
    },
    {
     "name": "stdout",
     "output_type": "stream",
     "text": [
      " \"2021-10-25\""
     ]
    },
    {
     "name": "stdout",
     "output_type": "stream",
     "text": [
      " \"2021-10-25\""
     ]
    },
    {
     "name": "stdout",
     "output_type": "stream",
     "text": [
      " \"2021-10-25\""
     ]
    },
    {
     "name": "stdout",
     "output_type": "stream",
     "text": [
      "\n"
     ]
    },
    {
     "name": "stdout",
     "output_type": "stream",
     "text": [
      "[2841]"
     ]
    },
    {
     "name": "stdout",
     "output_type": "stream",
     "text": [
      " \"2021-10-25\""
     ]
    },
    {
     "name": "stdout",
     "output_type": "stream",
     "text": [
      " \"2021-10-25\""
     ]
    },
    {
     "name": "stdout",
     "output_type": "stream",
     "text": [
      " \"2021-10-25\""
     ]
    },
    {
     "name": "stdout",
     "output_type": "stream",
     "text": [
      " \"2021-10-25\""
     ]
    },
    {
     "name": "stdout",
     "output_type": "stream",
     "text": [
      " \"2021-10-25\""
     ]
    },
    {
     "name": "stdout",
     "output_type": "stream",
     "text": [
      "\n"
     ]
    },
    {
     "name": "stdout",
     "output_type": "stream",
     "text": [
      "[2846]"
     ]
    },
    {
     "name": "stdout",
     "output_type": "stream",
     "text": [
      " \"2021-10-25\""
     ]
    },
    {
     "name": "stdout",
     "output_type": "stream",
     "text": [
      " \"2021-10-25\""
     ]
    },
    {
     "name": "stdout",
     "output_type": "stream",
     "text": [
      " \"2021-10-25\""
     ]
    },
    {
     "name": "stdout",
     "output_type": "stream",
     "text": [
      " \"2021-10-25\""
     ]
    },
    {
     "name": "stdout",
     "output_type": "stream",
     "text": [
      " \"2021-10-25\""
     ]
    },
    {
     "name": "stdout",
     "output_type": "stream",
     "text": [
      "\n"
     ]
    },
    {
     "name": "stdout",
     "output_type": "stream",
     "text": [
      "[2851]"
     ]
    },
    {
     "name": "stdout",
     "output_type": "stream",
     "text": [
      " \"2021-10-25\""
     ]
    },
    {
     "name": "stdout",
     "output_type": "stream",
     "text": [
      " \"2021-10-25\""
     ]
    },
    {
     "name": "stdout",
     "output_type": "stream",
     "text": [
      " \"2021-10-25\""
     ]
    },
    {
     "name": "stdout",
     "output_type": "stream",
     "text": [
      " \"2021-10-25\""
     ]
    },
    {
     "name": "stdout",
     "output_type": "stream",
     "text": [
      " \"2021-10-25\""
     ]
    },
    {
     "name": "stdout",
     "output_type": "stream",
     "text": [
      "\n"
     ]
    },
    {
     "name": "stdout",
     "output_type": "stream",
     "text": [
      "[2856]"
     ]
    },
    {
     "name": "stdout",
     "output_type": "stream",
     "text": [
      " \"2021-10-25\""
     ]
    },
    {
     "name": "stdout",
     "output_type": "stream",
     "text": [
      " \"2021-10-25\""
     ]
    },
    {
     "name": "stdout",
     "output_type": "stream",
     "text": [
      " \"2021-10-25\""
     ]
    },
    {
     "name": "stdout",
     "output_type": "stream",
     "text": [
      " \"2021-10-25\""
     ]
    },
    {
     "name": "stdout",
     "output_type": "stream",
     "text": [
      " \"2021-10-25\""
     ]
    },
    {
     "name": "stdout",
     "output_type": "stream",
     "text": [
      "\n"
     ]
    },
    {
     "name": "stdout",
     "output_type": "stream",
     "text": [
      "[2861]"
     ]
    },
    {
     "name": "stdout",
     "output_type": "stream",
     "text": [
      " \"2021-10-25\""
     ]
    },
    {
     "name": "stdout",
     "output_type": "stream",
     "text": [
      " \"2021-10-25\""
     ]
    },
    {
     "name": "stdout",
     "output_type": "stream",
     "text": [
      " \"2021-10-25\""
     ]
    },
    {
     "name": "stdout",
     "output_type": "stream",
     "text": [
      " \"2021-10-25\""
     ]
    },
    {
     "name": "stdout",
     "output_type": "stream",
     "text": [
      " \"2021-10-25\""
     ]
    },
    {
     "name": "stdout",
     "output_type": "stream",
     "text": [
      "\n"
     ]
    },
    {
     "name": "stdout",
     "output_type": "stream",
     "text": [
      "[2866]"
     ]
    },
    {
     "name": "stdout",
     "output_type": "stream",
     "text": [
      " \"2021-10-25\""
     ]
    },
    {
     "name": "stdout",
     "output_type": "stream",
     "text": [
      " \"2021-10-25\""
     ]
    },
    {
     "name": "stdout",
     "output_type": "stream",
     "text": [
      " \"2021-10-25\""
     ]
    },
    {
     "name": "stdout",
     "output_type": "stream",
     "text": [
      " \"2021-10-25\""
     ]
    },
    {
     "name": "stdout",
     "output_type": "stream",
     "text": [
      " \"2021-10-25\""
     ]
    },
    {
     "name": "stdout",
     "output_type": "stream",
     "text": [
      "\n"
     ]
    },
    {
     "name": "stdout",
     "output_type": "stream",
     "text": [
      "[2871]"
     ]
    },
    {
     "name": "stdout",
     "output_type": "stream",
     "text": [
      " \"2021-10-25\""
     ]
    },
    {
     "name": "stdout",
     "output_type": "stream",
     "text": [
      " \"2021-10-25\""
     ]
    },
    {
     "name": "stdout",
     "output_type": "stream",
     "text": [
      " \"2021-10-25\""
     ]
    },
    {
     "name": "stdout",
     "output_type": "stream",
     "text": [
      " \"2021-10-25\""
     ]
    },
    {
     "name": "stdout",
     "output_type": "stream",
     "text": [
      " \"2021-10-25\""
     ]
    },
    {
     "name": "stdout",
     "output_type": "stream",
     "text": [
      "\n"
     ]
    },
    {
     "name": "stdout",
     "output_type": "stream",
     "text": [
      "[2876]"
     ]
    },
    {
     "name": "stdout",
     "output_type": "stream",
     "text": [
      " \"2021-10-25\""
     ]
    },
    {
     "name": "stdout",
     "output_type": "stream",
     "text": [
      " \"2021-10-25\""
     ]
    },
    {
     "name": "stdout",
     "output_type": "stream",
     "text": [
      " \"2021-10-25\""
     ]
    },
    {
     "name": "stdout",
     "output_type": "stream",
     "text": [
      " \"2021-10-25\""
     ]
    },
    {
     "name": "stdout",
     "output_type": "stream",
     "text": [
      " \"2021-10-25\""
     ]
    },
    {
     "name": "stdout",
     "output_type": "stream",
     "text": [
      "\n"
     ]
    },
    {
     "name": "stdout",
     "output_type": "stream",
     "text": [
      "[2881]"
     ]
    },
    {
     "name": "stdout",
     "output_type": "stream",
     "text": [
      " \"2021-10-25\""
     ]
    },
    {
     "name": "stdout",
     "output_type": "stream",
     "text": [
      " \"2021-10-25\""
     ]
    },
    {
     "name": "stdout",
     "output_type": "stream",
     "text": [
      " \"2021-10-25\""
     ]
    },
    {
     "name": "stdout",
     "output_type": "stream",
     "text": [
      " \"2021-10-25\""
     ]
    },
    {
     "name": "stdout",
     "output_type": "stream",
     "text": [
      " \"2021-10-25\""
     ]
    },
    {
     "name": "stdout",
     "output_type": "stream",
     "text": [
      "\n"
     ]
    },
    {
     "name": "stdout",
     "output_type": "stream",
     "text": [
      "[2886]"
     ]
    },
    {
     "name": "stdout",
     "output_type": "stream",
     "text": [
      " \"2021-10-25\""
     ]
    },
    {
     "name": "stdout",
     "output_type": "stream",
     "text": [
      " \"2021-10-25\""
     ]
    },
    {
     "name": "stdout",
     "output_type": "stream",
     "text": [
      " \"2021-10-25\""
     ]
    },
    {
     "name": "stdout",
     "output_type": "stream",
     "text": [
      " \"2021-10-25\""
     ]
    },
    {
     "name": "stdout",
     "output_type": "stream",
     "text": [
      " \"2021-10-25\""
     ]
    },
    {
     "name": "stdout",
     "output_type": "stream",
     "text": [
      "\n"
     ]
    },
    {
     "name": "stdout",
     "output_type": "stream",
     "text": [
      "[2891]"
     ]
    },
    {
     "name": "stdout",
     "output_type": "stream",
     "text": [
      " \"2021-10-25\""
     ]
    },
    {
     "name": "stdout",
     "output_type": "stream",
     "text": [
      " \"2021-10-25\""
     ]
    },
    {
     "name": "stdout",
     "output_type": "stream",
     "text": [
      " \"2021-10-25\""
     ]
    },
    {
     "name": "stdout",
     "output_type": "stream",
     "text": [
      " \"2021-10-25\""
     ]
    },
    {
     "name": "stdout",
     "output_type": "stream",
     "text": [
      " \"2021-10-25\""
     ]
    },
    {
     "name": "stdout",
     "output_type": "stream",
     "text": [
      "\n"
     ]
    },
    {
     "name": "stdout",
     "output_type": "stream",
     "text": [
      "[2896]"
     ]
    },
    {
     "name": "stdout",
     "output_type": "stream",
     "text": [
      " \"2021-10-25\""
     ]
    },
    {
     "name": "stdout",
     "output_type": "stream",
     "text": [
      " \"2021-10-25\""
     ]
    },
    {
     "name": "stdout",
     "output_type": "stream",
     "text": [
      " \"2021-10-25\""
     ]
    },
    {
     "name": "stdout",
     "output_type": "stream",
     "text": [
      " \"2021-11-01\""
     ]
    },
    {
     "name": "stdout",
     "output_type": "stream",
     "text": [
      " \"2021-11-01\""
     ]
    },
    {
     "name": "stdout",
     "output_type": "stream",
     "text": [
      "\n"
     ]
    },
    {
     "name": "stdout",
     "output_type": "stream",
     "text": [
      "[2901]"
     ]
    },
    {
     "name": "stdout",
     "output_type": "stream",
     "text": [
      " \"2021-11-01\""
     ]
    },
    {
     "name": "stdout",
     "output_type": "stream",
     "text": [
      " \"2021-11-01\""
     ]
    },
    {
     "name": "stdout",
     "output_type": "stream",
     "text": [
      " \"2021-11-01\""
     ]
    },
    {
     "name": "stdout",
     "output_type": "stream",
     "text": [
      " \"2021-11-01\""
     ]
    },
    {
     "name": "stdout",
     "output_type": "stream",
     "text": [
      " \"2021-11-01\""
     ]
    },
    {
     "name": "stdout",
     "output_type": "stream",
     "text": [
      "\n"
     ]
    },
    {
     "name": "stdout",
     "output_type": "stream",
     "text": [
      "[2906]"
     ]
    },
    {
     "name": "stdout",
     "output_type": "stream",
     "text": [
      " \"2021-11-01\""
     ]
    },
    {
     "name": "stdout",
     "output_type": "stream",
     "text": [
      " \"2021-11-01\""
     ]
    },
    {
     "name": "stdout",
     "output_type": "stream",
     "text": [
      " \"2021-11-01\""
     ]
    },
    {
     "name": "stdout",
     "output_type": "stream",
     "text": [
      " \"2021-11-01\""
     ]
    },
    {
     "name": "stdout",
     "output_type": "stream",
     "text": [
      " \"2021-11-01\""
     ]
    },
    {
     "name": "stdout",
     "output_type": "stream",
     "text": [
      "\n"
     ]
    },
    {
     "name": "stdout",
     "output_type": "stream",
     "text": [
      "[2911]"
     ]
    },
    {
     "name": "stdout",
     "output_type": "stream",
     "text": [
      " \"2021-11-01\""
     ]
    },
    {
     "name": "stdout",
     "output_type": "stream",
     "text": [
      " \"2021-11-01\""
     ]
    },
    {
     "name": "stdout",
     "output_type": "stream",
     "text": [
      " \"2021-11-01\""
     ]
    },
    {
     "name": "stdout",
     "output_type": "stream",
     "text": [
      " \"2021-11-01\""
     ]
    },
    {
     "name": "stdout",
     "output_type": "stream",
     "text": [
      " \"2021-11-01\""
     ]
    },
    {
     "name": "stdout",
     "output_type": "stream",
     "text": [
      "\n"
     ]
    },
    {
     "name": "stdout",
     "output_type": "stream",
     "text": [
      "[2916]"
     ]
    },
    {
     "name": "stdout",
     "output_type": "stream",
     "text": [
      " \"2021-11-01\""
     ]
    },
    {
     "name": "stdout",
     "output_type": "stream",
     "text": [
      " \"2021-11-01\""
     ]
    },
    {
     "name": "stdout",
     "output_type": "stream",
     "text": [
      " \"2021-11-01\""
     ]
    },
    {
     "name": "stdout",
     "output_type": "stream",
     "text": [
      " \"2021-11-01\""
     ]
    },
    {
     "name": "stdout",
     "output_type": "stream",
     "text": [
      " \"2021-11-01\""
     ]
    },
    {
     "name": "stdout",
     "output_type": "stream",
     "text": [
      "\n"
     ]
    },
    {
     "name": "stdout",
     "output_type": "stream",
     "text": [
      "[2921]"
     ]
    },
    {
     "name": "stdout",
     "output_type": "stream",
     "text": [
      " \"2021-11-01\""
     ]
    },
    {
     "name": "stdout",
     "output_type": "stream",
     "text": [
      " \"2021-11-01\""
     ]
    },
    {
     "name": "stdout",
     "output_type": "stream",
     "text": [
      " \"2021-11-01\""
     ]
    },
    {
     "name": "stdout",
     "output_type": "stream",
     "text": [
      " \"2021-11-01\""
     ]
    },
    {
     "name": "stdout",
     "output_type": "stream",
     "text": [
      " \"2021-11-01\""
     ]
    },
    {
     "name": "stdout",
     "output_type": "stream",
     "text": [
      "\n"
     ]
    },
    {
     "name": "stdout",
     "output_type": "stream",
     "text": [
      "[2926]"
     ]
    },
    {
     "name": "stdout",
     "output_type": "stream",
     "text": [
      " \"2021-11-01\""
     ]
    },
    {
     "name": "stdout",
     "output_type": "stream",
     "text": [
      " \"2021-11-01\""
     ]
    },
    {
     "name": "stdout",
     "output_type": "stream",
     "text": [
      " \"2021-11-01\""
     ]
    },
    {
     "name": "stdout",
     "output_type": "stream",
     "text": [
      " \"2021-11-01\""
     ]
    },
    {
     "name": "stdout",
     "output_type": "stream",
     "text": [
      " \"2021-11-01\""
     ]
    },
    {
     "name": "stdout",
     "output_type": "stream",
     "text": [
      "\n"
     ]
    },
    {
     "name": "stdout",
     "output_type": "stream",
     "text": [
      "[2931]"
     ]
    },
    {
     "name": "stdout",
     "output_type": "stream",
     "text": [
      " \"2021-11-01\""
     ]
    },
    {
     "name": "stdout",
     "output_type": "stream",
     "text": [
      " \"2021-11-01\""
     ]
    },
    {
     "name": "stdout",
     "output_type": "stream",
     "text": [
      " \"2021-11-01\""
     ]
    },
    {
     "name": "stdout",
     "output_type": "stream",
     "text": [
      " \"2021-11-01\""
     ]
    },
    {
     "name": "stdout",
     "output_type": "stream",
     "text": [
      " \"2021-11-01\""
     ]
    },
    {
     "name": "stdout",
     "output_type": "stream",
     "text": [
      "\n"
     ]
    },
    {
     "name": "stdout",
     "output_type": "stream",
     "text": [
      "[2936]"
     ]
    },
    {
     "name": "stdout",
     "output_type": "stream",
     "text": [
      " \"2021-11-01\""
     ]
    },
    {
     "name": "stdout",
     "output_type": "stream",
     "text": [
      " \"2021-11-01\""
     ]
    },
    {
     "name": "stdout",
     "output_type": "stream",
     "text": [
      " \"2021-11-01\""
     ]
    },
    {
     "name": "stdout",
     "output_type": "stream",
     "text": [
      " \"2021-11-01\""
     ]
    },
    {
     "name": "stdout",
     "output_type": "stream",
     "text": [
      " \"2021-11-01\""
     ]
    },
    {
     "name": "stdout",
     "output_type": "stream",
     "text": [
      "\n"
     ]
    },
    {
     "name": "stdout",
     "output_type": "stream",
     "text": [
      "[2941]"
     ]
    },
    {
     "name": "stdout",
     "output_type": "stream",
     "text": [
      " \"2021-11-01\""
     ]
    },
    {
     "name": "stdout",
     "output_type": "stream",
     "text": [
      " \"2021-11-01\""
     ]
    },
    {
     "name": "stdout",
     "output_type": "stream",
     "text": [
      " \"2021-11-01\""
     ]
    },
    {
     "name": "stdout",
     "output_type": "stream",
     "text": [
      " \"2021-11-01\""
     ]
    },
    {
     "name": "stdout",
     "output_type": "stream",
     "text": [
      " \"2021-11-01\""
     ]
    },
    {
     "name": "stdout",
     "output_type": "stream",
     "text": [
      "\n"
     ]
    },
    {
     "name": "stdout",
     "output_type": "stream",
     "text": [
      "[2946]"
     ]
    },
    {
     "name": "stdout",
     "output_type": "stream",
     "text": [
      " \"2021-11-01\""
     ]
    },
    {
     "name": "stdout",
     "output_type": "stream",
     "text": [
      " \"2021-11-01\""
     ]
    },
    {
     "name": "stdout",
     "output_type": "stream",
     "text": [
      " \"2021-11-01\""
     ]
    },
    {
     "name": "stdout",
     "output_type": "stream",
     "text": [
      " \"2021-11-01\""
     ]
    },
    {
     "name": "stdout",
     "output_type": "stream",
     "text": [
      " \"2021-11-01\""
     ]
    },
    {
     "name": "stdout",
     "output_type": "stream",
     "text": [
      "\n"
     ]
    },
    {
     "name": "stdout",
     "output_type": "stream",
     "text": [
      "[2951]"
     ]
    },
    {
     "name": "stdout",
     "output_type": "stream",
     "text": [
      " \"2021-11-01\""
     ]
    },
    {
     "name": "stdout",
     "output_type": "stream",
     "text": [
      " \"2021-11-01\""
     ]
    },
    {
     "name": "stdout",
     "output_type": "stream",
     "text": [
      " \"2021-11-01\""
     ]
    },
    {
     "name": "stdout",
     "output_type": "stream",
     "text": [
      " \"2021-11-01\""
     ]
    },
    {
     "name": "stdout",
     "output_type": "stream",
     "text": [
      " \"2021-11-01\""
     ]
    },
    {
     "name": "stdout",
     "output_type": "stream",
     "text": [
      "\n"
     ]
    },
    {
     "name": "stdout",
     "output_type": "stream",
     "text": [
      "[2956]"
     ]
    },
    {
     "name": "stdout",
     "output_type": "stream",
     "text": [
      " \"2021-11-01\""
     ]
    },
    {
     "name": "stdout",
     "output_type": "stream",
     "text": [
      " \"2021-11-01\""
     ]
    },
    {
     "name": "stdout",
     "output_type": "stream",
     "text": [
      " \"2021-11-01\""
     ]
    },
    {
     "name": "stdout",
     "output_type": "stream",
     "text": [
      " \"2021-11-01\""
     ]
    },
    {
     "name": "stdout",
     "output_type": "stream",
     "text": [
      " \"2021-11-01\""
     ]
    },
    {
     "name": "stdout",
     "output_type": "stream",
     "text": [
      "\n"
     ]
    },
    {
     "name": "stdout",
     "output_type": "stream",
     "text": [
      "[2961]"
     ]
    },
    {
     "name": "stdout",
     "output_type": "stream",
     "text": [
      " \"2021-11-01\""
     ]
    },
    {
     "name": "stdout",
     "output_type": "stream",
     "text": [
      " \"2021-11-01\""
     ]
    },
    {
     "name": "stdout",
     "output_type": "stream",
     "text": [
      " \"2021-11-01\""
     ]
    },
    {
     "name": "stdout",
     "output_type": "stream",
     "text": [
      " \"2021-11-01\""
     ]
    },
    {
     "name": "stdout",
     "output_type": "stream",
     "text": [
      " \"2021-11-01\""
     ]
    },
    {
     "name": "stdout",
     "output_type": "stream",
     "text": [
      "\n"
     ]
    },
    {
     "name": "stdout",
     "output_type": "stream",
     "text": [
      "[2966]"
     ]
    },
    {
     "name": "stdout",
     "output_type": "stream",
     "text": [
      " \"2021-11-01\""
     ]
    },
    {
     "name": "stdout",
     "output_type": "stream",
     "text": [
      " \"2021-11-01\""
     ]
    },
    {
     "name": "stdout",
     "output_type": "stream",
     "text": [
      " \"2021-11-08\""
     ]
    },
    {
     "name": "stdout",
     "output_type": "stream",
     "text": [
      " \"2021-11-08\""
     ]
    },
    {
     "name": "stdout",
     "output_type": "stream",
     "text": [
      " \"2021-11-08\""
     ]
    },
    {
     "name": "stdout",
     "output_type": "stream",
     "text": [
      "\n"
     ]
    },
    {
     "name": "stdout",
     "output_type": "stream",
     "text": [
      "[2971]"
     ]
    },
    {
     "name": "stdout",
     "output_type": "stream",
     "text": [
      " \"2021-11-08\""
     ]
    },
    {
     "name": "stdout",
     "output_type": "stream",
     "text": [
      " \"2021-11-08\""
     ]
    },
    {
     "name": "stdout",
     "output_type": "stream",
     "text": [
      " \"2021-11-08\""
     ]
    },
    {
     "name": "stdout",
     "output_type": "stream",
     "text": [
      " \"2021-11-08\""
     ]
    },
    {
     "name": "stdout",
     "output_type": "stream",
     "text": [
      " \"2021-11-08\""
     ]
    },
    {
     "name": "stdout",
     "output_type": "stream",
     "text": [
      "\n"
     ]
    },
    {
     "name": "stdout",
     "output_type": "stream",
     "text": [
      "[2976]"
     ]
    },
    {
     "name": "stdout",
     "output_type": "stream",
     "text": [
      " \"2021-11-08\""
     ]
    },
    {
     "name": "stdout",
     "output_type": "stream",
     "text": [
      " \"2021-11-08\""
     ]
    },
    {
     "name": "stdout",
     "output_type": "stream",
     "text": [
      " \"2021-11-08\""
     ]
    },
    {
     "name": "stdout",
     "output_type": "stream",
     "text": [
      " \"2021-11-08\""
     ]
    },
    {
     "name": "stdout",
     "output_type": "stream",
     "text": [
      " \"2021-11-08\""
     ]
    },
    {
     "name": "stdout",
     "output_type": "stream",
     "text": [
      "\n"
     ]
    },
    {
     "name": "stdout",
     "output_type": "stream",
     "text": [
      "[2981]"
     ]
    },
    {
     "name": "stdout",
     "output_type": "stream",
     "text": [
      " \"2021-11-08\""
     ]
    },
    {
     "name": "stdout",
     "output_type": "stream",
     "text": [
      " \"2021-11-08\""
     ]
    },
    {
     "name": "stdout",
     "output_type": "stream",
     "text": [
      " \"2021-11-08\""
     ]
    },
    {
     "name": "stdout",
     "output_type": "stream",
     "text": [
      " \"2021-11-08\""
     ]
    },
    {
     "name": "stdout",
     "output_type": "stream",
     "text": [
      " \"2021-11-08\""
     ]
    },
    {
     "name": "stdout",
     "output_type": "stream",
     "text": [
      "\n"
     ]
    },
    {
     "name": "stdout",
     "output_type": "stream",
     "text": [
      "[2986]"
     ]
    },
    {
     "name": "stdout",
     "output_type": "stream",
     "text": [
      " \"2021-11-08\""
     ]
    },
    {
     "name": "stdout",
     "output_type": "stream",
     "text": [
      " \"2021-11-08\""
     ]
    },
    {
     "name": "stdout",
     "output_type": "stream",
     "text": [
      " \"2021-11-08\""
     ]
    },
    {
     "name": "stdout",
     "output_type": "stream",
     "text": [
      " \"2021-11-08\""
     ]
    },
    {
     "name": "stdout",
     "output_type": "stream",
     "text": [
      " \"2021-11-08\""
     ]
    },
    {
     "name": "stdout",
     "output_type": "stream",
     "text": [
      "\n"
     ]
    },
    {
     "name": "stdout",
     "output_type": "stream",
     "text": [
      "[2991]"
     ]
    },
    {
     "name": "stdout",
     "output_type": "stream",
     "text": [
      " \"2021-11-08\""
     ]
    },
    {
     "name": "stdout",
     "output_type": "stream",
     "text": [
      " \"2021-11-08\""
     ]
    },
    {
     "name": "stdout",
     "output_type": "stream",
     "text": [
      " \"2021-11-08\""
     ]
    },
    {
     "name": "stdout",
     "output_type": "stream",
     "text": [
      " \"2021-11-08\""
     ]
    },
    {
     "name": "stdout",
     "output_type": "stream",
     "text": [
      " \"2021-11-08\""
     ]
    },
    {
     "name": "stdout",
     "output_type": "stream",
     "text": [
      "\n"
     ]
    },
    {
     "name": "stdout",
     "output_type": "stream",
     "text": [
      "[2996]"
     ]
    },
    {
     "name": "stdout",
     "output_type": "stream",
     "text": [
      " \"2021-11-08\""
     ]
    },
    {
     "name": "stdout",
     "output_type": "stream",
     "text": [
      " \"2021-11-08\""
     ]
    },
    {
     "name": "stdout",
     "output_type": "stream",
     "text": [
      " \"2021-11-08\""
     ]
    },
    {
     "name": "stdout",
     "output_type": "stream",
     "text": [
      " \"2021-11-08\""
     ]
    },
    {
     "name": "stdout",
     "output_type": "stream",
     "text": [
      " \"2021-11-08\""
     ]
    },
    {
     "name": "stdout",
     "output_type": "stream",
     "text": [
      "\n"
     ]
    },
    {
     "name": "stdout",
     "output_type": "stream",
     "text": [
      "[3001]"
     ]
    },
    {
     "name": "stdout",
     "output_type": "stream",
     "text": [
      " \"2021-11-08\""
     ]
    },
    {
     "name": "stdout",
     "output_type": "stream",
     "text": [
      " \"2021-11-08\""
     ]
    },
    {
     "name": "stdout",
     "output_type": "stream",
     "text": [
      " \"2021-11-08\""
     ]
    },
    {
     "name": "stdout",
     "output_type": "stream",
     "text": [
      " \"2021-11-08\""
     ]
    },
    {
     "name": "stdout",
     "output_type": "stream",
     "text": [
      " \"2021-11-08\""
     ]
    },
    {
     "name": "stdout",
     "output_type": "stream",
     "text": [
      "\n"
     ]
    },
    {
     "name": "stdout",
     "output_type": "stream",
     "text": [
      "[3006]"
     ]
    },
    {
     "name": "stdout",
     "output_type": "stream",
     "text": [
      " \"2021-11-08\""
     ]
    },
    {
     "name": "stdout",
     "output_type": "stream",
     "text": [
      " \"2021-11-08\""
     ]
    },
    {
     "name": "stdout",
     "output_type": "stream",
     "text": [
      " \"2021-11-08\""
     ]
    },
    {
     "name": "stdout",
     "output_type": "stream",
     "text": [
      " \"2021-11-08\""
     ]
    },
    {
     "name": "stdout",
     "output_type": "stream",
     "text": [
      " \"2021-11-08\""
     ]
    },
    {
     "name": "stdout",
     "output_type": "stream",
     "text": [
      "\n"
     ]
    },
    {
     "name": "stdout",
     "output_type": "stream",
     "text": [
      "[3011]"
     ]
    },
    {
     "name": "stdout",
     "output_type": "stream",
     "text": [
      " \"2021-11-08\""
     ]
    },
    {
     "name": "stdout",
     "output_type": "stream",
     "text": [
      " \"2021-11-08\""
     ]
    },
    {
     "name": "stdout",
     "output_type": "stream",
     "text": [
      " \"2021-11-08\""
     ]
    },
    {
     "name": "stdout",
     "output_type": "stream",
     "text": [
      " \"2021-11-08\""
     ]
    },
    {
     "name": "stdout",
     "output_type": "stream",
     "text": [
      " \"2021-11-08\""
     ]
    },
    {
     "name": "stdout",
     "output_type": "stream",
     "text": [
      "\n"
     ]
    },
    {
     "name": "stdout",
     "output_type": "stream",
     "text": [
      "[3016]"
     ]
    },
    {
     "name": "stdout",
     "output_type": "stream",
     "text": [
      " \"2021-11-08\""
     ]
    },
    {
     "name": "stdout",
     "output_type": "stream",
     "text": [
      " \"2021-11-08\""
     ]
    },
    {
     "name": "stdout",
     "output_type": "stream",
     "text": [
      " \"2021-11-08\""
     ]
    },
    {
     "name": "stdout",
     "output_type": "stream",
     "text": [
      " \"2021-11-08\""
     ]
    },
    {
     "name": "stdout",
     "output_type": "stream",
     "text": [
      " \"2021-11-08\""
     ]
    },
    {
     "name": "stdout",
     "output_type": "stream",
     "text": [
      "\n"
     ]
    },
    {
     "name": "stdout",
     "output_type": "stream",
     "text": [
      "[3021]"
     ]
    },
    {
     "name": "stdout",
     "output_type": "stream",
     "text": [
      " \"2021-11-08\""
     ]
    },
    {
     "name": "stdout",
     "output_type": "stream",
     "text": [
      " \"2021-11-08\""
     ]
    },
    {
     "name": "stdout",
     "output_type": "stream",
     "text": [
      " \"2021-11-08\""
     ]
    },
    {
     "name": "stdout",
     "output_type": "stream",
     "text": [
      " \"2021-11-08\""
     ]
    },
    {
     "name": "stdout",
     "output_type": "stream",
     "text": [
      " \"2021-11-08\""
     ]
    },
    {
     "name": "stdout",
     "output_type": "stream",
     "text": [
      "\n"
     ]
    },
    {
     "name": "stdout",
     "output_type": "stream",
     "text": [
      "[3026]"
     ]
    },
    {
     "name": "stdout",
     "output_type": "stream",
     "text": [
      " \"2021-11-08\""
     ]
    },
    {
     "name": "stdout",
     "output_type": "stream",
     "text": [
      " \"2021-11-08\""
     ]
    },
    {
     "name": "stdout",
     "output_type": "stream",
     "text": [
      " \"2021-11-08\""
     ]
    },
    {
     "name": "stdout",
     "output_type": "stream",
     "text": [
      " \"2021-11-08\""
     ]
    },
    {
     "name": "stdout",
     "output_type": "stream",
     "text": [
      " \"2021-11-08\""
     ]
    },
    {
     "name": "stdout",
     "output_type": "stream",
     "text": [
      "\n"
     ]
    },
    {
     "name": "stdout",
     "output_type": "stream",
     "text": [
      "[3031]"
     ]
    },
    {
     "name": "stdout",
     "output_type": "stream",
     "text": [
      " \"2021-11-08\""
     ]
    },
    {
     "name": "stdout",
     "output_type": "stream",
     "text": [
      " \"2021-11-08\""
     ]
    },
    {
     "name": "stdout",
     "output_type": "stream",
     "text": [
      " \"2021-11-08\""
     ]
    },
    {
     "name": "stdout",
     "output_type": "stream",
     "text": [
      " \"2021-11-08\""
     ]
    },
    {
     "name": "stdout",
     "output_type": "stream",
     "text": [
      " \"2021-11-08\""
     ]
    },
    {
     "name": "stdout",
     "output_type": "stream",
     "text": [
      "\n"
     ]
    },
    {
     "name": "stdout",
     "output_type": "stream",
     "text": [
      "[3036]"
     ]
    },
    {
     "name": "stdout",
     "output_type": "stream",
     "text": [
      " \"2021-11-08\""
     ]
    },
    {
     "name": "stdout",
     "output_type": "stream",
     "text": [
      " \"2021-11-15\""
     ]
    },
    {
     "name": "stdout",
     "output_type": "stream",
     "text": [
      " \"2021-11-15\""
     ]
    },
    {
     "name": "stdout",
     "output_type": "stream",
     "text": [
      " \"2021-11-15\""
     ]
    },
    {
     "name": "stdout",
     "output_type": "stream",
     "text": [
      " \"2021-11-15\""
     ]
    },
    {
     "name": "stdout",
     "output_type": "stream",
     "text": [
      "\n"
     ]
    },
    {
     "name": "stdout",
     "output_type": "stream",
     "text": [
      "[3041]"
     ]
    },
    {
     "name": "stdout",
     "output_type": "stream",
     "text": [
      " \"2021-11-15\""
     ]
    },
    {
     "name": "stdout",
     "output_type": "stream",
     "text": [
      " \"2021-11-15\""
     ]
    },
    {
     "name": "stdout",
     "output_type": "stream",
     "text": [
      " \"2021-11-15\""
     ]
    },
    {
     "name": "stdout",
     "output_type": "stream",
     "text": [
      " \"2021-11-15\""
     ]
    },
    {
     "name": "stdout",
     "output_type": "stream",
     "text": [
      " \"2021-11-15\""
     ]
    },
    {
     "name": "stdout",
     "output_type": "stream",
     "text": [
      "\n"
     ]
    },
    {
     "name": "stdout",
     "output_type": "stream",
     "text": [
      "[3046]"
     ]
    },
    {
     "name": "stdout",
     "output_type": "stream",
     "text": [
      " \"2021-11-15\""
     ]
    },
    {
     "name": "stdout",
     "output_type": "stream",
     "text": [
      " \"2021-11-15\""
     ]
    },
    {
     "name": "stdout",
     "output_type": "stream",
     "text": [
      " \"2021-11-15\""
     ]
    },
    {
     "name": "stdout",
     "output_type": "stream",
     "text": [
      " \"2021-11-15\""
     ]
    },
    {
     "name": "stdout",
     "output_type": "stream",
     "text": [
      " \"2021-11-15\""
     ]
    },
    {
     "name": "stdout",
     "output_type": "stream",
     "text": [
      "\n"
     ]
    },
    {
     "name": "stdout",
     "output_type": "stream",
     "text": [
      "[3051]"
     ]
    },
    {
     "name": "stdout",
     "output_type": "stream",
     "text": [
      " \"2021-11-15\""
     ]
    },
    {
     "name": "stdout",
     "output_type": "stream",
     "text": [
      " \"2021-11-15\""
     ]
    },
    {
     "name": "stdout",
     "output_type": "stream",
     "text": [
      " \"2021-11-15\""
     ]
    },
    {
     "name": "stdout",
     "output_type": "stream",
     "text": [
      " \"2021-11-15\""
     ]
    },
    {
     "name": "stdout",
     "output_type": "stream",
     "text": [
      " \"2021-11-15\""
     ]
    },
    {
     "name": "stdout",
     "output_type": "stream",
     "text": [
      "\n"
     ]
    },
    {
     "name": "stdout",
     "output_type": "stream",
     "text": [
      "[3056]"
     ]
    },
    {
     "name": "stdout",
     "output_type": "stream",
     "text": [
      " \"2021-11-15\""
     ]
    },
    {
     "name": "stdout",
     "output_type": "stream",
     "text": [
      " \"2021-11-15\""
     ]
    },
    {
     "name": "stdout",
     "output_type": "stream",
     "text": [
      " \"2021-11-15\""
     ]
    },
    {
     "name": "stdout",
     "output_type": "stream",
     "text": [
      " \"2021-11-15\""
     ]
    },
    {
     "name": "stdout",
     "output_type": "stream",
     "text": [
      " \"2021-11-15\""
     ]
    },
    {
     "name": "stdout",
     "output_type": "stream",
     "text": [
      "\n"
     ]
    },
    {
     "name": "stdout",
     "output_type": "stream",
     "text": [
      "[3061]"
     ]
    },
    {
     "name": "stdout",
     "output_type": "stream",
     "text": [
      " \"2021-11-15\""
     ]
    },
    {
     "name": "stdout",
     "output_type": "stream",
     "text": [
      " \"2021-11-15\""
     ]
    },
    {
     "name": "stdout",
     "output_type": "stream",
     "text": [
      " \"2021-11-15\""
     ]
    },
    {
     "name": "stdout",
     "output_type": "stream",
     "text": [
      " \"2021-11-15\""
     ]
    },
    {
     "name": "stdout",
     "output_type": "stream",
     "text": [
      " \"2021-11-15\""
     ]
    },
    {
     "name": "stdout",
     "output_type": "stream",
     "text": [
      "\n"
     ]
    },
    {
     "name": "stdout",
     "output_type": "stream",
     "text": [
      "[3066]"
     ]
    },
    {
     "name": "stdout",
     "output_type": "stream",
     "text": [
      " \"2021-11-15\""
     ]
    },
    {
     "name": "stdout",
     "output_type": "stream",
     "text": [
      " \"2021-11-15\""
     ]
    },
    {
     "name": "stdout",
     "output_type": "stream",
     "text": [
      " \"2021-11-15\""
     ]
    },
    {
     "name": "stdout",
     "output_type": "stream",
     "text": [
      " \"2021-11-15\""
     ]
    },
    {
     "name": "stdout",
     "output_type": "stream",
     "text": [
      " \"2021-11-15\""
     ]
    },
    {
     "name": "stdout",
     "output_type": "stream",
     "text": [
      "\n"
     ]
    },
    {
     "name": "stdout",
     "output_type": "stream",
     "text": [
      "[3071]"
     ]
    },
    {
     "name": "stdout",
     "output_type": "stream",
     "text": [
      " \"2021-11-15\""
     ]
    },
    {
     "name": "stdout",
     "output_type": "stream",
     "text": [
      " \"2021-11-15\""
     ]
    },
    {
     "name": "stdout",
     "output_type": "stream",
     "text": [
      " \"2021-11-15\""
     ]
    },
    {
     "name": "stdout",
     "output_type": "stream",
     "text": [
      " \"2021-11-15\""
     ]
    },
    {
     "name": "stdout",
     "output_type": "stream",
     "text": [
      " \"2021-11-15\""
     ]
    },
    {
     "name": "stdout",
     "output_type": "stream",
     "text": [
      "\n"
     ]
    },
    {
     "name": "stdout",
     "output_type": "stream",
     "text": [
      "[3076]"
     ]
    },
    {
     "name": "stdout",
     "output_type": "stream",
     "text": [
      " \"2021-11-15\""
     ]
    },
    {
     "name": "stdout",
     "output_type": "stream",
     "text": [
      " \"2021-11-15\""
     ]
    },
    {
     "name": "stdout",
     "output_type": "stream",
     "text": [
      " \"2021-11-15\""
     ]
    },
    {
     "name": "stdout",
     "output_type": "stream",
     "text": [
      " \"2021-11-15\""
     ]
    },
    {
     "name": "stdout",
     "output_type": "stream",
     "text": [
      " \"2021-11-15\""
     ]
    },
    {
     "name": "stdout",
     "output_type": "stream",
     "text": [
      "\n"
     ]
    },
    {
     "name": "stdout",
     "output_type": "stream",
     "text": [
      "[3081]"
     ]
    },
    {
     "name": "stdout",
     "output_type": "stream",
     "text": [
      " \"2021-11-15\""
     ]
    },
    {
     "name": "stdout",
     "output_type": "stream",
     "text": [
      " \"2021-11-15\""
     ]
    },
    {
     "name": "stdout",
     "output_type": "stream",
     "text": [
      " \"2021-11-15\""
     ]
    },
    {
     "name": "stdout",
     "output_type": "stream",
     "text": [
      " \"2021-11-15\""
     ]
    },
    {
     "name": "stdout",
     "output_type": "stream",
     "text": [
      " \"2021-11-15\""
     ]
    },
    {
     "name": "stdout",
     "output_type": "stream",
     "text": [
      "\n"
     ]
    },
    {
     "name": "stdout",
     "output_type": "stream",
     "text": [
      "[3086]"
     ]
    },
    {
     "name": "stdout",
     "output_type": "stream",
     "text": [
      " \"2021-11-15\""
     ]
    },
    {
     "name": "stdout",
     "output_type": "stream",
     "text": [
      " \"2021-11-15\""
     ]
    },
    {
     "name": "stdout",
     "output_type": "stream",
     "text": [
      " \"2021-11-15\""
     ]
    },
    {
     "name": "stdout",
     "output_type": "stream",
     "text": [
      " \"2021-11-15\""
     ]
    },
    {
     "name": "stdout",
     "output_type": "stream",
     "text": [
      " \"2021-11-15\""
     ]
    },
    {
     "name": "stdout",
     "output_type": "stream",
     "text": [
      "\n"
     ]
    },
    {
     "name": "stdout",
     "output_type": "stream",
     "text": [
      "[3091]"
     ]
    },
    {
     "name": "stdout",
     "output_type": "stream",
     "text": [
      " \"2021-11-15\""
     ]
    },
    {
     "name": "stdout",
     "output_type": "stream",
     "text": [
      " \"2021-11-15\""
     ]
    },
    {
     "name": "stdout",
     "output_type": "stream",
     "text": [
      " \"2021-11-15\""
     ]
    },
    {
     "name": "stdout",
     "output_type": "stream",
     "text": [
      " \"2021-11-15\""
     ]
    },
    {
     "name": "stdout",
     "output_type": "stream",
     "text": [
      " \"2021-11-15\""
     ]
    },
    {
     "name": "stdout",
     "output_type": "stream",
     "text": [
      "\n"
     ]
    },
    {
     "name": "stdout",
     "output_type": "stream",
     "text": [
      "[3096]"
     ]
    },
    {
     "name": "stdout",
     "output_type": "stream",
     "text": [
      " \"2021-11-15\""
     ]
    },
    {
     "name": "stdout",
     "output_type": "stream",
     "text": [
      " \"2021-11-15\""
     ]
    },
    {
     "name": "stdout",
     "output_type": "stream",
     "text": [
      " \"2021-11-15\""
     ]
    },
    {
     "name": "stdout",
     "output_type": "stream",
     "text": [
      " \"2021-11-15\""
     ]
    },
    {
     "name": "stdout",
     "output_type": "stream",
     "text": [
      " \"2021-11-15\""
     ]
    },
    {
     "name": "stdout",
     "output_type": "stream",
     "text": [
      "\n"
     ]
    },
    {
     "name": "stdout",
     "output_type": "stream",
     "text": [
      "[3101]"
     ]
    },
    {
     "name": "stdout",
     "output_type": "stream",
     "text": [
      " \"2021-11-15\""
     ]
    },
    {
     "name": "stdout",
     "output_type": "stream",
     "text": [
      " \"2021-11-15\""
     ]
    },
    {
     "name": "stdout",
     "output_type": "stream",
     "text": [
      " \"2021-11-15\""
     ]
    },
    {
     "name": "stdout",
     "output_type": "stream",
     "text": [
      " \"2021-11-15\""
     ]
    },
    {
     "name": "stdout",
     "output_type": "stream",
     "text": [
      " \"2021-11-15\""
     ]
    },
    {
     "name": "stdout",
     "output_type": "stream",
     "text": [
      "\n"
     ]
    },
    {
     "name": "stdout",
     "output_type": "stream",
     "text": [
      "[3106]"
     ]
    },
    {
     "name": "stdout",
     "output_type": "stream",
     "text": [
      " \"2021-11-22\""
     ]
    },
    {
     "name": "stdout",
     "output_type": "stream",
     "text": [
      " \"2021-11-22\""
     ]
    },
    {
     "name": "stdout",
     "output_type": "stream",
     "text": [
      " \"2021-11-22\""
     ]
    },
    {
     "name": "stdout",
     "output_type": "stream",
     "text": [
      " \"2021-11-22\""
     ]
    },
    {
     "name": "stdout",
     "output_type": "stream",
     "text": [
      " \"2021-11-22\""
     ]
    },
    {
     "name": "stdout",
     "output_type": "stream",
     "text": [
      "\n"
     ]
    },
    {
     "name": "stdout",
     "output_type": "stream",
     "text": [
      "[3111]"
     ]
    },
    {
     "name": "stdout",
     "output_type": "stream",
     "text": [
      " \"2021-11-22\""
     ]
    },
    {
     "name": "stdout",
     "output_type": "stream",
     "text": [
      " \"2021-11-22\""
     ]
    },
    {
     "name": "stdout",
     "output_type": "stream",
     "text": [
      " \"2021-11-22\""
     ]
    },
    {
     "name": "stdout",
     "output_type": "stream",
     "text": [
      " \"2021-11-22\""
     ]
    },
    {
     "name": "stdout",
     "output_type": "stream",
     "text": [
      " \"2021-11-22\""
     ]
    },
    {
     "name": "stdout",
     "output_type": "stream",
     "text": [
      "\n"
     ]
    },
    {
     "name": "stdout",
     "output_type": "stream",
     "text": [
      "[3116]"
     ]
    },
    {
     "name": "stdout",
     "output_type": "stream",
     "text": [
      " \"2021-11-22\""
     ]
    },
    {
     "name": "stdout",
     "output_type": "stream",
     "text": [
      " \"2021-11-22\""
     ]
    },
    {
     "name": "stdout",
     "output_type": "stream",
     "text": [
      " \"2021-11-22\""
     ]
    },
    {
     "name": "stdout",
     "output_type": "stream",
     "text": [
      " \"2021-11-22\""
     ]
    },
    {
     "name": "stdout",
     "output_type": "stream",
     "text": [
      " \"2021-11-22\""
     ]
    },
    {
     "name": "stdout",
     "output_type": "stream",
     "text": [
      "\n"
     ]
    },
    {
     "name": "stdout",
     "output_type": "stream",
     "text": [
      "[3121]"
     ]
    },
    {
     "name": "stdout",
     "output_type": "stream",
     "text": [
      " \"2021-11-22\""
     ]
    },
    {
     "name": "stdout",
     "output_type": "stream",
     "text": [
      " \"2021-11-22\""
     ]
    },
    {
     "name": "stdout",
     "output_type": "stream",
     "text": [
      " \"2021-11-22\""
     ]
    },
    {
     "name": "stdout",
     "output_type": "stream",
     "text": [
      " \"2021-11-22\""
     ]
    },
    {
     "name": "stdout",
     "output_type": "stream",
     "text": [
      " \"2021-11-22\""
     ]
    },
    {
     "name": "stdout",
     "output_type": "stream",
     "text": [
      "\n"
     ]
    },
    {
     "name": "stdout",
     "output_type": "stream",
     "text": [
      "[3126]"
     ]
    },
    {
     "name": "stdout",
     "output_type": "stream",
     "text": [
      " \"2021-11-22\""
     ]
    },
    {
     "name": "stdout",
     "output_type": "stream",
     "text": [
      " \"2021-11-22\""
     ]
    },
    {
     "name": "stdout",
     "output_type": "stream",
     "text": [
      " \"2021-11-22\""
     ]
    },
    {
     "name": "stdout",
     "output_type": "stream",
     "text": [
      " \"2021-11-22\""
     ]
    },
    {
     "name": "stdout",
     "output_type": "stream",
     "text": [
      " \"2021-11-22\""
     ]
    },
    {
     "name": "stdout",
     "output_type": "stream",
     "text": [
      "\n"
     ]
    },
    {
     "name": "stdout",
     "output_type": "stream",
     "text": [
      "[3131]"
     ]
    },
    {
     "name": "stdout",
     "output_type": "stream",
     "text": [
      " \"2021-11-22\""
     ]
    },
    {
     "name": "stdout",
     "output_type": "stream",
     "text": [
      " \"2021-11-22\""
     ]
    },
    {
     "name": "stdout",
     "output_type": "stream",
     "text": [
      " \"2021-11-22\""
     ]
    },
    {
     "name": "stdout",
     "output_type": "stream",
     "text": [
      " \"2021-11-22\""
     ]
    },
    {
     "name": "stdout",
     "output_type": "stream",
     "text": [
      " \"2021-11-22\""
     ]
    },
    {
     "name": "stdout",
     "output_type": "stream",
     "text": [
      "\n"
     ]
    },
    {
     "name": "stdout",
     "output_type": "stream",
     "text": [
      "[3136]"
     ]
    },
    {
     "name": "stdout",
     "output_type": "stream",
     "text": [
      " \"2021-11-22\""
     ]
    },
    {
     "name": "stdout",
     "output_type": "stream",
     "text": [
      " \"2021-11-22\""
     ]
    },
    {
     "name": "stdout",
     "output_type": "stream",
     "text": [
      " \"2021-11-22\""
     ]
    },
    {
     "name": "stdout",
     "output_type": "stream",
     "text": [
      " \"2021-11-22\""
     ]
    },
    {
     "name": "stdout",
     "output_type": "stream",
     "text": [
      " \"2021-11-22\""
     ]
    },
    {
     "name": "stdout",
     "output_type": "stream",
     "text": [
      "\n"
     ]
    },
    {
     "name": "stdout",
     "output_type": "stream",
     "text": [
      "[3141]"
     ]
    },
    {
     "name": "stdout",
     "output_type": "stream",
     "text": [
      " \"2021-11-22\""
     ]
    },
    {
     "name": "stdout",
     "output_type": "stream",
     "text": [
      " \"2021-11-22\""
     ]
    },
    {
     "name": "stdout",
     "output_type": "stream",
     "text": [
      " \"2021-11-22\""
     ]
    },
    {
     "name": "stdout",
     "output_type": "stream",
     "text": [
      " \"2021-11-22\""
     ]
    },
    {
     "name": "stdout",
     "output_type": "stream",
     "text": [
      " \"2021-11-22\""
     ]
    },
    {
     "name": "stdout",
     "output_type": "stream",
     "text": [
      "\n"
     ]
    },
    {
     "name": "stdout",
     "output_type": "stream",
     "text": [
      "[3146]"
     ]
    },
    {
     "name": "stdout",
     "output_type": "stream",
     "text": [
      " \"2021-11-22\""
     ]
    },
    {
     "name": "stdout",
     "output_type": "stream",
     "text": [
      " \"2021-11-22\""
     ]
    },
    {
     "name": "stdout",
     "output_type": "stream",
     "text": [
      " \"2021-11-22\""
     ]
    },
    {
     "name": "stdout",
     "output_type": "stream",
     "text": [
      " \"2021-11-22\""
     ]
    },
    {
     "name": "stdout",
     "output_type": "stream",
     "text": [
      " \"2021-11-22\""
     ]
    },
    {
     "name": "stdout",
     "output_type": "stream",
     "text": [
      "\n"
     ]
    },
    {
     "name": "stdout",
     "output_type": "stream",
     "text": [
      "[3151]"
     ]
    },
    {
     "name": "stdout",
     "output_type": "stream",
     "text": [
      " \"2021-11-22\""
     ]
    },
    {
     "name": "stdout",
     "output_type": "stream",
     "text": [
      " \"2021-11-22\""
     ]
    },
    {
     "name": "stdout",
     "output_type": "stream",
     "text": [
      " \"2021-11-22\""
     ]
    },
    {
     "name": "stdout",
     "output_type": "stream",
     "text": [
      " \"2021-11-22\""
     ]
    },
    {
     "name": "stdout",
     "output_type": "stream",
     "text": [
      " \"2021-11-22\""
     ]
    },
    {
     "name": "stdout",
     "output_type": "stream",
     "text": [
      "\n"
     ]
    },
    {
     "name": "stdout",
     "output_type": "stream",
     "text": [
      "[3156]"
     ]
    },
    {
     "name": "stdout",
     "output_type": "stream",
     "text": [
      " \"2021-11-22\""
     ]
    },
    {
     "name": "stdout",
     "output_type": "stream",
     "text": [
      " \"2021-11-22\""
     ]
    },
    {
     "name": "stdout",
     "output_type": "stream",
     "text": [
      " \"2021-11-22\""
     ]
    },
    {
     "name": "stdout",
     "output_type": "stream",
     "text": [
      " \"2021-11-22\""
     ]
    },
    {
     "name": "stdout",
     "output_type": "stream",
     "text": [
      " \"2021-11-22\""
     ]
    },
    {
     "name": "stdout",
     "output_type": "stream",
     "text": [
      "\n"
     ]
    },
    {
     "name": "stdout",
     "output_type": "stream",
     "text": [
      "[3161]"
     ]
    },
    {
     "name": "stdout",
     "output_type": "stream",
     "text": [
      " \"2021-11-22\""
     ]
    },
    {
     "name": "stdout",
     "output_type": "stream",
     "text": [
      " \"2021-11-22\""
     ]
    },
    {
     "name": "stdout",
     "output_type": "stream",
     "text": [
      " \"2021-11-22\""
     ]
    },
    {
     "name": "stdout",
     "output_type": "stream",
     "text": [
      " \"2021-11-22\""
     ]
    },
    {
     "name": "stdout",
     "output_type": "stream",
     "text": [
      " \"2021-11-22\""
     ]
    },
    {
     "name": "stdout",
     "output_type": "stream",
     "text": [
      "\n"
     ]
    },
    {
     "name": "stdout",
     "output_type": "stream",
     "text": [
      "[3166]"
     ]
    },
    {
     "name": "stdout",
     "output_type": "stream",
     "text": [
      " \"2021-11-22\""
     ]
    },
    {
     "name": "stdout",
     "output_type": "stream",
     "text": [
      " \"2021-11-22\""
     ]
    },
    {
     "name": "stdout",
     "output_type": "stream",
     "text": [
      " \"2021-11-22\""
     ]
    },
    {
     "name": "stdout",
     "output_type": "stream",
     "text": [
      " \"2021-11-22\""
     ]
    },
    {
     "name": "stdout",
     "output_type": "stream",
     "text": [
      " \"2021-11-22\""
     ]
    },
    {
     "name": "stdout",
     "output_type": "stream",
     "text": [
      "\n"
     ]
    },
    {
     "name": "stdout",
     "output_type": "stream",
     "text": [
      "[3171]"
     ]
    },
    {
     "name": "stdout",
     "output_type": "stream",
     "text": [
      " \"2021-11-22\""
     ]
    },
    {
     "name": "stdout",
     "output_type": "stream",
     "text": [
      " \"2021-11-22\""
     ]
    },
    {
     "name": "stdout",
     "output_type": "stream",
     "text": [
      " \"2021-11-22\""
     ]
    },
    {
     "name": "stdout",
     "output_type": "stream",
     "text": [
      " \"2021-11-22\""
     ]
    },
    {
     "name": "stdout",
     "output_type": "stream",
     "text": [
      " \"2021-11-29\""
     ]
    },
    {
     "name": "stdout",
     "output_type": "stream",
     "text": [
      "\n"
     ]
    },
    {
     "name": "stdout",
     "output_type": "stream",
     "text": [
      "[3176]"
     ]
    },
    {
     "name": "stdout",
     "output_type": "stream",
     "text": [
      " \"2021-11-29\""
     ]
    },
    {
     "name": "stdout",
     "output_type": "stream",
     "text": [
      " \"2021-11-29\""
     ]
    },
    {
     "name": "stdout",
     "output_type": "stream",
     "text": [
      " \"2021-11-29\""
     ]
    },
    {
     "name": "stdout",
     "output_type": "stream",
     "text": [
      " \"2021-11-29\""
     ]
    },
    {
     "name": "stdout",
     "output_type": "stream",
     "text": [
      " \"2021-11-29\""
     ]
    },
    {
     "name": "stdout",
     "output_type": "stream",
     "text": [
      "\n"
     ]
    },
    {
     "name": "stdout",
     "output_type": "stream",
     "text": [
      "[3181]"
     ]
    },
    {
     "name": "stdout",
     "output_type": "stream",
     "text": [
      " \"2021-11-29\""
     ]
    },
    {
     "name": "stdout",
     "output_type": "stream",
     "text": [
      " \"2021-11-29\""
     ]
    },
    {
     "name": "stdout",
     "output_type": "stream",
     "text": [
      " \"2021-11-29\""
     ]
    },
    {
     "name": "stdout",
     "output_type": "stream",
     "text": [
      " \"2021-11-29\""
     ]
    },
    {
     "name": "stdout",
     "output_type": "stream",
     "text": [
      " \"2021-11-29\""
     ]
    },
    {
     "name": "stdout",
     "output_type": "stream",
     "text": [
      "\n"
     ]
    },
    {
     "name": "stdout",
     "output_type": "stream",
     "text": [
      "[3186]"
     ]
    },
    {
     "name": "stdout",
     "output_type": "stream",
     "text": [
      " \"2021-11-29\""
     ]
    },
    {
     "name": "stdout",
     "output_type": "stream",
     "text": [
      " \"2021-11-29\""
     ]
    },
    {
     "name": "stdout",
     "output_type": "stream",
     "text": [
      " \"2021-11-29\""
     ]
    },
    {
     "name": "stdout",
     "output_type": "stream",
     "text": [
      " \"2021-11-29\""
     ]
    },
    {
     "name": "stdout",
     "output_type": "stream",
     "text": [
      " \"2021-11-29\""
     ]
    },
    {
     "name": "stdout",
     "output_type": "stream",
     "text": [
      "\n"
     ]
    },
    {
     "name": "stdout",
     "output_type": "stream",
     "text": [
      "[3191]"
     ]
    },
    {
     "name": "stdout",
     "output_type": "stream",
     "text": [
      " \"2021-11-29\""
     ]
    },
    {
     "name": "stdout",
     "output_type": "stream",
     "text": [
      " \"2021-11-29\""
     ]
    },
    {
     "name": "stdout",
     "output_type": "stream",
     "text": [
      " \"2021-11-29\""
     ]
    },
    {
     "name": "stdout",
     "output_type": "stream",
     "text": [
      " \"2021-11-29\""
     ]
    },
    {
     "name": "stdout",
     "output_type": "stream",
     "text": [
      " \"2021-11-29\""
     ]
    },
    {
     "name": "stdout",
     "output_type": "stream",
     "text": [
      "\n"
     ]
    },
    {
     "name": "stdout",
     "output_type": "stream",
     "text": [
      "[3196]"
     ]
    },
    {
     "name": "stdout",
     "output_type": "stream",
     "text": [
      " \"2021-11-29\""
     ]
    },
    {
     "name": "stdout",
     "output_type": "stream",
     "text": [
      " \"2021-11-29\""
     ]
    },
    {
     "name": "stdout",
     "output_type": "stream",
     "text": [
      " \"2021-11-29\""
     ]
    },
    {
     "name": "stdout",
     "output_type": "stream",
     "text": [
      " \"2021-11-29\""
     ]
    },
    {
     "name": "stdout",
     "output_type": "stream",
     "text": [
      " \"2021-11-29\""
     ]
    },
    {
     "name": "stdout",
     "output_type": "stream",
     "text": [
      "\n"
     ]
    },
    {
     "name": "stdout",
     "output_type": "stream",
     "text": [
      "[3201]"
     ]
    },
    {
     "name": "stdout",
     "output_type": "stream",
     "text": [
      " \"2021-11-29\""
     ]
    },
    {
     "name": "stdout",
     "output_type": "stream",
     "text": [
      " \"2021-11-29\""
     ]
    },
    {
     "name": "stdout",
     "output_type": "stream",
     "text": [
      " \"2021-11-29\""
     ]
    },
    {
     "name": "stdout",
     "output_type": "stream",
     "text": [
      " \"2021-11-29\""
     ]
    },
    {
     "name": "stdout",
     "output_type": "stream",
     "text": [
      " \"2021-11-29\""
     ]
    },
    {
     "name": "stdout",
     "output_type": "stream",
     "text": [
      "\n"
     ]
    },
    {
     "name": "stdout",
     "output_type": "stream",
     "text": [
      "[3206]"
     ]
    },
    {
     "name": "stdout",
     "output_type": "stream",
     "text": [
      " \"2021-11-29\""
     ]
    },
    {
     "name": "stdout",
     "output_type": "stream",
     "text": [
      " \"2021-11-29\""
     ]
    },
    {
     "name": "stdout",
     "output_type": "stream",
     "text": [
      " \"2021-11-29\""
     ]
    },
    {
     "name": "stdout",
     "output_type": "stream",
     "text": [
      " \"2021-11-29\""
     ]
    },
    {
     "name": "stdout",
     "output_type": "stream",
     "text": [
      " \"2021-11-29\""
     ]
    },
    {
     "name": "stdout",
     "output_type": "stream",
     "text": [
      "\n"
     ]
    },
    {
     "name": "stdout",
     "output_type": "stream",
     "text": [
      "[3211]"
     ]
    },
    {
     "name": "stdout",
     "output_type": "stream",
     "text": [
      " \"2021-11-29\""
     ]
    },
    {
     "name": "stdout",
     "output_type": "stream",
     "text": [
      " \"2021-11-29\""
     ]
    },
    {
     "name": "stdout",
     "output_type": "stream",
     "text": [
      " \"2021-11-29\""
     ]
    },
    {
     "name": "stdout",
     "output_type": "stream",
     "text": [
      " \"2021-11-29\""
     ]
    },
    {
     "name": "stdout",
     "output_type": "stream",
     "text": [
      " \"2021-11-29\""
     ]
    },
    {
     "name": "stdout",
     "output_type": "stream",
     "text": [
      "\n"
     ]
    },
    {
     "name": "stdout",
     "output_type": "stream",
     "text": [
      "[3216]"
     ]
    },
    {
     "name": "stdout",
     "output_type": "stream",
     "text": [
      " \"2021-11-29\""
     ]
    },
    {
     "name": "stdout",
     "output_type": "stream",
     "text": [
      " \"2021-11-29\""
     ]
    },
    {
     "name": "stdout",
     "output_type": "stream",
     "text": [
      " \"2021-11-29\""
     ]
    },
    {
     "name": "stdout",
     "output_type": "stream",
     "text": [
      " \"2021-11-29\""
     ]
    },
    {
     "name": "stdout",
     "output_type": "stream",
     "text": [
      " \"2021-11-29\""
     ]
    },
    {
     "name": "stdout",
     "output_type": "stream",
     "text": [
      "\n"
     ]
    },
    {
     "name": "stdout",
     "output_type": "stream",
     "text": [
      "[3221]"
     ]
    },
    {
     "name": "stdout",
     "output_type": "stream",
     "text": [
      " \"2021-11-29\""
     ]
    },
    {
     "name": "stdout",
     "output_type": "stream",
     "text": [
      " \"2021-11-29\""
     ]
    },
    {
     "name": "stdout",
     "output_type": "stream",
     "text": [
      " \"2021-11-29\""
     ]
    },
    {
     "name": "stdout",
     "output_type": "stream",
     "text": [
      " \"2021-11-29\""
     ]
    },
    {
     "name": "stdout",
     "output_type": "stream",
     "text": [
      " \"2021-11-29\""
     ]
    },
    {
     "name": "stdout",
     "output_type": "stream",
     "text": [
      "\n"
     ]
    },
    {
     "name": "stdout",
     "output_type": "stream",
     "text": [
      "[3226]"
     ]
    },
    {
     "name": "stdout",
     "output_type": "stream",
     "text": [
      " \"2021-11-29\""
     ]
    },
    {
     "name": "stdout",
     "output_type": "stream",
     "text": [
      " \"2021-11-29\""
     ]
    },
    {
     "name": "stdout",
     "output_type": "stream",
     "text": [
      " \"2021-11-29\""
     ]
    },
    {
     "name": "stdout",
     "output_type": "stream",
     "text": [
      " \"2021-11-29\""
     ]
    },
    {
     "name": "stdout",
     "output_type": "stream",
     "text": [
      " \"2021-11-29\""
     ]
    },
    {
     "name": "stdout",
     "output_type": "stream",
     "text": [
      "\n"
     ]
    },
    {
     "name": "stdout",
     "output_type": "stream",
     "text": [
      "[3231]"
     ]
    },
    {
     "name": "stdout",
     "output_type": "stream",
     "text": [
      " \"2021-11-29\""
     ]
    },
    {
     "name": "stdout",
     "output_type": "stream",
     "text": [
      " \"2021-11-29\""
     ]
    },
    {
     "name": "stdout",
     "output_type": "stream",
     "text": [
      " \"2021-11-29\""
     ]
    },
    {
     "name": "stdout",
     "output_type": "stream",
     "text": [
      " \"2021-11-29\""
     ]
    },
    {
     "name": "stdout",
     "output_type": "stream",
     "text": [
      " \"2021-11-29\""
     ]
    },
    {
     "name": "stdout",
     "output_type": "stream",
     "text": [
      "\n"
     ]
    },
    {
     "name": "stdout",
     "output_type": "stream",
     "text": [
      "[3236]"
     ]
    },
    {
     "name": "stdout",
     "output_type": "stream",
     "text": [
      " \"2021-11-29\""
     ]
    },
    {
     "name": "stdout",
     "output_type": "stream",
     "text": [
      " \"2021-11-29\""
     ]
    },
    {
     "name": "stdout",
     "output_type": "stream",
     "text": [
      " \"2021-11-29\""
     ]
    },
    {
     "name": "stdout",
     "output_type": "stream",
     "text": [
      " \"2021-11-29\""
     ]
    },
    {
     "name": "stdout",
     "output_type": "stream",
     "text": [
      " \"2021-11-29\""
     ]
    },
    {
     "name": "stdout",
     "output_type": "stream",
     "text": [
      "\n"
     ]
    },
    {
     "name": "stdout",
     "output_type": "stream",
     "text": [
      "[3241]"
     ]
    },
    {
     "name": "stdout",
     "output_type": "stream",
     "text": [
      " \"2021-11-29\""
     ]
    },
    {
     "name": "stdout",
     "output_type": "stream",
     "text": [
      " \"2021-11-29\""
     ]
    },
    {
     "name": "stdout",
     "output_type": "stream",
     "text": [
      " \"2021-11-29\""
     ]
    },
    {
     "name": "stdout",
     "output_type": "stream",
     "text": [
      " \"2021-12-06\""
     ]
    },
    {
     "name": "stdout",
     "output_type": "stream",
     "text": [
      " \"2021-12-06\""
     ]
    },
    {
     "name": "stdout",
     "output_type": "stream",
     "text": [
      "\n"
     ]
    },
    {
     "name": "stdout",
     "output_type": "stream",
     "text": [
      "[3246]"
     ]
    },
    {
     "name": "stdout",
     "output_type": "stream",
     "text": [
      " \"2021-12-06\""
     ]
    },
    {
     "name": "stdout",
     "output_type": "stream",
     "text": [
      " \"2021-12-06\""
     ]
    },
    {
     "name": "stdout",
     "output_type": "stream",
     "text": [
      " \"2021-12-06\""
     ]
    },
    {
     "name": "stdout",
     "output_type": "stream",
     "text": [
      " \"2021-12-06\""
     ]
    },
    {
     "name": "stdout",
     "output_type": "stream",
     "text": [
      " \"2021-12-06\""
     ]
    },
    {
     "name": "stdout",
     "output_type": "stream",
     "text": [
      "\n"
     ]
    },
    {
     "name": "stdout",
     "output_type": "stream",
     "text": [
      "[3251]"
     ]
    },
    {
     "name": "stdout",
     "output_type": "stream",
     "text": [
      " \"2021-12-06\""
     ]
    },
    {
     "name": "stdout",
     "output_type": "stream",
     "text": [
      " \"2021-12-06\""
     ]
    },
    {
     "name": "stdout",
     "output_type": "stream",
     "text": [
      " \"2021-12-06\""
     ]
    },
    {
     "name": "stdout",
     "output_type": "stream",
     "text": [
      " \"2021-12-06\""
     ]
    },
    {
     "name": "stdout",
     "output_type": "stream",
     "text": [
      " \"2021-12-06\""
     ]
    },
    {
     "name": "stdout",
     "output_type": "stream",
     "text": [
      "\n"
     ]
    },
    {
     "name": "stdout",
     "output_type": "stream",
     "text": [
      "[3256]"
     ]
    },
    {
     "name": "stdout",
     "output_type": "stream",
     "text": [
      " \"2021-12-06\""
     ]
    },
    {
     "name": "stdout",
     "output_type": "stream",
     "text": [
      " \"2021-12-06\""
     ]
    },
    {
     "name": "stdout",
     "output_type": "stream",
     "text": [
      " \"2021-12-06\""
     ]
    },
    {
     "name": "stdout",
     "output_type": "stream",
     "text": [
      " \"2021-12-06\""
     ]
    },
    {
     "name": "stdout",
     "output_type": "stream",
     "text": [
      " \"2021-12-06\""
     ]
    },
    {
     "name": "stdout",
     "output_type": "stream",
     "text": [
      "\n"
     ]
    },
    {
     "name": "stdout",
     "output_type": "stream",
     "text": [
      "[3261]"
     ]
    },
    {
     "name": "stdout",
     "output_type": "stream",
     "text": [
      " \"2021-12-06\""
     ]
    },
    {
     "name": "stdout",
     "output_type": "stream",
     "text": [
      " \"2021-12-06\""
     ]
    },
    {
     "name": "stdout",
     "output_type": "stream",
     "text": [
      " \"2021-12-06\""
     ]
    },
    {
     "name": "stdout",
     "output_type": "stream",
     "text": [
      " \"2021-12-06\""
     ]
    },
    {
     "name": "stdout",
     "output_type": "stream",
     "text": [
      " \"2021-12-06\""
     ]
    },
    {
     "name": "stdout",
     "output_type": "stream",
     "text": [
      "\n"
     ]
    },
    {
     "name": "stdout",
     "output_type": "stream",
     "text": [
      "[3266]"
     ]
    },
    {
     "name": "stdout",
     "output_type": "stream",
     "text": [
      " \"2021-12-06\""
     ]
    },
    {
     "name": "stdout",
     "output_type": "stream",
     "text": [
      " \"2021-12-06\""
     ]
    },
    {
     "name": "stdout",
     "output_type": "stream",
     "text": [
      " \"2021-12-06\""
     ]
    },
    {
     "name": "stdout",
     "output_type": "stream",
     "text": [
      " \"2021-12-06\""
     ]
    },
    {
     "name": "stdout",
     "output_type": "stream",
     "text": [
      " \"2021-12-06\""
     ]
    },
    {
     "name": "stdout",
     "output_type": "stream",
     "text": [
      "\n"
     ]
    },
    {
     "name": "stdout",
     "output_type": "stream",
     "text": [
      "[3271]"
     ]
    },
    {
     "name": "stdout",
     "output_type": "stream",
     "text": [
      " \"2021-12-06\""
     ]
    },
    {
     "name": "stdout",
     "output_type": "stream",
     "text": [
      " \"2021-12-06\""
     ]
    },
    {
     "name": "stdout",
     "output_type": "stream",
     "text": [
      " \"2021-12-06\""
     ]
    },
    {
     "name": "stdout",
     "output_type": "stream",
     "text": [
      " \"2021-12-06\""
     ]
    },
    {
     "name": "stdout",
     "output_type": "stream",
     "text": [
      " \"2021-12-06\""
     ]
    },
    {
     "name": "stdout",
     "output_type": "stream",
     "text": [
      "\n"
     ]
    },
    {
     "name": "stdout",
     "output_type": "stream",
     "text": [
      "[3276]"
     ]
    },
    {
     "name": "stdout",
     "output_type": "stream",
     "text": [
      " \"2021-12-06\""
     ]
    },
    {
     "name": "stdout",
     "output_type": "stream",
     "text": [
      " \"2021-12-06\""
     ]
    },
    {
     "name": "stdout",
     "output_type": "stream",
     "text": [
      " \"2021-12-06\""
     ]
    },
    {
     "name": "stdout",
     "output_type": "stream",
     "text": [
      " \"2021-12-06\""
     ]
    },
    {
     "name": "stdout",
     "output_type": "stream",
     "text": [
      " \"2021-12-06\""
     ]
    },
    {
     "name": "stdout",
     "output_type": "stream",
     "text": [
      "\n"
     ]
    },
    {
     "name": "stdout",
     "output_type": "stream",
     "text": [
      "[3281]"
     ]
    },
    {
     "name": "stdout",
     "output_type": "stream",
     "text": [
      " \"2021-12-06\""
     ]
    },
    {
     "name": "stdout",
     "output_type": "stream",
     "text": [
      " \"2021-12-06\""
     ]
    },
    {
     "name": "stdout",
     "output_type": "stream",
     "text": [
      " \"2021-12-06\""
     ]
    },
    {
     "name": "stdout",
     "output_type": "stream",
     "text": [
      " \"2021-12-06\""
     ]
    },
    {
     "name": "stdout",
     "output_type": "stream",
     "text": [
      " \"2021-12-06\""
     ]
    },
    {
     "name": "stdout",
     "output_type": "stream",
     "text": [
      "\n"
     ]
    },
    {
     "name": "stdout",
     "output_type": "stream",
     "text": [
      "[3286]"
     ]
    },
    {
     "name": "stdout",
     "output_type": "stream",
     "text": [
      " \"2021-12-06\""
     ]
    },
    {
     "name": "stdout",
     "output_type": "stream",
     "text": [
      " \"2021-12-06\""
     ]
    },
    {
     "name": "stdout",
     "output_type": "stream",
     "text": [
      " \"2021-12-06\""
     ]
    },
    {
     "name": "stdout",
     "output_type": "stream",
     "text": [
      " \"2021-12-06\""
     ]
    },
    {
     "name": "stdout",
     "output_type": "stream",
     "text": [
      " \"2021-12-06\""
     ]
    },
    {
     "name": "stdout",
     "output_type": "stream",
     "text": [
      "\n"
     ]
    },
    {
     "name": "stdout",
     "output_type": "stream",
     "text": [
      "[3291]"
     ]
    },
    {
     "name": "stdout",
     "output_type": "stream",
     "text": [
      " \"2021-12-06\""
     ]
    },
    {
     "name": "stdout",
     "output_type": "stream",
     "text": [
      " \"2021-12-06\""
     ]
    },
    {
     "name": "stdout",
     "output_type": "stream",
     "text": [
      " \"2021-12-06\""
     ]
    },
    {
     "name": "stdout",
     "output_type": "stream",
     "text": [
      " \"2021-12-06\""
     ]
    },
    {
     "name": "stdout",
     "output_type": "stream",
     "text": [
      " \"2021-12-06\""
     ]
    },
    {
     "name": "stdout",
     "output_type": "stream",
     "text": [
      "\n"
     ]
    },
    {
     "name": "stdout",
     "output_type": "stream",
     "text": [
      "[3296]"
     ]
    },
    {
     "name": "stdout",
     "output_type": "stream",
     "text": [
      " \"2021-12-06\""
     ]
    },
    {
     "name": "stdout",
     "output_type": "stream",
     "text": [
      " \"2021-12-06\""
     ]
    },
    {
     "name": "stdout",
     "output_type": "stream",
     "text": [
      " \"2021-12-06\""
     ]
    },
    {
     "name": "stdout",
     "output_type": "stream",
     "text": [
      " \"2021-12-06\""
     ]
    },
    {
     "name": "stdout",
     "output_type": "stream",
     "text": [
      " \"2021-12-06\""
     ]
    },
    {
     "name": "stdout",
     "output_type": "stream",
     "text": [
      "\n"
     ]
    },
    {
     "name": "stdout",
     "output_type": "stream",
     "text": [
      "[3301]"
     ]
    },
    {
     "name": "stdout",
     "output_type": "stream",
     "text": [
      " \"2021-12-06\""
     ]
    },
    {
     "name": "stdout",
     "output_type": "stream",
     "text": [
      " \"2021-12-06\""
     ]
    },
    {
     "name": "stdout",
     "output_type": "stream",
     "text": [
      " \"2021-12-06\""
     ]
    },
    {
     "name": "stdout",
     "output_type": "stream",
     "text": [
      " \"2021-12-06\""
     ]
    },
    {
     "name": "stdout",
     "output_type": "stream",
     "text": [
      " \"2021-12-06\""
     ]
    },
    {
     "name": "stdout",
     "output_type": "stream",
     "text": [
      "\n"
     ]
    },
    {
     "name": "stdout",
     "output_type": "stream",
     "text": [
      "[3306]"
     ]
    },
    {
     "name": "stdout",
     "output_type": "stream",
     "text": [
      " \"2021-12-06\""
     ]
    },
    {
     "name": "stdout",
     "output_type": "stream",
     "text": [
      " \"2021-12-06\""
     ]
    },
    {
     "name": "stdout",
     "output_type": "stream",
     "text": [
      " \"2021-12-06\""
     ]
    },
    {
     "name": "stdout",
     "output_type": "stream",
     "text": [
      " \"2021-12-06\""
     ]
    },
    {
     "name": "stdout",
     "output_type": "stream",
     "text": [
      " \"2021-12-06\""
     ]
    },
    {
     "name": "stdout",
     "output_type": "stream",
     "text": [
      "\n"
     ]
    },
    {
     "name": "stdout",
     "output_type": "stream",
     "text": [
      "[3311]"
     ]
    },
    {
     "name": "stdout",
     "output_type": "stream",
     "text": [
      " \"2021-12-06\""
     ]
    },
    {
     "name": "stdout",
     "output_type": "stream",
     "text": [
      " \"2021-12-06\""
     ]
    },
    {
     "name": "stdout",
     "output_type": "stream",
     "text": [
      " \"2021-12-13\""
     ]
    },
    {
     "name": "stdout",
     "output_type": "stream",
     "text": [
      " \"2021-12-13\""
     ]
    },
    {
     "name": "stdout",
     "output_type": "stream",
     "text": [
      " \"2021-12-13\""
     ]
    },
    {
     "name": "stdout",
     "output_type": "stream",
     "text": [
      "\n"
     ]
    },
    {
     "name": "stdout",
     "output_type": "stream",
     "text": [
      "[3316]"
     ]
    },
    {
     "name": "stdout",
     "output_type": "stream",
     "text": [
      " \"2021-12-13\""
     ]
    },
    {
     "name": "stdout",
     "output_type": "stream",
     "text": [
      " \"2021-12-13\""
     ]
    },
    {
     "name": "stdout",
     "output_type": "stream",
     "text": [
      " \"2021-12-13\""
     ]
    },
    {
     "name": "stdout",
     "output_type": "stream",
     "text": [
      " \"2021-12-13\""
     ]
    },
    {
     "name": "stdout",
     "output_type": "stream",
     "text": [
      " \"2021-12-13\""
     ]
    },
    {
     "name": "stdout",
     "output_type": "stream",
     "text": [
      "\n"
     ]
    },
    {
     "name": "stdout",
     "output_type": "stream",
     "text": [
      "[3321]"
     ]
    },
    {
     "name": "stdout",
     "output_type": "stream",
     "text": [
      " \"2021-12-13\""
     ]
    },
    {
     "name": "stdout",
     "output_type": "stream",
     "text": [
      " \"2021-12-13\""
     ]
    },
    {
     "name": "stdout",
     "output_type": "stream",
     "text": [
      " \"2021-12-13\""
     ]
    },
    {
     "name": "stdout",
     "output_type": "stream",
     "text": [
      " \"2021-12-13\""
     ]
    },
    {
     "name": "stdout",
     "output_type": "stream",
     "text": [
      " \"2021-12-13\""
     ]
    },
    {
     "name": "stdout",
     "output_type": "stream",
     "text": [
      "\n"
     ]
    },
    {
     "name": "stdout",
     "output_type": "stream",
     "text": [
      "[3326]"
     ]
    },
    {
     "name": "stdout",
     "output_type": "stream",
     "text": [
      " \"2021-12-13\""
     ]
    },
    {
     "name": "stdout",
     "output_type": "stream",
     "text": [
      " \"2021-12-13\""
     ]
    },
    {
     "name": "stdout",
     "output_type": "stream",
     "text": [
      " \"2021-12-13\""
     ]
    },
    {
     "name": "stdout",
     "output_type": "stream",
     "text": [
      " \"2021-12-13\""
     ]
    },
    {
     "name": "stdout",
     "output_type": "stream",
     "text": [
      " \"2021-12-13\""
     ]
    },
    {
     "name": "stdout",
     "output_type": "stream",
     "text": [
      "\n"
     ]
    },
    {
     "name": "stdout",
     "output_type": "stream",
     "text": [
      "[3331]"
     ]
    },
    {
     "name": "stdout",
     "output_type": "stream",
     "text": [
      " \"2021-12-13\""
     ]
    },
    {
     "name": "stdout",
     "output_type": "stream",
     "text": [
      " \"2021-12-13\""
     ]
    },
    {
     "name": "stdout",
     "output_type": "stream",
     "text": [
      " \"2021-12-13\""
     ]
    },
    {
     "name": "stdout",
     "output_type": "stream",
     "text": [
      " \"2021-12-13\""
     ]
    },
    {
     "name": "stdout",
     "output_type": "stream",
     "text": [
      " \"2021-12-13\""
     ]
    },
    {
     "name": "stdout",
     "output_type": "stream",
     "text": [
      "\n"
     ]
    },
    {
     "name": "stdout",
     "output_type": "stream",
     "text": [
      "[3336]"
     ]
    },
    {
     "name": "stdout",
     "output_type": "stream",
     "text": [
      " \"2021-12-13\""
     ]
    },
    {
     "name": "stdout",
     "output_type": "stream",
     "text": [
      " \"2021-12-13\""
     ]
    },
    {
     "name": "stdout",
     "output_type": "stream",
     "text": [
      " \"2021-12-13\""
     ]
    },
    {
     "name": "stdout",
     "output_type": "stream",
     "text": [
      " \"2021-12-13\""
     ]
    },
    {
     "name": "stdout",
     "output_type": "stream",
     "text": [
      " \"2021-12-13\""
     ]
    },
    {
     "name": "stdout",
     "output_type": "stream",
     "text": [
      "\n"
     ]
    },
    {
     "name": "stdout",
     "output_type": "stream",
     "text": [
      "[3341]"
     ]
    },
    {
     "name": "stdout",
     "output_type": "stream",
     "text": [
      " \"2021-12-13\""
     ]
    },
    {
     "name": "stdout",
     "output_type": "stream",
     "text": [
      " \"2021-12-13\""
     ]
    },
    {
     "name": "stdout",
     "output_type": "stream",
     "text": [
      " \"2021-12-13\""
     ]
    },
    {
     "name": "stdout",
     "output_type": "stream",
     "text": [
      " \"2021-12-13\""
     ]
    },
    {
     "name": "stdout",
     "output_type": "stream",
     "text": [
      " \"2021-12-13\""
     ]
    },
    {
     "name": "stdout",
     "output_type": "stream",
     "text": [
      "\n"
     ]
    },
    {
     "name": "stdout",
     "output_type": "stream",
     "text": [
      "[3346]"
     ]
    },
    {
     "name": "stdout",
     "output_type": "stream",
     "text": [
      " \"2021-12-13\""
     ]
    },
    {
     "name": "stdout",
     "output_type": "stream",
     "text": [
      " \"2021-12-13\""
     ]
    },
    {
     "name": "stdout",
     "output_type": "stream",
     "text": [
      " \"2021-12-13\""
     ]
    },
    {
     "name": "stdout",
     "output_type": "stream",
     "text": [
      " \"2021-12-13\""
     ]
    },
    {
     "name": "stdout",
     "output_type": "stream",
     "text": [
      " \"2021-12-13\""
     ]
    },
    {
     "name": "stdout",
     "output_type": "stream",
     "text": [
      "\n"
     ]
    },
    {
     "name": "stdout",
     "output_type": "stream",
     "text": [
      "[3351]"
     ]
    },
    {
     "name": "stdout",
     "output_type": "stream",
     "text": [
      " \"2021-12-13\""
     ]
    },
    {
     "name": "stdout",
     "output_type": "stream",
     "text": [
      " \"2021-12-13\""
     ]
    },
    {
     "name": "stdout",
     "output_type": "stream",
     "text": [
      " \"2021-12-13\""
     ]
    },
    {
     "name": "stdout",
     "output_type": "stream",
     "text": [
      " \"2021-12-13\""
     ]
    },
    {
     "name": "stdout",
     "output_type": "stream",
     "text": [
      " \"2021-12-13\""
     ]
    },
    {
     "name": "stdout",
     "output_type": "stream",
     "text": [
      "\n"
     ]
    },
    {
     "name": "stdout",
     "output_type": "stream",
     "text": [
      "[3356]"
     ]
    },
    {
     "name": "stdout",
     "output_type": "stream",
     "text": [
      " \"2021-12-13\""
     ]
    },
    {
     "name": "stdout",
     "output_type": "stream",
     "text": [
      " \"2021-12-13\""
     ]
    },
    {
     "name": "stdout",
     "output_type": "stream",
     "text": [
      " \"2021-12-13\""
     ]
    },
    {
     "name": "stdout",
     "output_type": "stream",
     "text": [
      " \"2021-12-13\""
     ]
    },
    {
     "name": "stdout",
     "output_type": "stream",
     "text": [
      " \"2021-12-13\""
     ]
    },
    {
     "name": "stdout",
     "output_type": "stream",
     "text": [
      "\n"
     ]
    },
    {
     "name": "stdout",
     "output_type": "stream",
     "text": [
      "[3361]"
     ]
    },
    {
     "name": "stdout",
     "output_type": "stream",
     "text": [
      " \"2021-12-13\""
     ]
    },
    {
     "name": "stdout",
     "output_type": "stream",
     "text": [
      " \"2021-12-13\""
     ]
    },
    {
     "name": "stdout",
     "output_type": "stream",
     "text": [
      " \"2021-12-13\""
     ]
    },
    {
     "name": "stdout",
     "output_type": "stream",
     "text": [
      " \"2021-12-13\""
     ]
    },
    {
     "name": "stdout",
     "output_type": "stream",
     "text": [
      " \"2021-12-13\""
     ]
    },
    {
     "name": "stdout",
     "output_type": "stream",
     "text": [
      "\n"
     ]
    },
    {
     "name": "stdout",
     "output_type": "stream",
     "text": [
      "[3366]"
     ]
    },
    {
     "name": "stdout",
     "output_type": "stream",
     "text": [
      " \"2021-12-13\""
     ]
    },
    {
     "name": "stdout",
     "output_type": "stream",
     "text": [
      " \"2021-12-13\""
     ]
    },
    {
     "name": "stdout",
     "output_type": "stream",
     "text": [
      " \"2021-12-13\""
     ]
    },
    {
     "name": "stdout",
     "output_type": "stream",
     "text": [
      " \"2021-12-13\""
     ]
    },
    {
     "name": "stdout",
     "output_type": "stream",
     "text": [
      " \"2021-12-13\""
     ]
    },
    {
     "name": "stdout",
     "output_type": "stream",
     "text": [
      "\n"
     ]
    },
    {
     "name": "stdout",
     "output_type": "stream",
     "text": [
      "[3371]"
     ]
    },
    {
     "name": "stdout",
     "output_type": "stream",
     "text": [
      " \"2021-12-13\""
     ]
    },
    {
     "name": "stdout",
     "output_type": "stream",
     "text": [
      " \"2021-12-13\""
     ]
    },
    {
     "name": "stdout",
     "output_type": "stream",
     "text": [
      " \"2021-12-13\""
     ]
    },
    {
     "name": "stdout",
     "output_type": "stream",
     "text": [
      " \"2021-12-13\""
     ]
    },
    {
     "name": "stdout",
     "output_type": "stream",
     "text": [
      " \"2021-12-13\""
     ]
    },
    {
     "name": "stdout",
     "output_type": "stream",
     "text": [
      "\n"
     ]
    },
    {
     "name": "stdout",
     "output_type": "stream",
     "text": [
      "[3376]"
     ]
    },
    {
     "name": "stdout",
     "output_type": "stream",
     "text": [
      " \"2021-12-13\""
     ]
    },
    {
     "name": "stdout",
     "output_type": "stream",
     "text": [
      " \"2021-12-13\""
     ]
    },
    {
     "name": "stdout",
     "output_type": "stream",
     "text": [
      " \"2021-12-13\""
     ]
    },
    {
     "name": "stdout",
     "output_type": "stream",
     "text": [
      " \"2021-12-13\""
     ]
    },
    {
     "name": "stdout",
     "output_type": "stream",
     "text": [
      " \"2021-12-13\""
     ]
    },
    {
     "name": "stdout",
     "output_type": "stream",
     "text": [
      "\n"
     ]
    },
    {
     "name": "stdout",
     "output_type": "stream",
     "text": [
      "[3381]"
     ]
    },
    {
     "name": "stdout",
     "output_type": "stream",
     "text": [
      " \"2021-12-13\""
     ]
    },
    {
     "name": "stdout",
     "output_type": "stream",
     "text": [
      " \"2021-12-20\""
     ]
    },
    {
     "name": "stdout",
     "output_type": "stream",
     "text": [
      " \"2021-12-20\""
     ]
    },
    {
     "name": "stdout",
     "output_type": "stream",
     "text": [
      " \"2021-12-20\""
     ]
    },
    {
     "name": "stdout",
     "output_type": "stream",
     "text": [
      " \"2021-12-20\""
     ]
    },
    {
     "name": "stdout",
     "output_type": "stream",
     "text": [
      "\n"
     ]
    },
    {
     "name": "stdout",
     "output_type": "stream",
     "text": [
      "[3386]"
     ]
    },
    {
     "name": "stdout",
     "output_type": "stream",
     "text": [
      " \"2021-12-20\""
     ]
    },
    {
     "name": "stdout",
     "output_type": "stream",
     "text": [
      " \"2021-12-20\""
     ]
    },
    {
     "name": "stdout",
     "output_type": "stream",
     "text": [
      " \"2021-12-20\""
     ]
    },
    {
     "name": "stdout",
     "output_type": "stream",
     "text": [
      " \"2021-12-20\""
     ]
    },
    {
     "name": "stdout",
     "output_type": "stream",
     "text": [
      " \"2021-12-20\""
     ]
    },
    {
     "name": "stdout",
     "output_type": "stream",
     "text": [
      "\n"
     ]
    },
    {
     "name": "stdout",
     "output_type": "stream",
     "text": [
      "[3391]"
     ]
    },
    {
     "name": "stdout",
     "output_type": "stream",
     "text": [
      " \"2021-12-20\""
     ]
    },
    {
     "name": "stdout",
     "output_type": "stream",
     "text": [
      " \"2021-12-20\""
     ]
    },
    {
     "name": "stdout",
     "output_type": "stream",
     "text": [
      " \"2021-12-20\""
     ]
    },
    {
     "name": "stdout",
     "output_type": "stream",
     "text": [
      " \"2021-12-20\""
     ]
    },
    {
     "name": "stdout",
     "output_type": "stream",
     "text": [
      " \"2021-12-20\""
     ]
    },
    {
     "name": "stdout",
     "output_type": "stream",
     "text": [
      "\n"
     ]
    },
    {
     "name": "stdout",
     "output_type": "stream",
     "text": [
      "[3396]"
     ]
    },
    {
     "name": "stdout",
     "output_type": "stream",
     "text": [
      " \"2021-12-20\""
     ]
    },
    {
     "name": "stdout",
     "output_type": "stream",
     "text": [
      " \"2021-12-20\""
     ]
    },
    {
     "name": "stdout",
     "output_type": "stream",
     "text": [
      " \"2021-12-20\""
     ]
    },
    {
     "name": "stdout",
     "output_type": "stream",
     "text": [
      " \"2021-12-20\""
     ]
    },
    {
     "name": "stdout",
     "output_type": "stream",
     "text": [
      " \"2021-12-20\""
     ]
    },
    {
     "name": "stdout",
     "output_type": "stream",
     "text": [
      "\n"
     ]
    },
    {
     "name": "stdout",
     "output_type": "stream",
     "text": [
      "[3401]"
     ]
    },
    {
     "name": "stdout",
     "output_type": "stream",
     "text": [
      " \"2021-12-20\""
     ]
    },
    {
     "name": "stdout",
     "output_type": "stream",
     "text": [
      " \"2021-12-20\""
     ]
    },
    {
     "name": "stdout",
     "output_type": "stream",
     "text": [
      " \"2021-12-20\""
     ]
    },
    {
     "name": "stdout",
     "output_type": "stream",
     "text": [
      " \"2021-12-20\""
     ]
    },
    {
     "name": "stdout",
     "output_type": "stream",
     "text": [
      " \"2021-12-20\""
     ]
    },
    {
     "name": "stdout",
     "output_type": "stream",
     "text": [
      "\n"
     ]
    },
    {
     "name": "stdout",
     "output_type": "stream",
     "text": [
      "[3406]"
     ]
    },
    {
     "name": "stdout",
     "output_type": "stream",
     "text": [
      " \"2021-12-20\""
     ]
    },
    {
     "name": "stdout",
     "output_type": "stream",
     "text": [
      " \"2021-12-20\""
     ]
    },
    {
     "name": "stdout",
     "output_type": "stream",
     "text": [
      " \"2021-12-20\""
     ]
    },
    {
     "name": "stdout",
     "output_type": "stream",
     "text": [
      " \"2021-12-20\""
     ]
    },
    {
     "name": "stdout",
     "output_type": "stream",
     "text": [
      " \"2021-12-20\""
     ]
    },
    {
     "name": "stdout",
     "output_type": "stream",
     "text": [
      "\n"
     ]
    },
    {
     "name": "stdout",
     "output_type": "stream",
     "text": [
      "[3411]"
     ]
    },
    {
     "name": "stdout",
     "output_type": "stream",
     "text": [
      " \"2021-12-20\""
     ]
    },
    {
     "name": "stdout",
     "output_type": "stream",
     "text": [
      " \"2021-12-20\""
     ]
    },
    {
     "name": "stdout",
     "output_type": "stream",
     "text": [
      " \"2021-12-20\""
     ]
    },
    {
     "name": "stdout",
     "output_type": "stream",
     "text": [
      " \"2021-12-20\""
     ]
    },
    {
     "name": "stdout",
     "output_type": "stream",
     "text": [
      " \"2021-12-20\""
     ]
    },
    {
     "name": "stdout",
     "output_type": "stream",
     "text": [
      "\n"
     ]
    },
    {
     "name": "stdout",
     "output_type": "stream",
     "text": [
      "[3416]"
     ]
    },
    {
     "name": "stdout",
     "output_type": "stream",
     "text": [
      " \"2021-12-20\""
     ]
    },
    {
     "name": "stdout",
     "output_type": "stream",
     "text": [
      " \"2021-12-20\""
     ]
    },
    {
     "name": "stdout",
     "output_type": "stream",
     "text": [
      " \"2021-12-20\""
     ]
    },
    {
     "name": "stdout",
     "output_type": "stream",
     "text": [
      " \"2021-12-20\""
     ]
    },
    {
     "name": "stdout",
     "output_type": "stream",
     "text": [
      " \"2021-12-20\""
     ]
    },
    {
     "name": "stdout",
     "output_type": "stream",
     "text": [
      "\n"
     ]
    },
    {
     "name": "stdout",
     "output_type": "stream",
     "text": [
      "[3421]"
     ]
    },
    {
     "name": "stdout",
     "output_type": "stream",
     "text": [
      " \"2021-12-20\""
     ]
    },
    {
     "name": "stdout",
     "output_type": "stream",
     "text": [
      " \"2021-12-20\""
     ]
    },
    {
     "name": "stdout",
     "output_type": "stream",
     "text": [
      " \"2021-12-20\""
     ]
    },
    {
     "name": "stdout",
     "output_type": "stream",
     "text": [
      " \"2021-12-20\""
     ]
    },
    {
     "name": "stdout",
     "output_type": "stream",
     "text": [
      " \"2021-12-20\""
     ]
    },
    {
     "name": "stdout",
     "output_type": "stream",
     "text": [
      "\n"
     ]
    },
    {
     "name": "stdout",
     "output_type": "stream",
     "text": [
      "[3426]"
     ]
    },
    {
     "name": "stdout",
     "output_type": "stream",
     "text": [
      " \"2021-12-20\""
     ]
    },
    {
     "name": "stdout",
     "output_type": "stream",
     "text": [
      " \"2021-12-20\""
     ]
    },
    {
     "name": "stdout",
     "output_type": "stream",
     "text": [
      " \"2021-12-20\""
     ]
    },
    {
     "name": "stdout",
     "output_type": "stream",
     "text": [
      " \"2021-12-20\""
     ]
    },
    {
     "name": "stdout",
     "output_type": "stream",
     "text": [
      " \"2021-12-20\""
     ]
    },
    {
     "name": "stdout",
     "output_type": "stream",
     "text": [
      "\n"
     ]
    },
    {
     "name": "stdout",
     "output_type": "stream",
     "text": [
      "[3431]"
     ]
    },
    {
     "name": "stdout",
     "output_type": "stream",
     "text": [
      " \"2021-12-20\""
     ]
    },
    {
     "name": "stdout",
     "output_type": "stream",
     "text": [
      " \"2021-12-20\""
     ]
    },
    {
     "name": "stdout",
     "output_type": "stream",
     "text": [
      " \"2021-12-20\""
     ]
    },
    {
     "name": "stdout",
     "output_type": "stream",
     "text": [
      " \"2021-12-20\""
     ]
    },
    {
     "name": "stdout",
     "output_type": "stream",
     "text": [
      " \"2021-12-20\""
     ]
    },
    {
     "name": "stdout",
     "output_type": "stream",
     "text": [
      "\n"
     ]
    },
    {
     "name": "stdout",
     "output_type": "stream",
     "text": [
      "[3436]"
     ]
    },
    {
     "name": "stdout",
     "output_type": "stream",
     "text": [
      " \"2021-12-20\""
     ]
    },
    {
     "name": "stdout",
     "output_type": "stream",
     "text": [
      " \"2021-12-20\""
     ]
    },
    {
     "name": "stdout",
     "output_type": "stream",
     "text": [
      " \"2021-12-20\""
     ]
    },
    {
     "name": "stdout",
     "output_type": "stream",
     "text": [
      " \"2021-12-20\""
     ]
    },
    {
     "name": "stdout",
     "output_type": "stream",
     "text": [
      " \"2021-12-20\""
     ]
    },
    {
     "name": "stdout",
     "output_type": "stream",
     "text": [
      "\n"
     ]
    },
    {
     "name": "stdout",
     "output_type": "stream",
     "text": [
      "[3441]"
     ]
    },
    {
     "name": "stdout",
     "output_type": "stream",
     "text": [
      " \"2021-12-20\""
     ]
    },
    {
     "name": "stdout",
     "output_type": "stream",
     "text": [
      " \"2021-12-20\""
     ]
    },
    {
     "name": "stdout",
     "output_type": "stream",
     "text": [
      " \"2021-12-20\""
     ]
    },
    {
     "name": "stdout",
     "output_type": "stream",
     "text": [
      " \"2021-12-20\""
     ]
    },
    {
     "name": "stdout",
     "output_type": "stream",
     "text": [
      " \"2021-12-20\""
     ]
    },
    {
     "name": "stdout",
     "output_type": "stream",
     "text": [
      "\n"
     ]
    },
    {
     "name": "stdout",
     "output_type": "stream",
     "text": [
      "[3446]"
     ]
    },
    {
     "name": "stdout",
     "output_type": "stream",
     "text": [
      " \"2021-12-20\""
     ]
    },
    {
     "name": "stdout",
     "output_type": "stream",
     "text": [
      " \"2021-12-20\""
     ]
    },
    {
     "name": "stdout",
     "output_type": "stream",
     "text": [
      " \"2021-12-20\""
     ]
    },
    {
     "name": "stdout",
     "output_type": "stream",
     "text": [
      " \"2021-12-20\""
     ]
    },
    {
     "name": "stdout",
     "output_type": "stream",
     "text": [
      " \"2021-12-20\""
     ]
    },
    {
     "name": "stdout",
     "output_type": "stream",
     "text": [
      "\n"
     ]
    },
    {
     "name": "stdout",
     "output_type": "stream",
     "text": [
      "[3451]"
     ]
    },
    {
     "name": "stdout",
     "output_type": "stream",
     "text": [
      " \"2021-12-27\""
     ]
    },
    {
     "name": "stdout",
     "output_type": "stream",
     "text": [
      " \"2021-12-27\""
     ]
    },
    {
     "name": "stdout",
     "output_type": "stream",
     "text": [
      " \"2021-12-27\""
     ]
    },
    {
     "name": "stdout",
     "output_type": "stream",
     "text": [
      " \"2021-12-27\""
     ]
    },
    {
     "name": "stdout",
     "output_type": "stream",
     "text": [
      " \"2021-12-27\""
     ]
    },
    {
     "name": "stdout",
     "output_type": "stream",
     "text": [
      "\n"
     ]
    },
    {
     "name": "stdout",
     "output_type": "stream",
     "text": [
      "[3456]"
     ]
    },
    {
     "name": "stdout",
     "output_type": "stream",
     "text": [
      " \"2021-12-27\""
     ]
    },
    {
     "name": "stdout",
     "output_type": "stream",
     "text": [
      " \"2021-12-27\""
     ]
    },
    {
     "name": "stdout",
     "output_type": "stream",
     "text": [
      " \"2021-12-27\""
     ]
    },
    {
     "name": "stdout",
     "output_type": "stream",
     "text": [
      " \"2021-12-27\""
     ]
    },
    {
     "name": "stdout",
     "output_type": "stream",
     "text": [
      " \"2021-12-27\""
     ]
    },
    {
     "name": "stdout",
     "output_type": "stream",
     "text": [
      "\n"
     ]
    },
    {
     "name": "stdout",
     "output_type": "stream",
     "text": [
      "[3461]"
     ]
    },
    {
     "name": "stdout",
     "output_type": "stream",
     "text": [
      " \"2021-12-27\""
     ]
    },
    {
     "name": "stdout",
     "output_type": "stream",
     "text": [
      " \"2021-12-27\""
     ]
    },
    {
     "name": "stdout",
     "output_type": "stream",
     "text": [
      " \"2021-12-27\""
     ]
    },
    {
     "name": "stdout",
     "output_type": "stream",
     "text": [
      " \"2021-12-27\""
     ]
    },
    {
     "name": "stdout",
     "output_type": "stream",
     "text": [
      " \"2021-12-27\""
     ]
    },
    {
     "name": "stdout",
     "output_type": "stream",
     "text": [
      "\n"
     ]
    },
    {
     "name": "stdout",
     "output_type": "stream",
     "text": [
      "[3466]"
     ]
    },
    {
     "name": "stdout",
     "output_type": "stream",
     "text": [
      " \"2021-12-27\""
     ]
    },
    {
     "name": "stdout",
     "output_type": "stream",
     "text": [
      " \"2021-12-27\""
     ]
    },
    {
     "name": "stdout",
     "output_type": "stream",
     "text": [
      " \"2021-12-27\""
     ]
    },
    {
     "name": "stdout",
     "output_type": "stream",
     "text": [
      " \"2021-12-27\""
     ]
    },
    {
     "name": "stdout",
     "output_type": "stream",
     "text": [
      " \"2021-12-27\""
     ]
    },
    {
     "name": "stdout",
     "output_type": "stream",
     "text": [
      "\n"
     ]
    },
    {
     "name": "stdout",
     "output_type": "stream",
     "text": [
      "[3471]"
     ]
    },
    {
     "name": "stdout",
     "output_type": "stream",
     "text": [
      " \"2021-12-27\""
     ]
    },
    {
     "name": "stdout",
     "output_type": "stream",
     "text": [
      " \"2021-12-27\""
     ]
    },
    {
     "name": "stdout",
     "output_type": "stream",
     "text": [
      " \"2021-12-27\""
     ]
    },
    {
     "name": "stdout",
     "output_type": "stream",
     "text": [
      " \"2021-12-27\""
     ]
    },
    {
     "name": "stdout",
     "output_type": "stream",
     "text": [
      " \"2021-12-27\""
     ]
    },
    {
     "name": "stdout",
     "output_type": "stream",
     "text": [
      "\n"
     ]
    },
    {
     "name": "stdout",
     "output_type": "stream",
     "text": [
      "[3476]"
     ]
    },
    {
     "name": "stdout",
     "output_type": "stream",
     "text": [
      " \"2021-12-27\""
     ]
    },
    {
     "name": "stdout",
     "output_type": "stream",
     "text": [
      " \"2021-12-27\""
     ]
    },
    {
     "name": "stdout",
     "output_type": "stream",
     "text": [
      " \"2021-12-27\""
     ]
    },
    {
     "name": "stdout",
     "output_type": "stream",
     "text": [
      " \"2021-12-27\""
     ]
    },
    {
     "name": "stdout",
     "output_type": "stream",
     "text": [
      " \"2021-12-27\""
     ]
    },
    {
     "name": "stdout",
     "output_type": "stream",
     "text": [
      "\n"
     ]
    },
    {
     "name": "stdout",
     "output_type": "stream",
     "text": [
      "[3481]"
     ]
    },
    {
     "name": "stdout",
     "output_type": "stream",
     "text": [
      " \"2021-12-27\""
     ]
    },
    {
     "name": "stdout",
     "output_type": "stream",
     "text": [
      " \"2021-12-27\""
     ]
    },
    {
     "name": "stdout",
     "output_type": "stream",
     "text": [
      " \"2021-12-27\""
     ]
    },
    {
     "name": "stdout",
     "output_type": "stream",
     "text": [
      " \"2021-12-27\""
     ]
    },
    {
     "name": "stdout",
     "output_type": "stream",
     "text": [
      " \"2021-12-27\""
     ]
    },
    {
     "name": "stdout",
     "output_type": "stream",
     "text": [
      "\n"
     ]
    },
    {
     "name": "stdout",
     "output_type": "stream",
     "text": [
      "[3486]"
     ]
    },
    {
     "name": "stdout",
     "output_type": "stream",
     "text": [
      " \"2021-12-27\""
     ]
    },
    {
     "name": "stdout",
     "output_type": "stream",
     "text": [
      " \"2021-12-27\""
     ]
    },
    {
     "name": "stdout",
     "output_type": "stream",
     "text": [
      " \"2021-12-27\""
     ]
    },
    {
     "name": "stdout",
     "output_type": "stream",
     "text": [
      " \"2021-12-27\""
     ]
    },
    {
     "name": "stdout",
     "output_type": "stream",
     "text": [
      " \"2021-12-27\""
     ]
    },
    {
     "name": "stdout",
     "output_type": "stream",
     "text": [
      "\n"
     ]
    },
    {
     "name": "stdout",
     "output_type": "stream",
     "text": [
      "[3491]"
     ]
    },
    {
     "name": "stdout",
     "output_type": "stream",
     "text": [
      " \"2021-12-27\""
     ]
    },
    {
     "name": "stdout",
     "output_type": "stream",
     "text": [
      " \"2021-12-27\""
     ]
    },
    {
     "name": "stdout",
     "output_type": "stream",
     "text": [
      " \"2021-12-27\""
     ]
    },
    {
     "name": "stdout",
     "output_type": "stream",
     "text": [
      " \"2021-12-27\""
     ]
    },
    {
     "name": "stdout",
     "output_type": "stream",
     "text": [
      " \"2021-12-27\""
     ]
    },
    {
     "name": "stdout",
     "output_type": "stream",
     "text": [
      "\n"
     ]
    },
    {
     "name": "stdout",
     "output_type": "stream",
     "text": [
      "[3496]"
     ]
    },
    {
     "name": "stdout",
     "output_type": "stream",
     "text": [
      " \"2021-12-27\""
     ]
    },
    {
     "name": "stdout",
     "output_type": "stream",
     "text": [
      " \"2021-12-27\""
     ]
    },
    {
     "name": "stdout",
     "output_type": "stream",
     "text": [
      " \"2021-12-27\""
     ]
    },
    {
     "name": "stdout",
     "output_type": "stream",
     "text": [
      " \"2021-12-27\""
     ]
    },
    {
     "name": "stdout",
     "output_type": "stream",
     "text": [
      " \"2021-12-27\""
     ]
    },
    {
     "name": "stdout",
     "output_type": "stream",
     "text": [
      "\n"
     ]
    },
    {
     "name": "stdout",
     "output_type": "stream",
     "text": [
      "[3501]"
     ]
    },
    {
     "name": "stdout",
     "output_type": "stream",
     "text": [
      " \"2021-12-27\""
     ]
    },
    {
     "name": "stdout",
     "output_type": "stream",
     "text": [
      " \"2021-12-27\""
     ]
    },
    {
     "name": "stdout",
     "output_type": "stream",
     "text": [
      " \"2021-12-27\""
     ]
    },
    {
     "name": "stdout",
     "output_type": "stream",
     "text": [
      " \"2021-12-27\""
     ]
    },
    {
     "name": "stdout",
     "output_type": "stream",
     "text": [
      " \"2021-12-27\""
     ]
    },
    {
     "name": "stdout",
     "output_type": "stream",
     "text": [
      "\n"
     ]
    },
    {
     "name": "stdout",
     "output_type": "stream",
     "text": [
      "[3506]"
     ]
    },
    {
     "name": "stdout",
     "output_type": "stream",
     "text": [
      " \"2021-12-27\""
     ]
    },
    {
     "name": "stdout",
     "output_type": "stream",
     "text": [
      " \"2021-12-27\""
     ]
    },
    {
     "name": "stdout",
     "output_type": "stream",
     "text": [
      " \"2021-12-27\""
     ]
    },
    {
     "name": "stdout",
     "output_type": "stream",
     "text": [
      " \"2021-12-27\""
     ]
    },
    {
     "name": "stdout",
     "output_type": "stream",
     "text": [
      " \"2021-12-27\""
     ]
    },
    {
     "name": "stdout",
     "output_type": "stream",
     "text": [
      "\n"
     ]
    },
    {
     "name": "stdout",
     "output_type": "stream",
     "text": [
      "[3511]"
     ]
    },
    {
     "name": "stdout",
     "output_type": "stream",
     "text": [
      " \"2021-12-27\""
     ]
    },
    {
     "name": "stdout",
     "output_type": "stream",
     "text": [
      " \"2021-12-27\""
     ]
    },
    {
     "name": "stdout",
     "output_type": "stream",
     "text": [
      " \"2021-12-27\""
     ]
    },
    {
     "name": "stdout",
     "output_type": "stream",
     "text": [
      " \"2021-12-27\""
     ]
    },
    {
     "name": "stdout",
     "output_type": "stream",
     "text": [
      " \"2021-12-27\""
     ]
    },
    {
     "name": "stdout",
     "output_type": "stream",
     "text": [
      "\n"
     ]
    },
    {
     "name": "stdout",
     "output_type": "stream",
     "text": [
      "[3516]"
     ]
    },
    {
     "name": "stdout",
     "output_type": "stream",
     "text": [
      " \"2021-12-27\""
     ]
    },
    {
     "name": "stdout",
     "output_type": "stream",
     "text": [
      " \"2021-12-27\""
     ]
    },
    {
     "name": "stdout",
     "output_type": "stream",
     "text": [
      " \"2021-12-27\""
     ]
    },
    {
     "name": "stdout",
     "output_type": "stream",
     "text": [
      " \"2021-12-27\""
     ]
    },
    {
     "name": "stdout",
     "output_type": "stream",
     "text": [
      " \"2022-01-03\""
     ]
    },
    {
     "name": "stdout",
     "output_type": "stream",
     "text": [
      "\n"
     ]
    },
    {
     "name": "stdout",
     "output_type": "stream",
     "text": [
      "[3521]"
     ]
    },
    {
     "name": "stdout",
     "output_type": "stream",
     "text": [
      " \"2022-01-03\""
     ]
    },
    {
     "name": "stdout",
     "output_type": "stream",
     "text": [
      " \"2022-01-03\""
     ]
    },
    {
     "name": "stdout",
     "output_type": "stream",
     "text": [
      " \"2022-01-03\""
     ]
    },
    {
     "name": "stdout",
     "output_type": "stream",
     "text": [
      " \"2022-01-03\""
     ]
    },
    {
     "name": "stdout",
     "output_type": "stream",
     "text": [
      " \"2022-01-03\""
     ]
    },
    {
     "name": "stdout",
     "output_type": "stream",
     "text": [
      "\n"
     ]
    },
    {
     "name": "stdout",
     "output_type": "stream",
     "text": [
      "[3526]"
     ]
    },
    {
     "name": "stdout",
     "output_type": "stream",
     "text": [
      " \"2022-01-03\""
     ]
    },
    {
     "name": "stdout",
     "output_type": "stream",
     "text": [
      " \"2022-01-03\""
     ]
    },
    {
     "name": "stdout",
     "output_type": "stream",
     "text": [
      " \"2022-01-03\""
     ]
    },
    {
     "name": "stdout",
     "output_type": "stream",
     "text": [
      " \"2022-01-03\""
     ]
    },
    {
     "name": "stdout",
     "output_type": "stream",
     "text": [
      " \"2022-01-03\""
     ]
    },
    {
     "name": "stdout",
     "output_type": "stream",
     "text": [
      "\n"
     ]
    },
    {
     "name": "stdout",
     "output_type": "stream",
     "text": [
      "[3531]"
     ]
    },
    {
     "name": "stdout",
     "output_type": "stream",
     "text": [
      " \"2022-01-03\""
     ]
    },
    {
     "name": "stdout",
     "output_type": "stream",
     "text": [
      " \"2022-01-03\""
     ]
    },
    {
     "name": "stdout",
     "output_type": "stream",
     "text": [
      " \"2022-01-03\""
     ]
    },
    {
     "name": "stdout",
     "output_type": "stream",
     "text": [
      " \"2022-01-03\""
     ]
    },
    {
     "name": "stdout",
     "output_type": "stream",
     "text": [
      " \"2022-01-03\""
     ]
    },
    {
     "name": "stdout",
     "output_type": "stream",
     "text": [
      "\n"
     ]
    },
    {
     "name": "stdout",
     "output_type": "stream",
     "text": [
      "[3536]"
     ]
    },
    {
     "name": "stdout",
     "output_type": "stream",
     "text": [
      " \"2022-01-03\""
     ]
    },
    {
     "name": "stdout",
     "output_type": "stream",
     "text": [
      " \"2022-01-03\""
     ]
    },
    {
     "name": "stdout",
     "output_type": "stream",
     "text": [
      " \"2022-01-03\""
     ]
    },
    {
     "name": "stdout",
     "output_type": "stream",
     "text": [
      " \"2022-01-03\""
     ]
    },
    {
     "name": "stdout",
     "output_type": "stream",
     "text": [
      " \"2022-01-03\""
     ]
    },
    {
     "name": "stdout",
     "output_type": "stream",
     "text": [
      "\n"
     ]
    },
    {
     "name": "stdout",
     "output_type": "stream",
     "text": [
      "[3541]"
     ]
    },
    {
     "name": "stdout",
     "output_type": "stream",
     "text": [
      " \"2022-01-03\""
     ]
    },
    {
     "name": "stdout",
     "output_type": "stream",
     "text": [
      " \"2022-01-03\""
     ]
    },
    {
     "name": "stdout",
     "output_type": "stream",
     "text": [
      " \"2022-01-03\""
     ]
    },
    {
     "name": "stdout",
     "output_type": "stream",
     "text": [
      " \"2022-01-03\""
     ]
    },
    {
     "name": "stdout",
     "output_type": "stream",
     "text": [
      " \"2022-01-03\""
     ]
    },
    {
     "name": "stdout",
     "output_type": "stream",
     "text": [
      "\n"
     ]
    },
    {
     "name": "stdout",
     "output_type": "stream",
     "text": [
      "[3546]"
     ]
    },
    {
     "name": "stdout",
     "output_type": "stream",
     "text": [
      " \"2022-01-03\""
     ]
    },
    {
     "name": "stdout",
     "output_type": "stream",
     "text": [
      " \"2022-01-03\""
     ]
    },
    {
     "name": "stdout",
     "output_type": "stream",
     "text": [
      " \"2022-01-03\""
     ]
    },
    {
     "name": "stdout",
     "output_type": "stream",
     "text": [
      " \"2022-01-03\""
     ]
    },
    {
     "name": "stdout",
     "output_type": "stream",
     "text": [
      " \"2022-01-03\""
     ]
    },
    {
     "name": "stdout",
     "output_type": "stream",
     "text": [
      "\n"
     ]
    },
    {
     "name": "stdout",
     "output_type": "stream",
     "text": [
      "[3551]"
     ]
    },
    {
     "name": "stdout",
     "output_type": "stream",
     "text": [
      " \"2022-01-03\""
     ]
    },
    {
     "name": "stdout",
     "output_type": "stream",
     "text": [
      " \"2022-01-03\""
     ]
    },
    {
     "name": "stdout",
     "output_type": "stream",
     "text": [
      " \"2022-01-03\""
     ]
    },
    {
     "name": "stdout",
     "output_type": "stream",
     "text": [
      " \"2022-01-03\""
     ]
    },
    {
     "name": "stdout",
     "output_type": "stream",
     "text": [
      " \"2022-01-03\""
     ]
    },
    {
     "name": "stdout",
     "output_type": "stream",
     "text": [
      "\n"
     ]
    },
    {
     "name": "stdout",
     "output_type": "stream",
     "text": [
      "[3556]"
     ]
    },
    {
     "name": "stdout",
     "output_type": "stream",
     "text": [
      " \"2022-01-03\""
     ]
    },
    {
     "name": "stdout",
     "output_type": "stream",
     "text": [
      " \"2022-01-03\""
     ]
    },
    {
     "name": "stdout",
     "output_type": "stream",
     "text": [
      " \"2022-01-03\""
     ]
    },
    {
     "name": "stdout",
     "output_type": "stream",
     "text": [
      " \"2022-01-03\""
     ]
    },
    {
     "name": "stdout",
     "output_type": "stream",
     "text": [
      " \"2022-01-03\""
     ]
    },
    {
     "name": "stdout",
     "output_type": "stream",
     "text": [
      "\n"
     ]
    },
    {
     "name": "stdout",
     "output_type": "stream",
     "text": [
      "[3561]"
     ]
    },
    {
     "name": "stdout",
     "output_type": "stream",
     "text": [
      " \"2022-01-03\""
     ]
    },
    {
     "name": "stdout",
     "output_type": "stream",
     "text": [
      " \"2022-01-03\""
     ]
    },
    {
     "name": "stdout",
     "output_type": "stream",
     "text": [
      " \"2022-01-03\""
     ]
    },
    {
     "name": "stdout",
     "output_type": "stream",
     "text": [
      " \"2022-01-03\""
     ]
    },
    {
     "name": "stdout",
     "output_type": "stream",
     "text": [
      " \"2022-01-03\""
     ]
    },
    {
     "name": "stdout",
     "output_type": "stream",
     "text": [
      "\n"
     ]
    },
    {
     "name": "stdout",
     "output_type": "stream",
     "text": [
      "[3566]"
     ]
    },
    {
     "name": "stdout",
     "output_type": "stream",
     "text": [
      " \"2022-01-03\""
     ]
    },
    {
     "name": "stdout",
     "output_type": "stream",
     "text": [
      " \"2022-01-03\""
     ]
    },
    {
     "name": "stdout",
     "output_type": "stream",
     "text": [
      " \"2022-01-03\""
     ]
    },
    {
     "name": "stdout",
     "output_type": "stream",
     "text": [
      " \"2022-01-03\""
     ]
    },
    {
     "name": "stdout",
     "output_type": "stream",
     "text": [
      " \"2022-01-03\""
     ]
    },
    {
     "name": "stdout",
     "output_type": "stream",
     "text": [
      "\n"
     ]
    },
    {
     "name": "stdout",
     "output_type": "stream",
     "text": [
      "[3571]"
     ]
    },
    {
     "name": "stdout",
     "output_type": "stream",
     "text": [
      " \"2022-01-03\""
     ]
    },
    {
     "name": "stdout",
     "output_type": "stream",
     "text": [
      " \"2022-01-03\""
     ]
    },
    {
     "name": "stdout",
     "output_type": "stream",
     "text": [
      " \"2022-01-03\""
     ]
    },
    {
     "name": "stdout",
     "output_type": "stream",
     "text": [
      " \"2022-01-03\""
     ]
    },
    {
     "name": "stdout",
     "output_type": "stream",
     "text": [
      " \"2022-01-03\""
     ]
    },
    {
     "name": "stdout",
     "output_type": "stream",
     "text": [
      "\n"
     ]
    },
    {
     "name": "stdout",
     "output_type": "stream",
     "text": [
      "[3576]"
     ]
    },
    {
     "name": "stdout",
     "output_type": "stream",
     "text": [
      " \"2022-01-03\""
     ]
    },
    {
     "name": "stdout",
     "output_type": "stream",
     "text": [
      " \"2022-01-03\""
     ]
    },
    {
     "name": "stdout",
     "output_type": "stream",
     "text": [
      " \"2022-01-03\""
     ]
    },
    {
     "name": "stdout",
     "output_type": "stream",
     "text": [
      " \"2022-01-03\""
     ]
    },
    {
     "name": "stdout",
     "output_type": "stream",
     "text": [
      " \"2022-01-03\""
     ]
    },
    {
     "name": "stdout",
     "output_type": "stream",
     "text": [
      "\n"
     ]
    },
    {
     "name": "stdout",
     "output_type": "stream",
     "text": [
      "[3581]"
     ]
    },
    {
     "name": "stdout",
     "output_type": "stream",
     "text": [
      " \"2022-01-03\""
     ]
    },
    {
     "name": "stdout",
     "output_type": "stream",
     "text": [
      " \"2022-01-03\""
     ]
    },
    {
     "name": "stdout",
     "output_type": "stream",
     "text": [
      " \"2022-01-03\""
     ]
    },
    {
     "name": "stdout",
     "output_type": "stream",
     "text": [
      " \"2022-01-03\""
     ]
    },
    {
     "name": "stdout",
     "output_type": "stream",
     "text": [
      " \"2022-01-03\""
     ]
    },
    {
     "name": "stdout",
     "output_type": "stream",
     "text": [
      "\n"
     ]
    },
    {
     "name": "stdout",
     "output_type": "stream",
     "text": [
      "[3586]"
     ]
    },
    {
     "name": "stdout",
     "output_type": "stream",
     "text": [
      " \"2022-01-03\""
     ]
    },
    {
     "name": "stdout",
     "output_type": "stream",
     "text": [
      " \"2022-01-03\""
     ]
    },
    {
     "name": "stdout",
     "output_type": "stream",
     "text": [
      " \"2022-01-03\""
     ]
    },
    {
     "name": "stdout",
     "output_type": "stream",
     "text": [
      " \"2022-01-10\""
     ]
    },
    {
     "name": "stdout",
     "output_type": "stream",
     "text": [
      " \"2022-01-10\""
     ]
    },
    {
     "name": "stdout",
     "output_type": "stream",
     "text": [
      "\n"
     ]
    },
    {
     "name": "stdout",
     "output_type": "stream",
     "text": [
      "[3591]"
     ]
    },
    {
     "name": "stdout",
     "output_type": "stream",
     "text": [
      " \"2022-01-10\""
     ]
    },
    {
     "name": "stdout",
     "output_type": "stream",
     "text": [
      " \"2022-01-10\""
     ]
    },
    {
     "name": "stdout",
     "output_type": "stream",
     "text": [
      " \"2022-01-10\""
     ]
    },
    {
     "name": "stdout",
     "output_type": "stream",
     "text": [
      " \"2022-01-10\""
     ]
    },
    {
     "name": "stdout",
     "output_type": "stream",
     "text": [
      " \"2022-01-10\""
     ]
    },
    {
     "name": "stdout",
     "output_type": "stream",
     "text": [
      "\n"
     ]
    },
    {
     "name": "stdout",
     "output_type": "stream",
     "text": [
      "[3596]"
     ]
    },
    {
     "name": "stdout",
     "output_type": "stream",
     "text": [
      " \"2022-01-10\""
     ]
    },
    {
     "name": "stdout",
     "output_type": "stream",
     "text": [
      " \"2022-01-10\""
     ]
    },
    {
     "name": "stdout",
     "output_type": "stream",
     "text": [
      " \"2022-01-10\""
     ]
    },
    {
     "name": "stdout",
     "output_type": "stream",
     "text": [
      " \"2022-01-10\""
     ]
    },
    {
     "name": "stdout",
     "output_type": "stream",
     "text": [
      " \"2022-01-10\""
     ]
    },
    {
     "name": "stdout",
     "output_type": "stream",
     "text": [
      "\n"
     ]
    },
    {
     "name": "stdout",
     "output_type": "stream",
     "text": [
      "[3601]"
     ]
    },
    {
     "name": "stdout",
     "output_type": "stream",
     "text": [
      " \"2022-01-10\""
     ]
    },
    {
     "name": "stdout",
     "output_type": "stream",
     "text": [
      " \"2022-01-10\""
     ]
    },
    {
     "name": "stdout",
     "output_type": "stream",
     "text": [
      " \"2022-01-10\""
     ]
    },
    {
     "name": "stdout",
     "output_type": "stream",
     "text": [
      " \"2022-01-10\""
     ]
    },
    {
     "name": "stdout",
     "output_type": "stream",
     "text": [
      " \"2022-01-10\""
     ]
    },
    {
     "name": "stdout",
     "output_type": "stream",
     "text": [
      "\n"
     ]
    },
    {
     "name": "stdout",
     "output_type": "stream",
     "text": [
      "[3606]"
     ]
    },
    {
     "name": "stdout",
     "output_type": "stream",
     "text": [
      " \"2022-01-10\""
     ]
    },
    {
     "name": "stdout",
     "output_type": "stream",
     "text": [
      " \"2022-01-10\""
     ]
    },
    {
     "name": "stdout",
     "output_type": "stream",
     "text": [
      " \"2022-01-10\""
     ]
    },
    {
     "name": "stdout",
     "output_type": "stream",
     "text": [
      " \"2022-01-10\""
     ]
    },
    {
     "name": "stdout",
     "output_type": "stream",
     "text": [
      " \"2022-01-10\""
     ]
    },
    {
     "name": "stdout",
     "output_type": "stream",
     "text": [
      "\n"
     ]
    },
    {
     "name": "stdout",
     "output_type": "stream",
     "text": [
      "[3611]"
     ]
    },
    {
     "name": "stdout",
     "output_type": "stream",
     "text": [
      " \"2022-01-10\""
     ]
    },
    {
     "name": "stdout",
     "output_type": "stream",
     "text": [
      " \"2022-01-10\""
     ]
    },
    {
     "name": "stdout",
     "output_type": "stream",
     "text": [
      " \"2022-01-10\""
     ]
    },
    {
     "name": "stdout",
     "output_type": "stream",
     "text": [
      " \"2022-01-10\""
     ]
    },
    {
     "name": "stdout",
     "output_type": "stream",
     "text": [
      " \"2022-01-10\""
     ]
    },
    {
     "name": "stdout",
     "output_type": "stream",
     "text": [
      "\n"
     ]
    },
    {
     "name": "stdout",
     "output_type": "stream",
     "text": [
      "[3616]"
     ]
    },
    {
     "name": "stdout",
     "output_type": "stream",
     "text": [
      " \"2022-01-10\""
     ]
    },
    {
     "name": "stdout",
     "output_type": "stream",
     "text": [
      " \"2022-01-10\""
     ]
    },
    {
     "name": "stdout",
     "output_type": "stream",
     "text": [
      " \"2022-01-10\""
     ]
    },
    {
     "name": "stdout",
     "output_type": "stream",
     "text": [
      " \"2022-01-10\""
     ]
    },
    {
     "name": "stdout",
     "output_type": "stream",
     "text": [
      " \"2022-01-10\""
     ]
    },
    {
     "name": "stdout",
     "output_type": "stream",
     "text": [
      "\n"
     ]
    },
    {
     "name": "stdout",
     "output_type": "stream",
     "text": [
      "[3621]"
     ]
    },
    {
     "name": "stdout",
     "output_type": "stream",
     "text": [
      " \"2022-01-10\""
     ]
    },
    {
     "name": "stdout",
     "output_type": "stream",
     "text": [
      " \"2022-01-10\""
     ]
    },
    {
     "name": "stdout",
     "output_type": "stream",
     "text": [
      " \"2022-01-10\""
     ]
    },
    {
     "name": "stdout",
     "output_type": "stream",
     "text": [
      " \"2022-01-10\""
     ]
    },
    {
     "name": "stdout",
     "output_type": "stream",
     "text": [
      " \"2022-01-10\""
     ]
    },
    {
     "name": "stdout",
     "output_type": "stream",
     "text": [
      "\n"
     ]
    },
    {
     "name": "stdout",
     "output_type": "stream",
     "text": [
      "[3626]"
     ]
    },
    {
     "name": "stdout",
     "output_type": "stream",
     "text": [
      " \"2022-01-10\""
     ]
    },
    {
     "name": "stdout",
     "output_type": "stream",
     "text": [
      " \"2022-01-10\""
     ]
    },
    {
     "name": "stdout",
     "output_type": "stream",
     "text": [
      " \"2022-01-10\""
     ]
    },
    {
     "name": "stdout",
     "output_type": "stream",
     "text": [
      " \"2022-01-10\""
     ]
    },
    {
     "name": "stdout",
     "output_type": "stream",
     "text": [
      " \"2022-01-10\""
     ]
    },
    {
     "name": "stdout",
     "output_type": "stream",
     "text": [
      "\n"
     ]
    },
    {
     "name": "stdout",
     "output_type": "stream",
     "text": [
      "[3631]"
     ]
    },
    {
     "name": "stdout",
     "output_type": "stream",
     "text": [
      " \"2022-01-10\""
     ]
    },
    {
     "name": "stdout",
     "output_type": "stream",
     "text": [
      " \"2022-01-10\""
     ]
    },
    {
     "name": "stdout",
     "output_type": "stream",
     "text": [
      " \"2022-01-10\""
     ]
    },
    {
     "name": "stdout",
     "output_type": "stream",
     "text": [
      " \"2022-01-10\""
     ]
    },
    {
     "name": "stdout",
     "output_type": "stream",
     "text": [
      " \"2022-01-10\""
     ]
    },
    {
     "name": "stdout",
     "output_type": "stream",
     "text": [
      "\n"
     ]
    },
    {
     "name": "stdout",
     "output_type": "stream",
     "text": [
      "[3636]"
     ]
    },
    {
     "name": "stdout",
     "output_type": "stream",
     "text": [
      " \"2022-01-10\""
     ]
    },
    {
     "name": "stdout",
     "output_type": "stream",
     "text": [
      " \"2022-01-10\""
     ]
    },
    {
     "name": "stdout",
     "output_type": "stream",
     "text": [
      " \"2022-01-10\""
     ]
    },
    {
     "name": "stdout",
     "output_type": "stream",
     "text": [
      " \"2022-01-10\""
     ]
    },
    {
     "name": "stdout",
     "output_type": "stream",
     "text": [
      " \"2022-01-10\""
     ]
    },
    {
     "name": "stdout",
     "output_type": "stream",
     "text": [
      "\n"
     ]
    },
    {
     "name": "stdout",
     "output_type": "stream",
     "text": [
      "[3641]"
     ]
    },
    {
     "name": "stdout",
     "output_type": "stream",
     "text": [
      " \"2022-01-10\""
     ]
    },
    {
     "name": "stdout",
     "output_type": "stream",
     "text": [
      " \"2022-01-10\""
     ]
    },
    {
     "name": "stdout",
     "output_type": "stream",
     "text": [
      " \"2022-01-10\""
     ]
    },
    {
     "name": "stdout",
     "output_type": "stream",
     "text": [
      " \"2022-01-10\""
     ]
    },
    {
     "name": "stdout",
     "output_type": "stream",
     "text": [
      " \"2022-01-10\""
     ]
    },
    {
     "name": "stdout",
     "output_type": "stream",
     "text": [
      "\n"
     ]
    },
    {
     "name": "stdout",
     "output_type": "stream",
     "text": [
      "[3646]"
     ]
    },
    {
     "name": "stdout",
     "output_type": "stream",
     "text": [
      " \"2022-01-10\""
     ]
    },
    {
     "name": "stdout",
     "output_type": "stream",
     "text": [
      " \"2022-01-10\""
     ]
    },
    {
     "name": "stdout",
     "output_type": "stream",
     "text": [
      " \"2022-01-10\""
     ]
    },
    {
     "name": "stdout",
     "output_type": "stream",
     "text": [
      " \"2022-01-10\""
     ]
    },
    {
     "name": "stdout",
     "output_type": "stream",
     "text": [
      " \"2022-01-10\""
     ]
    },
    {
     "name": "stdout",
     "output_type": "stream",
     "text": [
      "\n"
     ]
    },
    {
     "name": "stdout",
     "output_type": "stream",
     "text": [
      "[3651]"
     ]
    },
    {
     "name": "stdout",
     "output_type": "stream",
     "text": [
      " \"2022-01-10\""
     ]
    },
    {
     "name": "stdout",
     "output_type": "stream",
     "text": [
      " \"2022-01-10\""
     ]
    },
    {
     "name": "stdout",
     "output_type": "stream",
     "text": [
      " \"2022-01-10\""
     ]
    },
    {
     "name": "stdout",
     "output_type": "stream",
     "text": [
      " \"2022-01-10\""
     ]
    },
    {
     "name": "stdout",
     "output_type": "stream",
     "text": [
      " \"2022-01-10\""
     ]
    },
    {
     "name": "stdout",
     "output_type": "stream",
     "text": [
      "\n"
     ]
    },
    {
     "name": "stdout",
     "output_type": "stream",
     "text": [
      "[3656]"
     ]
    },
    {
     "name": "stdout",
     "output_type": "stream",
     "text": [
      " \"2022-01-10\""
     ]
    },
    {
     "name": "stdout",
     "output_type": "stream",
     "text": [
      " \"2022-01-10\""
     ]
    },
    {
     "name": "stdout",
     "output_type": "stream",
     "text": [
      "\n"
     ]
    }
   ],
   "source": [
    "%%R\n",
    "datums <- data$week\n",
    "paraugu_daļa <- data$percentage\n",
    "paveids <- data$Group.2\n",
    "s_a_plot <- data %>% ggplot( #INITIALIZE PLOT VARIABLE & SUPPLY DATA TO GGPLOT\n",
    "    aes(\n",
    "        x = datums, #SUPPLY X AXES DATA\n",
    "        y = paraugu_daļa)) + #SUPPLY Y AXES DATA\n",
    "    geom_area( #INITIALIZE GEOMETRIC AREA PLOT\n",
    "        position='stack', #STACKED LAYOUT\n",
    "        stat = \"identity\", #DO NOT SUMMARIZE DATA PRIOR TO PLOTTING, PLOT AS IS\n",
    "        aes(fill = paveids), #LEGEND & COLOURING - BY LINEAGES\n",
    "        color='black', alpha = 0.45) +#AREA OUTLINE COLOUR & OPACITY\n",
    "    labs(\n",
    "        x = \"\", #BLANK X-AXIS LABEL\n",
    "        y = \"Paraugu daļa\", #Y-LABEL\n",
    "        fill = 'Paveidi') + #LEGEND LABEL\n",
    "    scale_x_date(\n",
    "        date_breaks = \"1 months\", #MAYOR BRAKES ON DATE-BASED X-AXIS\n",
    "        date_minor_breaks = \"1 week\", #MINOR BRAKES ON DATE-BASED X-AXIS\n",
    "        date_labels = \"%b %Y\") + #TICK LABE FORMATE ON DATE-BASED X-AXIS\n",
    "    theme(\n",
    "        text = element_text(size=14), #AXIS LABEL & LEGEND FONT SIZE\n",
    "        axis.text.x = element_text(size=14, angle = 90, vjust = 0.5, hjust=1), #X-AXIS TICK LABEL FONT SIZE\n",
    "        axis.text.y = element_text(size=14), #Y-AXIS TICK LABEL FONT SIZE\n",
    "        panel.grid.major.x = element_blank(), #REMOVE VERTICAL GRID LINES\n",
    "        panel.grid.major.y = element_blank(), #FORMAT HORIZONTAL GRID LINES\n",
    "        panel.background = element_blank(), #REMOVE BACKGROUND GRID PANEL COLOUR\n",
    "        axis.line = element_line(colour = \"black\"),#CHANGE AXIS COLORS\n",
    "        axis.title.x = element_text(vjust=-1.5),#ADD SPACE BETWEEN TICK LABELS AND X AXIS LABEL\n",
    "        axis.title.y = element_text(vjust=3),#ADD SPACE BETWEEN TICK LABELS AND Y AXIS LABEL\n",
    "        plot.margin = unit(c(0.5,0.5,0.5,0.5), \"cm\")) + #ADD MARGINS TO THE PLOT\n",
    "    scale_fill_manual(values=as.vector(compressed_palette)) + #ADD_PALETTE\n",
    "    guides(fill=guide_legend(ncol=2)) #DISPLAY LEGEND AS TWO COLUMNS\n",
    "ggsave(\n",
    "    paste(output_path,'plot7.png', sep=''), #PATH & FILE NAME WHERE THE PLOT WILL BE SAVED\n",
    "    width = 41.68, #PLOT WIDTH IN CM\n",
    "    height = 26.73, #PLOT HEIGHT IN CM\n",
    "    units = \"cm\") #PLOT DIMENSION UNITS\n",
    "p <- ggplotly(s_a_plot) #INTERACTIVITY\n",
    "saveWidget(p, paste(output_path,'summary_plot.html', sep='')) #SAVE INTERACTIVE PLOT"
   ]
  },
  {
   "cell_type": "code",
   "execution_count": 12,
   "id": "c8a7e507",
   "metadata": {
    "execution": {
     "iopub.execute_input": "2022-01-26T13:07:16.931669Z",
     "iopub.status.busy": "2022-01-26T13:07:16.931160Z",
     "iopub.status.idle": "2022-01-26T13:07:17.822931Z",
     "shell.execute_reply": "2022-01-26T13:07:17.822426Z"
    },
    "papermill": {
     "duration": 2.146951,
     "end_time": "2022-01-26T13:07:17.823044",
     "exception": false,
     "start_time": "2022-01-26T13:07:15.676093",
     "status": "completed"
    },
    "tags": []
   },
   "outputs": [],
   "source": [
    "%%R\n",
    "batch_abs_plot <- grp_batch_data %>% ggplot( #INITIALIZE PLOT VARIABLE & SUPPLY DATA TO GGPLOT\n",
    "    aes(\n",
    "        y=receiving_lab_sample_id, #SUPPLY Y AXES DATA\n",
    "        x=Group.1)) + #SUPPLY X AXES DATA\n",
    "    geom_bar( #INITIALIZE STACKED BAR PLOT\n",
    "        position=\"stack\", #STACKED LAYOUT\n",
    "        stat=\"identity\", #PLOT DATA AS IS\n",
    "        aes(\n",
    "            fill = forcats::fct_rev(Group.2)), #GENERATE STACKED PLOT WITH BIGGER VALUES ON TOP\n",
    "            color = 'black', alpha = 0.45) + #OUTLINE COLOUR & OPACITY\n",
    "        scale_fill_manual(values=as.vector(compressed_palette)) + #ADDING CUSTOM COLOUR PALETTE\n",
    "    theme(\n",
    "        axis.text.x = element_text( #FORMAT X-AXIS LABEL TEXT\n",
    "            angle = 90, #ROTATE COUNTER-CLOCKWISE\n",
    "            vjust=0.2, #OPTIMAL VERTICAL POSITIONING RELATIVE TO AXIS TICK\n",
    "            hjust = 0.95), #OPTIMAL HORIZONTAL POSITIONING RELATIVE TO AXIS TICK\n",
    "        panel.grid.major.x = element_blank(), #REMOVE VERTICAL GRID LINES\n",
    "        panel.grid.major.y = element_line( #FORMAT VERTICAL GRID LINES\n",
    "            size=.1, \n",
    "            color=\"black\" ),\n",
    "            panel.background = element_blank(), #REMOVE BACKGROUND GRID PANEL COLOUR\n",
    "            axis.line = element_line(colour = \"black\")) + #CHANGE AXIS COLORS\n",
    "    geom_text(\n",
    "        aes(label=receiving_lab_sample_id), #ADD PLOTTED VALUE NUMBERS TO STACKED PLOTS\n",
    "        position=position_stack(reverse=FALSE, vjust=0.5), #SINGLE OPTIMAL LABEL POSITION\n",
    "        size = 2.2) #LABEL SIZE\n",
    "plot_4 <- batch_abs_plot + scale_x_date(\n",
    "    date_breaks = \"1 week\", #PLOT DATA BY DATE\n",
    "    date_minor_breaks = \"1 week\", #PLOT DATA BY DATE\n",
    "    date_labels = \"%e-%m-%Y\") + #X-AXIS LABEL FORMAT\n",
    "    labs(\n",
    "        x = \"Parauga paņemšanas datums\", #X-AXIS LABEL\n",
    "        y = \"Paraugu skaits dienā\", #Y-AXIS LABEL\n",
    "        fill = 'Celmi') + #LEGEND LABEL\n",
    "        theme(\n",
    "            axis.title.x = element_text(vjust=-1.5), #ADD SPACE BETWEEN TICK LABELS AND X AXIS LABEL\n",
    "            plot.margin = unit(c(0.5,0.5,0.5,0.5), \"cm\")) #ADD MARGINS TO THE PLOT\n",
    "ggsave(\n",
    "    paste(output_path,'plot5.png', sep=''), #PATH & FILE NAME WHERE THE PLOT WILL BE SAVED\n",
    "    plot=plot_4, #SUPPLYING PLOT OBJECT\n",
    "    width = 30, #PLOT WIDTH IN CM\n",
    "    height = 16, #PLOT HEIGHT IN CM\n",
    "    units = \"cm\") #PLOT DIMENSION UNITS"
   ]
  },
  {
   "cell_type": "code",
   "execution_count": 13,
   "id": "c9d30a11",
   "metadata": {
    "execution": {
     "iopub.execute_input": "2022-01-26T13:07:20.225699Z",
     "iopub.status.busy": "2022-01-26T13:07:20.225188Z",
     "iopub.status.idle": "2022-01-26T13:07:21.186739Z",
     "shell.execute_reply": "2022-01-26T13:07:21.185726Z"
    },
    "papermill": {
     "duration": 2.12327,
     "end_time": "2022-01-26T13:07:21.186986",
     "exception": false,
     "start_time": "2022-01-26T13:07:19.063716",
     "status": "completed"
    },
    "tags": []
   },
   "outputs": [],
   "source": [
    "%%R\n",
    "batch_mut_plot <-ggplot( #INITIALIZE PLOT OBJECT\n",
    "    data=batch_mut_data, #SUPPLYING DATA\n",
    "    aes(\n",
    "        y=Number_of_samples, #X-AXIS DATA\n",
    "        # x=reorder(Mutation, count_gene_occurr))) + #Y-AXIS DATA\n",
    "        x=Mutation)) +\n",
    "    geom_bar(\n",
    "        stat=\"identity\", #PLOT AS-IS\n",
    "        aes(fill=Gene), #LEGEND BASED ON GENE COLUMN\n",
    "        width = 0.75, #BAR WIDTH\n",
    "        color = 'black', alpha = 0.45) + #BAR OUTLINE COLOUR\n",
    "    scale_fill_manual(values=as.vector(compressed_palette)) +#ADDING CUSTOM COLOUR PALETTE\n",
    "    theme(\n",
    "        axis.text.x = element_text(angle = 0, vjust=0.2, hjust = 0.95), #X-AXIS TICK LABEL FORMATTING\n",
    "        panel.grid.major.y = element_blank(), #REMOVE Y-GRIDLINES\n",
    "        panel.grid.major.x = element_line(#FORMAT X-GRIDLINES\n",
    "            size=.1, #GRIDLINE THICKNESS\n",
    "            color=\"black\" ), #GRIDLINE COLOUR\n",
    "        panel.background = element_blank(), #REMOVE GRID BACKGROUND\n",
    "        axis.line = element_line(colour = \"black\")) #RECOLOR AXES\n",
    "plot_5<-batch_mut_plot + labs( \n",
    "    x = \"Mutācijas\", #X-AXIS LABEL\n",
    "    y = \"Paraugu skaits\", #Y-AXIS LABES\n",
    "    fill = 'Gēns') +  #LEGEND LABES\n",
    "    coord_flip() +\n",
    "    geom_text(size = 2.5, aes(label = Number_of_samples), #DISPLAY VALUE ON TOP OF THE BAR\n",
    "        vjust = 0.5, #V-ALIGN VALUE\n",
    "        hjust = -0.2, #H-ALIGN VALUE\n",
    "        show.legend = FALSE) + #DO NOT INCLUDE LABEL VALUE AS SEPARATE LEGEND ENTRY\n",
    "        scale_x_discrete(expand = c(0,3)) + #ADD SPACE BETWEEN X AXIS AND PLOT\n",
    "        theme(\n",
    "            axis.title.x = element_text(vjust=-1.5),#ADD SPACE BETWEEN TICK LABELS AND X AXIS LABEL\n",
    "            plot.margin = unit(c(0.5,0.5,0.5,0.5), \"cm\")) #ADD MARGINS TO THE PLOT\n",
    "ggsave(\n",
    "    paste(output_path,'plot6.png', sep=''), #PATH & FILE NAME WHERE THE PLOT WILL BE SAVED\n",
    "    plot=plot_5, #SUPPLYING PLOT OBJECT\n",
    "    width = ggsave_width, #PLOT WIDTH IN CM\n",
    "    height = as.integer(nrow(batch_mut_data)/3), #PLOT HEIGHT IN CM\n",
    "    units = \"cm\") #PLOT DIMENSION UNITS\n",
    "\n",
    "# p <- ggplotly(batch_mut_plot) #INTERACTIVITY\n",
    "# saveWidget(p, paste(output_path,'mutation_plot.html', sep='')) #SAVE INTERACTIVE PLOT"
   ]
  },
  {
   "cell_type": "code",
   "execution_count": 14,
   "id": "f28163e3",
   "metadata": {
    "execution": {
     "iopub.execute_input": "2022-01-26T13:07:23.721590Z",
     "iopub.status.busy": "2022-01-26T13:07:23.721090Z",
     "iopub.status.idle": "2022-01-26T13:07:23.729809Z",
     "shell.execute_reply": "2022-01-26T13:07:23.730138Z"
    },
    "papermill": {
     "duration": 1.256219,
     "end_time": "2022-01-26T13:07:23.730249",
     "exception": false,
     "start_time": "2022-01-26T13:07:22.474030",
     "status": "completed"
    },
    "tags": []
   },
   "outputs": [],
   "source": [
    "%%R\n",
    "#PROCESSING QC METRICS DATA\n",
    "###FUNCTIONS###\n",
    "split_df <- function(df) {\n",
    "    #FUNCTION IS USED TO SPLIT BATCH DATA IN 2 PARTS BASED ON RECEIVING_LAB_SAMPLE_ID\n",
    "    lower_half <- data.frame(df[df$receiving_lab_sample_id <= median(as.integer(df$receiving_lab_sample_id)),]) #LOWER PART INCLUDES SAMPLES WITH ID LOWER THAT MEDIAN ID\n",
    "    higher_half <- data.frame(df[df$receiving_lab_sample_id > median(as.integer(df$receiving_lab_sample_id)),]) #HEIGHER PART INCLUDES SAMPLES WITH ID HIGHER THAT MEDIAN ID\n",
    "    return(list(lower_half,higher_half)) #RETURN LIST OF DATAFRAMES\n",
    "}\n",
    "\n",
    "plot_quality_metrics <- function(df, number_list, plot_num, output_path, skip_legend=FALSE){\n",
    "    #FUNCTION IS USED TO CREATE QC METRIC PLOT BASED ON BATCH_DATA (OR PART OF IT)\n",
    "    ##METRICS TO PLOT\n",
    "        total_reads <-df$TOTAL_READS \n",
    "        av_coverage <- df$AVERAGE_COVERAGE\n",
    "        covered_reference <- df$covered_reference_percent\n",
    "    #PLOT MARGINS\n",
    "        l_margin <- 15\n",
    "        r_margin <- 1\n",
    "        t_margin <- 3\n",
    "        #DIFFERENT BUTTOM MARGINS FOR 1ST AND LATER PLOTS\n",
    "            if (skip_legend==TRUE){\n",
    "                b_margin=6\n",
    "            }else{\n",
    "                b_margin=12\n",
    "            }\n",
    "    png(file=paste(output_path, 'plot', plot_num,'.png', sep=''),width=1500, height=500) #SAVE PLOT AS PNG\n",
    "    par(mar=c(b_margin, l_margin, t_margin, r_margin) + 0.1, cex.axis=1.3)#INITIALIZE A LAYOUT WITH DEFINED MARGINS, SCALE AXES FONT SIZE UP 30%\n",
    "    #PLOT_1\n",
    "        plot( #INITIALIZE PLOT OBJECT\n",
    "            c(min(number_list):max(number_list)), #DEFINE X-AXIS RANGE\n",
    "            las=1, #ORIENT TICK LABELS HORIZONTALLY\n",
    "            axes=F, #ALLOW MULTIPLE Y AXES IN ONE LAYOUT\n",
    "            covered_reference, #SUPPLY Y DATA  \n",
    "            xlim = c( #DEFINE LIMIT VALUES TO DISPLAY ON X-AXIS\n",
    "                as.integer(min(number_list)),\n",
    "                as.integer(max(number_list))), \n",
    "            # ylim=c(0,max(covered_reference)), #DEFINE LIMIT VALUES TO DISPLAY ON Y-AXIS\n",
    "            ylim=c(0,100),\n",
    "            xlab=\"\", #X-AXIS LABEL\n",
    "            ylab=\"\", #Y-AXIS LABEL\n",
    "            type=\"l\", #TYPE OF THE PLOT TO DRAW - LINE PLOT\n",
    "            main=\"\", #LEGEND LABEL\n",
    "            lwd=3, #PLOT LINE WIDTH\n",
    "            col=\"darkgreen\") #PLOT LINE COLOUR\n",
    "        segments( #DRAW LINES FROM X-AXIS TO DATA POINTS\n",
    "            x0=c(min(number_list):max(number_list)), #LINE STARTING LEVEL X-COORDINATE\n",
    "            y0=0, #LINE STARTING LEVEL Y-COORDINATE\n",
    "            y1=covered_reference, #LINE ENDPOINT VALUES\n",
    "            col=8) #LINE TYPE (E.G. DASHED LINES)\n",
    "        points( #ADD POINTS TO DATA ON PLOT\n",
    "            number_list, #X-AXIS VALUES\n",
    "            covered_reference, #Y-AXIS VALUES\n",
    "            pch=20, #POINT TYPES (E.G. CIRCLE, SQUARE ETC.)\n",
    "            col=\"darkgreen\", #POINT COLOUR\n",
    "            cex=2.5) #SCALE POINT SIZE 150% UP\n",
    "        axis(2, #Y-AXIS LOCATION; 2-LEFT\n",
    "            ylim=c(min(covered_reference),max(covered_reference)), #Y-AXIS DATA RANGE\n",
    "            col=\"darkgreen\", #Y-AXIS COLOUR\n",
    "            lwd=2) #Y-AXIS LINE WIDTH\n",
    "        mtext(2,\n",
    "            text=\"Reference pārklāta (min.x15 %)\", #Y-AXIS LABEL\n",
    "            line=2.5, #PADDING FOR Y-AXIS LABEL\n",
    "            cex=1.6) #SCALE X-AXIS LABEL FONT SIZE 60% UP\n",
    "\n",
    "    #PLOT_2\n",
    "        par(\n",
    "            new=T, #ADD NEW PLOT TO THE LAYOUT\n",
    "            cex.axis=1.3) #SCALE AXIS TICK LABEL FONT SIZE UP 30%\n",
    "        plot(c(min(number_list):max(number_list)), \n",
    "            las=1,\n",
    "            axes=F, \n",
    "            av_coverage, \n",
    "            ylim=c(0,max(av_coverage)), \n",
    "            xlab=\"\", \n",
    "            ylab=\"\", \n",
    "            xlim = c(\n",
    "                as.integer(min(number_list)),\n",
    "                as.integer(max(number_list))), \n",
    "            type=\"l\",\n",
    "            lty=2, #PLOT LINE TYPE\n",
    "            main=\"\",\n",
    "            lwd=3, \n",
    "            col=\"blue\")\n",
    "        segments(\n",
    "            x0=c(min(number_list):max(number_list)), \n",
    "            y0=0,\n",
    "            y1=av_coverage, \n",
    "            col=8)\n",
    "        axis(2, \n",
    "            ylim=c(\n",
    "                min(av_coverage),\n",
    "                max(av_coverage)),\n",
    "            lwd=2,\n",
    "            line=4.2, \n",
    "            col=\"blue\")\n",
    "        points(\n",
    "            number_list, \n",
    "            av_coverage,\n",
    "            pch=20, \n",
    "            col=\"blue\",\n",
    "            cex=2.5)\n",
    "        mtext(2,\n",
    "            text=\"Vidējais pārklājums\",\n",
    "            line=6.5,\n",
    "            cex=1.6)\n",
    "\n",
    "    #PLOT_3\n",
    "        par(new=T, \n",
    "            cex.axis=1.3)\n",
    "        plot(c(min(number_list):max(number_list)), \n",
    "            las=1,\n",
    "            axes=F, \n",
    "            total_reads, \n",
    "            ylim=c(0,max(total_reads)), \n",
    "            xlab=\"\", \n",
    "            ylab=\"\", \n",
    "            xlim = c(\n",
    "                as.integer(min(number_list)),\n",
    "                as.integer(max(number_list))), \n",
    "            type=\"l\",\n",
    "            lty=3, \n",
    "            main=\"\",\n",
    "            lwd=3, \n",
    "            col=\"red\")\n",
    "        segments(\n",
    "            x0=c(min(number_list):max(number_list)), \n",
    "            y0=0,\n",
    "            y1=total_reads, \n",
    "            col=8)\n",
    "        axis(2, \n",
    "        ylim=c(\n",
    "            min(total_reads),\n",
    "            max(total_reads)), \n",
    "            lwd=2,\n",
    "            line=8.2, \n",
    "            col=\"red\")\n",
    "        points(\n",
    "            number_list, \n",
    "            total_reads, \n",
    "            pch=20, \n",
    "            col=\"red\", \n",
    "            cex=2.5)\n",
    "        mtext(2,\n",
    "            text=\"Nolasījumu skaits\",\n",
    "            line=10.5, \n",
    "            cex=1.6)\n",
    "        axis(1, \n",
    "            at=min(number_list):max(number_list), \n",
    "            labels=number_list)\n",
    "        if (skip_legend==FALSE){    #TO NOT ADD LEGEND IF IT IS NOT NEEDED\n",
    "            legend(\n",
    "                \"bottom\",  #LEGEND POSITION\n",
    "                xpd=TRUE, #DRAW LEGEND OUTSIDE OF PLOT AREA\n",
    "                inset = c(0.2,-0.6), #LEGEND POSITIONING\n",
    "                cex=1.6, #SCALE LEGEND SIZE UP 60%S\n",
    "                legend=c( #LEGEND LABELS\n",
    "                    \"Reference pārklāta (min.x15 %)\", \n",
    "                    \"Vidējais pārklājums\",\n",
    "                    \"Nolasījumu skaits\"),\n",
    "                lty=c(1,2,3)) #LINE TYPES TO DISPLAY ON LEGEND\n",
    "            mtext(\n",
    "                \"Parauga ID\",\n",
    "                side=1,\n",
    "                col=\"black\", \n",
    "                line=3.2,\n",
    "                cex=1.6)\n",
    "        }else{\n",
    "            mtext(\n",
    "                \"Parauga ID\",\n",
    "                side=1,\n",
    "                col=\"black\", \n",
    "                line=3.5,\n",
    "                cex=1.6)\n",
    "        }\n",
    "    \n",
    "    dev.off() #SAVE PLOT\n",
    "}"
   ]
  },
  {
   "cell_type": "code",
   "execution_count": 15,
   "id": "11501fd4",
   "metadata": {
    "execution": {
     "iopub.execute_input": "2022-01-26T13:07:26.021337Z",
     "iopub.status.busy": "2022-01-26T13:07:26.020879Z",
     "iopub.status.idle": "2022-01-26T13:07:26.069269Z",
     "shell.execute_reply": "2022-01-26T13:07:26.070148Z"
    },
    "papermill": {
     "duration": 1.193647,
     "end_time": "2022-01-26T13:07:26.070411",
     "exception": false,
     "start_time": "2022-01-26T13:07:24.876764",
     "status": "completed"
    },
    "tags": []
   },
   "outputs": [],
   "source": [
    "%%R\n",
    "#PRE-PROCESSING QC METRIC\n",
    "chunk_len <- nrow(batch_data)/4 + 1 #DEVIDE NUMBER OF SAMPLES BY NUMBER OF REQUIRED CHUNKS TO GET OPTIMAL CHUNK SIZE (+1 TO AVOID INCORRECT SPLITTING FOR ODD NUMBER OF SAMPLES)\n",
    "target <- batch_data$receiving_lab_sample_id #GETTING ORDER OF SAMPLES IN FOUND SAMPLES REPORT\n",
    "batch_data <- batch_data[match(target, batch_data$receiving_lab_sample_id),] #REORDERING SAMPLES ACCORDING TO FOUND_SAMPLES REPORT\n",
    "batch_data$receiving_lab_sample_id <- seq.int(nrow(batch_data)) #ADD NUMERIC ID COLUMN TO SPLIT UPON\n",
    "# write_csv(batch_data, 'test.csv')\n",
    "# write.csv(batch_data, paste(output_path, 'test.csv', sep=''))\n",
    "chunk_list <- list(batch_data) #INITIALIZE LIST OF CHUNKS WITH STARTING DATAFRAME\n",
    "while (nrow(data.frame(chunk_list[1])) > chunk_len) { #UNTIL CHUNK SIZE IS NOT SMALLER THAN CHUNK_LEN VALUE\n",
    "    temp_list <- list() #EMPTY LIST TO STORE CURRENT CHUNKS\n",
    "    for (chunk in chunk_list) { #ITERATE OVER CURRENT CHUNKS\n",
    "        split_result = split_df(chunk) #SPLIT EACH CHUNK IN TWO\n",
    "        temp_list <- append(temp_list, split_result[1]) #ADD CHUNK WITH LOWER IDS FIRST\n",
    "        temp_list <- append(temp_list, split_result[2]) #ADD CHUNK WITH HIGHER IDS SECOND\n",
    "\n",
    "    }\n",
    "    chunk_list <- temp_list #WHEN ALL CHUNKS WERE SPLIT, THE SPLIT PRODUCTS IS STORED IN TEMP_LIST - ASSIGNED TO CHUNK_LIST\n",
    "}\n",
    "#REPORTING DATA INTEGRITY STATUS\n",
    "#total_df = data.frame() #TO STORE DATA AS IT IS RESTORED FROM CHUNKS\n",
    "#for (chunk in chunk_list){ #MERGE CHUNKS FROM CHUNK LIST INTO DATAFRAME\n",
    "    #print(min(chunk$receiving_lab_sample_id))#VERIFYING THAT CHUNKS ARE STORED IN ORDER OF INCREASING ID - PRINT LOWEST ID IN CHUNK\n",
    "    #print(max(chunk$receiving_lab_sample_id))#VERIFYING THAT CHUNKS ARE STORED IN ORDER OF INCREASING ID - PRINT HIGHEST ID IN CHUNK\n",
    "    #total_df = rbind(total_df, data.frame(chunk)) #MERGE CHUNK INTO DATAFRAME\n",
    "#}\n",
    "#paste(\"Split batch data into\", length(chunk_list), \"chunks.\") #PRINT NUMBER OF CHUNKS INTO STANDARD OUTPUT\n",
    "#paste(nrow(total_df),\"/\",nrow(batch_data)); #COMPARE NUMBER OF ROWS IN ORIGINAL DATAFRAME TO THE NUMBER OF ROWS IN DATAFRAME RESTORED FROM CHUNKS"
   ]
  },
  {
   "cell_type": "code",
   "execution_count": 16,
   "id": "5300beec",
   "metadata": {
    "execution": {
     "iopub.execute_input": "2022-01-26T13:07:28.539727Z",
     "iopub.status.busy": "2022-01-26T13:07:28.539229Z",
     "iopub.status.idle": "2022-01-26T13:07:29.149697Z",
     "shell.execute_reply": "2022-01-26T13:07:29.150484Z"
    },
    "papermill": {
     "duration": 1.822828,
     "end_time": "2022-01-26T13:07:29.150752",
     "exception": false,
     "start_time": "2022-01-26T13:07:27.327924",
     "status": "completed"
    },
    "tags": []
   },
   "outputs": [],
   "source": [
    "%%R\n",
    "#PLOTTING QC METRICS\n",
    "for (i in 1:length(chunk_list)){ #FOR EACH CHUNK\n",
    "    skip_legend <- FALSE #ONLY FOR THE FIRST PLOT\n",
    "    if (i==1){\n",
    "        number_list <- c(1:nrow(data.frame(chunk_list[i]))) #FOR THE FIRST CHUNK SAMPLES ARE NUMBERED FROM 1\n",
    "        last_id <- nrow(data.frame(chunk_list[i])) #LAST ID TO BE USED WHEN INCREMENTING SAMPLE NUMBER IN MULTIPLE PLOTS\n",
    "    }else{\n",
    "        skip_legend <- TRUE #FOR ALL PLOTS EXCEPT THE FIRST\n",
    "        number_list <- c((last_id+1):(last_id + nrow(data.frame(chunk_list[i])))) #FOR EVERY SUBSEQUENT PLOT SAMPLES ARE NUMBERED FROM LAST_ID + 1\n",
    "        last_id <- last_id + nrow(data.frame(chunk_list[i])) #UPDATING LAST ID \n",
    "    }\n",
    "    chunk_df <- data.frame(chunk_list[i]) #GETTING CHUNK DATA\n",
    "    chunk_df <- chunk_df[order(chunk_df$receiving_lab_sample_id),] #ORDERING CHUNK DATA FROM SMALLEST TO GREATEST RECEIVING_LAB_SAMPLE_ID \n",
    "    plot_quality_metrics(chunk_df, number_list,i,output_path, skip_legend) #PLOT CHUNK DATA\n",
    "}"
   ]
  },
  {
   "cell_type": "code",
   "execution_count": 17,
   "id": "1a4131e6",
   "metadata": {
    "execution": {
     "iopub.execute_input": "2022-01-26T13:07:31.558512Z",
     "iopub.status.busy": "2022-01-26T13:07:31.558038Z",
     "iopub.status.idle": "2022-01-26T13:07:31.647922Z",
     "shell.execute_reply": "2022-01-26T13:07:31.648627Z"
    },
    "papermill": {
     "duration": 1.265844,
     "end_time": "2022-01-26T13:07:31.648840",
     "exception": false,
     "start_time": "2022-01-26T13:07:30.382996",
     "status": "completed"
    },
    "tags": []
   },
   "outputs": [],
   "source": [
    "%%R\n",
    "#PRE-PROCESSING DISTRICT DATA\n",
    "batch_data <- batch_data %>% filter(!district == \"nan\", !district == \"0\", !lineage == 'None')\n",
    "grp_district_data <- aggregate(batch_data, by=list(batch_data$district, batch_data$lineage), FUN=length)[, 1:3] #COUNT NUMBER OF SAMPLES PER DISTRICT PER LINEAGE\n",
    "# grp_district_data <- grp_district_data %>% filter(!receiving_lab_sample_id < 2) #REMOVE LINEAGES IF COUNT IS LESS THAN % OF THE TOTAL COUNT\n",
    "grp_district_data <- grp_district_data %>% group_by(Group.1) %>% mutate(SamplePer=receiving_lab_sample_id/sum(receiving_lab_sample_id)) %>% ungroup()#COUNT FRACTION OF EACH LINEAGE FROM EVERY DISTRICT\n",
    "grp_district_data <- grp_district_data %>% group_by(Group.1) %>% mutate(SumPer=sum(receiving_lab_sample_id)) %>% ungroup() #TOTAL SAMPLES PER CITY"
   ]
  },
  {
   "cell_type": "code",
   "execution_count": 18,
   "id": "e9e2bcab",
   "metadata": {
    "execution": {
     "iopub.execute_input": "2022-01-26T13:07:34.015635Z",
     "iopub.status.busy": "2022-01-26T13:07:34.009544Z",
     "iopub.status.idle": "2022-01-26T13:07:34.939996Z",
     "shell.execute_reply": "2022-01-26T13:07:34.940541Z"
    },
    "papermill": {
     "duration": 2.11758,
     "end_time": "2022-01-26T13:07:34.940733",
     "exception": false,
     "start_time": "2022-01-26T13:07:32.823153",
     "status": "completed"
    },
    "tags": []
   },
   "outputs": [],
   "source": [
    "%%R\n",
    "#PLOTTING LINEAGES BY DISTRICT\n",
    "paraugu_daļa <- round(grp_district_data$SamplePer,3)\n",
    "novads <- fct_reorder(grp_district_data$Group.1, desc(grp_district_data$SumPer))\n",
    "paveids <- forcats::fct_rev(grp_district_data$Group.2)\n",
    "paraugu_kopā <- grp_district_data$SumPer\n",
    "paraugu_skaits <- grp_district_data$receiving_lab_sample_id\n",
    "\n",
    "\n",
    "district_plot <- grp_district_data %>% ggplot( #INITIALIZE PLOT VARIABLE & SUPPLY DATA TO GGPLOT\n",
    "    aes(\n",
    "        y=paraugu_daļa, #SUPPLY Y AXES DATA\n",
    "        x=novads)) + #SUPPLY X AXES DATA (SORTED BY DECR.ORDER OF TOTAL NUMBER OF SAMPLES IN EACH DISTRICT)\n",
    "    geom_bar( #INITIALIZE STACKED BAR PLOT\n",
    "        position=\"stack\", #STACKED LAYOUT\n",
    "        stat=\"identity\", #PLOT DATA AS IS\n",
    "        aes(\n",
    "            fill = paveids), #GENERATE STACKED PLOT WITH BIGGER VALUES ON TOP\n",
    "            color = 'black', alpha = 0.45) + #SUB-BAR OUTLINE COLOUR + OPACITY REDUCED\n",
    "        scale_fill_manual(values=as.vector(compressed_palette)) +#ADDING CUSTOM COLOUR PALETTE\n",
    "    theme(\n",
    "        axis.text.x = element_text( #FORMAT X-AXIS LABEL TEXT\n",
    "            angle = 90, #ROTATE COUNTER-CLOCKWISE\n",
    "            vjust=0.2, #OPTIMAL VERTICAL POSITIONING RELATIVE TO AXIS TICK\n",
    "            hjust = 0.95), #OPTIMAL HORIZONTAL POSITIONING RELATIVE TO AXIS TICK\n",
    "        panel.grid.major.x = element_blank(), #REMOVE VERTICAL GRID LINES\n",
    "        panel.grid.major.y = element_line( #FORMAT VERTICAL GRID LINES\n",
    "            size=.1, \n",
    "            color=\"black\" ),\n",
    "            panel.background = element_blank(), #REMOVE BACKGROUND GRID PANEL COLOUR\n",
    "            axis.line = element_line(colour = \"black\")) + #CHANGE AXIS COLORS\n",
    "    geom_text(\n",
    "        aes(label=paraugu_skaits), #ADD PLOTTED VALUE NUMBERS TO STACKED PLOTS\n",
    "        position=position_stack(reverse=FALSE, vjust=0.5), #SINGLE OPTIMAL LABEL POSITION\n",
    "        size = 2.2) #LABEL SIZE\n",
    "plot_8 <- district_plot + \n",
    "    labs(\n",
    "        x = \"Parauga paņemšanas novads\", #X-AXIS LABEL\n",
    "        y = \"Paraugu skaits\",\n",
    "        fill = 'Celmi') + #LEGEND LABEL\n",
    "        theme(\n",
    "            axis.title.x = element_text(vjust=0.5), #ADD SPACE BETWEEN TICK LABELS AND X AXIS LABEL\n",
    "            axis.title.y = element_text(vjust=1.5), #ADD SPACE BETWEEN TICK LABELS AND Y AXIS LABEL\n",
    "            plot.margin = unit(c(0.5,0.5,0.5,0.5), \"cm\")) +#ADD MARGINS TO THE PLOT\n",
    "        geom_text(\n",
    "            size = 2.5, \n",
    "            data=grp_district_data,\n",
    "            aes(x = novads, y=1, label=paraugu_kopā),\n",
    "            position = position_dodge(0.9),\n",
    "            vjust=0.25, \n",
    "            hjust=-0.45,\n",
    "            angle = 90)\n",
    "ggsave(\n",
    "    paste(output_path,'plot8.png', sep=''), #PATH & FILE NAME WHERE THE PLOT WILL BE SAVED\n",
    "    plot=plot_8, #SUPPLYING PLOT OBJECT\n",
    "    width = ggsave_width, #PLOT WIDTH IN CM\n",
    "    height = ggsave_height, #PLOT HEIGHT IN CM\n",
    "    units = \"cm\") #PLOT DIMENSION UNITS\n",
    "\n",
    "\n",
    "# p <- ggplotly(district_plot) #INTERACTIVITY\n",
    "# saveWidget(p, paste(output_path,'district_plot.html', sep='')) #SAVE INTERACTIVE PLOT"
   ]
  },
  {
   "cell_type": "code",
   "execution_count": 19,
   "id": "a1051bb3",
   "metadata": {
    "execution": {
     "iopub.execute_input": "2022-01-26T13:07:37.457919Z",
     "iopub.status.busy": "2022-01-26T13:07:37.457412Z",
     "iopub.status.idle": "2022-01-26T13:07:37.617755Z",
     "shell.execute_reply": "2022-01-26T13:07:37.618601Z"
    },
    "papermill": {
     "duration": 1.434815,
     "end_time": "2022-01-26T13:07:37.618901",
     "exception": false,
     "start_time": "2022-01-26T13:07:36.184086",
     "status": "completed"
    },
    "tags": []
   },
   "outputs": [],
   "source": [
    "#GENERATING WEEKLY REPORT\n",
    "from docxtpl import DocxTemplate, InlineImage\n",
    "from docx.shared import Cm\n",
    "import time, pandas as pd, sys, re"
   ]
  },
  {
   "cell_type": "code",
   "execution_count": 20,
   "id": "5fb44da4",
   "metadata": {
    "execution": {
     "iopub.execute_input": "2022-01-26T13:07:40.075405Z",
     "iopub.status.busy": "2022-01-26T13:07:40.072330Z",
     "iopub.status.idle": "2022-01-26T13:07:40.077638Z",
     "shell.execute_reply": "2022-01-26T13:07:40.078329Z"
    },
    "papermill": {
     "duration": 1.190744,
     "end_time": "2022-01-26T13:07:40.078520",
     "exception": false,
     "start_time": "2022-01-26T13:07:38.887776",
     "status": "completed"
    },
    "tags": []
   },
   "outputs": [],
   "source": [
    "# IMPORT TEMPLATE DOCUMENT + PATHS TO FILES WITH DATA & PLOTS\n",
    "template = DocxTemplate(\n",
    "    './weekly_report_template.docx')\n",
    "# PATH TO THE PROCESS_SAMPLES.PY FOUND_SAMPLES REPORT (TO GET SAMPLING DATE & LINEAGES FOR EACH SAMPLE)\n",
    "image_path = \"/\".join(found_path.split('/')[:-1])\n"
   ]
  },
  {
   "cell_type": "code",
   "execution_count": 21,
   "id": "7c530913",
   "metadata": {
    "execution": {
     "iopub.execute_input": "2022-01-26T13:07:42.597369Z",
     "iopub.status.busy": "2022-01-26T13:07:42.596755Z",
     "iopub.status.idle": "2022-01-26T13:07:42.633085Z",
     "shell.execute_reply": "2022-01-26T13:07:42.633669Z"
    },
    "papermill": {
     "duration": 1.306873,
     "end_time": "2022-01-26T13:07:42.633869",
     "exception": false,
     "start_time": "2022-01-26T13:07:41.326996",
     "status": "completed"
    },
    "tags": []
   },
   "outputs": [],
   "source": [
    "#READ DATA FROM CSV & COMPRESS DELTA LINEAGES TO B.1.617.2\n",
    "data_2 = pd.read_csv(found_path)\n",
    "data_2.fillna(\"0\",inplace=True)\n",
    "\n",
    "voc_list = []\n",
    "data_3 = data_2.groupby(data_2['lineage']).count()\n",
    "delta_dict = {}\n",
    "for lin in data_3.index:\n",
    "    if \"AY.\" in lin and lin not in voc_list:\n",
    "        delta_dict[lin] = \"B.1.617.2\"\n",
    "    elif \"BA.1.\" in lin and lin not in voc_list:\n",
    "        delta_dict[lin] = 'BA.1'\n",
    "    elif \"BA.2.\" in lin and lin not in voc_list:\n",
    "        delta_dict[lin] = 'BA.2'"
   ]
  },
  {
   "cell_type": "code",
   "execution_count": 22,
   "id": "9114e7c2",
   "metadata": {
    "execution": {
     "iopub.execute_input": "2022-01-26T13:07:45.107744Z",
     "iopub.status.busy": "2022-01-26T13:07:45.107097Z",
     "iopub.status.idle": "2022-01-26T13:07:45.123718Z",
     "shell.execute_reply": "2022-01-26T13:07:45.124069Z"
    },
    "papermill": {
     "duration": 1.250677,
     "end_time": "2022-01-26T13:07:45.124185",
     "exception": false,
     "start_time": "2022-01-26T13:07:43.873508",
     "status": "completed"
    },
    "tags": []
   },
   "outputs": [],
   "source": [
    "#ADD TAGS TO THE REPORT TO BE RENDERED FROM TEMPLATE\n",
    "sample_count= len(data_2)\n",
    "by_lab_count = data_2.groupby(data_2['seq_institution']).count()\n",
    "seq_lab_list = [f'{by_lab_count.loc[id][\"receiving_lab_sample_id\"]} no Eurofins' if 'ECDC' in id else f'{by_lab_count.loc[id][\"receiving_lab_sample_id\"]} no NMRL' for id in list(by_lab_count.index)]\n",
    "seq_lab_string = ', '.join(seq_lab_list)\n",
    "lineage_data_table=[{'lineage':delta_dict[lin] if lin in delta_dict.keys() else lin,'sublin':lin if lin in delta_dict.keys() else 'n/a','count':count} for lin, count in zip(data_3.index, data_3.sampling_date)]\n",
    "total_data_table = [\n",
    "    {'sample_number':number+1,\n",
    "    'sample_id':sample,\n",
    "    'sampling_date':date if date != '0' else 'n/a',\n",
    "    'testing_lab':lab,\n",
    "    'lineage':lin, \n",
    "    'sequenced':sequenced,\n",
    "    'district':district if district != '0' else 'n/a'} for number,sample,date,lab,lin,sequenced,district in zip(data_2.index,data_2.receiving_lab_sample_id, data_2.sampling_date, data_2.testing_lab, data_2.lineage, data_2.seq_institution, data_2.district)]\n",
    "total_df = pd.DataFrame(total_data_table)\n",
    "data_2 = data_2[(data_2.sampling_date != '0') & (data_2.sampling_date != '44284')]\n",
    "nmrl_samples = data_2[data_2.seq_institution == 'NMRL(LIC)']\n",
    "eurofin_samples =  data_2[data_2.seq_institution == 'NMRL(ECDC)']\n",
    "if len(nmrl_samples) > 0 and len(eurofin_samples) > 0:\n",
    "    seq_date_range= f\"\\nNMRL nosekvencētiem paraugiem: no {min(nmrl_samples.sampling_date)} līdz {max(nmrl_samples.sampling_date)}\\nEurofins nosekvencētiem paraugiem: no {min(eurofin_samples.sampling_date)} līdz {max(eurofin_samples.sampling_date)}\"\n",
    "elif len(nmrl_samples) == 0:\n",
    "    seq_date_range= f\"\\nEurofins nosekvencētiem paraugiem: no {min(eurofin_samples.sampling_date)} līdz {max(eurofin_samples.sampling_date)}\"\n",
    "elif len(eurofin_samples) == 0:\n",
    "    seq_date_range= f\"\\nNMRL nosekvencētiem paraugiem: no {min(nmrl_samples.sampling_date)} līdz {max(nmrl_samples.sampling_date)}\"\n",
    "batch_quality_1= InlineImage(template,f'{image_path}/plot1.png', width = Cm(16.35), height=Cm(5.7))\n",
    "batch_quality_2=InlineImage(template,f'{image_path}/plot2.png', width = Cm(16.35), height=Cm(5.7))\n",
    "batch_quality_3= InlineImage(template,f'{image_path}/plot3.png', width = Cm(16.35), height=Cm(5.7))\n",
    "batch_quality_4=InlineImage(template,f'{image_path}/plot4.png', width = Cm(16.35), height=Cm(5.7))\n",
    "batch_lineages= InlineImage(template,f'{image_path}/plot5.png', width = Cm(16.48), height=Cm(13.58))\n",
    "batch_S_mut= InlineImage(template,f'{image_path}/plot6.png', width = Cm(17.19), height=Cm(16.49))\n",
    "seq_sum_stats= InlineImage(template,f'{image_path}/plot7.png', width = Cm(17.19), height=Cm(12))\n",
    "district_plot=InlineImage(template,f'{image_path}/plot8.png', width = Cm(17.19), height=Cm(17.31))"
   ]
  },
  {
   "cell_type": "code",
   "execution_count": 23,
   "id": "a30c9ed4",
   "metadata": {
    "execution": {
     "iopub.execute_input": "2022-01-26T13:07:47.632305Z",
     "iopub.status.busy": "2022-01-26T13:07:47.631841Z",
     "iopub.status.idle": "2022-01-26T13:07:47.634667Z",
     "shell.execute_reply": "2022-01-26T13:07:47.635037Z"
    },
    "papermill": {
     "duration": 1.263068,
     "end_time": "2022-01-26T13:07:47.635149",
     "exception": false,
     "start_time": "2022-01-26T13:07:46.372081",
     "status": "completed"
    },
    "tags": []
   },
   "outputs": [],
   "source": [
    "#DECLARE TEMPLATE VARIABLES\n",
    "context = {\n",
    "    'seq_date_range': seq_date_range,\n",
    "    'seq_lab_string': seq_lab_string,\n",
    "    'sample_count': sample_count,\n",
    "    'total_data_table': total_data_table,\n",
    "    'lineage_data_table': lineage_data_table,\n",
    "    'plot_1': batch_quality_1,\n",
    "    'plot_2': batch_quality_2,\n",
    "    'plot_3': batch_quality_3,\n",
    "    'plot_4': batch_quality_4,\n",
    "    'plot_5': batch_lineages,\n",
    "    'plot_6': batch_S_mut,\n",
    "    'plot_7': seq_sum_stats,\n",
    "    'plot_8': district_plot\n",
    "    }"
   ]
  },
  {
   "cell_type": "code",
   "execution_count": 24,
   "id": "5f50efc3",
   "metadata": {
    "execution": {
     "iopub.execute_input": "2022-01-26T13:07:50.177212Z",
     "iopub.status.busy": "2022-01-26T13:07:50.176742Z",
     "iopub.status.idle": "2022-01-26T13:07:50.756071Z",
     "shell.execute_reply": "2022-01-26T13:07:50.755072Z"
    },
    "papermill": {
     "duration": 1.877587,
     "end_time": "2022-01-26T13:07:50.756301",
     "exception": false,
     "start_time": "2022-01-26T13:07:48.878714",
     "status": "completed"
    },
    "tags": []
   },
   "outputs": [],
   "source": [
    "#RENDER AND SAVE THE REPORT\n",
    "template.render(context)\n",
    "template.save(f'{image_path}/SARS-CoV2_sekv_pārskats_{time.strftime(\"%Y%m%d\")}.docx')\n",
    "total_df.to_csv(f'{image_path}/SARS-CoV2_sekv_pārskats_dati_{time.strftime(\"%Y%m%d\")}.csv', header=True, index=False)"
   ]
  }
 ],
 "metadata": {
  "celltoolbar": "Tags",
  "kernelspec": {
   "display_name": "Python 3 (ipykernel)",
   "language": "python",
   "name": "python3"
  },
  "language_info": {
   "codemirror_mode": {
    "name": "ipython",
    "version": 3
   },
   "file_extension": ".py",
   "mimetype": "text/x-python",
   "name": "python",
   "nbconvert_exporter": "python",
   "pygments_lexer": "ipython3",
   "version": "3.10.1"
  },
  "papermill": {
   "default_parameters": {},
   "duration": 52.86668,
   "end_time": "2022-01-26T13:07:52.677904",
   "environment_variables": {},
   "exception": null,
   "input_path": "../reports/report_2022-01-26_2022-01-23_2022-01-23/report_notebook.ipynb",
   "output_path": "../reports/report_2022-01-26_2022-01-23_2022-01-23/report_notebook.ipynb",
   "parameters": {
    "curr_batch_path": "../reports/report_2022-01-26_2022-01-23_2022-01-23/2022-01-26-14-00_ft_65_mutation_report.csv",
    "found_path": "../reports/report_2022-01-26_2022-01-23_2022-01-23/2022-01-26-14-00_ft_65_mutation_report.csv",
    "mut_stat_path": "../reports/report_2022-01-26_2022-01-23_2022-01-23/2022-01-26_2022-01-23_2022-01-23 mutation_statistics.csv",
    "output_path": "../reports/report_2022-01-26_2022-01-23_2022-01-23/",
    "path": "summary_file_26_01_2022.csv"
   },
   "start_time": "2022-01-26T13:06:59.811224",
   "version": "2.3.3"
  }
 },
 "nbformat": 4,
 "nbformat_minor": 5
}
